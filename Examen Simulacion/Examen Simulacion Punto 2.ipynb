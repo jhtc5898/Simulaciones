{
 "cells": [
  {
   "cell_type": "markdown",
   "id": "66f189f4",
   "metadata": {},
   "source": [
    "# PROCESO DE VACUNACION EN EL ECUADOR"
   ]
  },
  {
   "cell_type": "markdown",
   "id": "7fc7bfda",
   "metadata": {},
   "source": [
    "<h2>Posteriormente se debe seguir un procesos de vacunación en los recintos electorales que se describe a continuación (Tomar el proceso para el proyecto final): </h2>\n",
    "\n",
    "1*-Solo se va a tener en cuanta uno de los recintos electorales (investigar datos de cuantas personas asisten a votar).\n",
    "Tomar los resultados de la regresión para la vacuna según la llegada.\n",
    "\n",
    "Asisten a un recinto electoral un total de 350.\n",
    "\n",
    "\n",
    "2*-Se tiene una promedio que el 80% de personas realizaran el proceso de vacunación dentro del Ecuador.\n",
    "\n",
    "Un total de 280 se vacunan\n",
    "\n",
    "\n",
    "3*-Dentro del procesos se tiene que alrededor del 5% - 10% no podrán vacunarse.\n",
    "\n",
    "No podran Vacunarse 17 a 35 personas\n",
    "\n",
    "4*-Las personas solo tiene un recinto electoral para realizar el proceso.\n",
    "   \n",
    "Recinto Electoral Borja\n",
    "\n",
    "5*-Las personas realizan la primera vacuna y 30 días después la segunda vacuna.\n",
    "\n",
    "Regreso En 30 dias\n",
    "\n",
    "6*-La persona se acerca a la mesa  y hacen fila en caso de ser necesario para recibir la vacuna.\n",
    "\n",
    "Generar Fila\n",
    "\n",
    "7*-Realiza la vacunación en un tiempo aleatorio entre 5 a 10 minutos.\n",
    "\n",
    "Tiempo aleatorio entre 5 a 10 minutos\n",
    "\n",
    "8*-Debe esperar 20 minutos dentro del establecimiento para verificar que no tenga problemas de salud.\n",
    "\n",
    "Espera obligatoria de 20 minutos en el interior\n",
    "\n",
    "9*-La persona recibe su certificado de vacunación y la fecha de la próxima vacuna entre 2 – 3 minutos.\n",
    "\n",
    "Espera obligatoria 2 – 3 minutos para certificado de vacunación y la fecha \n",
    "\n",
    "10*-La persona sale del recinto electoral.\n",
    "\n",
    "11*-Regresan para la próxima fecha y se repite el ciclo.\n",
    "\n",
    "\n"
   ]
  },
  {
   "cell_type": "markdown",
   "id": "4001b22b",
   "metadata": {},
   "source": [
    "<h2>El proceso de simulación desarrollado deberá considerar los siguientes aspectos:</h2>\n",
    "\n",
    "Se debe establecer un modelo basado en modelos matemáticos para la predicción del numero de veces que se compartirá o la tendencia del presidente basada en redes sociales.\n",
    "\n",
    "El programa deberá generar gráficas que indiquen la ecuación matemática de las tendencias .\n",
    "\n",
    "Deben calcularse las siguientes métricas del sistema de simulación de eventos discretos :\n",
    "\n",
    "1*-Total de de personas que realizaron el proceso de vacunación.\n",
    "\n",
    "2*-Grafico del porcentaje de personas que no recibieron la vacuna.\n",
    "\n",
    "3*-El tiempo promedio de espera.\n"
   ]
  },
  {
   "cell_type": "markdown",
   "id": "7b602d75",
   "metadata": {},
   "source": [
    "\n",
    "Datos Reales de un dia de vacunacion en el recinto del Coledio Tecnico Salesiano \n",
    "Lunes 450-600profesores vacunandos en un tiempo de 8 horas "
   ]
  },
  {
   "cell_type": "code",
   "execution_count": 15,
   "id": "b1e03d42",
   "metadata": {},
   "outputs": [],
   "source": [
    "import simpy\n",
    "import random"
   ]
  },
  {
   "cell_type": "code",
   "execution_count": 16,
   "id": "de0f8e79",
   "metadata": {},
   "outputs": [],
   "source": [
    "# Cantidad de mesas-casetas de vacunacion dentro del recinto.\n",
    "CANTIDAD_MESA = 20\n",
    "\n",
    "\n",
    "# Espera Obligatoria.\n",
    "ESPERA_OBLIGATORIA = 20\n",
    "\n",
    "# Tiempo de la simulacion 8H = 480 M\n",
    "TIEMPO_LABORAL = 480\n",
    "\n",
    "# Tiempo vacunacion \n",
    "TIEMPO_VACUNACION = 0\n",
    "\n",
    "\n",
    "# Tiempo Vacunación\n",
    "PERSONA_TIEMPO_VACUNACION = 0\n",
    "\n",
    "# Tiempo Espera\n",
    "TIEMPOESPERA = 0\n",
    "\n",
    "PERSONAS=0\n",
    "\n",
    " # Dicciccionario con los tiempo de vacunación por persona\n",
    "DICCIONARIO_PERSONA_TIEMPO_VACUNACION = {}\n",
    "\n",
    "# Diccionario con los tiempos de espera por persona.\n",
    "DICCIONARIO_TIEMPO_DE_ESPERA = {}\n",
    "\n",
    "# Diccionario con los Personas No vacunadas.\n",
    "DICCIONARIO_PERSONAS_NO_VACUNADAS = {}"
   ]
  },
  {
   "cell_type": "code",
   "execution_count": 17,
   "id": "d34c9377",
   "metadata": {},
   "outputs": [],
   "source": [
    "# Obtener el tiempo total que le toma a una persona hasta ser vacunada.  \n",
    "def tiempo_hasta_vacunacion(persona, tiempoPersona):\n",
    "     # Dicciccionario con los tiempo de vacunación por persona\n",
    "    global DICCIONARIO_PERSONA_TIEMPO_VACUNACION\n",
    "    DICCIONARIO_PERSONA_TIEMPO_VACUNACION[int(persona[persona.find(\" \")+1:len(persona)])] = tiempoPersona\n",
    "    global PERSONA_TIEMPO_VACUNACION\n",
    "    TIEMPOVACUNACION = tiempoPersona+1"
   ]
  },
  {
   "cell_type": "code",
   "execution_count": 18,
   "id": "a9d489ce",
   "metadata": {},
   "outputs": [],
   "source": [
    "# Obtener el tiempo total de espera de una persona\n",
    "def tiempo_espera_vacunacion(persona, tiempoEspera):\n",
    "    # Diccionario el tiempo de espera por persona.\n",
    "    global DICCIONARIO_TIEMPO_DE_ESPERA\n",
    "    DICCIONARIO_TIEMPO_DE_ESPERA[int(persona[persona.find(\" \")+1:len(persona)])] = tiempoEspera\n",
    "    global TIEMPOESPERA\n",
    "    TIEMPOESPERA = tiempoEspera+1\n"
   ]
  },
  {
   "cell_type": "code",
   "execution_count": 19,
   "id": "4e1e5a72",
   "metadata": {},
   "outputs": [],
   "source": [
    "class Principal(object):\n",
    "\n",
    "    def __init__(self, environment,esperaObligatoria, cantMesas, tiempoVacunacion):\n",
    "        \n",
    "        # Guardamos como variable el entorno de ejecucion\n",
    "        self.env = environment\n",
    "        \n",
    "        # Variable para el tiempo de espera obligatorio.\n",
    "        self.esperaObligatoria = esperaObligatoria\n",
    "        \n",
    "        #Creamos el recurso que representa las mesas dentro del recinto\n",
    "        self.mesas = simpy.Resource(environment, cantMesas)\n",
    "        \n",
    "        # Variable para el tiempo de vacunacion\n",
    "        self.tiempoVacunacion = tiempoVacunacion\n",
    "        \n",
    "    #Funcion de Espera Obligatoria    \n",
    "    def esperarObligatoria(self):\n",
    "        yield self.env.timeout(self.esperaObligatoria)\n",
    "        \n",
    "    #Funcion random del tiempo que le toma realizar la vacunacion.\n",
    "    def vacunar(self, persona):\n",
    "        tiempo_randomico=random.randint(5, 10)\n",
    "        yield self.env.timeout(tiempo_randomico)\n",
    "        \n",
    "    #Funcion de vacunacion por persona    \n",
    "    def certificado(self):\n",
    "        tiempo_randomico=random.randint(2, 3)\n",
    "        yield self.env.timeout(tiempo_randomico)\n",
    "        "
   ]
  },
  {
   "cell_type": "code",
   "execution_count": 20,
   "id": "dff9b08a",
   "metadata": {},
   "outputs": [],
   "source": [
    "def recinto_borja(env, personaId, gene_vacunacion):\n",
    "    # Usamos el reloj de la simulacion (env.now()) para indicar la llegada cada persona.  \n",
    "    print('Inicio de [%s] llega al recinto Borja  %.2f.' % (personaId, env.now))\n",
    "  \n",
    "    # Guardamos EL Tiempo de inicio para calcular el tiempo que nos tomara la vacunacion por persona.\n",
    "    inicioEspera = env.now\n",
    "        \n",
    "    #Aleatorio de personas que ingresan a vacunarse \n",
    "    \n",
    "    # De la cola sacamos un total de 17 a 35 personas que  no cumplen o tienen problemas para ser vacunada\n",
    "    control=random.randint(5, 10)\n",
    "    #print(control)\n",
    "    if random.randint(1,100) <= control :\n",
    "        #print(\"Guardar Vacuna De :\",personaId[personaId.find(\" \")+1:len(personaId)],\"presenta problemas De Salud Tiempo\")\n",
    "        DICCIONARIO_PERSONAS_NO_VACUNADAS[personaId[personaId.find(\" \")+1:len(personaId)]] = (personaId, env.now)\n",
    "        print('La [%s] no puede vacunarse'%(personaId))\n",
    "        \n",
    "    else:\n",
    "        \n",
    "        # Especificamos el uso de una mesa disponible con request().\n",
    "        with gene_vacunacion.mesas.request() as mesa:\n",
    "            #global VACUNADOS\n",
    "            # Iniciamos el tiempo apenas ingresa.\n",
    "            inicio = env.now\n",
    "            \n",
    "            # Agregramos a la persona en una mesa disponible\n",
    "            yield mesa\n",
    "            print('La [%s] pasa a la mesa de vacunacion : %.2f.' % (personaId, env.now))\n",
    "            \n",
    "    \n",
    "            # Realizamos la vacunacion\n",
    "            yield env.process(gene_vacunacion.vacunar(personaId))\n",
    "            \n",
    "            \n",
    "            # Mandamos a guardar la informacion del tiempo que le tomo la vacunacion a la persona.\n",
    "            tiempo_hasta_vacunacion(personaId, env.now-inicio)\n",
    "            \n",
    "            \n",
    "            print('La [%s] fue vacunada a las %.2f.' % (personaId, env.now)) \n",
    "            \n",
    "            \n",
    "\n",
    "            #Realizamos el check de salud con una espera de 20m\n",
    "            yield env.process(gene_vacunacion.esperarObligatoria())\n",
    "            \n",
    "            \n",
    "            print('La [%s] pasa a recibir su certificado a las %.2f.' % (personaId, env.now))\n",
    "            #Realizamos la generacion del certificado.\n",
    "            yield env.process(gene_vacunacion.certificado())\n",
    "            \n",
    "            # La persona despues de ser vacuna sale del centro de vacunación\n",
    "            print('Salida de la [%s] sale del recinto a las %.2f.' % (personaId, env.now)) \n",
    "            tiempo_espera_vacunacion(personaId, env.now-inicioEspera)\n",
    "            print(\"Tiempo Total De\",personaId,\"=\",env.now-inicioEspera)"
   ]
  },
  {
   "cell_type": "code",
   "execution_count": 21,
   "id": "ceb78072",
   "metadata": {},
   "outputs": [
    {
     "name": "stdout",
     "output_type": "stream",
     "text": [
      "Simulacion Vacunacion Ecuador\n",
      "Inicio de [Persona 1] llega al recinto Borja  0.00.\n",
      "Inicio de [Persona 2] llega al recinto Borja  0.00.\n",
      "Inicio de [Persona 3] llega al recinto Borja  0.00.\n",
      "Inicio de [Persona 4] llega al recinto Borja  0.00.\n",
      "Inicio de [Persona 5] llega al recinto Borja  0.00.\n",
      "Inicio de [Persona 6] llega al recinto Borja  0.00.\n",
      "Inicio de [Persona 7] llega al recinto Borja  0.00.\n",
      "Inicio de [Persona 8] llega al recinto Borja  0.00.\n",
      "La [Persona 8] no puede vacunarse\n",
      "Inicio de [Persona 9] llega al recinto Borja  0.00.\n",
      "La [Persona 9] no puede vacunarse\n",
      "Inicio de [Persona 10] llega al recinto Borja  0.00.\n",
      "Inicio de [Persona 11] llega al recinto Borja  0.00.\n",
      "Inicio de [Persona 12] llega al recinto Borja  0.00.\n",
      "Inicio de [Persona 13] llega al recinto Borja  0.00.\n",
      "Inicio de [Persona 14] llega al recinto Borja  0.00.\n",
      "Inicio de [Persona 15] llega al recinto Borja  0.00.\n",
      "Inicio de [Persona 16] llega al recinto Borja  0.00.\n",
      "Inicio de [Persona 17] llega al recinto Borja  0.00.\n",
      "Inicio de [Persona 18] llega al recinto Borja  0.00.\n",
      "Inicio de [Persona 19] llega al recinto Borja  0.00.\n",
      "Inicio de [Persona 20] llega al recinto Borja  0.00.\n",
      "La [Persona 1] pasa a la mesa de vacunacion : 0.00.\n",
      "La [Persona 2] pasa a la mesa de vacunacion : 0.00.\n",
      "La [Persona 3] pasa a la mesa de vacunacion : 0.00.\n",
      "La [Persona 4] pasa a la mesa de vacunacion : 0.00.\n",
      "La [Persona 5] pasa a la mesa de vacunacion : 0.00.\n",
      "La [Persona 6] pasa a la mesa de vacunacion : 0.00.\n",
      "La [Persona 7] pasa a la mesa de vacunacion : 0.00.\n",
      "La [Persona 10] pasa a la mesa de vacunacion : 0.00.\n",
      "La [Persona 11] pasa a la mesa de vacunacion : 0.00.\n",
      "La [Persona 12] pasa a la mesa de vacunacion : 0.00.\n",
      "La [Persona 13] pasa a la mesa de vacunacion : 0.00.\n",
      "La [Persona 14] pasa a la mesa de vacunacion : 0.00.\n",
      "La [Persona 15] pasa a la mesa de vacunacion : 0.00.\n",
      "La [Persona 16] pasa a la mesa de vacunacion : 0.00.\n",
      "La [Persona 17] pasa a la mesa de vacunacion : 0.00.\n",
      "La [Persona 18] pasa a la mesa de vacunacion : 0.00.\n",
      "La [Persona 19] pasa a la mesa de vacunacion : 0.00.\n",
      "La [Persona 20] pasa a la mesa de vacunacion : 0.00.\n",
      "Inicio de [Persona 21] llega al recinto Borja  3.00.\n",
      "La [Persona 21] pasa a la mesa de vacunacion : 3.00.\n",
      "Inicio de [Persona 22] llega al recinto Borja  4.00.\n",
      "La [Persona 22] pasa a la mesa de vacunacion : 4.00.\n",
      "La [Persona 6] fue vacunada a las 5.00.\n",
      "La [Persona 7] fue vacunada a las 5.00.\n",
      "La [Persona 15] fue vacunada a las 5.00.\n",
      "La [Persona 16] fue vacunada a las 5.00.\n",
      "La [Persona 19] fue vacunada a las 5.00.\n",
      "La [Persona 12] fue vacunada a las 6.00.\n",
      "La [Persona 14] fue vacunada a las 7.00.\n",
      "La [Persona 2] fue vacunada a las 8.00.\n",
      "La [Persona 18] fue vacunada a las 8.00.\n",
      "Inicio de [Persona 23] llega al recinto Borja  9.00.\n",
      "La [Persona 1] fue vacunada a las 9.00.\n",
      "La [Persona 3] fue vacunada a las 9.00.\n",
      "La [Persona 5] fue vacunada a las 9.00.\n",
      "La [Persona 17] fue vacunada a las 9.00.\n",
      "La [Persona 20] fue vacunada a las 9.00.\n",
      "Inicio de [Persona 24] llega al recinto Borja  10.00.\n",
      "La [Persona 4] fue vacunada a las 10.00.\n",
      "La [Persona 10] fue vacunada a las 10.00.\n",
      "La [Persona 11] fue vacunada a las 10.00.\n",
      "La [Persona 13] fue vacunada a las 10.00.\n",
      "La [Persona 21] fue vacunada a las 13.00.\n",
      "La [Persona 22] fue vacunada a las 13.00.\n",
      "Inicio de [Persona 25] llega al recinto Borja  15.00.\n",
      "Inicio de [Persona 26] llega al recinto Borja  17.00.\n",
      "Inicio de [Persona 27] llega al recinto Borja  21.00.\n",
      "La [Persona 27] no puede vacunarse\n",
      "Inicio de [Persona 28] llega al recinto Borja  23.00.\n",
      "Inicio de [Persona 29] llega al recinto Borja  24.00.\n",
      "Inicio de [Persona 30] llega al recinto Borja  25.00.\n",
      "La [Persona 6] pasa a recibir su certificado a las 25.00.\n",
      "La [Persona 7] pasa a recibir su certificado a las 25.00.\n",
      "La [Persona 15] pasa a recibir su certificado a las 25.00.\n",
      "La [Persona 16] pasa a recibir su certificado a las 25.00.\n",
      "La [Persona 19] pasa a recibir su certificado a las 25.00.\n",
      "La [Persona 12] pasa a recibir su certificado a las 26.00.\n",
      "La [Persona 14] pasa a recibir su certificado a las 27.00.\n",
      "Salida de la [Persona 7] sale del recinto a las 27.00.\n",
      "Tiempo Total De Persona 7 = 27\n",
      "Salida de la [Persona 16] sale del recinto a las 27.00.\n",
      "Tiempo Total De Persona 16 = 27\n",
      "Salida de la [Persona 19] sale del recinto a las 27.00.\n",
      "Tiempo Total De Persona 19 = 27\n",
      "La [Persona 23] pasa a la mesa de vacunacion : 27.00.\n",
      "La [Persona 24] pasa a la mesa de vacunacion : 27.00.\n",
      "La [Persona 25] pasa a la mesa de vacunacion : 27.00.\n",
      "La [Persona 2] pasa a recibir su certificado a las 28.00.\n",
      "La [Persona 18] pasa a recibir su certificado a las 28.00.\n",
      "Salida de la [Persona 6] sale del recinto a las 28.00.\n",
      "Tiempo Total De Persona 6 = 28\n",
      "Salida de la [Persona 15] sale del recinto a las 28.00.\n",
      "Tiempo Total De Persona 15 = 28\n",
      "La [Persona 26] pasa a la mesa de vacunacion : 28.00.\n",
      "La [Persona 28] pasa a la mesa de vacunacion : 28.00.\n",
      "Inicio de [Persona 31] llega al recinto Borja  29.00.\n",
      "La [Persona 1] pasa a recibir su certificado a las 29.00.\n",
      "La [Persona 3] pasa a recibir su certificado a las 29.00.\n",
      "La [Persona 5] pasa a recibir su certificado a las 29.00.\n",
      "La [Persona 17] pasa a recibir su certificado a las 29.00.\n",
      "La [Persona 20] pasa a recibir su certificado a las 29.00.\n",
      "Salida de la [Persona 12] sale del recinto a las 29.00.\n",
      "Tiempo Total De Persona 12 = 29\n",
      "Salida de la [Persona 14] sale del recinto a las 29.00.\n",
      "Tiempo Total De Persona 14 = 29\n",
      "La [Persona 29] pasa a la mesa de vacunacion : 29.00.\n",
      "La [Persona 30] pasa a la mesa de vacunacion : 29.00.\n",
      "La [Persona 4] pasa a recibir su certificado a las 30.00.\n",
      "La [Persona 10] pasa a recibir su certificado a las 30.00.\n",
      "La [Persona 11] pasa a recibir su certificado a las 30.00.\n",
      "La [Persona 13] pasa a recibir su certificado a las 30.00.\n",
      "Salida de la [Persona 18] sale del recinto a las 30.00.\n",
      "Tiempo Total De Persona 18 = 30\n",
      "La [Persona 31] pasa a la mesa de vacunacion : 30.00.\n",
      "Inicio de [Persona 32] llega al recinto Borja  31.00.\n",
      "Salida de la [Persona 2] sale del recinto a las 31.00.\n",
      "Tiempo Total De Persona 2 = 31\n",
      "Salida de la [Persona 1] sale del recinto a las 31.00.\n",
      "Tiempo Total De Persona 1 = 31\n",
      "Salida de la [Persona 3] sale del recinto a las 31.00.\n",
      "Tiempo Total De Persona 3 = 31\n",
      "Salida de la [Persona 5] sale del recinto a las 31.00.\n",
      "Tiempo Total De Persona 5 = 31\n",
      "Salida de la [Persona 20] sale del recinto a las 31.00.\n",
      "Tiempo Total De Persona 20 = 31\n",
      "La [Persona 32] pasa a la mesa de vacunacion : 31.00.\n",
      "Inicio de [Persona 33] llega al recinto Borja  32.00.\n",
      "La [Persona 23] fue vacunada a las 32.00.\n",
      "Salida de la [Persona 17] sale del recinto a las 32.00.\n",
      "Tiempo Total De Persona 17 = 32\n",
      "Salida de la [Persona 4] sale del recinto a las 32.00.\n",
      "Tiempo Total De Persona 4 = 32\n",
      "Salida de la [Persona 10] sale del recinto a las 32.00.\n",
      "Tiempo Total De Persona 10 = 32\n",
      "Salida de la [Persona 11] sale del recinto a las 32.00.\n",
      "Tiempo Total De Persona 11 = 32\n",
      "La [Persona 33] pasa a la mesa de vacunacion : 32.00.\n",
      "Inicio de [Persona 34] llega al recinto Borja  33.00.\n",
      "La [Persona 21] pasa a recibir su certificado a las 33.00.\n",
      "La [Persona 22] pasa a recibir su certificado a las 33.00.\n",
      "La [Persona 26] fue vacunada a las 33.00.\n",
      "Salida de la [Persona 13] sale del recinto a las 33.00.\n",
      "Tiempo Total De Persona 13 = 33\n",
      "La [Persona 34] pasa a la mesa de vacunacion : 33.00.\n",
      "La [Persona 25] fue vacunada a las 34.00.\n",
      "La [Persona 24] fue vacunada a las 35.00.\n",
      "La [Persona 28] fue vacunada a las 36.00.\n",
      "La [Persona 31] fue vacunada a las 36.00.\n",
      "Salida de la [Persona 21] sale del recinto a las 36.00.\n",
      "Tiempo Total De Persona 21 = 33\n",
      "Salida de la [Persona 22] sale del recinto a las 36.00.\n",
      "Tiempo Total De Persona 22 = 32\n",
      "La [Persona 29] fue vacunada a las 37.00.\n",
      "La [Persona 30] fue vacunada a las 37.00.\n",
      "La [Persona 32] fue vacunada a las 37.00.\n",
      "Inicio de [Persona 35] llega al recinto Borja  38.00.\n",
      "La [Persona 35] pasa a la mesa de vacunacion : 38.00.\n",
      "Inicio de [Persona 36] llega al recinto Borja  41.00.\n",
      "La [Persona 36] pasa a la mesa de vacunacion : 41.00.\n",
      "La [Persona 33] fue vacunada a las 42.00.\n",
      "La [Persona 34] fue vacunada a las 42.00.\n",
      "Inicio de [Persona 37] llega al recinto Borja  46.00.\n",
      "La [Persona 35] fue vacunada a las 46.00.\n",
      "La [Persona 37] pasa a la mesa de vacunacion : 46.00.\n",
      "Inicio de [Persona 38] llega al recinto Borja  49.00.\n",
      "La [Persona 38] pasa a la mesa de vacunacion : 49.00.\n",
      "Inicio de [Persona 39] llega al recinto Borja  50.00.\n",
      "La [Persona 36] fue vacunada a las 50.00.\n",
      "La [Persona 39] pasa a la mesa de vacunacion : 50.00.\n",
      "Inicio de [Persona 40] llega al recinto Borja  51.00.\n",
      "La [Persona 40] pasa a la mesa de vacunacion : 51.00.\n",
      "Inicio de [Persona 41] llega al recinto Borja  52.00.\n",
      "La [Persona 23] pasa a recibir su certificado a las 52.00.\n",
      "La [Persona 37] fue vacunada a las 52.00.\n",
      "La [Persona 41] pasa a la mesa de vacunacion : 52.00.\n",
      "La [Persona 26] pasa a recibir su certificado a las 53.00.\n",
      "La [Persona 25] pasa a recibir su certificado a las 54.00.\n",
      "La [Persona 38] fue vacunada a las 54.00.\n",
      "Salida de la [Persona 23] sale del recinto a las 54.00.\n",
      "Tiempo Total De Persona 23 = 45\n",
      "La [Persona 24] pasa a recibir su certificado a las 55.00.\n",
      "Salida de la [Persona 26] sale del recinto a las 55.00.\n",
      "Tiempo Total De Persona 26 = 38\n",
      "La [Persona 28] pasa a recibir su certificado a las 56.00.\n",
      "La [Persona 31] pasa a recibir su certificado a las 56.00.\n",
      "La [Persona 39] fue vacunada a las 56.00.\n",
      "La [Persona 40] fue vacunada a las 56.00.\n",
      "Salida de la [Persona 25] sale del recinto a las 56.00.\n",
      "Tiempo Total De Persona 25 = 41\n",
      "Inicio de [Persona 42] llega al recinto Borja  57.00.\n",
      "La [Persona 29] pasa a recibir su certificado a las 57.00.\n",
      "La [Persona 30] pasa a recibir su certificado a las 57.00.\n",
      "La [Persona 32] pasa a recibir su certificado a las 57.00.\n",
      "La [Persona 42] pasa a la mesa de vacunacion : 57.00.\n",
      "Salida de la [Persona 24] sale del recinto a las 58.00.\n",
      "Tiempo Total De Persona 24 = 48\n",
      "Salida de la [Persona 28] sale del recinto a las 59.00.\n",
      "Tiempo Total De Persona 28 = 36\n",
      "Salida de la [Persona 31] sale del recinto a las 59.00.\n",
      "Tiempo Total De Persona 31 = 30\n",
      "Salida de la [Persona 30] sale del recinto a las 59.00.\n",
      "Tiempo Total De Persona 30 = 34\n",
      "La [Persona 41] fue vacunada a las 60.00.\n",
      "Salida de la [Persona 29] sale del recinto a las 60.00.\n",
      "Tiempo Total De Persona 29 = 36\n",
      "Salida de la [Persona 32] sale del recinto a las 60.00.\n",
      "Tiempo Total De Persona 32 = 29\n",
      "Inicio de [Persona 43] llega al recinto Borja  61.00.\n",
      "La [Persona 43] pasa a la mesa de vacunacion : 61.00.\n",
      "La [Persona 33] pasa a recibir su certificado a las 62.00.\n",
      "La [Persona 34] pasa a recibir su certificado a las 62.00.\n",
      "Inicio de [Persona 44] llega al recinto Borja  64.00.\n",
      "La [Persona 42] fue vacunada a las 64.00.\n",
      "La [Persona 44] pasa a la mesa de vacunacion : 64.00.\n",
      "Salida de la [Persona 34] sale del recinto a las 64.00.\n",
      "Tiempo Total De Persona 34 = 31\n",
      "Salida de la [Persona 33] sale del recinto a las 65.00.\n",
      "Tiempo Total De Persona 33 = 33\n",
      "La [Persona 35] pasa a recibir su certificado a las 66.00.\n",
      "Inicio de [Persona 45] llega al recinto Borja  67.00.\n",
      "La [Persona 45] pasa a la mesa de vacunacion : 67.00.\n",
      "La [Persona 43] fue vacunada a las 68.00.\n",
      "Salida de la [Persona 35] sale del recinto a las 69.00.\n",
      "Tiempo Total De Persona 35 = 31\n",
      "La [Persona 36] pasa a recibir su certificado a las 70.00.\n",
      "Inicio de [Persona 46] llega al recinto Borja  72.00.\n",
      "La [Persona 37] pasa a recibir su certificado a las 72.00.\n",
      "La [Persona 46] pasa a la mesa de vacunacion : 72.00.\n",
      "Salida de la [Persona 36] sale del recinto a las 73.00.\n",
      "Tiempo Total De Persona 36 = 32\n",
      "La [Persona 38] pasa a recibir su certificado a las 74.00.\n",
      "La [Persona 44] fue vacunada a las 74.00.\n",
      "Inicio de [Persona 47] llega al recinto Borja  75.00.\n",
      "La [Persona 47] pasa a la mesa de vacunacion : 75.00.\n",
      "Salida de la [Persona 37] sale del recinto a las 75.00.\n",
      "Tiempo Total De Persona 37 = 29\n",
      "Inicio de [Persona 48] llega al recinto Borja  76.00.\n",
      "La [Persona 39] pasa a recibir su certificado a las 76.00.\n",
      "La [Persona 40] pasa a recibir su certificado a las 76.00.\n",
      "La [Persona 45] fue vacunada a las 76.00.\n",
      "La [Persona 48] pasa a la mesa de vacunacion : 76.00.\n",
      "Inicio de [Persona 49] llega al recinto Borja  77.00.\n",
      "La [Persona 46] fue vacunada a las 77.00.\n",
      "Salida de la [Persona 38] sale del recinto a las 77.00.\n",
      "Tiempo Total De Persona 38 = 28\n",
      "La [Persona 49] pasa a la mesa de vacunacion : 77.00.\n",
      "Salida de la [Persona 39] sale del recinto a las 78.00.\n",
      "Tiempo Total De Persona 39 = 28\n",
      "Salida de la [Persona 40] sale del recinto a las 78.00.\n",
      "Tiempo Total De Persona 40 = 27\n",
      "La [Persona 41] pasa a recibir su certificado a las 80.00.\n",
      "Inicio de [Persona 50] llega al recinto Borja  82.00.\n",
      "La [Persona 47] fue vacunada a las 82.00.\n",
      "La [Persona 50] pasa a la mesa de vacunacion : 82.00.\n",
      "Salida de la [Persona 41] sale del recinto a las 82.00.\n",
      "Tiempo Total De Persona 41 = 30\n",
      "La [Persona 42] pasa a recibir su certificado a las 84.00.\n",
      "Inicio de [Persona 51] llega al recinto Borja  85.00.\n",
      "La [Persona 51] pasa a la mesa de vacunacion : 85.00.\n",
      "La [Persona 48] fue vacunada a las 86.00.\n",
      "Salida de la [Persona 42] sale del recinto a las 86.00.\n",
      "Tiempo Total De Persona 42 = 29\n",
      "La [Persona 49] fue vacunada a las 87.00.\n",
      "La [Persona 43] pasa a recibir su certificado a las 88.00.\n",
      "La [Persona 50] fue vacunada a las 89.00.\n",
      "Inicio de [Persona 52] llega al recinto Borja  90.00.\n",
      "La [Persona 52] pasa a la mesa de vacunacion : 90.00.\n",
      "Inicio de [Persona 53] llega al recinto Borja  91.00.\n",
      "Salida de la [Persona 43] sale del recinto a las 91.00.\n",
      "Tiempo Total De Persona 43 = 30\n",
      "La [Persona 53] pasa a la mesa de vacunacion : 91.00.\n",
      "Inicio de [Persona 54] llega al recinto Borja  94.00.\n",
      "La [Persona 44] pasa a recibir su certificado a las 94.00.\n",
      "La [Persona 51] fue vacunada a las 94.00.\n",
      "La [Persona 54] pasa a la mesa de vacunacion : 94.00.\n",
      "Inicio de [Persona 55] llega al recinto Borja  95.00.\n",
      "La [Persona 52] fue vacunada a las 95.00.\n",
      "La [Persona 55] pasa a la mesa de vacunacion : 95.00.\n",
      "La [Persona 45] pasa a recibir su certificado a las 96.00.\n",
      "Salida de la [Persona 44] sale del recinto a las 96.00.\n",
      "Tiempo Total De Persona 44 = 32\n",
      "La [Persona 46] pasa a recibir su certificado a las 97.00.\n",
      "Salida de la [Persona 45] sale del recinto a las 98.00.\n",
      "Tiempo Total De Persona 45 = 31\n",
      "Inicio de [Persona 56] llega al recinto Borja  99.00.\n",
      "La [Persona 56] pasa a la mesa de vacunacion : 99.00.\n",
      "Salida de la [Persona 46] sale del recinto a las 99.00.\n",
      "Tiempo Total De Persona 46 = 27\n",
      "Inicio de [Persona 57] llega al recinto Borja  100.00.\n",
      "La [Persona 53] fue vacunada a las 100.00.\n",
      "La [Persona 57] pasa a la mesa de vacunacion : 100.00.\n",
      "Inicio de [Persona 58] llega al recinto Borja  101.00.\n",
      "La [Persona 58] pasa a la mesa de vacunacion : 101.00.\n",
      "La [Persona 47] pasa a recibir su certificado a las 102.00.\n",
      "La [Persona 54] fue vacunada a las 102.00.\n",
      "La [Persona 55] fue vacunada a las 103.00.\n",
      "Inicio de [Persona 59] llega al recinto Borja  104.00.\n",
      "La [Persona 59] pasa a la mesa de vacunacion : 104.00.\n",
      "Salida de la [Persona 47] sale del recinto a las 104.00.\n",
      "Tiempo Total De Persona 47 = 29\n",
      "Inicio de [Persona 60] llega al recinto Borja  105.00.\n",
      "La [Persona 56] fue vacunada a las 105.00.\n",
      "La [Persona 60] pasa a la mesa de vacunacion : 105.00.\n",
      "La [Persona 48] pasa a recibir su certificado a las 106.00.\n",
      "La [Persona 49] pasa a recibir su certificado a las 107.00.\n",
      "Salida de la [Persona 48] sale del recinto a las 108.00.\n",
      "Tiempo Total De Persona 48 = 32\n",
      "Inicio de [Persona 61] llega al recinto Borja  109.00.\n",
      "La [Persona 50] pasa a recibir su certificado a las 109.00.\n",
      "La [Persona 57] fue vacunada a las 109.00.\n",
      "La [Persona 61] pasa a la mesa de vacunacion : 109.00.\n",
      "La [Persona 58] fue vacunada a las 110.00.\n",
      "La [Persona 60] fue vacunada a las 110.00.\n",
      "Salida de la [Persona 49] sale del recinto a las 110.00.\n",
      "Tiempo Total De Persona 49 = 33\n",
      "Inicio de [Persona 62] llega al recinto Borja  111.00.\n",
      "La [Persona 62] pasa a la mesa de vacunacion : 111.00.\n",
      "Salida de la [Persona 50] sale del recinto a las 112.00.\n",
      "Tiempo Total De Persona 50 = 30\n",
      "La [Persona 51] pasa a recibir su certificado a las 114.00.\n",
      "La [Persona 59] fue vacunada a las 114.00.\n",
      "Inicio de [Persona 63] llega al recinto Borja  115.00.\n",
      "La [Persona 52] pasa a recibir su certificado a las 115.00.\n",
      "La [Persona 63] pasa a la mesa de vacunacion : 115.00.\n",
      "La [Persona 61] fue vacunada a las 116.00.\n",
      "Salida de la [Persona 51] sale del recinto a las 117.00.\n",
      "Tiempo Total De Persona 51 = 32\n",
      "Salida de la [Persona 52] sale del recinto a las 117.00.\n",
      "Tiempo Total De Persona 52 = 27\n",
      "La [Persona 62] fue vacunada a las 119.00.\n",
      "Inicio de [Persona 64] llega al recinto Borja  120.00.\n",
      "La [Persona 53] pasa a recibir su certificado a las 120.00.\n",
      "La [Persona 64] pasa a la mesa de vacunacion : 120.00.\n",
      "Inicio de [Persona 65] llega al recinto Borja  121.00.\n",
      "La [Persona 65] pasa a la mesa de vacunacion : 121.00.\n",
      "La [Persona 54] pasa a recibir su certificado a las 122.00.\n",
      "La [Persona 55] pasa a recibir su certificado a las 123.00.\n",
      "La [Persona 63] fue vacunada a las 123.00.\n",
      "Salida de la [Persona 53] sale del recinto a las 123.00.\n",
      "Tiempo Total De Persona 53 = 32\n",
      "Inicio de [Persona 66] llega al recinto Borja  124.00.\n",
      "La [Persona 66] pasa a la mesa de vacunacion : 124.00.\n",
      "Salida de la [Persona 54] sale del recinto a las 124.00.\n",
      "Tiempo Total De Persona 54 = 30\n",
      "La [Persona 56] pasa a recibir su certificado a las 125.00.\n",
      "Inicio de [Persona 67] llega al recinto Borja  126.00.\n",
      "Salida de la [Persona 55] sale del recinto a las 126.00.\n",
      "Tiempo Total De Persona 55 = 31\n",
      "La [Persona 67] pasa a la mesa de vacunacion : 126.00.\n",
      "Salida de la [Persona 56] sale del recinto a las 127.00.\n",
      "Tiempo Total De Persona 56 = 28\n",
      "Inicio de [Persona 68] llega al recinto Borja  129.00.\n",
      "La [Persona 57] pasa a recibir su certificado a las 129.00.\n",
      "La [Persona 65] fue vacunada a las 129.00.\n",
      "La [Persona 68] pasa a la mesa de vacunacion : 129.00.\n",
      "La [Persona 58] pasa a recibir su certificado a las 130.00.\n",
      "La [Persona 60] pasa a recibir su certificado a las 130.00.\n",
      "La [Persona 64] fue vacunada a las 130.00.\n",
      "La [Persona 66] fue vacunada a las 130.00.\n",
      "Salida de la [Persona 57] sale del recinto a las 132.00.\n",
      "Tiempo Total De Persona 57 = 32\n",
      "Salida de la [Persona 58] sale del recinto a las 132.00.\n",
      "Tiempo Total De Persona 58 = 31\n",
      "Salida de la [Persona 60] sale del recinto a las 132.00.\n",
      "Tiempo Total De Persona 60 = 27\n",
      "La [Persona 67] fue vacunada a las 133.00.\n",
      "Inicio de [Persona 69] llega al recinto Borja  134.00.\n",
      "La [Persona 59] pasa a recibir su certificado a las 134.00.\n",
      "La [Persona 69] pasa a la mesa de vacunacion : 134.00.\n",
      "La [Persona 61] pasa a recibir su certificado a las 136.00.\n",
      "Salida de la [Persona 59] sale del recinto a las 136.00.\n",
      "Tiempo Total De Persona 59 = 32\n",
      "La [Persona 68] fue vacunada a las 137.00.\n",
      "Inicio de [Persona 70] llega al recinto Borja  138.00.\n",
      "La [Persona 70] pasa a la mesa de vacunacion : 138.00.\n",
      "La [Persona 62] pasa a recibir su certificado a las 139.00.\n",
      "Salida de la [Persona 61] sale del recinto a las 139.00.\n",
      "Tiempo Total De Persona 61 = 30\n",
      "Inicio de [Persona 71] llega al recinto Borja  140.00.\n",
      "La [Persona 71] pasa a la mesa de vacunacion : 140.00.\n",
      "La [Persona 69] fue vacunada a las 141.00.\n",
      "Salida de la [Persona 62] sale del recinto a las 142.00.\n",
      "Tiempo Total De Persona 62 = 31\n",
      "La [Persona 63] pasa a recibir su certificado a las 143.00.\n",
      "Inicio de [Persona 72] llega al recinto Borja  144.00.\n",
      "La [Persona 72] pasa a la mesa de vacunacion : 144.00.\n",
      "Salida de la [Persona 63] sale del recinto a las 146.00.\n",
      "Tiempo Total De Persona 63 = 31\n",
      "La [Persona 70] fue vacunada a las 147.00.\n",
      "Inicio de [Persona 73] llega al recinto Borja  148.00.\n",
      "La [Persona 73] pasa a la mesa de vacunacion : 148.00.\n",
      "La [Persona 65] pasa a recibir su certificado a las 149.00.\n",
      "La [Persona 71] fue vacunada a las 149.00.\n",
      "La [Persona 64] pasa a recibir su certificado a las 150.00.\n",
      "La [Persona 66] pasa a recibir su certificado a las 150.00.\n",
      "La [Persona 72] fue vacunada a las 152.00.\n",
      "Salida de la [Persona 65] sale del recinto a las 152.00.\n",
      "Tiempo Total De Persona 65 = 31\n",
      "Salida de la [Persona 64] sale del recinto a las 152.00.\n",
      "Tiempo Total De Persona 64 = 32\n",
      "Inicio de [Persona 74] llega al recinto Borja  153.00.\n",
      "La [Persona 67] pasa a recibir su certificado a las 153.00.\n",
      "La [Persona 74] pasa a la mesa de vacunacion : 153.00.\n",
      "Salida de la [Persona 66] sale del recinto a las 153.00.\n",
      "Tiempo Total De Persona 66 = 29\n",
      "La [Persona 73] fue vacunada a las 156.00.\n",
      "Salida de la [Persona 67] sale del recinto a las 156.00.\n",
      "Tiempo Total De Persona 67 = 30\n",
      "Inicio de [Persona 75] llega al recinto Borja  157.00.\n",
      "La [Persona 68] pasa a recibir su certificado a las 157.00.\n",
      "La [Persona 75] pasa a la mesa de vacunacion : 157.00.\n",
      "La [Persona 74] fue vacunada a las 158.00.\n",
      "Salida de la [Persona 68] sale del recinto a las 160.00.\n",
      "Tiempo Total De Persona 68 = 31\n",
      "La [Persona 69] pasa a recibir su certificado a las 161.00.\n",
      "Inicio de [Persona 76] llega al recinto Borja  162.00.\n",
      "La [Persona 76] pasa a la mesa de vacunacion : 162.00.\n",
      "Salida de la [Persona 69] sale del recinto a las 164.00.\n",
      "Tiempo Total De Persona 69 = 30\n",
      "La [Persona 75] fue vacunada a las 166.00.\n",
      "Inicio de [Persona 77] llega al recinto Borja  167.00.\n",
      "La [Persona 70] pasa a recibir su certificado a las 167.00.\n",
      "La [Persona 77] pasa a la mesa de vacunacion : 167.00.\n",
      "La [Persona 76] fue vacunada a las 167.00.\n",
      "La [Persona 71] pasa a recibir su certificado a las 169.00.\n",
      "Salida de la [Persona 70] sale del recinto a las 170.00.\n",
      "Tiempo Total De Persona 70 = 32\n",
      "Inicio de [Persona 78] llega al recinto Borja  171.00.\n",
      "La [Persona 78] pasa a la mesa de vacunacion : 171.00.\n",
      "Salida de la [Persona 71] sale del recinto a las 171.00.\n",
      "Tiempo Total De Persona 71 = 31\n",
      "La [Persona 72] pasa a recibir su certificado a las 172.00.\n",
      "Inicio de [Persona 79] llega al recinto Borja  174.00.\n",
      "La [Persona 79] pasa a la mesa de vacunacion : 174.00.\n",
      "Salida de la [Persona 72] sale del recinto a las 175.00.\n",
      "Tiempo Total De Persona 72 = 31\n",
      "Inicio de [Persona 80] llega al recinto Borja  176.00.\n",
      "La [Persona 73] pasa a recibir su certificado a las 176.00.\n",
      "La [Persona 77] fue vacunada a las 176.00.\n",
      "La [Persona 78] fue vacunada a las 176.00.\n",
      "La [Persona 80] pasa a la mesa de vacunacion : 176.00.\n",
      "La [Persona 74] pasa a recibir su certificado a las 178.00.\n",
      "Salida de la [Persona 73] sale del recinto a las 179.00.\n",
      "Tiempo Total De Persona 73 = 31\n",
      "Inicio de [Persona 81] llega al recinto Borja  181.00.\n",
      "La [Persona 81] pasa a la mesa de vacunacion : 181.00.\n",
      "La [Persona 80] fue vacunada a las 181.00.\n",
      "Salida de la [Persona 74] sale del recinto a las 181.00.\n",
      "Tiempo Total De Persona 74 = 28\n",
      "La [Persona 79] fue vacunada a las 182.00.\n",
      "Inicio de [Persona 82] llega al recinto Borja  183.00.\n",
      "La [Persona 82] pasa a la mesa de vacunacion : 183.00.\n",
      "Inicio de [Persona 83] llega al recinto Borja  184.00.\n",
      "La [Persona 83] pasa a la mesa de vacunacion : 184.00.\n",
      "La [Persona 75] pasa a recibir su certificado a las 186.00.\n",
      "La [Persona 76] pasa a recibir su certificado a las 187.00.\n",
      "La [Persona 82] fue vacunada a las 188.00.\n",
      "Salida de la [Persona 75] sale del recinto a las 188.00.\n",
      "Tiempo Total De Persona 75 = 31\n",
      "Inicio de [Persona 84] llega al recinto Borja  189.00.\n",
      "La [Persona 81] fue vacunada a las 189.00.\n",
      "La [Persona 84] pasa a la mesa de vacunacion : 189.00.\n",
      "Salida de la [Persona 76] sale del recinto a las 189.00.\n",
      "Tiempo Total De Persona 76 = 27\n",
      "La [Persona 83] fue vacunada a las 190.00.\n",
      "Inicio de [Persona 85] llega al recinto Borja  193.00.\n",
      "La [Persona 85] no puede vacunarse\n",
      "Inicio de [Persona 86] llega al recinto Borja  194.00.\n",
      "La [Persona 86] pasa a la mesa de vacunacion : 194.00.\n",
      "Inicio de [Persona 87] llega al recinto Borja  195.00.\n",
      "La [Persona 87] pasa a la mesa de vacunacion : 195.00.\n",
      "La [Persona 77] pasa a recibir su certificado a las 196.00.\n",
      "La [Persona 78] pasa a recibir su certificado a las 196.00.\n",
      "La [Persona 84] fue vacunada a las 197.00.\n",
      "Salida de la [Persona 77] sale del recinto a las 198.00.\n",
      "Tiempo Total De Persona 77 = 31\n",
      "Salida de la [Persona 78] sale del recinto a las 198.00.\n",
      "Tiempo Total De Persona 78 = 27\n",
      "Inicio de [Persona 88] llega al recinto Borja  199.00.\n",
      "La [Persona 88] pasa a la mesa de vacunacion : 199.00.\n",
      "La [Persona 80] pasa a recibir su certificado a las 201.00.\n",
      "La [Persona 79] pasa a recibir su certificado a las 202.00.\n",
      "La [Persona 86] fue vacunada a las 202.00.\n",
      "Salida de la [Persona 80] sale del recinto a las 203.00.\n",
      "Tiempo Total De Persona 80 = 27\n",
      "Inicio de [Persona 89] llega al recinto Borja  204.00.\n",
      "La [Persona 87] fue vacunada a las 204.00.\n",
      "La [Persona 89] pasa a la mesa de vacunacion : 204.00.\n",
      "Salida de la [Persona 79] sale del recinto a las 204.00.\n",
      "Tiempo Total De Persona 79 = 30\n",
      "La [Persona 88] fue vacunada a las 205.00.\n",
      "Inicio de [Persona 90] llega al recinto Borja  206.00.\n",
      "La [Persona 90] no puede vacunarse\n",
      "La [Persona 82] pasa a recibir su certificado a las 208.00.\n",
      "Inicio de [Persona 91] llega al recinto Borja  209.00.\n",
      "La [Persona 81] pasa a recibir su certificado a las 209.00.\n",
      "La [Persona 91] pasa a la mesa de vacunacion : 209.00.\n",
      "La [Persona 83] pasa a recibir su certificado a las 210.00.\n",
      "Salida de la [Persona 82] sale del recinto a las 210.00.\n",
      "Tiempo Total De Persona 82 = 27\n",
      "La [Persona 89] fue vacunada a las 211.00.\n",
      "Salida de la [Persona 81] sale del recinto a las 212.00.\n",
      "Tiempo Total De Persona 81 = 31\n",
      "Salida de la [Persona 83] sale del recinto a las 213.00.\n",
      "Tiempo Total De Persona 83 = 29\n",
      "Inicio de [Persona 92] llega al recinto Borja  214.00.\n",
      "La [Persona 92] pasa a la mesa de vacunacion : 214.00.\n",
      "Inicio de [Persona 93] llega al recinto Borja  216.00.\n",
      "La [Persona 93] pasa a la mesa de vacunacion : 216.00.\n",
      "La [Persona 84] pasa a recibir su certificado a las 217.00.\n",
      "La [Persona 91] fue vacunada a las 219.00.\n",
      "Inicio de [Persona 94] llega al recinto Borja  220.00.\n",
      "La [Persona 94] pasa a la mesa de vacunacion : 220.00.\n",
      "Salida de la [Persona 84] sale del recinto a las 220.00.\n",
      "Tiempo Total De Persona 84 = 31\n",
      "La [Persona 86] pasa a recibir su certificado a las 222.00.\n",
      "La [Persona 92] fue vacunada a las 222.00.\n",
      "La [Persona 87] pasa a recibir su certificado a las 224.00.\n",
      "Salida de la [Persona 86] sale del recinto a las 224.00.\n",
      "Tiempo Total De Persona 86 = 30\n",
      "Inicio de [Persona 95] llega al recinto Borja  225.00.\n",
      "La [Persona 88] pasa a recibir su certificado a las 225.00.\n",
      "La [Persona 95] pasa a la mesa de vacunacion : 225.00.\n",
      "La [Persona 93] fue vacunada a las 226.00.\n",
      "Salida de la [Persona 87] sale del recinto a las 226.00.\n",
      "Tiempo Total De Persona 87 = 31\n",
      "La [Persona 94] fue vacunada a las 227.00.\n",
      "Salida de la [Persona 88] sale del recinto a las 228.00.\n",
      "Tiempo Total De Persona 88 = 29\n",
      "Inicio de [Persona 96] llega al recinto Borja  229.00.\n",
      "La [Persona 96] pasa a la mesa de vacunacion : 229.00.\n",
      "La [Persona 89] pasa a recibir su certificado a las 231.00.\n",
      "Inicio de [Persona 97] llega al recinto Borja  232.00.\n",
      "La [Persona 97] pasa a la mesa de vacunacion : 232.00.\n",
      "Inicio de [Persona 98] llega al recinto Borja  234.00.\n",
      "Salida de la [Persona 89] sale del recinto a las 234.00.\n",
      "Tiempo Total De Persona 89 = 30\n",
      "La [Persona 98] pasa a la mesa de vacunacion : 234.00.\n",
      "La [Persona 95] fue vacunada a las 235.00.\n",
      "La [Persona 96] fue vacunada a las 236.00.\n",
      "La [Persona 97] fue vacunada a las 237.00.\n",
      "Inicio de [Persona 99] llega al recinto Borja  239.00.\n",
      "La [Persona 91] pasa a recibir su certificado a las 239.00.\n",
      "La [Persona 99] pasa a la mesa de vacunacion : 239.00.\n",
      "Inicio de [Persona 100] llega al recinto Borja  240.00.\n",
      "La [Persona 100] pasa a la mesa de vacunacion : 240.00.\n",
      "Salida de la [Persona 91] sale del recinto a las 241.00.\n",
      "Tiempo Total De Persona 91 = 32\n",
      "La [Persona 92] pasa a recibir su certificado a las 242.00.\n",
      "La [Persona 98] fue vacunada a las 243.00.\n",
      "Inicio de [Persona 101] llega al recinto Borja  244.00.\n",
      "La [Persona 101] pasa a la mesa de vacunacion : 244.00.\n",
      "Salida de la [Persona 92] sale del recinto a las 244.00.\n",
      "Tiempo Total De Persona 92 = 30\n",
      "La [Persona 93] pasa a recibir su certificado a las 246.00.\n",
      "Inicio de [Persona 102] llega al recinto Borja  247.00.\n",
      "La [Persona 94] pasa a recibir su certificado a las 247.00.\n",
      "La [Persona 102] pasa a la mesa de vacunacion : 247.00.\n",
      "La [Persona 100] fue vacunada a las 248.00.\n",
      "La [Persona 99] fue vacunada a las 249.00.\n",
      "La [Persona 101] fue vacunada a las 249.00.\n",
      "Salida de la [Persona 93] sale del recinto a las 249.00.\n",
      "Tiempo Total De Persona 93 = 33\n",
      "Salida de la [Persona 94] sale del recinto a las 250.00.\n",
      "Tiempo Total De Persona 94 = 30\n",
      "Inicio de [Persona 103] llega al recinto Borja  251.00.\n",
      "La [Persona 103] pasa a la mesa de vacunacion : 251.00.\n",
      "La [Persona 102] fue vacunada a las 253.00.\n",
      "Inicio de [Persona 104] llega al recinto Borja  255.00.\n",
      "La [Persona 104] no puede vacunarse\n",
      "La [Persona 95] pasa a recibir su certificado a las 255.00.\n",
      "La [Persona 96] pasa a recibir su certificado a las 256.00.\n",
      "Inicio de [Persona 105] llega al recinto Borja  257.00.\n",
      "La [Persona 97] pasa a recibir su certificado a las 257.00.\n",
      "La [Persona 103] fue vacunada a las 257.00.\n",
      "La [Persona 105] pasa a la mesa de vacunacion : 257.00.\n",
      "Salida de la [Persona 95] sale del recinto a las 257.00.\n",
      "Tiempo Total De Persona 95 = 32\n",
      "Inicio de [Persona 106] llega al recinto Borja  258.00.\n",
      "Salida de la [Persona 96] sale del recinto a las 258.00.\n",
      "Tiempo Total De Persona 96 = 29\n",
      "La [Persona 106] pasa a la mesa de vacunacion : 258.00.\n",
      "Salida de la [Persona 97] sale del recinto a las 260.00.\n",
      "Tiempo Total De Persona 97 = 28\n",
      "Inicio de [Persona 107] llega al recinto Borja  262.00.\n",
      "La [Persona 107] pasa a la mesa de vacunacion : 262.00.\n",
      "La [Persona 98] pasa a recibir su certificado a las 263.00.\n",
      "La [Persona 106] fue vacunada a las 265.00.\n",
      "Inicio de [Persona 108] llega al recinto Borja  266.00.\n",
      "La [Persona 105] fue vacunada a las 266.00.\n",
      "La [Persona 108] pasa a la mesa de vacunacion : 266.00.\n",
      "Salida de la [Persona 98] sale del recinto a las 266.00.\n",
      "Tiempo Total De Persona 98 = 32\n",
      "Inicio de [Persona 109] llega al recinto Borja  267.00.\n",
      "La [Persona 109] pasa a la mesa de vacunacion : 267.00.\n",
      "La [Persona 100] pasa a recibir su certificado a las 268.00.\n",
      "Inicio de [Persona 110] llega al recinto Borja  269.00.\n",
      "La [Persona 99] pasa a recibir su certificado a las 269.00.\n",
      "La [Persona 101] pasa a recibir su certificado a las 269.00.\n",
      "La [Persona 110] pasa a la mesa de vacunacion : 269.00.\n",
      "La [Persona 107] fue vacunada a las 271.00.\n",
      "Salida de la [Persona 100] sale del recinto a las 271.00.\n",
      "Tiempo Total De Persona 100 = 31\n",
      "Inicio de [Persona 111] llega al recinto Borja  272.00.\n",
      "La [Persona 111] pasa a la mesa de vacunacion : 272.00.\n",
      "Salida de la [Persona 99] sale del recinto a las 272.00.\n",
      "Tiempo Total De Persona 99 = 33\n",
      "Salida de la [Persona 101] sale del recinto a las 272.00.\n",
      "Tiempo Total De Persona 101 = 28\n",
      "La [Persona 102] pasa a recibir su certificado a las 273.00.\n",
      "La [Persona 109] fue vacunada a las 273.00.\n",
      "Inicio de [Persona 112] llega al recinto Borja  274.00.\n",
      "La [Persona 108] fue vacunada a las 274.00.\n",
      "La [Persona 110] fue vacunada a las 274.00.\n",
      "La [Persona 112] pasa a la mesa de vacunacion : 274.00.\n",
      "Salida de la [Persona 102] sale del recinto a las 275.00.\n",
      "Tiempo Total De Persona 102 = 28\n",
      "La [Persona 103] pasa a recibir su certificado a las 277.00.\n",
      "Inicio de [Persona 113] llega al recinto Borja  278.00.\n",
      "La [Persona 113] pasa a la mesa de vacunacion : 278.00.\n",
      "Inicio de [Persona 114] llega al recinto Borja  279.00.\n",
      "Salida de la [Persona 103] sale del recinto a las 279.00.\n",
      "Tiempo Total De Persona 103 = 28\n",
      "La [Persona 114] pasa a la mesa de vacunacion : 279.00.\n",
      "La [Persona 111] fue vacunada a las 280.00.\n",
      "Inicio de [Persona 115] llega al recinto Borja  281.00.\n",
      "La [Persona 112] fue vacunada a las 281.00.\n",
      "La [Persona 115] pasa a la mesa de vacunacion : 281.00.\n",
      "Inicio de [Persona 116] llega al recinto Borja  282.00.\n",
      "La [Persona 116] pasa a la mesa de vacunacion : 282.00.\n",
      "La [Persona 114] fue vacunada a las 284.00.\n",
      "La [Persona 106] pasa a recibir su certificado a las 285.00.\n",
      "Inicio de [Persona 117] llega al recinto Borja  286.00.\n",
      "La [Persona 105] pasa a recibir su certificado a las 286.00.\n",
      "La [Persona 113] fue vacunada a las 286.00.\n",
      "La [Persona 117] pasa a la mesa de vacunacion : 286.00.\n",
      "Salida de la [Persona 106] sale del recinto a las 287.00.\n",
      "Tiempo Total De Persona 106 = 29\n",
      "La [Persona 116] fue vacunada a las 288.00.\n",
      "Inicio de [Persona 118] llega al recinto Borja  289.00.\n",
      "La [Persona 115] fue vacunada a las 289.00.\n",
      "La [Persona 118] pasa a la mesa de vacunacion : 289.00.\n",
      "Salida de la [Persona 105] sale del recinto a las 289.00.\n",
      "Tiempo Total De Persona 105 = 32\n",
      "La [Persona 107] pasa a recibir su certificado a las 291.00.\n",
      "La [Persona 117] fue vacunada a las 292.00.\n",
      "La [Persona 109] pasa a recibir su certificado a las 293.00.\n",
      "Inicio de [Persona 119] llega al recinto Borja  294.00.\n",
      "La [Persona 108] pasa a recibir su certificado a las 294.00.\n",
      "La [Persona 110] pasa a recibir su certificado a las 294.00.\n",
      "La [Persona 119] pasa a la mesa de vacunacion : 294.00.\n",
      "Salida de la [Persona 107] sale del recinto a las 294.00.\n",
      "Tiempo Total De Persona 107 = 32\n",
      "Inicio de [Persona 120] llega al recinto Borja  295.00.\n",
      "La [Persona 120] pasa a la mesa de vacunacion : 295.00.\n",
      "Salida de la [Persona 109] sale del recinto a las 296.00.\n",
      "Tiempo Total De Persona 109 = 29\n",
      "Salida de la [Persona 108] sale del recinto a las 296.00.\n",
      "Tiempo Total De Persona 108 = 30\n",
      "Salida de la [Persona 110] sale del recinto a las 296.00.\n",
      "Tiempo Total De Persona 110 = 27\n",
      "La [Persona 118] fue vacunada a las 298.00.\n",
      "Inicio de [Persona 121] llega al recinto Borja  300.00.\n",
      "La [Persona 111] pasa a recibir su certificado a las 300.00.\n",
      "La [Persona 121] pasa a la mesa de vacunacion : 300.00.\n",
      "La [Persona 112] pasa a recibir su certificado a las 301.00.\n",
      "La [Persona 120] fue vacunada a las 302.00.\n",
      "La [Persona 119] fue vacunada a las 303.00.\n",
      "Salida de la [Persona 111] sale del recinto a las 303.00.\n",
      "Tiempo Total De Persona 111 = 31\n",
      "Salida de la [Persona 112] sale del recinto a las 303.00.\n",
      "Tiempo Total De Persona 112 = 29\n",
      "Inicio de [Persona 122] llega al recinto Borja  304.00.\n",
      "La [Persona 114] pasa a recibir su certificado a las 304.00.\n",
      "La [Persona 122] pasa a la mesa de vacunacion : 304.00.\n",
      "Inicio de [Persona 123] llega al recinto Borja  306.00.\n",
      "La [Persona 113] pasa a recibir su certificado a las 306.00.\n",
      "La [Persona 123] pasa a la mesa de vacunacion : 306.00.\n",
      "Salida de la [Persona 114] sale del recinto a las 306.00.\n",
      "Tiempo Total De Persona 114 = 27\n",
      "Inicio de [Persona 124] llega al recinto Borja  307.00.\n",
      "La [Persona 124] pasa a la mesa de vacunacion : 307.00.\n",
      "La [Persona 116] pasa a recibir su certificado a las 308.00.\n",
      "Salida de la [Persona 113] sale del recinto a las 308.00.\n",
      "Tiempo Total De Persona 113 = 30\n",
      "La [Persona 115] pasa a recibir su certificado a las 309.00.\n",
      "La [Persona 121] fue vacunada a las 309.00.\n",
      "Inicio de [Persona 125] llega al recinto Borja  311.00.\n",
      "La [Persona 125] no puede vacunarse\n",
      "Salida de la [Persona 116] sale del recinto a las 311.00.\n",
      "Tiempo Total De Persona 116 = 29\n",
      "Salida de la [Persona 115] sale del recinto a las 311.00.\n",
      "Tiempo Total De Persona 115 = 30\n",
      "La [Persona 117] pasa a recibir su certificado a las 312.00.\n",
      "La [Persona 122] fue vacunada a las 312.00.\n",
      "Inicio de [Persona 126] llega al recinto Borja  313.00.\n",
      "La [Persona 126] pasa a la mesa de vacunacion : 313.00.\n",
      "Salida de la [Persona 117] sale del recinto a las 314.00.\n",
      "Tiempo Total De Persona 117 = 28\n",
      "La [Persona 123] fue vacunada a las 316.00.\n",
      "Inicio de [Persona 127] llega al recinto Borja  317.00.\n",
      "La [Persona 124] fue vacunada a las 317.00.\n",
      "La [Persona 127] pasa a la mesa de vacunacion : 317.00.\n",
      "La [Persona 118] pasa a recibir su certificado a las 318.00.\n",
      "La [Persona 126] fue vacunada a las 318.00.\n",
      "Salida de la [Persona 118] sale del recinto a las 321.00.\n",
      "Tiempo Total De Persona 118 = 32\n",
      "Inicio de [Persona 128] llega al recinto Borja  322.00.\n",
      "La [Persona 120] pasa a recibir su certificado a las 322.00.\n",
      "La [Persona 128] pasa a la mesa de vacunacion : 322.00.\n",
      "La [Persona 119] pasa a recibir su certificado a las 323.00.\n",
      "Salida de la [Persona 120] sale del recinto a las 324.00.\n",
      "Tiempo Total De Persona 120 = 29\n",
      "La [Persona 127] fue vacunada a las 326.00.\n",
      "Salida de la [Persona 119] sale del recinto a las 326.00.\n",
      "Tiempo Total De Persona 119 = 32\n",
      "Inicio de [Persona 129] llega al recinto Borja  327.00.\n",
      "La [Persona 129] pasa a la mesa de vacunacion : 327.00.\n",
      "La [Persona 128] fue vacunada a las 328.00.\n",
      "La [Persona 121] pasa a recibir su certificado a las 329.00.\n",
      "Inicio de [Persona 130] llega al recinto Borja  331.00.\n",
      "La [Persona 130] pasa a la mesa de vacunacion : 331.00.\n",
      "Salida de la [Persona 121] sale del recinto a las 331.00.\n",
      "Tiempo Total De Persona 121 = 31\n",
      "Inicio de [Persona 131] llega al recinto Borja  332.00.\n",
      "La [Persona 122] pasa a recibir su certificado a las 332.00.\n",
      "La [Persona 129] fue vacunada a las 332.00.\n",
      "La [Persona 131] pasa a la mesa de vacunacion : 332.00.\n",
      "Salida de la [Persona 122] sale del recinto a las 334.00.\n",
      "Tiempo Total De Persona 122 = 30\n",
      "Inicio de [Persona 132] llega al recinto Borja  336.00.\n",
      "La [Persona 123] pasa a recibir su certificado a las 336.00.\n",
      "La [Persona 132] pasa a la mesa de vacunacion : 336.00.\n",
      "La [Persona 124] pasa a recibir su certificado a las 337.00.\n",
      "La [Persona 126] pasa a recibir su certificado a las 338.00.\n",
      "La [Persona 130] fue vacunada a las 338.00.\n",
      "Salida de la [Persona 123] sale del recinto a las 339.00.\n",
      "Tiempo Total De Persona 123 = 33\n",
      "Inicio de [Persona 133] llega al recinto Borja  340.00.\n",
      "La [Persona 133] pasa a la mesa de vacunacion : 340.00.\n",
      "Salida de la [Persona 124] sale del recinto a las 340.00.\n",
      "Tiempo Total De Persona 124 = 33\n",
      "Salida de la [Persona 126] sale del recinto a las 341.00.\n",
      "Tiempo Total De Persona 126 = 28\n",
      "La [Persona 131] fue vacunada a las 342.00.\n",
      "Inicio de [Persona 134] llega al recinto Borja  343.00.\n",
      "La [Persona 134] pasa a la mesa de vacunacion : 343.00.\n",
      "Inicio de [Persona 135] llega al recinto Borja  344.00.\n",
      "La [Persona 132] fue vacunada a las 344.00.\n",
      "La [Persona 135] pasa a la mesa de vacunacion : 344.00.\n",
      "La [Persona 133] fue vacunada a las 345.00.\n",
      "La [Persona 127] pasa a recibir su certificado a las 346.00.\n",
      "La [Persona 128] pasa a recibir su certificado a las 348.00.\n",
      "La [Persona 134] fue vacunada a las 348.00.\n",
      "Inicio de [Persona 136] llega al recinto Borja  349.00.\n",
      "La [Persona 136] pasa a la mesa de vacunacion : 349.00.\n",
      "Salida de la [Persona 127] sale del recinto a las 349.00.\n",
      "Tiempo Total De Persona 127 = 32\n",
      "Salida de la [Persona 128] sale del recinto a las 350.00.\n",
      "Tiempo Total De Persona 128 = 28\n",
      "La [Persona 135] fue vacunada a las 351.00.\n",
      "La [Persona 129] pasa a recibir su certificado a las 352.00.\n",
      "Inicio de [Persona 137] llega al recinto Borja  353.00.\n",
      "La [Persona 137] pasa a la mesa de vacunacion : 353.00.\n",
      "Inicio de [Persona 138] llega al recinto Borja  354.00.\n",
      "La [Persona 138] pasa a la mesa de vacunacion : 354.00.\n",
      "Salida de la [Persona 129] sale del recinto a las 355.00.\n",
      "Tiempo Total De Persona 129 = 28\n",
      "Inicio de [Persona 139] llega al recinto Borja  357.00.\n",
      "La [Persona 136] fue vacunada a las 357.00.\n",
      "La [Persona 139] pasa a la mesa de vacunacion : 357.00.\n",
      "Inicio de [Persona 140] llega al recinto Borja  358.00.\n",
      "La [Persona 130] pasa a recibir su certificado a las 358.00.\n",
      "La [Persona 140] pasa a la mesa de vacunacion : 358.00.\n",
      "Salida de la [Persona 130] sale del recinto a las 360.00.\n",
      "Tiempo Total De Persona 130 = 29\n",
      "Inicio de [Persona 141] llega al recinto Borja  361.00.\n",
      "La [Persona 137] fue vacunada a las 361.00.\n",
      "La [Persona 138] fue vacunada a las 361.00.\n",
      "La [Persona 141] pasa a la mesa de vacunacion : 361.00.\n",
      "Inicio de [Persona 142] llega al recinto Borja  362.00.\n",
      "La [Persona 131] pasa a recibir su certificado a las 362.00.\n",
      "La [Persona 142] pasa a la mesa de vacunacion : 362.00.\n",
      "Inicio de [Persona 143] llega al recinto Borja  363.00.\n",
      "La [Persona 143] pasa a la mesa de vacunacion : 363.00.\n",
      "Inicio de [Persona 144] llega al recinto Borja  364.00.\n",
      "La [Persona 132] pasa a recibir su certificado a las 364.00.\n",
      "La [Persona 144] pasa a la mesa de vacunacion : 364.00.\n",
      "La [Persona 133] pasa a recibir su certificado a las 365.00.\n",
      "Salida de la [Persona 131] sale del recinto a las 365.00.\n",
      "Tiempo Total De Persona 131 = 33\n",
      "Salida de la [Persona 132] sale del recinto a las 366.00.\n",
      "Tiempo Total De Persona 132 = 30\n",
      "Inicio de [Persona 145] llega al recinto Borja  367.00.\n",
      "La [Persona 139] fue vacunada a las 367.00.\n",
      "La [Persona 145] pasa a la mesa de vacunacion : 367.00.\n",
      "Salida de la [Persona 133] sale del recinto a las 367.00.\n",
      "Tiempo Total De Persona 133 = 27\n",
      "Inicio de [Persona 146] llega al recinto Borja  368.00.\n",
      "La [Persona 134] pasa a recibir su certificado a las 368.00.\n",
      "La [Persona 140] fue vacunada a las 368.00.\n",
      "La [Persona 146] pasa a la mesa de vacunacion : 368.00.\n",
      "La [Persona 141] fue vacunada a las 369.00.\n",
      "La [Persona 135] pasa a recibir su certificado a las 371.00.\n",
      "La [Persona 143] fue vacunada a las 371.00.\n",
      "Salida de la [Persona 134] sale del recinto a las 371.00.\n",
      "Tiempo Total De Persona 134 = 28\n",
      "Inicio de [Persona 147] llega al recinto Borja  372.00.\n",
      "La [Persona 147] no puede vacunarse\n",
      "La [Persona 142] fue vacunada a las 372.00.\n",
      "La [Persona 145] fue vacunada a las 372.00.\n",
      "Inicio de [Persona 148] llega al recinto Borja  373.00.\n",
      "La [Persona 144] fue vacunada a las 373.00.\n",
      "La [Persona 148] pasa a la mesa de vacunacion : 373.00.\n",
      "Salida de la [Persona 135] sale del recinto a las 374.00.\n",
      "Tiempo Total De Persona 135 = 30\n",
      "La [Persona 136] pasa a recibir su certificado a las 377.00.\n",
      "La [Persona 146] fue vacunada a las 377.00.\n",
      "Inicio de [Persona 149] llega al recinto Borja  378.00.\n",
      "La [Persona 149] pasa a la mesa de vacunacion : 378.00.\n",
      "Inicio de [Persona 150] llega al recinto Borja  379.00.\n",
      "La [Persona 150] pasa a la mesa de vacunacion : 379.00.\n",
      "Salida de la [Persona 136] sale del recinto a las 380.00.\n",
      "Tiempo Total De Persona 136 = 31\n",
      "La [Persona 137] pasa a recibir su certificado a las 381.00.\n",
      "La [Persona 138] pasa a recibir su certificado a las 381.00.\n",
      "La [Persona 148] fue vacunada a las 381.00.\n",
      "Inicio de [Persona 151] llega al recinto Borja  383.00.\n",
      "La [Persona 151] pasa a la mesa de vacunacion : 383.00.\n",
      "Salida de la [Persona 138] sale del recinto a las 383.00.\n",
      "Tiempo Total De Persona 138 = 29\n",
      "Salida de la [Persona 137] sale del recinto a las 384.00.\n",
      "Tiempo Total De Persona 137 = 31\n",
      "La [Persona 149] fue vacunada a las 385.00.\n",
      "La [Persona 150] fue vacunada a las 386.00.\n",
      "Inicio de [Persona 152] llega al recinto Borja  387.00.\n",
      "La [Persona 139] pasa a recibir su certificado a las 387.00.\n",
      "La [Persona 152] pasa a la mesa de vacunacion : 387.00.\n",
      "La [Persona 140] pasa a recibir su certificado a las 388.00.\n",
      "La [Persona 141] pasa a recibir su certificado a las 389.00.\n",
      "Salida de la [Persona 139] sale del recinto a las 389.00.\n",
      "Tiempo Total De Persona 139 = 32\n",
      "Salida de la [Persona 140] sale del recinto a las 390.00.\n",
      "Tiempo Total De Persona 140 = 32\n",
      "Inicio de [Persona 153] llega al recinto Borja  391.00.\n",
      "La [Persona 143] pasa a recibir su certificado a las 391.00.\n",
      "La [Persona 153] pasa a la mesa de vacunacion : 391.00.\n",
      "Salida de la [Persona 141] sale del recinto a las 391.00.\n",
      "Tiempo Total De Persona 141 = 30\n",
      "Inicio de [Persona 154] llega al recinto Borja  392.00.\n",
      "La [Persona 142] pasa a recibir su certificado a las 392.00.\n",
      "La [Persona 145] pasa a recibir su certificado a las 392.00.\n",
      "La [Persona 151] fue vacunada a las 392.00.\n",
      "La [Persona 154] pasa a la mesa de vacunacion : 392.00.\n",
      "La [Persona 144] pasa a recibir su certificado a las 393.00.\n",
      "Salida de la [Persona 143] sale del recinto a las 393.00.\n",
      "Tiempo Total De Persona 143 = 30\n",
      "Salida de la [Persona 145] sale del recinto a las 394.00.\n",
      "Tiempo Total De Persona 145 = 27\n",
      "Inicio de [Persona 155] llega al recinto Borja  395.00.\n",
      "La [Persona 155] pasa a la mesa de vacunacion : 395.00.\n",
      "Salida de la [Persona 142] sale del recinto a las 395.00.\n",
      "Tiempo Total De Persona 142 = 33\n",
      "Salida de la [Persona 144] sale del recinto a las 395.00.\n",
      "Tiempo Total De Persona 144 = 31\n",
      "La [Persona 152] fue vacunada a las 396.00.\n",
      "La [Persona 146] pasa a recibir su certificado a las 397.00.\n",
      "La [Persona 153] fue vacunada a las 398.00.\n",
      "La [Persona 154] fue vacunada a las 399.00.\n",
      "Salida de la [Persona 146] sale del recinto a las 399.00.\n",
      "Tiempo Total De Persona 146 = 31\n",
      "Inicio de [Persona 156] llega al recinto Borja  400.00.\n",
      "La [Persona 156] pasa a la mesa de vacunacion : 400.00.\n",
      "La [Persona 148] pasa a recibir su certificado a las 401.00.\n",
      "Inicio de [Persona 157] llega al recinto Borja  402.00.\n",
      "La [Persona 157] no puede vacunarse\n",
      "La [Persona 155] fue vacunada a las 404.00.\n",
      "Salida de la [Persona 148] sale del recinto a las 404.00.\n",
      "Tiempo Total De Persona 148 = 31\n",
      "La [Persona 149] pasa a recibir su certificado a las 405.00.\n",
      "Inicio de [Persona 158] llega al recinto Borja  406.00.\n",
      "La [Persona 150] pasa a recibir su certificado a las 406.00.\n",
      "La [Persona 158] pasa a la mesa de vacunacion : 406.00.\n",
      "Salida de la [Persona 149] sale del recinto a las 407.00.\n",
      "Tiempo Total De Persona 149 = 29\n",
      "La [Persona 156] fue vacunada a las 408.00.\n",
      "Salida de la [Persona 150] sale del recinto a las 409.00.\n",
      "Tiempo Total De Persona 150 = 30\n",
      "Inicio de [Persona 159] llega al recinto Borja  411.00.\n",
      "La [Persona 159] pasa a la mesa de vacunacion : 411.00.\n",
      "La [Persona 151] pasa a recibir su certificado a las 412.00.\n",
      "La [Persona 158] fue vacunada a las 412.00.\n",
      "Inicio de [Persona 160] llega al recinto Borja  413.00.\n",
      "La [Persona 160] pasa a la mesa de vacunacion : 413.00.\n",
      "Salida de la [Persona 151] sale del recinto a las 414.00.\n",
      "Tiempo Total De Persona 151 = 31\n",
      "La [Persona 152] pasa a recibir su certificado a las 416.00.\n",
      "Inicio de [Persona 161] llega al recinto Borja  417.00.\n",
      "La [Persona 159] fue vacunada a las 417.00.\n",
      "La [Persona 161] pasa a la mesa de vacunacion : 417.00.\n",
      "La [Persona 153] pasa a recibir su certificado a las 418.00.\n",
      "Salida de la [Persona 152] sale del recinto a las 418.00.\n",
      "Tiempo Total De Persona 152 = 31\n",
      "La [Persona 154] pasa a recibir su certificado a las 419.00.\n",
      "La [Persona 160] fue vacunada a las 419.00.\n",
      "Inicio de [Persona 162] llega al recinto Borja  420.00.\n",
      "La [Persona 162] pasa a la mesa de vacunacion : 420.00.\n",
      "Inicio de [Persona 163] llega al recinto Borja  421.00.\n",
      "Salida de la [Persona 153] sale del recinto a las 421.00.\n",
      "Tiempo Total De Persona 153 = 30\n",
      "Salida de la [Persona 154] sale del recinto a las 421.00.\n",
      "Tiempo Total De Persona 154 = 29\n",
      "La [Persona 163] pasa a la mesa de vacunacion : 421.00.\n",
      "La [Persona 161] fue vacunada a las 423.00.\n",
      "La [Persona 155] pasa a recibir su certificado a las 424.00.\n",
      "Inicio de [Persona 164] llega al recinto Borja  425.00.\n",
      "La [Persona 164] pasa a la mesa de vacunacion : 425.00.\n",
      "Inicio de [Persona 165] llega al recinto Borja  426.00.\n",
      "La [Persona 165] pasa a la mesa de vacunacion : 426.00.\n",
      "Salida de la [Persona 155] sale del recinto a las 427.00.\n",
      "Tiempo Total De Persona 155 = 32\n",
      "Inicio de [Persona 166] llega al recinto Borja  428.00.\n",
      "La [Persona 156] pasa a recibir su certificado a las 428.00.\n",
      "La [Persona 166] pasa a la mesa de vacunacion : 428.00.\n",
      "Inicio de [Persona 167] llega al recinto Borja  429.00.\n",
      "La [Persona 163] fue vacunada a las 429.00.\n",
      "La [Persona 167] pasa a la mesa de vacunacion : 429.00.\n",
      "Inicio de [Persona 168] llega al recinto Borja  430.00.\n",
      "La [Persona 162] fue vacunada a las 430.00.\n",
      "Salida de la [Persona 156] sale del recinto a las 430.00.\n",
      "Tiempo Total De Persona 156 = 30\n",
      "La [Persona 168] pasa a la mesa de vacunacion : 430.00.\n",
      "La [Persona 165] fue vacunada a las 431.00.\n",
      "La [Persona 158] pasa a recibir su certificado a las 432.00.\n",
      "La [Persona 164] fue vacunada a las 432.00.\n",
      "Inicio de [Persona 169] llega al recinto Borja  434.00.\n",
      "La [Persona 167] fue vacunada a las 434.00.\n",
      "La [Persona 169] pasa a la mesa de vacunacion : 434.00.\n",
      "Salida de la [Persona 158] sale del recinto a las 434.00.\n",
      "Tiempo Total De Persona 158 = 28\n",
      "Inicio de [Persona 170] llega al recinto Borja  436.00.\n",
      "La [Persona 166] fue vacunada a las 436.00.\n",
      "La [Persona 170] pasa a la mesa de vacunacion : 436.00.\n",
      "La [Persona 159] pasa a recibir su certificado a las 437.00.\n",
      "Inicio de [Persona 171] llega al recinto Borja  439.00.\n",
      "La [Persona 160] pasa a recibir su certificado a las 439.00.\n",
      "La [Persona 168] fue vacunada a las 439.00.\n",
      "La [Persona 171] pasa a la mesa de vacunacion : 439.00.\n",
      "Salida de la [Persona 159] sale del recinto a las 440.00.\n",
      "Tiempo Total De Persona 159 = 29\n",
      "La [Persona 169] fue vacunada a las 442.00.\n",
      "Salida de la [Persona 160] sale del recinto a las 442.00.\n",
      "Tiempo Total De Persona 160 = 29\n",
      "Inicio de [Persona 172] llega al recinto Borja  443.00.\n",
      "La [Persona 161] pasa a recibir su certificado a las 443.00.\n",
      "La [Persona 170] fue vacunada a las 443.00.\n",
      "La [Persona 172] pasa a la mesa de vacunacion : 443.00.\n",
      "Inicio de [Persona 173] llega al recinto Borja  444.00.\n",
      "La [Persona 173] no puede vacunarse\n",
      "Inicio de [Persona 174] llega al recinto Borja  445.00.\n",
      "La [Persona 174] no puede vacunarse\n",
      "Salida de la [Persona 161] sale del recinto a las 446.00.\n",
      "Tiempo Total De Persona 161 = 29\n",
      "Inicio de [Persona 175] llega al recinto Borja  448.00.\n",
      "La [Persona 175] pasa a la mesa de vacunacion : 448.00.\n",
      "Inicio de [Persona 176] llega al recinto Borja  449.00.\n",
      "La [Persona 163] pasa a recibir su certificado a las 449.00.\n",
      "La [Persona 171] fue vacunada a las 449.00.\n",
      "La [Persona 176] pasa a la mesa de vacunacion : 449.00.\n",
      "Inicio de [Persona 177] llega al recinto Borja  450.00.\n",
      "La [Persona 162] pasa a recibir su certificado a las 450.00.\n",
      "La [Persona 177] pasa a la mesa de vacunacion : 450.00.\n",
      "La [Persona 165] pasa a recibir su certificado a las 451.00.\n",
      "La [Persona 172] fue vacunada a las 451.00.\n",
      "Salida de la [Persona 163] sale del recinto a las 451.00.\n",
      "Tiempo Total De Persona 163 = 30\n",
      "Inicio de [Persona 178] llega al recinto Borja  452.00.\n",
      "La [Persona 164] pasa a recibir su certificado a las 452.00.\n",
      "La [Persona 178] pasa a la mesa de vacunacion : 452.00.\n",
      "Salida de la [Persona 162] sale del recinto a las 453.00.\n",
      "Tiempo Total De Persona 162 = 33\n",
      "La [Persona 167] pasa a recibir su certificado a las 454.00.\n",
      "Salida de la [Persona 165] sale del recinto a las 454.00.\n",
      "Tiempo Total De Persona 165 = 28\n",
      "Salida de la [Persona 164] sale del recinto a las 454.00.\n",
      "Tiempo Total De Persona 164 = 29\n",
      "Inicio de [Persona 179] llega al recinto Borja  455.00.\n",
      "La [Persona 179] pasa a la mesa de vacunacion : 455.00.\n",
      "La [Persona 166] pasa a recibir su certificado a las 456.00.\n",
      "La [Persona 175] fue vacunada a las 456.00.\n",
      "Salida de la [Persona 167] sale del recinto a las 456.00.\n",
      "Tiempo Total De Persona 167 = 27\n",
      "Inicio de [Persona 180] llega al recinto Borja  457.00.\n",
      "La [Persona 180] pasa a la mesa de vacunacion : 457.00.\n",
      "La [Persona 176] fue vacunada a las 458.00.\n",
      "La [Persona 168] pasa a recibir su certificado a las 459.00.\n",
      "La [Persona 177] fue vacunada a las 459.00.\n",
      "Salida de la [Persona 166] sale del recinto a las 459.00.\n",
      "Tiempo Total De Persona 166 = 31\n",
      "Salida de la [Persona 168] sale del recinto a las 461.00.\n",
      "Tiempo Total De Persona 168 = 31\n",
      "Inicio de [Persona 181] llega al recinto Borja  462.00.\n",
      "La [Persona 169] pasa a recibir su certificado a las 462.00.\n",
      "La [Persona 178] fue vacunada a las 462.00.\n",
      "La [Persona 181] pasa a la mesa de vacunacion : 462.00.\n",
      "La [Persona 170] pasa a recibir su certificado a las 463.00.\n",
      "Inicio de [Persona 182] llega al recinto Borja  464.00.\n",
      "La [Persona 182] no puede vacunarse\n",
      "La [Persona 179] fue vacunada a las 464.00.\n",
      "Salida de la [Persona 169] sale del recinto a las 464.00.\n",
      "Tiempo Total De Persona 169 = 30\n",
      "Inicio de [Persona 183] llega al recinto Borja  465.00.\n",
      "La [Persona 183] pasa a la mesa de vacunacion : 465.00.\n",
      "La [Persona 180] fue vacunada a las 466.00.\n",
      "Salida de la [Persona 170] sale del recinto a las 466.00.\n",
      "Tiempo Total De Persona 170 = 30\n",
      "Inicio de [Persona 184] llega al recinto Borja  469.00.\n",
      "La [Persona 171] pasa a recibir su certificado a las 469.00.\n",
      "La [Persona 181] fue vacunada a las 469.00.\n",
      "La [Persona 184] pasa a la mesa de vacunacion : 469.00.\n",
      "Inicio de [Persona 185] llega al recinto Borja  470.00.\n",
      "La [Persona 185] pasa a la mesa de vacunacion : 470.00.\n",
      "Inicio de [Persona 186] llega al recinto Borja  471.00.\n",
      "La [Persona 172] pasa a recibir su certificado a las 471.00.\n",
      "La [Persona 183] fue vacunada a las 471.00.\n",
      "Salida de la [Persona 171] sale del recinto a las 471.00.\n",
      "Tiempo Total De Persona 171 = 32\n",
      "La [Persona 186] pasa a la mesa de vacunacion : 471.00.\n",
      "Inicio de [Persona 187] llega al recinto Borja  473.00.\n",
      "La [Persona 187] pasa a la mesa de vacunacion : 473.00.\n",
      "Inicio de [Persona 188] llega al recinto Borja  474.00.\n",
      "Salida de la [Persona 172] sale del recinto a las 474.00.\n",
      "Tiempo Total De Persona 172 = 31\n",
      "La [Persona 188] pasa a la mesa de vacunacion : 474.00.\n",
      "Inicio de [Persona 189] llega al recinto Borja  475.00.\n",
      "La [Persona 189] pasa a la mesa de vacunacion : 475.00.\n",
      "Inicio de [Persona 190] llega al recinto Borja  476.00.\n",
      "La [Persona 175] pasa a recibir su certificado a las 476.00.\n",
      "La [Persona 190] pasa a la mesa de vacunacion : 476.00.\n",
      "La [Persona 176] pasa a recibir su certificado a las 478.00.\n",
      "La [Persona 185] fue vacunada a las 478.00.\n",
      "La [Persona 186] fue vacunada a las 478.00.\n",
      "La [Persona 187] fue vacunada a las 478.00.\n",
      "Salida de la [Persona 175] sale del recinto a las 478.00.\n",
      "Tiempo Total De Persona 175 = 30\n",
      "La [Persona 177] pasa a recibir su certificado a las 479.00.\n",
      "La [Persona 184] fue vacunada a las 479.00.\n"
     ]
    }
   ],
   "source": [
    "def ejecutar_simulacion(env,esperaobligatoria, controlmesa,tiempoVacunacion):\n",
    "    gene_vacunacion=Principal(env,esperaobligatoria, controlmesa,tiempoVacunacion)\n",
    "    global PERSONAS \n",
    "    \n",
    "    # Creamos fila de  20 persona que llegan y esperan afuera hasta que abran las puertas.\n",
    "    for i in range(20):\n",
    "        env.process(recinto_borja(env, 'Persona %d'%(i+1), gene_vacunacion))\n",
    "        PERSONAS =PERSONAS+1\n",
    "    \n",
    "    \n",
    "    # Ejecutamos la simulacion\n",
    "    while True:\n",
    "        #Intervalo Llegada\n",
    "        yield env.timeout(random.randint(1,5))\n",
    "        i+=1\n",
    "        PERSONAS=PERSONAS+1\n",
    "        #print(\"Total:\",PERSONAS)\n",
    "        env.process(recinto_borja(env,'Persona %d'%(i+1), gene_vacunacion))  \n",
    "    \n",
    "\n",
    "print('Simulacion Vacunacion Ecuador')\n",
    "\n",
    "# Inicializamos la semilla aleatoria\n",
    "random.seed(77)\n",
    "\n",
    "# Creamos el entorno de simulacion\n",
    "env=simpy.Environment()\n",
    "env.process(ejecutar_simulacion(env,ESPERA_OBLIGATORIA,CANTIDAD_MESA,TIEMPO_VACUNACION))\n",
    "\n",
    "# Ejecutamos el proceso durante el tiempo de simulacion\n",
    "env.run(until = TIEMPO_LABORAL)"
   ]
  },
  {
   "cell_type": "code",
   "execution_count": null,
   "id": "d8b6dcca",
   "metadata": {},
   "outputs": [],
   "source": []
  },
  {
   "cell_type": "code",
   "execution_count": 22,
   "id": "032b78ce",
   "metadata": {},
   "outputs": [
    {
     "name": "stdout",
     "output_type": "stream",
     "text": [
      "************************** Vacunacion Recinto Borja ******************************\n",
      "Tiempo Laboral del recinto: 8.0  horas\n",
      "Cantida De Mesas en el recinto:  20\n",
      "De una total de 190\n",
      "Se Vacunaron un total de: 164\n",
      "No se Vacunaron un total de: 26\n",
      "Tiempo promedio de vacunados : 2.93\n"
     ]
    }
   ],
   "source": [
    "print(\"************************** Vacunacion Recinto Borja ******************************\")\n",
    "print(\"Tiempo Laboral del recinto:\",TIEMPO_LABORAL/60,\" horas\")\n",
    "print(\"Cantida De Mesas en el recinto: \",CANTIDAD_MESA)\n",
    "print(\"De una total de\",PERSONAS)\n",
    "print(\"Se Vacunaron un total de:\",len(DICCIONARIO_TIEMPO_DE_ESPERA))\n",
    "print(\"No se Vacunaron un total de:\",PERSONAS-len(DICCIONARIO_TIEMPO_DE_ESPERA))\n",
    "print(\"Tiempo promedio de vacunados :\",round(TIEMPO_LABORAL/len(DICCIONARIO_TIEMPO_DE_ESPERA),2))"
   ]
  },
  {
   "cell_type": "code",
   "execution_count": 23,
   "id": "0264d069",
   "metadata": {
    "scrolled": true
   },
   "outputs": [
    {
     "data": {
      "image/png": "[encoded data removed]",
      "text/plain": [
       "<Figure size 432x288 with 1 Axes>"
      ]
     },
     "metadata": {},
     "output_type": "display_data"
    }
   ],
   "source": [
    "import matplotlib.pyplot as plt\n",
    "\n",
    "gen = [PERSONAS,PERSONAS-len(DICCIONARIO_TIEMPO_DE_ESPERA)]\n",
    "colores = [\"#EE6055\",\"#60D394\"]\n",
    "nombres = [\"Vacunados\",\"No Vacunados\"]\n",
    "desfase = (0, 0.1)\n",
    "plt.pie(gen, labels=nombres, autopct=\"%0.1f %%\", colors=colores,explode=desfase)\n",
    "plt.show()"
   ]
  },
  {
   "cell_type": "code",
   "execution_count": 24,
   "id": "f5130af3",
   "metadata": {
    "scrolled": false
   },
   "outputs": [
    {
     "data": {
      "application/vnd.plotly.v1+json": {
       "config": {
        "plotlyServerURL": "https://plot.ly"
       },
       "data": [
        {
         "alignmentgroup": "True",
         "hovertemplate": "persona=%{x}<br>tiempo=%{y}<extra></extra>",
         "legendgroup": "",
         "marker": {
          "color": "#636efa"
         },
         "name": "",
         "offsetgroup": "",
         "orientation": "v",
         "showlegend": false,
         "textposition": "auto",
         "type": "bar",
         "x": [
          7,
          16,
          19,
          6,
          15,
          12,
          14,
          18,
          2,
          1,
          3,
          5,
          20,
          17,
          4,
          10,
          11,
          13,
          21,
          22,
          23,
          26,
          25,
          24,
          28,
          31,
          30,
          29,
          32,
          34,
          33,
          35,
          36,
          37,
          38,
          39,
          40,
          41,
          42,
          43,
          44,
          45,
          46,
          47,
          48,
          49,
          50,
          51,
          52,
          53,
          54,
          55,
          56,
          57,
          58,
          60,
          59,
          61,
          62,
          63,
          65,
          64,
          66,
          67,
          68,
          69,
          70,
          71,
          72,
          73,
          74,
          75,
          76,
          77,
          78,
          80,
          79,
          82,
          81,
          83,
          84,
          86,
          87,
          88,
          89,
          91,
          92,
          93,
          94,
          95,
          96,
          97,
          98,
          100,
          99,
          101,
          102,
          103,
          106,
          105,
          107,
          109,
          108,
          110,
          111,
          112,
          114,
          113,
          116,
          115,
          117,
          118,
          120,
          119,
          121,
          122,
          123,
          124,
          126,
          127,
          128,
          129,
          130,
          131,
          132,
          133,
          134,
          135,
          136,
          138,
          137,
          139,
          140,
          141,
          143,
          145,
          142,
          144,
          146,
          148,
          149,
          150,
          151,
          152,
          153,
          154,
          155,
          156,
          158,
          159,
          160,
          161,
          163,
          162,
          165,
          164,
          167,
          166,
          168,
          169,
          170,
          171,
          172,
          175
         ],
         "xaxis": "x",
         "y": [
          27,
          27,
          27,
          28,
          28,
          29,
          29,
          30,
          31,
          31,
          31,
          31,
          31,
          32,
          32,
          32,
          32,
          33,
          33,
          32,
          45,
          38,
          41,
          48,
          36,
          30,
          34,
          36,
          29,
          31,
          33,
          31,
          32,
          29,
          28,
          28,
          27,
          30,
          29,
          30,
          32,
          31,
          27,
          29,
          32,
          33,
          30,
          32,
          27,
          32,
          30,
          31,
          28,
          32,
          31,
          27,
          32,
          30,
          31,
          31,
          31,
          32,
          29,
          30,
          31,
          30,
          32,
          31,
          31,
          31,
          28,
          31,
          27,
          31,
          27,
          27,
          30,
          27,
          31,
          29,
          31,
          30,
          31,
          29,
          30,
          32,
          30,
          33,
          30,
          32,
          29,
          28,
          32,
          31,
          33,
          28,
          28,
          28,
          29,
          32,
          32,
          29,
          30,
          27,
          31,
          29,
          27,
          30,
          29,
          30,
          28,
          32,
          29,
          32,
          31,
          30,
          33,
          33,
          28,
          32,
          28,
          28,
          29,
          33,
          30,
          27,
          28,
          30,
          31,
          29,
          31,
          32,
          32,
          30,
          30,
          27,
          33,
          31,
          31,
          31,
          29,
          30,
          31,
          31,
          30,
          29,
          32,
          30,
          28,
          29,
          29,
          29,
          30,
          33,
          28,
          29,
          27,
          31,
          31,
          30,
          30,
          32,
          31,
          30
         ],
         "yaxis": "y"
        }
       ],
       "layout": {
        "barmode": "relative",
        "legend": {
         "tracegroupgap": 0
        },
        "template": {
         "data": {
          "bar": [
           {
            "error_x": {
             "color": "#2a3f5f"
            },
            "error_y": {
             "color": "#2a3f5f"
            },
            "marker": {
             "line": {
              "color": "#E5ECF6",
              "width": 0.5
             }
            },
            "type": "bar"
           }
          ],
          "barpolar": [
           {
            "marker": {
             "line": {
              "color": "#E5ECF6",
              "width": 0.5
             }
            },
            "type": "barpolar"
           }
          ],
          "carpet": [
           {
            "aaxis": {
             "endlinecolor": "#2a3f5f",
             "gridcolor": "white",
             "linecolor": "white",
             "minorgridcolor": "white",
             "startlinecolor": "#2a3f5f"
            },
            "baxis": {
             "endlinecolor": "#2a3f5f",
             "gridcolor": "white",
             "linecolor": "white",
             "minorgridcolor": "white",
             "startlinecolor": "#2a3f5f"
            },
            "type": "carpet"
           }
          ],
          "choropleth": [
           {
            "colorbar": {
             "outlinewidth": 0,
             "ticks": ""
            },
            "type": "choropleth"
           }
          ],
          "contour": [
           {
            "colorbar": {
             "outlinewidth": 0,
             "ticks": ""
            },
            "colorscale": [
             [
              0,
              "#0d0887"
             ],
             [
              0.1111111111111111,
              "#46039f"
             ],
             [
              0.2222222222222222,
              "#7201a8"
             ],
             [
              0.3333333333333333,
              "#9c179e"
             ],
             [
              0.4444444444444444,
              "#bd3786"
             ],
             [
              0.5555555555555556,
              "#d8576b"
             ],
             [
              0.6666666666666666,
              "#ed7953"
             ],
             [
              0.7777777777777778,
              "#fb9f3a"
             ],
             [
              0.8888888888888888,
              "#fdca26"
             ],
             [
              1,
              "#f0f921"
             ]
            ],
            "type": "contour"
           }
          ],
          "contourcarpet": [
           {
            "colorbar": {
             "outlinewidth": 0,
             "ticks": ""
            },
            "type": "contourcarpet"
           }
          ],
          "heatmap": [
           {
            "colorbar": {
             "outlinewidth": 0,
             "ticks": ""
            },
            "colorscale": [
             [
              0,
              "#0d0887"
             ],
             [
              0.1111111111111111,
              "#46039f"
             ],
             [
              0.2222222222222222,
              "#7201a8"
             ],
             [
              0.3333333333333333,
              "#9c179e"
             ],
             [
              0.4444444444444444,
              "#bd3786"
             ],
             [
              0.5555555555555556,
              "#d8576b"
             ],
             [
              0.6666666666666666,
              "#ed7953"
             ],
             [
              0.7777777777777778,
              "#fb9f3a"
             ],
             [
              0.8888888888888888,
              "#fdca26"
             ],
             [
              1,
              "#f0f921"
             ]
            ],
            "type": "heatmap"
           }
          ],
          "heatmapgl": [
           {
            "colorbar": {
             "outlinewidth": 0,
             "ticks": ""
            },
            "colorscale": [
             [
              0,
              "#0d0887"
             ],
             [
              0.1111111111111111,
              "#46039f"
             ],
             [
              0.2222222222222222,
              "#7201a8"
             ],
             [
              0.3333333333333333,
              "#9c179e"
             ],
             [
              0.4444444444444444,
              "#bd3786"
             ],
             [
              0.5555555555555556,
              "#d8576b"
             ],
             [
              0.6666666666666666,
              "#ed7953"
             ],
             [
              0.7777777777777778,
              "#fb9f3a"
             ],
             [
              0.8888888888888888,
              "#fdca26"
             ],
             [
              1,
              "#f0f921"
             ]
            ],
            "type": "heatmapgl"
           }
          ],
          "histogram": [
           {
            "marker": {
             "colorbar": {
              "outlinewidth": 0,
              "ticks": ""
             }
            },
            "type": "histogram"
           }
          ],
          "histogram2d": [
           {
            "colorbar": {
             "outlinewidth": 0,
             "ticks": ""
            },
            "colorscale": [
             [
              0,
              "#0d0887"
             ],
             [
              0.1111111111111111,
              "#46039f"
             ],
             [
              0.2222222222222222,
              "#7201a8"
             ],
             [
              0.3333333333333333,
              "#9c179e"
             ],
             [
              0.4444444444444444,
              "#bd3786"
             ],
             [
              0.5555555555555556,
              "#d8576b"
             ],
             [
              0.6666666666666666,
              "#ed7953"
             ],
             [
              0.7777777777777778,
              "#fb9f3a"
             ],
             [
              0.8888888888888888,
              "#fdca26"
             ],
             [
              1,
              "#f0f921"
             ]
            ],
            "type": "histogram2d"
           }
          ],
          "histogram2dcontour": [
           {
            "colorbar": {
             "outlinewidth": 0,
             "ticks": ""
            },
            "colorscale": [
             [
              0,
              "#0d0887"
             ],
             [
              0.1111111111111111,
              "#46039f"
             ],
             [
              0.2222222222222222,
              "#7201a8"
             ],
             [
              0.3333333333333333,
              "#9c179e"
             ],
             [
              0.4444444444444444,
              "#bd3786"
             ],
             [
              0.5555555555555556,
              "#d8576b"
             ],
             [
              0.6666666666666666,
              "#ed7953"
             ],
             [
              0.7777777777777778,
              "#fb9f3a"
             ],
             [
              0.8888888888888888,
              "#fdca26"
             ],
             [
              1,
              "#f0f921"
             ]
            ],
            "type": "histogram2dcontour"
           }
          ],
          "mesh3d": [
           {
            "colorbar": {
             "outlinewidth": 0,
             "ticks": ""
            },
            "type": "mesh3d"
           }
          ],
          "parcoords": [
           {
            "line": {
             "colorbar": {
              "outlinewidth": 0,
              "ticks": ""
             }
            },
            "type": "parcoords"
           }
          ],
          "pie": [
           {
            "automargin": true,
            "type": "pie"
           }
          ],
          "scatter": [
           {
            "marker": {
             "colorbar": {
              "outlinewidth": 0,
              "ticks": ""
             }
            },
            "type": "scatter"
           }
          ],
          "scatter3d": [
           {
            "line": {
             "colorbar": {
              "outlinewidth": 0,
              "ticks": ""
             }
            },
            "marker": {
             "colorbar": {
              "outlinewidth": 0,
              "ticks": ""
             }
            },
            "type": "scatter3d"
           }
          ],
          "scattercarpet": [
           {
            "marker": {
             "colorbar": {
              "outlinewidth": 0,
              "ticks": ""
             }
            },
            "type": "scattercarpet"
           }
          ],
          "scattergeo": [
           {
            "marker": {
             "colorbar": {
              "outlinewidth": 0,
              "ticks": ""
             }
            },
            "type": "scattergeo"
           }
          ],
          "scattergl": [
           {
            "marker": {
             "colorbar": {
              "outlinewidth": 0,
              "ticks": ""
             }
            },
            "type": "scattergl"
           }
          ],
          "scattermapbox": [
           {
            "marker": {
             "colorbar": {
              "outlinewidth": 0,
              "ticks": ""
             }
            },
            "type": "scattermapbox"
           }
          ],
          "scatterpolar": [
           {
            "marker": {
             "colorbar": {
              "outlinewidth": 0,
              "ticks": ""
             }
            },
            "type": "scatterpolar"
           }
          ],
          "scatterpolargl": [
           {
            "marker": {
             "colorbar": {
              "outlinewidth": 0,
              "ticks": ""
             }
            },
            "type": "scatterpolargl"
           }
          ],
          "scatterternary": [
           {
            "marker": {
             "colorbar": {
              "outlinewidth": 0,
              "ticks": ""
             }
            },
            "type": "scatterternary"
           }
          ],
          "surface": [
           {
            "colorbar": {
             "outlinewidth": 0,
             "ticks": ""
            },
            "colorscale": [
             [
              0,
              "#0d0887"
             ],
             [
              0.1111111111111111,
              "#46039f"
             ],
             [
              0.2222222222222222,
              "#7201a8"
             ],
             [
              0.3333333333333333,
              "#9c179e"
             ],
             [
              0.4444444444444444,
              "#bd3786"
             ],
             [
              0.5555555555555556,
              "#d8576b"
             ],
             [
              0.6666666666666666,
              "#ed7953"
             ],
             [
              0.7777777777777778,
              "#fb9f3a"
             ],
             [
              0.8888888888888888,
              "#fdca26"
             ],
             [
              1,
              "#f0f921"
             ]
            ],
            "type": "surface"
           }
          ],
          "table": [
           {
            "cells": {
             "fill": {
              "color": "#EBF0F8"
             },
             "line": {
              "color": "white"
             }
            },
            "header": {
             "fill": {
              "color": "#C8D4E3"
             },
             "line": {
              "color": "white"
             }
            },
            "type": "table"
           }
          ]
         },
         "layout": {
          "annotationdefaults": {
           "arrowcolor": "#2a3f5f",
           "arrowhead": 0,
           "arrowwidth": 1
          },
          "autotypenumbers": "strict",
          "coloraxis": {
           "colorbar": {
            "outlinewidth": 0,
            "ticks": ""
           }
          },
          "colorscale": {
           "diverging": [
            [
             0,
             "#8e0152"
            ],
            [
             0.1,
             "#c51b7d"
            ],
            [
             0.2,
             "#de77ae"
            ],
            [
             0.3,
             "#f1b6da"
            ],
            [
             0.4,
             "#fde0ef"
            ],
            [
             0.5,
             "#f7f7f7"
            ],
            [
             0.6,
             "#e6f5d0"
            ],
            [
             0.7,
             "#b8e186"
            ],
            [
             0.8,
             "#7fbc41"
            ],
            [
             0.9,
             "#4d9221"
            ],
            [
             1,
             "#276419"
            ]
           ],
           "sequential": [
            [
             0,
             "#0d0887"
            ],
            [
             0.1111111111111111,
             "#46039f"
            ],
            [
             0.2222222222222222,
             "#7201a8"
            ],
            [
             0.3333333333333333,
             "#9c179e"
            ],
            [
             0.4444444444444444,
             "#bd3786"
            ],
            [
             0.5555555555555556,
             "#d8576b"
            ],
            [
             0.6666666666666666,
             "#ed7953"
            ],
            [
             0.7777777777777778,
             "#fb9f3a"
            ],
            [
             0.8888888888888888,
             "#fdca26"
            ],
            [
             1,
             "#f0f921"
            ]
           ],
           "sequentialminus": [
            [
             0,
             "#0d0887"
            ],
            [
             0.1111111111111111,
             "#46039f"
            ],
            [
             0.2222222222222222,
             "#7201a8"
            ],
            [
             0.3333333333333333,
             "#9c179e"
            ],
            [
             0.4444444444444444,
             "#bd3786"
            ],
            [
             0.5555555555555556,
             "#d8576b"
            ],
            [
             0.6666666666666666,
             "#ed7953"
            ],
            [
             0.7777777777777778,
             "#fb9f3a"
            ],
            [
             0.8888888888888888,
             "#fdca26"
            ],
            [
             1,
             "#f0f921"
            ]
           ]
          },
          "colorway": [
           "#636efa",
           "#EF553B",
           "#00cc96",
           "#ab63fa",
           "#FFA15A",
           "#19d3f3",
           "#FF6692",
           "#B6E880",
           "#FF97FF",
           "#FECB52"
          ],
          "font": {
           "color": "#2a3f5f"
          },
          "geo": {
           "bgcolor": "white",
           "lakecolor": "white",
           "landcolor": "#E5ECF6",
           "showlakes": true,
           "showland": true,
           "subunitcolor": "white"
          },
          "hoverlabel": {
           "align": "left"
          },
          "hovermode": "closest",
          "mapbox": {
           "style": "light"
          },
          "paper_bgcolor": "white",
          "plot_bgcolor": "#E5ECF6",
          "polar": {
           "angularaxis": {
            "gridcolor": "white",
            "linecolor": "white",
            "ticks": ""
           },
           "bgcolor": "#E5ECF6",
           "radialaxis": {
            "gridcolor": "white",
            "linecolor": "white",
            "ticks": ""
           }
          },
          "scene": {
           "xaxis": {
            "backgroundcolor": "#E5ECF6",
            "gridcolor": "white",
            "gridwidth": 2,
            "linecolor": "white",
            "showbackground": true,
            "ticks": "",
            "zerolinecolor": "white"
           },
           "yaxis": {
            "backgroundcolor": "#E5ECF6",
            "gridcolor": "white",
            "gridwidth": 2,
            "linecolor": "white",
            "showbackground": true,
            "ticks": "",
            "zerolinecolor": "white"
           },
           "zaxis": {
            "backgroundcolor": "#E5ECF6",
            "gridcolor": "white",
            "gridwidth": 2,
            "linecolor": "white",
            "showbackground": true,
            "ticks": "",
            "zerolinecolor": "white"
           }
          },
          "shapedefaults": {
           "line": {
            "color": "#2a3f5f"
           }
          },
          "ternary": {
           "aaxis": {
            "gridcolor": "white",
            "linecolor": "white",
            "ticks": ""
           },
           "baxis": {
            "gridcolor": "white",
            "linecolor": "white",
            "ticks": ""
           },
           "bgcolor": "#E5ECF6",
           "caxis": {
            "gridcolor": "white",
            "linecolor": "white",
            "ticks": ""
           }
          },
          "title": {
           "x": 0.05
          },
          "xaxis": {
           "automargin": true,
           "gridcolor": "white",
           "linecolor": "white",
           "ticks": "",
           "title": {
            "standoff": 15
           },
           "zerolinecolor": "white",
           "zerolinewidth": 2
          },
          "yaxis": {
           "automargin": true,
           "gridcolor": "white",
           "linecolor": "white",
           "ticks": "",
           "title": {
            "standoff": 15
           },
           "zerolinecolor": "white",
           "zerolinewidth": 2
          }
         }
        },
        "title": {
         "text": "Grafico De Las Personas Vacunadas En Funcion del tiempo"
        },
        "xaxis": {
         "anchor": "y",
         "domain": [
          0,
          1
         ],
         "title": {
          "text": "persona"
         }
        },
        "yaxis": {
         "anchor": "x",
         "domain": [
          0,
          1
         ],
         "title": {
          "text": "tiempo"
         }
        }
       }
      },
      "text/html": [
       "<div>                            <div id=\"cf4fa3be-4b99-40d8-a321-e80e89cc0415\" class=\"plotly-graph-div\" style=\"height:525px; width:100%;\"></div>            <script type=\"text/javascript\">                require([\"plotly\"], function(Plotly) {                    window.PLOTLYENV=window.PLOTLYENV || {};                                    if (document.getElementById(\"cf4fa3be-4b99-40d8-a321-e80e89cc0415\")) {                    Plotly.newPlot(                        \"cf4fa3be-4b99-40d8-a321-e80e89cc0415\",                        [{\"alignmentgroup\": \"True\", \"hovertemplate\": \"persona=%{x}<br>tiempo=%{y}<extra></extra>\", \"legendgroup\": \"\", \"marker\": {\"color\": \"#636efa\"}, \"name\": \"\", \"offsetgroup\": \"\", \"orientation\": \"v\", \"showlegend\": false, \"textposition\": \"auto\", \"type\": \"bar\", \"x\": [7, 16, 19, 6, 15, 12, 14, 18, 2, 1, 3, 5, 20, 17, 4, 10, 11, 13, 21, 22, 23, 26, 25, 24, 28, 31, 30, 29, 32, 34, 33, 35, 36, 37, 38, 39, 40, 41, 42, 43, 44, 45, 46, 47, 48, 49, 50, 51, 52, 53, 54, 55, 56, 57, 58, 60, 59, 61, 62, 63, 65, 64, 66, 67, 68, 69, 70, 71, 72, 73, 74, 75, 76, 77, 78, 80, 79, 82, 81, 83, 84, 86, 87, 88, 89, 91, 92, 93, 94, 95, 96, 97, 98, 100, 99, 101, 102, 103, 106, 105, 107, 109, 108, 110, 111, 112, 114, 113, 116, 115, 117, 118, 120, 119, 121, 122, 123, 124, 126, 127, 128, 129, 130, 131, 132, 133, 134, 135, 136, 138, 137, 139, 140, 141, 143, 145, 142, 144, 146, 148, 149, 150, 151, 152, 153, 154, 155, 156, 158, 159, 160, 161, 163, 162, 165, 164, 167, 166, 168, 169, 170, 171, 172, 175], \"xaxis\": \"x\", \"y\": [27, 27, 27, 28, 28, 29, 29, 30, 31, 31, 31, 31, 31, 32, 32, 32, 32, 33, 33, 32, 45, 38, 41, 48, 36, 30, 34, 36, 29, 31, 33, 31, 32, 29, 28, 28, 27, 30, 29, 30, 32, 31, 27, 29, 32, 33, 30, 32, 27, 32, 30, 31, 28, 32, 31, 27, 32, 30, 31, 31, 31, 32, 29, 30, 31, 30, 32, 31, 31, 31, 28, 31, 27, 31, 27, 27, 30, 27, 31, 29, 31, 30, 31, 29, 30, 32, 30, 33, 30, 32, 29, 28, 32, 31, 33, 28, 28, 28, 29, 32, 32, 29, 30, 27, 31, 29, 27, 30, 29, 30, 28, 32, 29, 32, 31, 30, 33, 33, 28, 32, 28, 28, 29, 33, 30, 27, 28, 30, 31, 29, 31, 32, 32, 30, 30, 27, 33, 31, 31, 31, 29, 30, 31, 31, 30, 29, 32, 30, 28, 29, 29, 29, 30, 33, 28, 29, 27, 31, 31, 30, 30, 32, 31, 30], \"yaxis\": \"y\"}],                        {\"barmode\": \"relative\", \"legend\": {\"tracegroupgap\": 0}, \"template\": {\"data\": {\"bar\": [{\"error_x\": {\"color\": \"#2a3f5f\"}, \"error_y\": {\"color\": \"#2a3f5f\"}, \"marker\": {\"line\": {\"color\": \"#E5ECF6\", \"width\": 0.5}}, \"type\": \"bar\"}], \"barpolar\": [{\"marker\": {\"line\": {\"color\": \"#E5ECF6\", \"width\": 0.5}}, \"type\": \"barpolar\"}], \"carpet\": [{\"aaxis\": {\"endlinecolor\": \"#2a3f5f\", \"gridcolor\": \"white\", \"linecolor\": \"white\", \"minorgridcolor\": \"white\", \"startlinecolor\": \"#2a3f5f\"}, \"baxis\": {\"endlinecolor\": \"#2a3f5f\", \"gridcolor\": \"white\", \"linecolor\": \"white\", \"minorgridcolor\": \"white\", \"startlinecolor\": \"#2a3f5f\"}, \"type\": \"carpet\"}], \"choropleth\": [{\"colorbar\": {\"outlinewidth\": 0, \"ticks\": \"\"}, \"type\": \"choropleth\"}], \"contour\": [{\"colorbar\": {\"outlinewidth\": 0, \"ticks\": \"\"}, \"colorscale\": [[0.0, \"#0d0887\"], [0.1111111111111111, \"#46039f\"], [0.2222222222222222, \"#7201a8\"], [0.3333333333333333, \"#9c179e\"], [0.4444444444444444, \"#bd3786\"], [0.5555555555555556, \"#d8576b\"], [0.6666666666666666, \"#ed7953\"], [0.7777777777777778, \"#fb9f3a\"], [0.8888888888888888, \"#fdca26\"], [1.0, \"#f0f921\"]], \"type\": \"contour\"}], \"contourcarpet\": [{\"colorbar\": {\"outlinewidth\": 0, \"ticks\": \"\"}, \"type\": \"contourcarpet\"}], \"heatmap\": [{\"colorbar\": {\"outlinewidth\": 0, \"ticks\": \"\"}, \"colorscale\": [[0.0, \"#0d0887\"], [0.1111111111111111, \"#46039f\"], [0.2222222222222222, \"#7201a8\"], [0.3333333333333333, \"#9c179e\"], [0.4444444444444444, \"#bd3786\"], [0.5555555555555556, \"#d8576b\"], [0.6666666666666666, \"#ed7953\"], [0.7777777777777778, \"#fb9f3a\"], [0.8888888888888888, \"#fdca26\"], [1.0, \"#f0f921\"]], \"type\": \"heatmap\"}], \"heatmapgl\": [{\"colorbar\": {\"outlinewidth\": 0, \"ticks\": \"\"}, \"colorscale\": [[0.0, \"#0d0887\"], [0.1111111111111111, \"#46039f\"], [0.2222222222222222, \"#7201a8\"], [0.3333333333333333, \"#9c179e\"], [0.4444444444444444, \"#bd3786\"], [0.5555555555555556, \"#d8576b\"], [0.6666666666666666, \"#ed7953\"], [0.7777777777777778, \"#fb9f3a\"], [0.8888888888888888, \"#fdca26\"], [1.0, \"#f0f921\"]], \"type\": \"heatmapgl\"}], \"histogram\": [{\"marker\": {\"colorbar\": {\"outlinewidth\": 0, \"ticks\": \"\"}}, \"type\": \"histogram\"}], \"histogram2d\": [{\"colorbar\": {\"outlinewidth\": 0, \"ticks\": \"\"}, \"colorscale\": [[0.0, \"#0d0887\"], [0.1111111111111111, \"#46039f\"], [0.2222222222222222, \"#7201a8\"], [0.3333333333333333, \"#9c179e\"], [0.4444444444444444, \"#bd3786\"], [0.5555555555555556, \"#d8576b\"], [0.6666666666666666, \"#ed7953\"], [0.7777777777777778, \"#fb9f3a\"], [0.8888888888888888, \"#fdca26\"], [1.0, \"#f0f921\"]], \"type\": \"histogram2d\"}], \"histogram2dcontour\": [{\"colorbar\": {\"outlinewidth\": 0, \"ticks\": \"\"}, \"colorscale\": [[0.0, \"#0d0887\"], [0.1111111111111111, \"#46039f\"], [0.2222222222222222, \"#7201a8\"], [0.3333333333333333, \"#9c179e\"], [0.4444444444444444, \"#bd3786\"], [0.5555555555555556, \"#d8576b\"], [0.6666666666666666, \"#ed7953\"], [0.7777777777777778, \"#fb9f3a\"], [0.8888888888888888, \"#fdca26\"], [1.0, \"#f0f921\"]], \"type\": \"histogram2dcontour\"}], \"mesh3d\": [{\"colorbar\": {\"outlinewidth\": 0, \"ticks\": \"\"}, \"type\": \"mesh3d\"}], \"parcoords\": [{\"line\": {\"colorbar\": {\"outlinewidth\": 0, \"ticks\": \"\"}}, \"type\": \"parcoords\"}], \"pie\": [{\"automargin\": true, \"type\": \"pie\"}], \"scatter\": [{\"marker\": {\"colorbar\": {\"outlinewidth\": 0, \"ticks\": \"\"}}, \"type\": \"scatter\"}], \"scatter3d\": [{\"line\": {\"colorbar\": {\"outlinewidth\": 0, \"ticks\": \"\"}}, \"marker\": {\"colorbar\": {\"outlinewidth\": 0, \"ticks\": \"\"}}, \"type\": \"scatter3d\"}], \"scattercarpet\": [{\"marker\": {\"colorbar\": {\"outlinewidth\": 0, \"ticks\": \"\"}}, \"type\": \"scattercarpet\"}], \"scattergeo\": [{\"marker\": {\"colorbar\": {\"outlinewidth\": 0, \"ticks\": \"\"}}, \"type\": \"scattergeo\"}], \"scattergl\": [{\"marker\": {\"colorbar\": {\"outlinewidth\": 0, \"ticks\": \"\"}}, \"type\": \"scattergl\"}], \"scattermapbox\": [{\"marker\": {\"colorbar\": {\"outlinewidth\": 0, \"ticks\": \"\"}}, \"type\": \"scattermapbox\"}], \"scatterpolar\": [{\"marker\": {\"colorbar\": {\"outlinewidth\": 0, \"ticks\": \"\"}}, \"type\": \"scatterpolar\"}], \"scatterpolargl\": [{\"marker\": {\"colorbar\": {\"outlinewidth\": 0, \"ticks\": \"\"}}, \"type\": \"scatterpolargl\"}], \"scatterternary\": [{\"marker\": {\"colorbar\": {\"outlinewidth\": 0, \"ticks\": \"\"}}, \"type\": \"scatterternary\"}], \"surface\": [{\"colorbar\": {\"outlinewidth\": 0, \"ticks\": \"\"}, \"colorscale\": [[0.0, \"#0d0887\"], [0.1111111111111111, \"#46039f\"], [0.2222222222222222, \"#7201a8\"], [0.3333333333333333, \"#9c179e\"], [0.4444444444444444, \"#bd3786\"], [0.5555555555555556, \"#d8576b\"], [0.6666666666666666, \"#ed7953\"], [0.7777777777777778, \"#fb9f3a\"], [0.8888888888888888, \"#fdca26\"], [1.0, \"#f0f921\"]], \"type\": \"surface\"}], \"table\": [{\"cells\": {\"fill\": {\"color\": \"#EBF0F8\"}, \"line\": {\"color\": \"white\"}}, \"header\": {\"fill\": {\"color\": \"#C8D4E3\"}, \"line\": {\"color\": \"white\"}}, \"type\": \"table\"}]}, \"layout\": {\"annotationdefaults\": {\"arrowcolor\": \"#2a3f5f\", \"arrowhead\": 0, \"arrowwidth\": 1}, \"autotypenumbers\": \"strict\", \"coloraxis\": {\"colorbar\": {\"outlinewidth\": 0, \"ticks\": \"\"}}, \"colorscale\": {\"diverging\": [[0, \"#8e0152\"], [0.1, \"#c51b7d\"], [0.2, \"#de77ae\"], [0.3, \"#f1b6da\"], [0.4, \"#fde0ef\"], [0.5, \"#f7f7f7\"], [0.6, \"#e6f5d0\"], [0.7, \"#b8e186\"], [0.8, \"#7fbc41\"], [0.9, \"#4d9221\"], [1, \"#276419\"]], \"sequential\": [[0.0, \"#0d0887\"], [0.1111111111111111, \"#46039f\"], [0.2222222222222222, \"#7201a8\"], [0.3333333333333333, \"#9c179e\"], [0.4444444444444444, \"#bd3786\"], [0.5555555555555556, \"#d8576b\"], [0.6666666666666666, \"#ed7953\"], [0.7777777777777778, \"#fb9f3a\"], [0.8888888888888888, \"#fdca26\"], [1.0, \"#f0f921\"]], \"sequentialminus\": [[0.0, \"#0d0887\"], [0.1111111111111111, \"#46039f\"], [0.2222222222222222, \"#7201a8\"], [0.3333333333333333, \"#9c179e\"], [0.4444444444444444, \"#bd3786\"], [0.5555555555555556, \"#d8576b\"], [0.6666666666666666, \"#ed7953\"], [0.7777777777777778, \"#fb9f3a\"], [0.8888888888888888, \"#fdca26\"], [1.0, \"#f0f921\"]]}, \"colorway\": [\"#636efa\", \"#EF553B\", \"#00cc96\", \"#ab63fa\", \"#FFA15A\", \"#19d3f3\", \"#FF6692\", \"#B6E880\", \"#FF97FF\", \"#FECB52\"], \"font\": {\"color\": \"#2a3f5f\"}, \"geo\": {\"bgcolor\": \"white\", \"lakecolor\": \"white\", \"landcolor\": \"#E5ECF6\", \"showlakes\": true, \"showland\": true, \"subunitcolor\": \"white\"}, \"hoverlabel\": {\"align\": \"left\"}, \"hovermode\": \"closest\", \"mapbox\": {\"style\": \"light\"}, \"paper_bgcolor\": \"white\", \"plot_bgcolor\": \"#E5ECF6\", \"polar\": {\"angularaxis\": {\"gridcolor\": \"white\", \"linecolor\": \"white\", \"ticks\": \"\"}, \"bgcolor\": \"#E5ECF6\", \"radialaxis\": {\"gridcolor\": \"white\", \"linecolor\": \"white\", \"ticks\": \"\"}}, \"scene\": {\"xaxis\": {\"backgroundcolor\": \"#E5ECF6\", \"gridcolor\": \"white\", \"gridwidth\": 2, \"linecolor\": \"white\", \"showbackground\": true, \"ticks\": \"\", \"zerolinecolor\": \"white\"}, \"yaxis\": {\"backgroundcolor\": \"#E5ECF6\", \"gridcolor\": \"white\", \"gridwidth\": 2, \"linecolor\": \"white\", \"showbackground\": true, \"ticks\": \"\", \"zerolinecolor\": \"white\"}, \"zaxis\": {\"backgroundcolor\": \"#E5ECF6\", \"gridcolor\": \"white\", \"gridwidth\": 2, \"linecolor\": \"white\", \"showbackground\": true, \"ticks\": \"\", \"zerolinecolor\": \"white\"}}, \"shapedefaults\": {\"line\": {\"color\": \"#2a3f5f\"}}, \"ternary\": {\"aaxis\": {\"gridcolor\": \"white\", \"linecolor\": \"white\", \"ticks\": \"\"}, \"baxis\": {\"gridcolor\": \"white\", \"linecolor\": \"white\", \"ticks\": \"\"}, \"bgcolor\": \"#E5ECF6\", \"caxis\": {\"gridcolor\": \"white\", \"linecolor\": \"white\", \"ticks\": \"\"}}, \"title\": {\"x\": 0.05}, \"xaxis\": {\"automargin\": true, \"gridcolor\": \"white\", \"linecolor\": \"white\", \"ticks\": \"\", \"title\": {\"standoff\": 15}, \"zerolinecolor\": \"white\", \"zerolinewidth\": 2}, \"yaxis\": {\"automargin\": true, \"gridcolor\": \"white\", \"linecolor\": \"white\", \"ticks\": \"\", \"title\": {\"standoff\": 15}, \"zerolinecolor\": \"white\", \"zerolinewidth\": 2}}}, \"title\": {\"text\": \"Grafico De Las Personas Vacunadas En Funcion del tiempo\"}, \"xaxis\": {\"anchor\": \"y\", \"domain\": [0.0, 1.0], \"title\": {\"text\": \"persona\"}}, \"yaxis\": {\"anchor\": \"x\", \"domain\": [0.0, 1.0], \"title\": {\"text\": \"tiempo\"}}},                        {\"responsive\": true}                    ).then(function(){\n",
       "                            \n",
       "var gd = document.getElementById('cf4fa3be-4b99-40d8-a321-e80e89cc0415');\n",
       "var x = new MutationObserver(function (mutations, observer) {{\n",
       "        var display = window.getComputedStyle(gd).display;\n",
       "        if (!display || display === 'none') {{\n",
       "            console.log([gd, 'removed!']);\n",
       "            Plotly.purge(gd);\n",
       "            observer.disconnect();\n",
       "        }}\n",
       "}});\n",
       "\n",
       "// Listen for the removal of the full notebook cells\n",
       "var notebookContainer = gd.closest('#notebook-container');\n",
       "if (notebookContainer) {{\n",
       "    x.observe(notebookContainer, {childList: true});\n",
       "}}\n",
       "\n",
       "// Listen for the clearing of the current output cell\n",
       "var outputEl = gd.closest('.output');\n",
       "if (outputEl) {{\n",
       "    x.observe(outputEl, {childList: true});\n",
       "}}\n",
       "\n",
       "                        })                };                });            </script>        </div>"
      ]
     },
     "metadata": {},
     "output_type": "display_data"
    }
   ],
   "source": [
    "import pandas as pd\n",
    "df = pd.DataFrame([[key, DICCIONARIO_TIEMPO_DE_ESPERA[key]] for key in DICCIONARIO_TIEMPO_DE_ESPERA.keys()], columns=['persona', 'tiempo'])\n",
    "import plotly.express as px\n",
    "fig = px.bar(df, x='persona', y=\"tiempo\",title=\"Grafico De Las Personas Vacunadas En Funcion del tiempo\")\n",
    "fig.show()\n"
   ]
  },
  {
   "cell_type": "markdown",
   "id": "6d653934",
   "metadata": {},
   "source": [
    "# Segunda Dosis "
   ]
  },
  {
   "cell_type": "code",
   "execution_count": 25,
   "id": "e1171293",
   "metadata": {},
   "outputs": [],
   "source": [
    "PERSONAS_SEGUNDA_DOSIS=0\n",
    "CANTIDAD_MESA_SEGUNDA_DOSIS = 15\n",
    "ESPERA_OBLIGATORIA_SEGUNDA_DOSIS = 20\n",
    "TIEMPO_VACUNACION_SEGUNDA_DOSIS = 0\n",
    "TIEMPO_LABORAL_SEGUNDA_DOSIS = 480 \n",
    "\n",
    "\n",
    "DICCIONARIO_PERSONA_TIEMPO_VACUNACION = {}\n",
    "DICCIONARIO_TIEMPO_DE_ESPERA = {}\n",
    "DICCIONARIO_PERSONAS_NO_VACUNADAS = {}"
   ]
  },
  {
   "cell_type": "code",
   "execution_count": 26,
   "id": "87de2e2b",
   "metadata": {},
   "outputs": [
    {
     "name": "stdout",
     "output_type": "stream",
     "text": [
      "Simulacion Vacunacion Ecuador mes Siguiente\n",
      "Inicio de [Persona 1] llega al recinto Borja  0.00.\n",
      "Inicio de [Persona 2] llega al recinto Borja  0.00.\n",
      "Inicio de [Persona 3] llega al recinto Borja  0.00.\n",
      "Inicio de [Persona 4] llega al recinto Borja  0.00.\n",
      "Inicio de [Persona 5] llega al recinto Borja  0.00.\n",
      "Inicio de [Persona 6] llega al recinto Borja  0.00.\n",
      "Inicio de [Persona 7] llega al recinto Borja  0.00.\n",
      "Inicio de [Persona 8] llega al recinto Borja  0.00.\n",
      "La [Persona 8] no puede vacunarse\n",
      "Inicio de [Persona 9] llega al recinto Borja  0.00.\n",
      "La [Persona 9] no puede vacunarse\n",
      "Inicio de [Persona 10] llega al recinto Borja  0.00.\n",
      "Inicio de [Persona 11] llega al recinto Borja  0.00.\n",
      "Inicio de [Persona 12] llega al recinto Borja  0.00.\n",
      "Inicio de [Persona 13] llega al recinto Borja  0.00.\n",
      "Inicio de [Persona 14] llega al recinto Borja  0.00.\n",
      "Inicio de [Persona 15] llega al recinto Borja  0.00.\n",
      "Inicio de [Persona 16] llega al recinto Borja  0.00.\n",
      "Inicio de [Persona 17] llega al recinto Borja  0.00.\n",
      "Inicio de [Persona 18] llega al recinto Borja  0.00.\n",
      "Inicio de [Persona 19] llega al recinto Borja  0.00.\n",
      "Inicio de [Persona 20] llega al recinto Borja  0.00.\n",
      "La [Persona 1] pasa a la mesa de vacunacion : 0.00.\n",
      "La [Persona 2] pasa a la mesa de vacunacion : 0.00.\n",
      "La [Persona 3] pasa a la mesa de vacunacion : 0.00.\n",
      "La [Persona 4] pasa a la mesa de vacunacion : 0.00.\n",
      "La [Persona 5] pasa a la mesa de vacunacion : 0.00.\n",
      "La [Persona 6] pasa a la mesa de vacunacion : 0.00.\n",
      "La [Persona 7] pasa a la mesa de vacunacion : 0.00.\n",
      "La [Persona 10] pasa a la mesa de vacunacion : 0.00.\n",
      "La [Persona 11] pasa a la mesa de vacunacion : 0.00.\n",
      "La [Persona 12] pasa a la mesa de vacunacion : 0.00.\n",
      "La [Persona 13] pasa a la mesa de vacunacion : 0.00.\n",
      "La [Persona 14] pasa a la mesa de vacunacion : 0.00.\n",
      "La [Persona 15] pasa a la mesa de vacunacion : 0.00.\n",
      "La [Persona 16] pasa a la mesa de vacunacion : 0.00.\n",
      "La [Persona 17] pasa a la mesa de vacunacion : 0.00.\n",
      "Inicio de [Persona 21] llega al recinto Borja  3.00.\n",
      "La [Persona 6] fue vacunada a las 5.00.\n",
      "La [Persona 7] fue vacunada a las 5.00.\n",
      "La [Persona 15] fue vacunada a las 5.00.\n",
      "La [Persona 16] fue vacunada a las 5.00.\n",
      "La [Persona 12] fue vacunada a las 6.00.\n",
      "Inicio de [Persona 22] llega al recinto Borja  7.00.\n",
      "La [Persona 14] fue vacunada a las 7.00.\n",
      "Inicio de [Persona 23] llega al recinto Borja  8.00.\n",
      "La [Persona 2] fue vacunada a las 8.00.\n",
      "La [Persona 1] fue vacunada a las 9.00.\n",
      "La [Persona 3] fue vacunada a las 9.00.\n",
      "La [Persona 5] fue vacunada a las 9.00.\n",
      "La [Persona 17] fue vacunada a las 9.00.\n",
      "La [Persona 4] fue vacunada a las 10.00.\n",
      "La [Persona 10] fue vacunada a las 10.00.\n",
      "La [Persona 11] fue vacunada a las 10.00.\n",
      "La [Persona 13] fue vacunada a las 10.00.\n",
      "Inicio de [Persona 24] llega al recinto Borja  13.00.\n",
      "Inicio de [Persona 25] llega al recinto Borja  18.00.\n",
      "Inicio de [Persona 26] llega al recinto Borja  22.00.\n",
      "La [Persona 6] pasa a recibir su certificado a las 25.00.\n",
      "La [Persona 7] pasa a recibir su certificado a las 25.00.\n",
      "La [Persona 15] pasa a recibir su certificado a las 25.00.\n",
      "La [Persona 16] pasa a recibir su certificado a las 25.00.\n",
      "La [Persona 12] pasa a recibir su certificado a las 26.00.\n",
      "Inicio de [Persona 27] llega al recinto Borja  27.00.\n",
      "La [Persona 14] pasa a recibir su certificado a las 27.00.\n",
      "Salida de la [Persona 15] sale del recinto a las 27.00.\n",
      "Tiempo Total De Persona 15 = 27\n",
      "La [Persona 18] pasa a la mesa de vacunacion : 27.00.\n",
      "Inicio de [Persona 28] llega al recinto Borja  28.00.\n",
      "La [Persona 2] pasa a recibir su certificado a las 28.00.\n",
      "Salida de la [Persona 6] sale del recinto a las 28.00.\n",
      "Tiempo Total De Persona 6 = 28\n",
      "Salida de la [Persona 7] sale del recinto a las 28.00.\n",
      "Tiempo Total De Persona 7 = 28\n",
      "Salida de la [Persona 16] sale del recinto a las 28.00.\n",
      "Tiempo Total De Persona 16 = 28\n",
      "Salida de la [Persona 12] sale del recinto a las 28.00.\n",
      "Tiempo Total De Persona 12 = 28\n",
      "La [Persona 19] pasa a la mesa de vacunacion : 28.00.\n",
      "La [Persona 20] pasa a la mesa de vacunacion : 28.00.\n",
      "La [Persona 21] pasa a la mesa de vacunacion : 28.00.\n",
      "La [Persona 22] pasa a la mesa de vacunacion : 28.00.\n",
      "La [Persona 1] pasa a recibir su certificado a las 29.00.\n",
      "La [Persona 3] pasa a recibir su certificado a las 29.00.\n",
      "La [Persona 5] pasa a recibir su certificado a las 29.00.\n",
      "La [Persona 17] pasa a recibir su certificado a las 29.00.\n",
      "Salida de la [Persona 14] sale del recinto a las 29.00.\n",
      "Tiempo Total De Persona 14 = 29\n",
      "La [Persona 23] pasa a la mesa de vacunacion : 29.00.\n",
      "La [Persona 4] pasa a recibir su certificado a las 30.00.\n",
      "La [Persona 10] pasa a recibir su certificado a las 30.00.\n",
      "La [Persona 11] pasa a recibir su certificado a las 30.00.\n",
      "La [Persona 13] pasa a recibir su certificado a las 30.00.\n",
      "Inicio de [Persona 29] llega al recinto Borja  31.00.\n",
      "La [Persona 29] no puede vacunarse\n",
      "Salida de la [Persona 2] sale del recinto a las 31.00.\n",
      "Tiempo Total De Persona 2 = 31\n",
      "Salida de la [Persona 1] sale del recinto a las 31.00.\n",
      "Tiempo Total De Persona 1 = 31\n",
      "Salida de la [Persona 5] sale del recinto a las 31.00.\n",
      "Tiempo Total De Persona 5 = 31\n",
      "Salida de la [Persona 17] sale del recinto a las 31.00.\n",
      "Tiempo Total De Persona 17 = 31\n",
      "La [Persona 24] pasa a la mesa de vacunacion : 31.00.\n",
      "La [Persona 25] pasa a la mesa de vacunacion : 31.00.\n",
      "La [Persona 26] pasa a la mesa de vacunacion : 31.00.\n",
      "La [Persona 27] pasa a la mesa de vacunacion : 31.00.\n",
      "Salida de la [Persona 3] sale del recinto a las 32.00.\n",
      "Tiempo Total De Persona 3 = 32\n",
      "Salida de la [Persona 4] sale del recinto a las 32.00.\n",
      "Tiempo Total De Persona 4 = 32\n",
      "Salida de la [Persona 10] sale del recinto a las 32.00.\n",
      "Tiempo Total De Persona 10 = 32\n",
      "La [Persona 28] pasa a la mesa de vacunacion : 32.00.\n",
      "Salida de la [Persona 11] sale del recinto a las 33.00.\n",
      "Tiempo Total De Persona 11 = 33\n",
      "Salida de la [Persona 13] sale del recinto a las 33.00.\n",
      "Tiempo Total De Persona 13 = 33\n",
      "Inicio de [Persona 30] llega al recinto Borja  35.00.\n",
      "La [Persona 30] pasa a la mesa de vacunacion : 35.00.\n",
      "Inicio de [Persona 31] llega al recinto Borja  36.00.\n",
      "La [Persona 22] fue vacunada a las 36.00.\n",
      "La [Persona 23] fue vacunada a las 36.00.\n",
      "La [Persona 24] fue vacunada a las 36.00.\n",
      "La [Persona 27] fue vacunada a las 36.00.\n",
      "La [Persona 31] pasa a la mesa de vacunacion : 36.00.\n",
      "La [Persona 18] fue vacunada a las 37.00.\n",
      "La [Persona 19] fue vacunada a las 37.00.\n",
      "La [Persona 20] fue vacunada a las 37.00.\n",
      "La [Persona 26] fue vacunada a las 37.00.\n",
      "La [Persona 21] fue vacunada a las 38.00.\n",
      "La [Persona 25] fue vacunada a las 39.00.\n",
      "Inicio de [Persona 32] llega al recinto Borja  40.00.\n",
      "La [Persona 32] pasa a la mesa de vacunacion : 40.00.\n",
      "Inicio de [Persona 33] llega al recinto Borja  41.00.\n",
      "La [Persona 33] pasa a la mesa de vacunacion : 41.00.\n",
      "La [Persona 28] fue vacunada a las 42.00.\n",
      "Inicio de [Persona 34] llega al recinto Borja  43.00.\n",
      "La [Persona 31] fue vacunada a las 44.00.\n",
      "Inicio de [Persona 35] llega al recinto Borja  45.00.\n",
      "La [Persona 30] fue vacunada a las 45.00.\n",
      "Inicio de [Persona 36] llega al recinto Borja  47.00.\n",
      "La [Persona 32] fue vacunada a las 47.00.\n",
      "La [Persona 33] fue vacunada a las 47.00.\n",
      "Inicio de [Persona 37] llega al recinto Borja  51.00.\n",
      "Inicio de [Persona 38] llega al recinto Borja  56.00.\n",
      "La [Persona 22] pasa a recibir su certificado a las 56.00.\n",
      "La [Persona 23] pasa a recibir su certificado a las 56.00.\n",
      "La [Persona 24] pasa a recibir su certificado a las 56.00.\n",
      "La [Persona 27] pasa a recibir su certificado a las 56.00.\n",
      "La [Persona 18] pasa a recibir su certificado a las 57.00.\n",
      "La [Persona 19] pasa a recibir su certificado a las 57.00.\n",
      "La [Persona 20] pasa a recibir su certificado a las 57.00.\n",
      "La [Persona 26] pasa a recibir su certificado a las 57.00.\n",
      "La [Persona 21] pasa a recibir su certificado a las 58.00.\n",
      "Salida de la [Persona 22] sale del recinto a las 58.00.\n",
      "Tiempo Total De Persona 22 = 51\n",
      "La [Persona 34] pasa a la mesa de vacunacion : 58.00.\n",
      "La [Persona 25] pasa a recibir su certificado a las 59.00.\n",
      "Salida de la [Persona 23] sale del recinto a las 59.00.\n",
      "Tiempo Total De Persona 23 = 51\n",
      "Salida de la [Persona 24] sale del recinto a las 59.00.\n",
      "Tiempo Total De Persona 24 = 46\n",
      "Salida de la [Persona 27] sale del recinto a las 59.00.\n",
      "Tiempo Total De Persona 27 = 32\n",
      "Salida de la [Persona 26] sale del recinto a las 59.00.\n",
      "Tiempo Total De Persona 26 = 37\n",
      "La [Persona 35] pasa a la mesa de vacunacion : 59.00.\n",
      "La [Persona 36] pasa a la mesa de vacunacion : 59.00.\n",
      "La [Persona 37] pasa a la mesa de vacunacion : 59.00.\n",
      "La [Persona 38] pasa a la mesa de vacunacion : 59.00.\n",
      "Salida de la [Persona 18] sale del recinto a las 60.00.\n",
      "Tiempo Total De Persona 18 = 60\n",
      "Salida de la [Persona 19] sale del recinto a las 60.00.\n",
      "Tiempo Total De Persona 19 = 60\n",
      "Salida de la [Persona 20] sale del recinto a las 60.00.\n",
      "Tiempo Total De Persona 20 = 60\n",
      "Salida de la [Persona 21] sale del recinto a las 60.00.\n",
      "Tiempo Total De Persona 21 = 57\n",
      "Inicio de [Persona 39] llega al recinto Borja  61.00.\n",
      "La [Persona 39] pasa a la mesa de vacunacion : 61.00.\n",
      "La [Persona 28] pasa a recibir su certificado a las 62.00.\n",
      "Salida de la [Persona 25] sale del recinto a las 62.00.\n",
      "Tiempo Total De Persona 25 = 44\n",
      "Inicio de [Persona 40] llega al recinto Borja  63.00.\n",
      "La [Persona 40] pasa a la mesa de vacunacion : 63.00.\n",
      "La [Persona 31] pasa a recibir su certificado a las 64.00.\n",
      "La [Persona 35] fue vacunada a las 64.00.\n",
      "La [Persona 36] fue vacunada a las 64.00.\n",
      "La [Persona 37] fue vacunada a las 64.00.\n",
      "Salida de la [Persona 28] sale del recinto a las 64.00.\n",
      "Tiempo Total De Persona 28 = 36\n",
      "La [Persona 30] pasa a recibir su certificado a las 65.00.\n",
      "La [Persona 32] pasa a recibir su certificado a las 67.00.\n",
      "La [Persona 33] pasa a recibir su certificado a las 67.00.\n",
      "La [Persona 34] fue vacunada a las 67.00.\n",
      "Salida de la [Persona 31] sale del recinto a las 67.00.\n",
      "Tiempo Total De Persona 31 = 31\n",
      "Salida de la [Persona 30] sale del recinto a las 67.00.\n",
      "Tiempo Total De Persona 30 = 32\n",
      "Inicio de [Persona 41] llega al recinto Borja  68.00.\n",
      "La [Persona 41] pasa a la mesa de vacunacion : 68.00.\n",
      "La [Persona 40] fue vacunada a las 68.00.\n",
      "La [Persona 38] fue vacunada a las 69.00.\n",
      "Salida de la [Persona 32] sale del recinto a las 69.00.\n",
      "Tiempo Total De Persona 32 = 29\n",
      "Salida de la [Persona 33] sale del recinto a las 70.00.\n",
      "Tiempo Total De Persona 33 = 29\n",
      "Inicio de [Persona 42] llega al recinto Borja  71.00.\n",
      "La [Persona 39] fue vacunada a las 71.00.\n",
      "La [Persona 42] pasa a la mesa de vacunacion : 71.00.\n",
      "Inicio de [Persona 43] llega al recinto Borja  75.00.\n",
      "La [Persona 43] pasa a la mesa de vacunacion : 75.00.\n",
      "La [Persona 41] fue vacunada a las 77.00.\n",
      "Inicio de [Persona 44] llega al recinto Borja  78.00.\n",
      "La [Persona 44] pasa a la mesa de vacunacion : 78.00.\n",
      "La [Persona 42] fue vacunada a las 79.00.\n",
      "Inicio de [Persona 45] llega al recinto Borja  81.00.\n",
      "La [Persona 45] pasa a la mesa de vacunacion : 81.00.\n",
      "Inicio de [Persona 46] llega al recinto Borja  84.00.\n",
      "La [Persona 35] pasa a recibir su certificado a las 84.00.\n",
      "La [Persona 36] pasa a recibir su certificado a las 84.00.\n",
      "La [Persona 37] pasa a recibir su certificado a las 84.00.\n",
      "La [Persona 43] fue vacunada a las 84.00.\n",
      "La [Persona 46] pasa a la mesa de vacunacion : 84.00.\n",
      "La [Persona 44] fue vacunada a las 85.00.\n",
      "La [Persona 34] pasa a recibir su certificado a las 87.00.\n",
      "Salida de la [Persona 35] sale del recinto a las 87.00.\n",
      "Tiempo Total De Persona 35 = 42\n",
      "Salida de la [Persona 36] sale del recinto a las 87.00.\n",
      "Tiempo Total De Persona 36 = 40\n",
      "Salida de la [Persona 37] sale del recinto a las 87.00.\n",
      "Tiempo Total De Persona 37 = 36\n",
      "La [Persona 40] pasa a recibir su certificado a las 88.00.\n",
      "Inicio de [Persona 47] llega al recinto Borja  89.00.\n",
      "La [Persona 38] pasa a recibir su certificado a las 89.00.\n",
      "La [Persona 45] fue vacunada a las 89.00.\n",
      "La [Persona 47] pasa a la mesa de vacunacion : 89.00.\n",
      "Salida de la [Persona 34] sale del recinto a las 90.00.\n",
      "Tiempo Total De Persona 34 = 47\n",
      "Salida de la [Persona 40] sale del recinto a las 90.00.\n",
      "Tiempo Total De Persona 40 = 27\n",
      "La [Persona 39] pasa a recibir su certificado a las 91.00.\n",
      "Salida de la [Persona 38] sale del recinto a las 91.00.\n",
      "Tiempo Total De Persona 38 = 35\n",
      "Inicio de [Persona 48] llega al recinto Borja  92.00.\n",
      "La [Persona 48] pasa a la mesa de vacunacion : 92.00.\n",
      "Inicio de [Persona 49] llega al recinto Borja  93.00.\n",
      "La [Persona 49] pasa a la mesa de vacunacion : 93.00.\n",
      "La [Persona 46] fue vacunada a las 94.00.\n",
      "Salida de la [Persona 39] sale del recinto a las 94.00.\n",
      "Tiempo Total De Persona 39 = 33\n",
      "La [Persona 47] fue vacunada a las 95.00.\n",
      "La [Persona 41] pasa a recibir su certificado a las 97.00.\n",
      "Inicio de [Persona 50] llega al recinto Borja  98.00.\n",
      "La [Persona 50] pasa a la mesa de vacunacion : 98.00.\n",
      "La [Persona 42] pasa a recibir su certificado a las 99.00.\n",
      "Salida de la [Persona 41] sale del recinto a las 99.00.\n",
      "Tiempo Total De Persona 41 = 31\n",
      "La [Persona 48] fue vacunada a las 101.00.\n",
      "Salida de la [Persona 42] sale del recinto a las 101.00.\n",
      "Tiempo Total De Persona 42 = 30\n",
      "La [Persona 49] fue vacunada a las 102.00.\n",
      "Inicio de [Persona 51] llega al recinto Borja  103.00.\n",
      "La [Persona 51] pasa a la mesa de vacunacion : 103.00.\n",
      "La [Persona 43] pasa a recibir su certificado a las 104.00.\n",
      "Inicio de [Persona 52] llega al recinto Borja  105.00.\n",
      "La [Persona 44] pasa a recibir su certificado a las 105.00.\n",
      "La [Persona 52] pasa a la mesa de vacunacion : 105.00.\n",
      "Inicio de [Persona 53] llega al recinto Borja  106.00.\n",
      "La [Persona 53] pasa a la mesa de vacunacion : 106.00.\n",
      "La [Persona 50] fue vacunada a las 107.00.\n",
      "Salida de la [Persona 43] sale del recinto a las 107.00.\n",
      "Tiempo Total De Persona 43 = 32\n",
      "Salida de la [Persona 44] sale del recinto a las 108.00.\n",
      "Tiempo Total De Persona 44 = 30\n",
      "Inicio de [Persona 54] llega al recinto Borja  109.00.\n",
      "La [Persona 54] no puede vacunarse\n",
      "La [Persona 45] pasa a recibir su certificado a las 109.00.\n",
      "La [Persona 52] fue vacunada a las 110.00.\n",
      "Salida de la [Persona 45] sale del recinto a las 111.00.\n",
      "Tiempo Total De Persona 45 = 30\n",
      "La [Persona 51] fue vacunada a las 113.00.\n",
      "Inicio de [Persona 55] llega al recinto Borja  114.00.\n",
      "La [Persona 46] pasa a recibir su certificado a las 114.00.\n",
      "La [Persona 53] fue vacunada a las 114.00.\n",
      "La [Persona 55] pasa a la mesa de vacunacion : 114.00.\n",
      "La [Persona 47] pasa a recibir su certificado a las 115.00.\n",
      "Salida de la [Persona 46] sale del recinto a las 117.00.\n",
      "Tiempo Total De Persona 46 = 33\n",
      "Salida de la [Persona 47] sale del recinto a las 117.00.\n",
      "Tiempo Total De Persona 47 = 28\n",
      "Inicio de [Persona 56] llega al recinto Borja  118.00.\n",
      "La [Persona 56] pasa a la mesa de vacunacion : 118.00.\n",
      "La [Persona 48] pasa a recibir su certificado a las 121.00.\n",
      "Inicio de [Persona 57] llega al recinto Borja  122.00.\n",
      "La [Persona 49] pasa a recibir su certificado a las 122.00.\n",
      "La [Persona 55] fue vacunada a las 122.00.\n",
      "La [Persona 57] pasa a la mesa de vacunacion : 122.00.\n",
      "La [Persona 56] fue vacunada a las 123.00.\n",
      "Inicio de [Persona 58] llega al recinto Borja  124.00.\n",
      "Salida de la [Persona 48] sale del recinto a las 124.00.\n",
      "Tiempo Total De Persona 48 = 32\n",
      "La [Persona 58] pasa a la mesa de vacunacion : 124.00.\n",
      "Salida de la [Persona 49] sale del recinto a las 125.00.\n",
      "Tiempo Total De Persona 49 = 32\n",
      "Inicio de [Persona 59] llega al recinto Borja  127.00.\n",
      "La [Persona 50] pasa a recibir su certificado a las 127.00.\n",
      "La [Persona 59] pasa a la mesa de vacunacion : 127.00.\n",
      "Inicio de [Persona 60] llega al recinto Borja  128.00.\n",
      "La [Persona 60] pasa a la mesa de vacunacion : 128.00.\n",
      "Inicio de [Persona 61] llega al recinto Borja  129.00.\n",
      "La [Persona 61] pasa a la mesa de vacunacion : 129.00.\n",
      "La [Persona 52] pasa a recibir su certificado a las 130.00.\n",
      "Salida de la [Persona 50] sale del recinto a las 130.00.\n",
      "Tiempo Total De Persona 50 = 32\n",
      "Inicio de [Persona 62] llega al recinto Borja  131.00.\n",
      "La [Persona 57] fue vacunada a las 131.00.\n",
      "La [Persona 62] pasa a la mesa de vacunacion : 131.00.\n",
      "La [Persona 51] pasa a recibir su certificado a las 133.00.\n",
      "La [Persona 58] fue vacunada a las 133.00.\n",
      "Salida de la [Persona 52] sale del recinto a las 133.00.\n",
      "Tiempo Total De Persona 52 = 28\n",
      "Inicio de [Persona 63] llega al recinto Borja  134.00.\n",
      "La [Persona 53] pasa a recibir su certificado a las 134.00.\n",
      "La [Persona 63] pasa a la mesa de vacunacion : 134.00.\n",
      "La [Persona 59] fue vacunada a las 136.00.\n",
      "La [Persona 60] fue vacunada a las 136.00.\n",
      "Salida de la [Persona 51] sale del recinto a las 136.00.\n",
      "Tiempo Total De Persona 51 = 33\n",
      "La [Persona 62] fue vacunada a las 137.00.\n",
      "Salida de la [Persona 53] sale del recinto a las 137.00.\n",
      "Tiempo Total De Persona 53 = 31\n",
      "Inicio de [Persona 64] llega al recinto Borja  139.00.\n",
      "La [Persona 61] fue vacunada a las 139.00.\n",
      "La [Persona 64] pasa a la mesa de vacunacion : 139.00.\n",
      "La [Persona 55] pasa a recibir su certificado a las 142.00.\n",
      "La [Persona 56] pasa a recibir su certificado a las 143.00.\n",
      "Inicio de [Persona 65] llega al recinto Borja  144.00.\n",
      "La [Persona 63] fue vacunada a las 144.00.\n",
      "La [Persona 65] pasa a la mesa de vacunacion : 144.00.\n",
      "Salida de la [Persona 55] sale del recinto a las 144.00.\n",
      "Tiempo Total De Persona 55 = 30\n",
      "Salida de la [Persona 56] sale del recinto a las 145.00.\n",
      "Tiempo Total De Persona 56 = 27\n",
      "Inicio de [Persona 66] llega al recinto Borja  149.00.\n",
      "La [Persona 64] fue vacunada a las 149.00.\n",
      "La [Persona 66] pasa a la mesa de vacunacion : 149.00.\n",
      "La [Persona 57] pasa a recibir su certificado a las 151.00.\n",
      "La [Persona 65] fue vacunada a las 151.00.\n",
      "Inicio de [Persona 67] llega al recinto Borja  152.00.\n",
      "La [Persona 67] pasa a la mesa de vacunacion : 152.00.\n",
      "La [Persona 58] pasa a recibir su certificado a las 153.00.\n",
      "Salida de la [Persona 57] sale del recinto a las 153.00.\n",
      "Tiempo Total De Persona 57 = 31\n",
      "Salida de la [Persona 58] sale del recinto a las 155.00.\n",
      "Tiempo Total De Persona 58 = 31\n",
      "La [Persona 59] pasa a recibir su certificado a las 156.00.\n",
      "La [Persona 60] pasa a recibir su certificado a las 156.00.\n",
      "Inicio de [Persona 68] llega al recinto Borja  157.00.\n",
      "La [Persona 62] pasa a recibir su certificado a las 157.00.\n",
      "La [Persona 66] fue vacunada a las 157.00.\n",
      "La [Persona 68] pasa a la mesa de vacunacion : 157.00.\n",
      "Inicio de [Persona 69] llega al recinto Borja  159.00.\n",
      "La [Persona 61] pasa a recibir su certificado a las 159.00.\n",
      "Salida de la [Persona 59] sale del recinto a las 159.00.\n",
      "Tiempo Total De Persona 59 = 32\n",
      "Salida de la [Persona 60] sale del recinto a las 159.00.\n",
      "Tiempo Total De Persona 60 = 31\n",
      "La [Persona 69] pasa a la mesa de vacunacion : 159.00.\n",
      "Salida de la [Persona 62] sale del recinto a las 159.00.\n",
      "Tiempo Total De Persona 62 = 28\n",
      "La [Persona 67] fue vacunada a las 162.00.\n",
      "Salida de la [Persona 61] sale del recinto a las 162.00.\n",
      "Tiempo Total De Persona 61 = 33\n",
      "Inicio de [Persona 70] llega al recinto Borja  164.00.\n",
      "La [Persona 63] pasa a recibir su certificado a las 164.00.\n",
      "La [Persona 68] fue vacunada a las 164.00.\n",
      "La [Persona 70] pasa a la mesa de vacunacion : 164.00.\n",
      "Inicio de [Persona 71] llega al recinto Borja  166.00.\n",
      "La [Persona 71] pasa a la mesa de vacunacion : 166.00.\n",
      "Inicio de [Persona 72] llega al recinto Borja  167.00.\n",
      "La [Persona 69] fue vacunada a las 167.00.\n",
      "Salida de la [Persona 63] sale del recinto a las 167.00.\n",
      "Tiempo Total De Persona 63 = 33\n",
      "La [Persona 72] pasa a la mesa de vacunacion : 167.00.\n",
      "Inicio de [Persona 73] llega al recinto Borja  168.00.\n",
      "La [Persona 73] pasa a la mesa de vacunacion : 168.00.\n",
      "La [Persona 64] pasa a recibir su certificado a las 169.00.\n",
      "La [Persona 65] pasa a recibir su certificado a las 171.00.\n",
      "Inicio de [Persona 74] llega al recinto Borja  172.00.\n",
      "La [Persona 71] fue vacunada a las 172.00.\n",
      "La [Persona 74] pasa a la mesa de vacunacion : 172.00.\n",
      "Salida de la [Persona 64] sale del recinto a las 172.00.\n",
      "Tiempo Total De Persona 64 = 33\n",
      "Inicio de [Persona 75] llega al recinto Borja  173.00.\n",
      "La [Persona 70] fue vacunada a las 173.00.\n",
      "La [Persona 75] pasa a la mesa de vacunacion : 173.00.\n",
      "Salida de la [Persona 65] sale del recinto a las 174.00.\n",
      "Tiempo Total De Persona 65 = 30\n",
      "La [Persona 72] fue vacunada a las 175.00.\n",
      "Inicio de [Persona 76] llega al recinto Borja  176.00.\n",
      "La [Persona 76] pasa a la mesa de vacunacion : 176.00.\n",
      "La [Persona 66] pasa a recibir su certificado a las 177.00.\n",
      "La [Persona 73] fue vacunada a las 177.00.\n",
      "Inicio de [Persona 77] llega al recinto Borja  178.00.\n",
      "La [Persona 77] no puede vacunarse\n",
      "Salida de la [Persona 66] sale del recinto a las 180.00.\n",
      "Tiempo Total De Persona 66 = 31\n",
      "La [Persona 74] fue vacunada a las 181.00.\n",
      "La [Persona 75] fue vacunada a las 181.00.\n",
      "La [Persona 67] pasa a recibir su certificado a las 182.00.\n",
      "Inicio de [Persona 78] llega al recinto Borja  183.00.\n",
      "La [Persona 78] pasa a la mesa de vacunacion : 183.00.\n",
      "La [Persona 68] pasa a recibir su certificado a las 184.00.\n",
      "La [Persona 76] fue vacunada a las 185.00.\n",
      "Salida de la [Persona 67] sale del recinto a las 185.00.\n",
      "Tiempo Total De Persona 67 = 33\n",
      "Inicio de [Persona 79] llega al recinto Borja  186.00.\n",
      "La [Persona 79] pasa a la mesa de vacunacion : 186.00.\n",
      "Salida de la [Persona 68] sale del recinto a las 186.00.\n",
      "Tiempo Total De Persona 68 = 29\n",
      "La [Persona 69] pasa a recibir su certificado a las 187.00.\n",
      "Salida de la [Persona 69] sale del recinto a las 190.00.\n",
      "Tiempo Total De Persona 69 = 31\n",
      "Inicio de [Persona 80] llega al recinto Borja  191.00.\n",
      "La [Persona 78] fue vacunada a las 191.00.\n",
      "La [Persona 80] pasa a la mesa de vacunacion : 191.00.\n",
      "La [Persona 71] pasa a recibir su certificado a las 192.00.\n",
      "La [Persona 70] pasa a recibir su certificado a las 193.00.\n",
      "La [Persona 79] fue vacunada a las 193.00.\n",
      "Inicio de [Persona 81] llega al recinto Borja  194.00.\n",
      "La [Persona 81] pasa a la mesa de vacunacion : 194.00.\n",
      "Inicio de [Persona 82] llega al recinto Borja  195.00.\n",
      "La [Persona 72] pasa a recibir su certificado a las 195.00.\n",
      "Salida de la [Persona 71] sale del recinto a las 195.00.\n",
      "Tiempo Total De Persona 71 = 29\n",
      "Salida de la [Persona 70] sale del recinto a las 195.00.\n",
      "Tiempo Total De Persona 70 = 31\n",
      "La [Persona 82] pasa a la mesa de vacunacion : 195.00.\n",
      "Inicio de [Persona 83] llega al recinto Borja  197.00.\n",
      "La [Persona 73] pasa a recibir su certificado a las 197.00.\n",
      "La [Persona 83] pasa a la mesa de vacunacion : 197.00.\n",
      "La [Persona 80] fue vacunada a las 198.00.\n",
      "Salida de la [Persona 72] sale del recinto a las 198.00.\n",
      "Tiempo Total De Persona 72 = 31\n",
      "Inicio de [Persona 84] llega al recinto Borja  200.00.\n",
      "La [Persona 81] fue vacunada a las 200.00.\n",
      "La [Persona 84] pasa a la mesa de vacunacion : 200.00.\n",
      "Salida de la [Persona 73] sale del recinto a las 200.00.\n",
      "Tiempo Total De Persona 73 = 32\n",
      "La [Persona 74] pasa a recibir su certificado a las 201.00.\n",
      "La [Persona 75] pasa a recibir su certificado a las 201.00.\n",
      "Inicio de [Persona 85] llega al recinto Borja  202.00.\n",
      "La [Persona 82] fue vacunada a las 202.00.\n",
      "La [Persona 85] pasa a la mesa de vacunacion : 202.00.\n",
      "La [Persona 83] fue vacunada a las 203.00.\n",
      "Salida de la [Persona 74] sale del recinto a las 203.00.\n",
      "Tiempo Total De Persona 74 = 31\n",
      "Salida de la [Persona 75] sale del recinto a las 204.00.\n",
      "Tiempo Total De Persona 75 = 31\n",
      "La [Persona 76] pasa a recibir su certificado a las 205.00.\n",
      "Inicio de [Persona 86] llega al recinto Borja  207.00.\n",
      "La [Persona 86] pasa a la mesa de vacunacion : 207.00.\n",
      "Salida de la [Persona 76] sale del recinto a las 208.00.\n",
      "Tiempo Total De Persona 76 = 32\n",
      "Inicio de [Persona 87] llega al recinto Borja  209.00.\n",
      "La [Persona 87] pasa a la mesa de vacunacion : 209.00.\n",
      "La [Persona 84] fue vacunada a las 210.00.\n",
      "La [Persona 78] pasa a recibir su certificado a las 211.00.\n",
      "La [Persona 85] fue vacunada a las 212.00.\n",
      "La [Persona 79] pasa a recibir su certificado a las 213.00.\n",
      "Inicio de [Persona 88] llega al recinto Borja  214.00.\n",
      "La [Persona 88] pasa a la mesa de vacunacion : 214.00.\n",
      "La [Persona 87] fue vacunada a las 214.00.\n",
      "Salida de la [Persona 78] sale del recinto a las 214.00.\n",
      "Tiempo Total De Persona 78 = 31\n",
      "Inicio de [Persona 89] llega al recinto Borja  215.00.\n",
      "Salida de la [Persona 79] sale del recinto a las 215.00.\n",
      "Tiempo Total De Persona 79 = 29\n",
      "La [Persona 89] pasa a la mesa de vacunacion : 215.00.\n",
      "La [Persona 86] fue vacunada a las 217.00.\n",
      "Inicio de [Persona 90] llega al recinto Borja  218.00.\n",
      "La [Persona 80] pasa a recibir su certificado a las 218.00.\n",
      "La [Persona 90] pasa a la mesa de vacunacion : 218.00.\n",
      "La [Persona 81] pasa a recibir su certificado a las 220.00.\n",
      "Salida de la [Persona 80] sale del recinto a las 220.00.\n",
      "Tiempo Total De Persona 80 = 29\n",
      "Inicio de [Persona 91] llega al recinto Borja  222.00.\n",
      "La [Persona 82] pasa a recibir su certificado a las 222.00.\n",
      "La [Persona 89] fue vacunada a las 222.00.\n",
      "La [Persona 91] pasa a la mesa de vacunacion : 222.00.\n",
      "La [Persona 83] pasa a recibir su certificado a las 223.00.\n",
      "Salida de la [Persona 81] sale del recinto a las 223.00.\n",
      "Tiempo Total De Persona 81 = 29\n",
      "La [Persona 88] fue vacunada a las 224.00.\n",
      "Salida de la [Persona 82] sale del recinto a las 224.00.\n",
      "Tiempo Total De Persona 82 = 29\n",
      "Salida de la [Persona 83] sale del recinto a las 225.00.\n",
      "Tiempo Total De Persona 83 = 28\n",
      "Inicio de [Persona 92] llega al recinto Borja  227.00.\n",
      "La [Persona 90] fue vacunada a las 227.00.\n",
      "La [Persona 92] pasa a la mesa de vacunacion : 227.00.\n",
      "Inicio de [Persona 93] llega al recinto Borja  229.00.\n",
      "La [Persona 93] no puede vacunarse\n",
      "La [Persona 84] pasa a recibir su certificado a las 230.00.\n",
      "Inicio de [Persona 94] llega al recinto Borja  232.00.\n",
      "La [Persona 85] pasa a recibir su certificado a las 232.00.\n",
      "La [Persona 91] fue vacunada a las 232.00.\n",
      "La [Persona 94] pasa a la mesa de vacunacion : 232.00.\n",
      "Salida de la [Persona 84] sale del recinto a las 232.00.\n",
      "Tiempo Total De Persona 84 = 32\n",
      "La [Persona 87] pasa a recibir su certificado a las 234.00.\n",
      "La [Persona 92] fue vacunada a las 234.00.\n",
      "Salida de la [Persona 85] sale del recinto a las 235.00.\n",
      "Tiempo Total De Persona 85 = 33\n",
      "Inicio de [Persona 95] llega al recinto Borja  237.00.\n",
      "La [Persona 86] pasa a recibir su certificado a las 237.00.\n",
      "La [Persona 95] pasa a la mesa de vacunacion : 237.00.\n",
      "Salida de la [Persona 87] sale del recinto a las 237.00.\n",
      "Tiempo Total De Persona 87 = 28\n",
      "Inicio de [Persona 96] llega al recinto Borja  239.00.\n",
      "La [Persona 96] pasa a la mesa de vacunacion : 239.00.\n",
      "Salida de la [Persona 86] sale del recinto a las 240.00.\n",
      "Tiempo Total De Persona 86 = 33\n",
      "La [Persona 89] pasa a recibir su certificado a las 242.00.\n",
      "La [Persona 94] fue vacunada a las 242.00.\n",
      "Inicio de [Persona 97] llega al recinto Borja  243.00.\n",
      "La [Persona 97] pasa a la mesa de vacunacion : 243.00.\n",
      "Inicio de [Persona 98] llega al recinto Borja  244.00.\n",
      "La [Persona 88] pasa a recibir su certificado a las 244.00.\n",
      "La [Persona 98] pasa a la mesa de vacunacion : 244.00.\n",
      "La [Persona 95] fue vacunada a las 245.00.\n",
      "Salida de la [Persona 89] sale del recinto a las 245.00.\n",
      "Tiempo Total De Persona 89 = 30\n",
      "La [Persona 90] pasa a recibir su certificado a las 247.00.\n",
      "Salida de la [Persona 88] sale del recinto a las 247.00.\n",
      "Tiempo Total De Persona 88 = 33\n",
      "Inicio de [Persona 99] llega al recinto Borja  248.00.\n",
      "La [Persona 96] fue vacunada a las 248.00.\n",
      "La [Persona 97] fue vacunada a las 248.00.\n",
      "La [Persona 99] pasa a la mesa de vacunacion : 248.00.\n",
      "Salida de la [Persona 90] sale del recinto a las 250.00.\n",
      "Tiempo Total De Persona 90 = 32\n",
      "Inicio de [Persona 100] llega al recinto Borja  251.00.\n",
      "La [Persona 100] no puede vacunarse\n",
      "La [Persona 91] pasa a recibir su certificado a las 252.00.\n",
      "Inicio de [Persona 101] llega al recinto Borja  254.00.\n",
      "La [Persona 92] pasa a recibir su certificado a las 254.00.\n",
      "La [Persona 98] fue vacunada a las 254.00.\n",
      "La [Persona 101] pasa a la mesa de vacunacion : 254.00.\n",
      "Salida de la [Persona 91] sale del recinto a las 254.00.\n",
      "Tiempo Total De Persona 91 = 32\n",
      "Inicio de [Persona 102] llega al recinto Borja  255.00.\n",
      "La [Persona 102] pasa a la mesa de vacunacion : 255.00.\n",
      "Inicio de [Persona 103] llega al recinto Borja  256.00.\n",
      "Salida de la [Persona 92] sale del recinto a las 256.00.\n",
      "Tiempo Total De Persona 92 = 29\n",
      "La [Persona 103] pasa a la mesa de vacunacion : 256.00.\n",
      "La [Persona 99] fue vacunada a las 258.00.\n",
      "Inicio de [Persona 104] llega al recinto Borja  260.00.\n",
      "La [Persona 104] pasa a la mesa de vacunacion : 260.00.\n",
      "Inicio de [Persona 105] llega al recinto Borja  262.00.\n",
      "La [Persona 94] pasa a recibir su certificado a las 262.00.\n",
      "La [Persona 101] fue vacunada a las 262.00.\n",
      "La [Persona 105] pasa a la mesa de vacunacion : 262.00.\n",
      "Inicio de [Persona 106] llega al recinto Borja  263.00.\n",
      "La [Persona 106] pasa a la mesa de vacunacion : 263.00.\n",
      "La [Persona 103] fue vacunada a las 264.00.\n",
      "La [Persona 95] pasa a recibir su certificado a las 265.00.\n",
      "La [Persona 102] fue vacunada a las 265.00.\n",
      "Salida de la [Persona 94] sale del recinto a las 265.00.\n",
      "Tiempo Total De Persona 94 = 33\n",
      "La [Persona 104] fue vacunada a las 266.00.\n",
      "Inicio de [Persona 107] llega al recinto Borja  268.00.\n",
      "La [Persona 96] pasa a recibir su certificado a las 268.00.\n",
      "La [Persona 97] pasa a recibir su certificado a las 268.00.\n",
      "La [Persona 107] pasa a la mesa de vacunacion : 268.00.\n",
      "Salida de la [Persona 95] sale del recinto a las 268.00.\n",
      "Tiempo Total De Persona 95 = 31\n",
      "Salida de la [Persona 96] sale del recinto a las 270.00.\n",
      "Tiempo Total De Persona 96 = 31\n",
      "Salida de la [Persona 97] sale del recinto a las 270.00.\n",
      "Tiempo Total De Persona 97 = 27\n",
      "La [Persona 105] fue vacunada a las 271.00.\n",
      "La [Persona 106] fue vacunada a las 271.00.\n",
      "Inicio de [Persona 108] llega al recinto Borja  272.00.\n",
      "La [Persona 108] pasa a la mesa de vacunacion : 272.00.\n",
      "La [Persona 107] fue vacunada a las 273.00.\n",
      "Inicio de [Persona 109] llega al recinto Borja  274.00.\n",
      "La [Persona 98] pasa a recibir su certificado a las 274.00.\n",
      "La [Persona 109] pasa a la mesa de vacunacion : 274.00.\n",
      "Salida de la [Persona 98] sale del recinto a las 276.00.\n",
      "Tiempo Total De Persona 98 = 32\n",
      "Inicio de [Persona 110] llega al recinto Borja  277.00.\n",
      "La [Persona 110] pasa a la mesa de vacunacion : 277.00.\n",
      "La [Persona 99] pasa a recibir su certificado a las 278.00.\n",
      "La [Persona 108] fue vacunada a las 280.00.\n",
      "Inicio de [Persona 111] llega al recinto Borja  281.00.\n",
      "La [Persona 109] fue vacunada a las 281.00.\n",
      "La [Persona 111] pasa a la mesa de vacunacion : 281.00.\n",
      "Salida de la [Persona 99] sale del recinto a las 281.00.\n",
      "Tiempo Total De Persona 99 = 33\n",
      "Inicio de [Persona 112] llega al recinto Borja  282.00.\n",
      "La [Persona 101] pasa a recibir su certificado a las 282.00.\n",
      "La [Persona 112] pasa a la mesa de vacunacion : 282.00.\n",
      "Inicio de [Persona 113] llega al recinto Borja  284.00.\n",
      "La [Persona 103] pasa a recibir su certificado a las 284.00.\n",
      "La [Persona 113] pasa a la mesa de vacunacion : 284.00.\n",
      "Salida de la [Persona 101] sale del recinto a las 284.00.\n",
      "Tiempo Total De Persona 101 = 30\n",
      "La [Persona 102] pasa a recibir su certificado a las 285.00.\n",
      "La [Persona 104] pasa a recibir su certificado a las 286.00.\n",
      "La [Persona 110] fue vacunada a las 286.00.\n",
      "Inicio de [Persona 114] llega al recinto Borja  287.00.\n",
      "La [Persona 114] pasa a la mesa de vacunacion : 287.00.\n",
      "Salida de la [Persona 103] sale del recinto a las 287.00.\n",
      "Tiempo Total De Persona 103 = 31\n",
      "Salida de la [Persona 102] sale del recinto a las 288.00.\n",
      "Tiempo Total De Persona 102 = 33\n",
      "Salida de la [Persona 104] sale del recinto a las 288.00.\n",
      "Tiempo Total De Persona 104 = 28\n",
      "Inicio de [Persona 115] llega al recinto Borja  289.00.\n",
      "La [Persona 111] fue vacunada a las 289.00.\n",
      "La [Persona 115] pasa a la mesa de vacunacion : 289.00.\n",
      "Inicio de [Persona 116] llega al recinto Borja  291.00.\n",
      "La [Persona 105] pasa a recibir su certificado a las 291.00.\n",
      "La [Persona 106] pasa a recibir su certificado a las 291.00.\n",
      "La [Persona 112] fue vacunada a las 291.00.\n",
      "La [Persona 116] pasa a la mesa de vacunacion : 291.00.\n",
      "La [Persona 107] pasa a recibir su certificado a las 293.00.\n",
      "La [Persona 113] fue vacunada a las 293.00.\n",
      "Salida de la [Persona 105] sale del recinto a las 293.00.\n",
      "Tiempo Total De Persona 105 = 31\n",
      "Inicio de [Persona 117] llega al recinto Borja  294.00.\n",
      "La [Persona 117] no puede vacunarse\n",
      "Salida de la [Persona 106] sale del recinto a las 294.00.\n",
      "Tiempo Total De Persona 106 = 31\n",
      "Inicio de [Persona 118] llega al recinto Borja  295.00.\n",
      "La [Persona 114] fue vacunada a las 295.00.\n",
      "Salida de la [Persona 107] sale del recinto a las 295.00.\n",
      "Tiempo Total De Persona 107 = 27\n",
      "La [Persona 118] pasa a la mesa de vacunacion : 295.00.\n",
      "Inicio de [Persona 119] llega al recinto Borja  299.00.\n",
      "La [Persona 115] fue vacunada a las 299.00.\n",
      "La [Persona 119] pasa a la mesa de vacunacion : 299.00.\n",
      "La [Persona 108] pasa a recibir su certificado a las 300.00.\n",
      "La [Persona 109] pasa a recibir su certificado a las 301.00.\n",
      "La [Persona 116] fue vacunada a las 301.00.\n",
      "La [Persona 118] fue vacunada a las 301.00.\n",
      "Salida de la [Persona 108] sale del recinto a las 302.00.\n",
      "Tiempo Total De Persona 108 = 30\n",
      "Inicio de [Persona 120] llega al recinto Borja  303.00.\n",
      "La [Persona 120] pasa a la mesa de vacunacion : 303.00.\n",
      "Salida de la [Persona 109] sale del recinto a las 304.00.\n",
      "Tiempo Total De Persona 109 = 30\n",
      "Inicio de [Persona 121] llega al recinto Borja  306.00.\n",
      "La [Persona 110] pasa a recibir su certificado a las 306.00.\n",
      "La [Persona 119] fue vacunada a las 306.00.\n",
      "La [Persona 121] pasa a la mesa de vacunacion : 306.00.\n",
      "La [Persona 111] pasa a recibir su certificado a las 309.00.\n",
      "Salida de la [Persona 110] sale del recinto a las 309.00.\n",
      "Tiempo Total De Persona 110 = 32\n",
      "Inicio de [Persona 122] llega al recinto Borja  310.00.\n",
      "La [Persona 122] pasa a la mesa de vacunacion : 310.00.\n",
      "Inicio de [Persona 123] llega al recinto Borja  311.00.\n",
      "La [Persona 112] pasa a recibir su certificado a las 311.00.\n",
      "La [Persona 123] pasa a la mesa de vacunacion : 311.00.\n",
      "Inicio de [Persona 124] llega al recinto Borja  312.00.\n",
      "La [Persona 120] fue vacunada a las 312.00.\n",
      "Salida de la [Persona 111] sale del recinto a las 312.00.\n",
      "Tiempo Total De Persona 111 = 31\n",
      "La [Persona 124] pasa a la mesa de vacunacion : 312.00.\n",
      "La [Persona 113] pasa a recibir su certificado a las 313.00.\n",
      "Salida de la [Persona 112] sale del recinto a las 313.00.\n",
      "Tiempo Total De Persona 112 = 31\n",
      "Inicio de [Persona 125] llega al recinto Borja  315.00.\n",
      "La [Persona 114] pasa a recibir su certificado a las 315.00.\n",
      "La [Persona 122] fue vacunada a las 315.00.\n",
      "La [Persona 125] pasa a la mesa de vacunacion : 315.00.\n",
      "La [Persona 121] fue vacunada a las 316.00.\n",
      "Salida de la [Persona 113] sale del recinto a las 316.00.\n",
      "Tiempo Total De Persona 113 = 32\n",
      "La [Persona 123] fue vacunada a las 317.00.\n",
      "Salida de la [Persona 114] sale del recinto a las 317.00.\n",
      "Tiempo Total De Persona 114 = 30\n",
      "La [Persona 115] pasa a recibir su certificado a las 319.00.\n",
      "Inicio de [Persona 126] llega al recinto Borja  320.00.\n",
      "La [Persona 124] fue vacunada a las 320.00.\n",
      "La [Persona 126] pasa a la mesa de vacunacion : 320.00.\n",
      "La [Persona 116] pasa a recibir su certificado a las 321.00.\n",
      "La [Persona 118] pasa a recibir su certificado a las 321.00.\n",
      "Salida de la [Persona 115] sale del recinto a las 321.00.\n",
      "Tiempo Total De Persona 115 = 32\n",
      "Inicio de [Persona 127] llega al recinto Borja  323.00.\n",
      "La [Persona 125] fue vacunada a las 323.00.\n",
      "La [Persona 127] pasa a la mesa de vacunacion : 323.00.\n",
      "Salida de la [Persona 116] sale del recinto a las 323.00.\n",
      "Tiempo Total De Persona 116 = 32\n",
      "Salida de la [Persona 118] sale del recinto a las 324.00.\n",
      "Tiempo Total De Persona 118 = 29\n",
      "La [Persona 119] pasa a recibir su certificado a las 326.00.\n",
      "Inicio de [Persona 128] llega al recinto Borja  327.00.\n",
      "La [Persona 128] no puede vacunarse\n",
      "Salida de la [Persona 119] sale del recinto a las 328.00.\n",
      "Tiempo Total De Persona 119 = 29\n",
      "Inicio de [Persona 129] llega al recinto Borja  329.00.\n",
      "La [Persona 126] fue vacunada a las 329.00.\n",
      "La [Persona 129] pasa a la mesa de vacunacion : 329.00.\n",
      "La [Persona 127] fue vacunada a las 331.00.\n",
      "La [Persona 120] pasa a recibir su certificado a las 332.00.\n",
      "Inicio de [Persona 130] llega al recinto Borja  334.00.\n",
      "La [Persona 130] pasa a la mesa de vacunacion : 334.00.\n",
      "Salida de la [Persona 120] sale del recinto a las 334.00.\n",
      "Tiempo Total De Persona 120 = 31\n",
      "Inicio de [Persona 131] llega al recinto Borja  335.00.\n",
      "La [Persona 122] pasa a recibir su certificado a las 335.00.\n",
      "La [Persona 131] pasa a la mesa de vacunacion : 335.00.\n",
      "La [Persona 121] pasa a recibir su certificado a las 336.00.\n",
      "La [Persona 123] pasa a recibir su certificado a las 337.00.\n",
      "La [Persona 129] fue vacunada a las 337.00.\n",
      "Salida de la [Persona 122] sale del recinto a las 337.00.\n",
      "Tiempo Total De Persona 122 = 27\n",
      "Salida de la [Persona 121] sale del recinto a las 339.00.\n",
      "Tiempo Total De Persona 121 = 33\n",
      "Inicio de [Persona 132] llega al recinto Borja  340.00.\n",
      "La [Persona 124] pasa a recibir su certificado a las 340.00.\n",
      "La [Persona 132] pasa a la mesa de vacunacion : 340.00.\n",
      "Salida de la [Persona 123] sale del recinto a las 340.00.\n",
      "Tiempo Total De Persona 123 = 29\n",
      "La [Persona 131] fue vacunada a las 341.00.\n",
      "Inicio de [Persona 133] llega al recinto Borja  342.00.\n",
      "La [Persona 133] pasa a la mesa de vacunacion : 342.00.\n",
      "Salida de la [Persona 124] sale del recinto a las 342.00.\n",
      "Tiempo Total De Persona 124 = 30\n",
      "Inicio de [Persona 134] llega al recinto Borja  343.00.\n",
      "La [Persona 125] pasa a recibir su certificado a las 343.00.\n",
      "La [Persona 130] fue vacunada a las 343.00.\n",
      "La [Persona 134] pasa a la mesa de vacunacion : 343.00.\n",
      "La [Persona 132] fue vacunada a las 345.00.\n",
      "Salida de la [Persona 125] sale del recinto a las 345.00.\n",
      "Tiempo Total De Persona 125 = 30\n",
      "Inicio de [Persona 135] llega al recinto Borja  347.00.\n",
      "La [Persona 135] pasa a la mesa de vacunacion : 347.00.\n",
      "La [Persona 126] pasa a recibir su certificado a las 349.00.\n",
      "La [Persona 133] fue vacunada a las 349.00.\n",
      "Inicio de [Persona 136] llega al recinto Borja  351.00.\n",
      "La [Persona 127] pasa a recibir su certificado a las 351.00.\n",
      "La [Persona 136] pasa a la mesa de vacunacion : 351.00.\n",
      "Salida de la [Persona 126] sale del recinto a las 352.00.\n",
      "Tiempo Total De Persona 126 = 32\n",
      "La [Persona 134] fue vacunada a las 353.00.\n",
      "Salida de la [Persona 127] sale del recinto a las 353.00.\n",
      "Tiempo Total De Persona 127 = 30\n",
      "Inicio de [Persona 137] llega al recinto Borja  355.00.\n",
      "La [Persona 135] fue vacunada a las 355.00.\n",
      "La [Persona 137] pasa a la mesa de vacunacion : 355.00.\n",
      "La [Persona 136] fue vacunada a las 356.00.\n",
      "Inicio de [Persona 138] llega al recinto Borja  357.00.\n",
      "La [Persona 129] pasa a recibir su certificado a las 357.00.\n",
      "La [Persona 138] pasa a la mesa de vacunacion : 357.00.\n",
      "Salida de la [Persona 129] sale del recinto a las 360.00.\n",
      "Tiempo Total De Persona 129 = 31\n",
      "La [Persona 131] pasa a recibir su certificado a las 361.00.\n",
      "Inicio de [Persona 139] llega al recinto Borja  362.00.\n",
      "La [Persona 139] pasa a la mesa de vacunacion : 362.00.\n",
      "La [Persona 138] fue vacunada a las 362.00.\n",
      "La [Persona 130] pasa a recibir su certificado a las 363.00.\n",
      "La [Persona 137] fue vacunada a las 364.00.\n",
      "Salida de la [Persona 131] sale del recinto a las 364.00.\n",
      "Tiempo Total De Persona 131 = 29\n",
      "La [Persona 132] pasa a recibir su certificado a las 365.00.\n",
      "Salida de la [Persona 130] sale del recinto a las 365.00.\n",
      "Tiempo Total De Persona 130 = 31\n",
      "Inicio de [Persona 140] llega al recinto Borja  366.00.\n",
      "La [Persona 140] pasa a la mesa de vacunacion : 366.00.\n",
      "Salida de la [Persona 132] sale del recinto a las 367.00.\n",
      "Tiempo Total De Persona 132 = 27\n",
      "Inicio de [Persona 141] llega al recinto Borja  369.00.\n",
      "La [Persona 141] no puede vacunarse\n",
      "La [Persona 133] pasa a recibir su certificado a las 369.00.\n",
      "La [Persona 139] fue vacunada a las 369.00.\n",
      "Inicio de [Persona 142] llega al recinto Borja  372.00.\n",
      "La [Persona 142] pasa a la mesa de vacunacion : 372.00.\n",
      "Salida de la [Persona 133] sale del recinto a las 372.00.\n",
      "Tiempo Total De Persona 133 = 30\n",
      "La [Persona 134] pasa a recibir su certificado a las 373.00.\n",
      "Inicio de [Persona 143] llega al recinto Borja  375.00.\n",
      "La [Persona 135] pasa a recibir su certificado a las 375.00.\n",
      "La [Persona 143] pasa a la mesa de vacunacion : 375.00.\n",
      "Salida de la [Persona 134] sale del recinto a las 375.00.\n",
      "Tiempo Total De Persona 134 = 32\n",
      "La [Persona 136] pasa a recibir su certificado a las 376.00.\n",
      "La [Persona 140] fue vacunada a las 376.00.\n",
      "Salida de la [Persona 135] sale del recinto a las 377.00.\n",
      "Tiempo Total De Persona 135 = 30\n",
      "La [Persona 142] fue vacunada a las 378.00.\n",
      "Inicio de [Persona 144] llega al recinto Borja  379.00.\n",
      "La [Persona 144] no puede vacunarse\n",
      "Salida de la [Persona 136] sale del recinto a las 379.00.\n",
      "Tiempo Total De Persona 136 = 28\n",
      "La [Persona 138] pasa a recibir su certificado a las 382.00.\n",
      "Inicio de [Persona 145] llega al recinto Borja  383.00.\n",
      "La [Persona 145] pasa a la mesa de vacunacion : 383.00.\n",
      "La [Persona 137] pasa a recibir su certificado a las 384.00.\n",
      "La [Persona 143] fue vacunada a las 385.00.\n",
      "Salida de la [Persona 138] sale del recinto a las 385.00.\n",
      "Tiempo Total De Persona 138 = 28\n",
      "Inicio de [Persona 146] llega al recinto Borja  386.00.\n",
      "La [Persona 146] no puede vacunarse\n",
      "Salida de la [Persona 137] sale del recinto a las 386.00.\n",
      "Tiempo Total De Persona 137 = 31\n",
      "La [Persona 139] pasa a recibir su certificado a las 389.00.\n",
      "Inicio de [Persona 147] llega al recinto Borja  391.00.\n",
      "La [Persona 147] pasa a la mesa de vacunacion : 391.00.\n",
      "Salida de la [Persona 139] sale del recinto a las 392.00.\n",
      "Tiempo Total De Persona 139 = 30\n",
      "La [Persona 145] fue vacunada a las 393.00.\n",
      "Inicio de [Persona 148] llega al recinto Borja  395.00.\n",
      "La [Persona 148] pasa a la mesa de vacunacion : 395.00.\n",
      "La [Persona 140] pasa a recibir su certificado a las 396.00.\n",
      "La [Persona 142] pasa a recibir su certificado a las 398.00.\n",
      "Salida de la [Persona 140] sale del recinto a las 398.00.\n"
     ]
    },
    {
     "name": "stdout",
     "output_type": "stream",
     "text": [
      "Tiempo Total De Persona 140 = 32\n",
      "Inicio de [Persona 149] llega al recinto Borja  399.00.\n",
      "La [Persona 149] pasa a la mesa de vacunacion : 399.00.\n",
      "Inicio de [Persona 150] llega al recinto Borja  400.00.\n",
      "Salida de la [Persona 142] sale del recinto a las 400.00.\n",
      "Tiempo Total De Persona 142 = 28\n",
      "La [Persona 150] pasa a la mesa de vacunacion : 400.00.\n",
      "La [Persona 147] fue vacunada a las 401.00.\n",
      "La [Persona 148] fue vacunada a las 402.00.\n",
      "Inicio de [Persona 151] llega al recinto Borja  404.00.\n",
      "La [Persona 151] pasa a la mesa de vacunacion : 404.00.\n",
      "La [Persona 143] pasa a recibir su certificado a las 405.00.\n",
      "La [Persona 149] fue vacunada a las 405.00.\n",
      "La [Persona 150] fue vacunada a las 405.00.\n",
      "Inicio de [Persona 152] llega al recinto Borja  406.00.\n",
      "La [Persona 152] pasa a la mesa de vacunacion : 406.00.\n",
      "Salida de la [Persona 143] sale del recinto a las 408.00.\n",
      "Tiempo Total De Persona 143 = 33\n",
      "Inicio de [Persona 153] llega al recinto Borja  410.00.\n",
      "La [Persona 153] pasa a la mesa de vacunacion : 410.00.\n",
      "La [Persona 152] fue vacunada a las 411.00.\n",
      "La [Persona 151] fue vacunada a las 412.00.\n",
      "La [Persona 145] pasa a recibir su certificado a las 413.00.\n",
      "Inicio de [Persona 154] llega al recinto Borja  414.00.\n",
      "La [Persona 154] no puede vacunarse\n",
      "Salida de la [Persona 145] sale del recinto a las 416.00.\n",
      "Tiempo Total De Persona 145 = 33\n",
      "Inicio de [Persona 155] llega al recinto Borja  418.00.\n",
      "La [Persona 155] pasa a la mesa de vacunacion : 418.00.\n",
      "La [Persona 153] fue vacunada a las 419.00.\n",
      "La [Persona 147] pasa a recibir su certificado a las 421.00.\n",
      "La [Persona 148] pasa a recibir su certificado a las 422.00.\n",
      "Inicio de [Persona 156] llega al recinto Borja  423.00.\n",
      "La [Persona 156] pasa a la mesa de vacunacion : 423.00.\n",
      "La [Persona 155] fue vacunada a las 423.00.\n",
      "Salida de la [Persona 147] sale del recinto a las 424.00.\n",
      "Tiempo Total De Persona 147 = 33\n",
      "Inicio de [Persona 157] llega al recinto Borja  425.00.\n",
      "La [Persona 149] pasa a recibir su certificado a las 425.00.\n",
      "La [Persona 150] pasa a recibir su certificado a las 425.00.\n",
      "Salida de la [Persona 148] sale del recinto a las 425.00.\n",
      "Tiempo Total De Persona 148 = 30\n",
      "La [Persona 157] pasa a la mesa de vacunacion : 425.00.\n",
      "Inicio de [Persona 158] llega al recinto Borja  427.00.\n",
      "La [Persona 158] pasa a la mesa de vacunacion : 427.00.\n",
      "Salida de la [Persona 149] sale del recinto a las 427.00.\n",
      "Tiempo Total De Persona 149 = 28\n",
      "Salida de la [Persona 150] sale del recinto a las 428.00.\n",
      "Tiempo Total De Persona 150 = 28\n",
      "La [Persona 156] fue vacunada a las 430.00.\n",
      "La [Persona 152] pasa a recibir su certificado a las 431.00.\n",
      "La [Persona 157] fue vacunada a las 431.00.\n",
      "Inicio de [Persona 159] llega al recinto Borja  432.00.\n",
      "La [Persona 151] pasa a recibir su certificado a las 432.00.\n",
      "La [Persona 159] pasa a la mesa de vacunacion : 432.00.\n",
      "Salida de la [Persona 152] sale del recinto a las 433.00.\n",
      "Tiempo Total De Persona 152 = 27\n",
      "Inicio de [Persona 160] llega al recinto Borja  434.00.\n",
      "La [Persona 160] no puede vacunarse\n",
      "Salida de la [Persona 151] sale del recinto a las 435.00.\n",
      "Tiempo Total De Persona 151 = 31\n",
      "La [Persona 158] fue vacunada a las 436.00.\n",
      "Inicio de [Persona 161] llega al recinto Borja  438.00.\n",
      "La [Persona 161] pasa a la mesa de vacunacion : 438.00.\n",
      "La [Persona 153] pasa a recibir su certificado a las 439.00.\n",
      "La [Persona 159] fue vacunada a las 440.00.\n",
      "Salida de la [Persona 153] sale del recinto a las 442.00.\n",
      "Tiempo Total De Persona 153 = 32\n",
      "Inicio de [Persona 162] llega al recinto Borja  443.00.\n",
      "La [Persona 155] pasa a recibir su certificado a las 443.00.\n",
      "La [Persona 162] pasa a la mesa de vacunacion : 443.00.\n",
      "Inicio de [Persona 163] llega al recinto Borja  445.00.\n",
      "La [Persona 163] pasa a la mesa de vacunacion : 445.00.\n",
      "Salida de la [Persona 155] sale del recinto a las 445.00.\n",
      "Tiempo Total De Persona 155 = 27\n",
      "La [Persona 161] fue vacunada a las 447.00.\n",
      "Inicio de [Persona 164] llega al recinto Borja  449.00.\n",
      "La [Persona 162] fue vacunada a las 449.00.\n",
      "La [Persona 164] pasa a la mesa de vacunacion : 449.00.\n",
      "La [Persona 156] pasa a recibir su certificado a las 450.00.\n",
      "La [Persona 157] pasa a recibir su certificado a las 451.00.\n",
      "La [Persona 163] fue vacunada a las 451.00.\n",
      "Salida de la [Persona 156] sale del recinto a las 452.00.\n",
      "Tiempo Total De Persona 156 = 29\n",
      "Salida de la [Persona 157] sale del recinto a las 453.00.\n",
      "Tiempo Total De Persona 157 = 28\n",
      "Inicio de [Persona 165] llega al recinto Borja  454.00.\n",
      "La [Persona 165] pasa a la mesa de vacunacion : 454.00.\n",
      "La [Persona 158] pasa a recibir su certificado a las 456.00.\n",
      "La [Persona 164] fue vacunada a las 456.00.\n",
      "Inicio de [Persona 166] llega al recinto Borja  458.00.\n",
      "La [Persona 166] pasa a la mesa de vacunacion : 458.00.\n",
      "La [Persona 165] fue vacunada a las 459.00.\n",
      "Salida de la [Persona 158] sale del recinto a las 459.00.\n",
      "Tiempo Total De Persona 158 = 32\n",
      "La [Persona 159] pasa a recibir su certificado a las 460.00.\n",
      "Inicio de [Persona 167] llega al recinto Borja  462.00.\n",
      "La [Persona 167] pasa a la mesa de vacunacion : 462.00.\n",
      "Salida de la [Persona 159] sale del recinto a las 462.00.\n",
      "Tiempo Total De Persona 159 = 30\n",
      "Inicio de [Persona 168] llega al recinto Borja  463.00.\n",
      "La [Persona 168] no puede vacunarse\n",
      "La [Persona 166] fue vacunada a las 466.00.\n",
      "Inicio de [Persona 169] llega al recinto Borja  467.00.\n",
      "La [Persona 161] pasa a recibir su certificado a las 467.00.\n",
      "La [Persona 169] pasa a la mesa de vacunacion : 467.00.\n",
      "Inicio de [Persona 170] llega al recinto Borja  468.00.\n",
      "La [Persona 167] fue vacunada a las 468.00.\n",
      "La [Persona 170] pasa a la mesa de vacunacion : 468.00.\n",
      "Inicio de [Persona 171] llega al recinto Borja  469.00.\n",
      "La [Persona 162] pasa a recibir su certificado a las 469.00.\n",
      "Salida de la [Persona 161] sale del recinto a las 469.00.\n",
      "Tiempo Total De Persona 161 = 31\n",
      "La [Persona 171] pasa a la mesa de vacunacion : 469.00.\n",
      "La [Persona 163] pasa a recibir su certificado a las 471.00.\n",
      "Salida de la [Persona 162] sale del recinto a las 471.00.\n",
      "Tiempo Total De Persona 162 = 28\n",
      "Inicio de [Persona 172] llega al recinto Borja  473.00.\n",
      "La [Persona 170] fue vacunada a las 473.00.\n",
      "La [Persona 172] pasa a la mesa de vacunacion : 473.00.\n",
      "Salida de la [Persona 163] sale del recinto a las 473.00.\n",
      "Tiempo Total De Persona 163 = 28\n",
      "Inicio de [Persona 173] llega al recinto Borja  474.00.\n",
      "La [Persona 173] pasa a la mesa de vacunacion : 474.00.\n",
      "Inicio de [Persona 174] llega al recinto Borja  475.00.\n",
      "La [Persona 169] fue vacunada a las 475.00.\n",
      "La [Persona 171] fue vacunada a las 475.00.\n",
      "La [Persona 174] pasa a la mesa de vacunacion : 475.00.\n",
      "La [Persona 164] pasa a recibir su certificado a las 476.00.\n",
      "Salida de la [Persona 164] sale del recinto a las 478.00.\n",
      "Tiempo Total De Persona 164 = 29\n",
      "Inicio de [Persona 175] llega al recinto Borja  479.00.\n",
      "La [Persona 165] pasa a recibir su certificado a las 479.00.\n",
      "La [Persona 175] pasa a la mesa de vacunacion : 479.00.\n"
     ]
    }
   ],
   "source": [
    "#Ejecucion de Simulacion para el siguiente mes \n",
    "def ejecutar_simulacion_mes_siguiente(env,esperaobligatoria, controlmesa,tiempoVacunacion):\n",
    "    gene_vacunacion=Principal(env,esperaobligatoria, controlmesa,tiempoVacunacion)\n",
    "    global PERSONAS_SEGUNDA_DOSIS \n",
    "    \n",
    "    #Creamos fila de  15 persona que llegan y esperan afuera hasta que abran las puertas.\n",
    "    for i in range(15):\n",
    "        env.process(recinto_borja(env, 'Persona %d'%(i+1), gene_vacunacion))\n",
    "        PERSONAS_SEGUNDA_DOSIS =PERSONAS_SEGUNDA_DOSIS+1\n",
    "    \n",
    "    \n",
    "    # Ejecutamos la simulacion\n",
    "    while True:\n",
    "        #Intervalo Llegada\n",
    "        yield env.timeout(random.randint(1,5))\n",
    "        i+=1\n",
    "        PERSONAS_SEGUNDA_DOSIS=PERSONAS_SEGUNDA_DOSIS+1\n",
    "        #print(\"Total:\",PERSONAS)\n",
    "        env.process(recinto_borja(env,'Persona %d'%(i+1), gene_vacunacion))  \n",
    "    \n",
    "\n",
    "print('Simulacion Vacunacion Ecuador mes Siguiente')\n",
    "\n",
    "# Inicializamos la semilla aleatoria\n",
    "random.seed(77)\n",
    "\n",
    "# Creamos el entorno de simulacion\n",
    "env=simpy.Environment()\n",
    "env.process(ejecutar_simulacion(env,ESPERA_OBLIGATORIA_SEGUNDA_DOSIS,CANTIDAD_MESA_SEGUNDA_DOSIS,TIEMPO_VACUNACION_SEGUNDA_DOSIS))\n",
    "\n",
    "# Ejecutamos el proceso durante el tiempo de simulacion\n",
    "env.run(until = TIEMPO_LABORAL_SEGUNDA_DOSIS)"
   ]
  },
  {
   "cell_type": "code",
   "execution_count": 27,
   "id": "88c723fe",
   "metadata": {},
   "outputs": [
    {
     "data": {
      "application/vnd.plotly.v1+json": {
       "config": {
        "plotlyServerURL": "https://plot.ly"
       },
       "data": [
        {
         "alignmentgroup": "True",
         "hovertemplate": "persona=%{x}<br>tiempo=%{y}<extra></extra>",
         "legendgroup": "",
         "marker": {
          "color": "#636efa"
         },
         "name": "",
         "offsetgroup": "",
         "orientation": "v",
         "showlegend": false,
         "textposition": "auto",
         "type": "bar",
         "x": [
          15,
          6,
          7,
          16,
          12,
          14,
          2,
          1,
          5,
          17,
          3,
          4,
          10,
          11,
          13,
          22,
          23,
          24,
          27,
          26,
          18,
          19,
          20,
          21,
          25,
          28,
          31,
          30,
          32,
          33,
          35,
          36,
          37,
          34,
          40,
          38,
          39,
          41,
          42,
          43,
          44,
          45,
          46,
          47,
          48,
          49,
          50,
          52,
          51,
          53,
          55,
          56,
          57,
          58,
          59,
          60,
          62,
          61,
          63,
          64,
          65,
          66,
          67,
          68,
          69,
          71,
          70,
          72,
          73,
          74,
          75,
          76,
          78,
          79,
          80,
          81,
          82,
          83,
          84,
          85,
          87,
          86,
          89,
          88,
          90,
          91,
          92,
          94,
          95,
          96,
          97,
          98,
          99,
          101,
          103,
          102,
          104,
          105,
          106,
          107,
          108,
          109,
          110,
          111,
          112,
          113,
          114,
          115,
          116,
          118,
          119,
          120,
          122,
          121,
          123,
          124,
          125,
          126,
          127,
          129,
          131,
          130,
          132,
          133,
          134,
          135,
          136,
          138,
          137,
          139,
          140,
          142,
          143,
          145,
          147,
          148,
          149,
          150,
          152,
          151,
          153,
          155,
          156,
          157,
          158,
          159,
          161,
          162,
          163,
          164
         ],
         "xaxis": "x",
         "y": [
          27,
          28,
          28,
          28,
          28,
          29,
          31,
          31,
          31,
          31,
          32,
          32,
          32,
          33,
          33,
          51,
          51,
          46,
          32,
          37,
          60,
          60,
          60,
          57,
          44,
          36,
          31,
          32,
          29,
          29,
          42,
          40,
          36,
          47,
          27,
          35,
          33,
          31,
          30,
          32,
          30,
          30,
          33,
          28,
          32,
          32,
          32,
          28,
          33,
          31,
          30,
          27,
          31,
          31,
          32,
          31,
          28,
          33,
          33,
          33,
          30,
          31,
          33,
          29,
          31,
          29,
          31,
          31,
          32,
          31,
          31,
          32,
          31,
          29,
          29,
          29,
          29,
          28,
          32,
          33,
          28,
          33,
          30,
          33,
          32,
          32,
          29,
          33,
          31,
          31,
          27,
          32,
          33,
          30,
          31,
          33,
          28,
          31,
          31,
          27,
          30,
          30,
          32,
          31,
          31,
          32,
          30,
          32,
          32,
          29,
          29,
          31,
          27,
          33,
          29,
          30,
          30,
          32,
          30,
          31,
          29,
          31,
          27,
          30,
          32,
          30,
          28,
          28,
          31,
          30,
          32,
          28,
          33,
          33,
          33,
          30,
          28,
          28,
          27,
          31,
          32,
          27,
          29,
          28,
          32,
          30,
          31,
          28,
          28,
          29
         ],
         "yaxis": "y"
        }
       ],
       "layout": {
        "barmode": "relative",
        "legend": {
         "tracegroupgap": 0
        },
        "template": {
         "data": {
          "bar": [
           {
            "error_x": {
             "color": "#2a3f5f"
            },
            "error_y": {
             "color": "#2a3f5f"
            },
            "marker": {
             "line": {
              "color": "#E5ECF6",
              "width": 0.5
             }
            },
            "type": "bar"
           }
          ],
          "barpolar": [
           {
            "marker": {
             "line": {
              "color": "#E5ECF6",
              "width": 0.5
             }
            },
            "type": "barpolar"
           }
          ],
          "carpet": [
           {
            "aaxis": {
             "endlinecolor": "#2a3f5f",
             "gridcolor": "white",
             "linecolor": "white",
             "minorgridcolor": "white",
             "startlinecolor": "#2a3f5f"
            },
            "baxis": {
             "endlinecolor": "#2a3f5f",
             "gridcolor": "white",
             "linecolor": "white",
             "minorgridcolor": "white",
             "startlinecolor": "#2a3f5f"
            },
            "type": "carpet"
           }
          ],
          "choropleth": [
           {
            "colorbar": {
             "outlinewidth": 0,
             "ticks": ""
            },
            "type": "choropleth"
           }
          ],
          "contour": [
           {
            "colorbar": {
             "outlinewidth": 0,
             "ticks": ""
            },
            "colorscale": [
             [
              0,
              "#0d0887"
             ],
             [
              0.1111111111111111,
              "#46039f"
             ],
             [
              0.2222222222222222,
              "#7201a8"
             ],
             [
              0.3333333333333333,
              "#9c179e"
             ],
             [
              0.4444444444444444,
              "#bd3786"
             ],
             [
              0.5555555555555556,
              "#d8576b"
             ],
             [
              0.6666666666666666,
              "#ed7953"
             ],
             [
              0.7777777777777778,
              "#fb9f3a"
             ],
             [
              0.8888888888888888,
              "#fdca26"
             ],
             [
              1,
              "#f0f921"
             ]
            ],
            "type": "contour"
           }
          ],
          "contourcarpet": [
           {
            "colorbar": {
             "outlinewidth": 0,
             "ticks": ""
            },
            "type": "contourcarpet"
           }
          ],
          "heatmap": [
           {
            "colorbar": {
             "outlinewidth": 0,
             "ticks": ""
            },
            "colorscale": [
             [
              0,
              "#0d0887"
             ],
             [
              0.1111111111111111,
              "#46039f"
             ],
             [
              0.2222222222222222,
              "#7201a8"
             ],
             [
              0.3333333333333333,
              "#9c179e"
             ],
             [
              0.4444444444444444,
              "#bd3786"
             ],
             [
              0.5555555555555556,
              "#d8576b"
             ],
             [
              0.6666666666666666,
              "#ed7953"
             ],
             [
              0.7777777777777778,
              "#fb9f3a"
             ],
             [
              0.8888888888888888,
              "#fdca26"
             ],
             [
              1,
              "#f0f921"
             ]
            ],
            "type": "heatmap"
           }
          ],
          "heatmapgl": [
           {
            "colorbar": {
             "outlinewidth": 0,
             "ticks": ""
            },
            "colorscale": [
             [
              0,
              "#0d0887"
             ],
             [
              0.1111111111111111,
              "#46039f"
             ],
             [
              0.2222222222222222,
              "#7201a8"
             ],
             [
              0.3333333333333333,
              "#9c179e"
             ],
             [
              0.4444444444444444,
              "#bd3786"
             ],
             [
              0.5555555555555556,
              "#d8576b"
             ],
             [
              0.6666666666666666,
              "#ed7953"
             ],
             [
              0.7777777777777778,
              "#fb9f3a"
             ],
             [
              0.8888888888888888,
              "#fdca26"
             ],
             [
              1,
              "#f0f921"
             ]
            ],
            "type": "heatmapgl"
           }
          ],
          "histogram": [
           {
            "marker": {
             "colorbar": {
              "outlinewidth": 0,
              "ticks": ""
             }
            },
            "type": "histogram"
           }
          ],
          "histogram2d": [
           {
            "colorbar": {
             "outlinewidth": 0,
             "ticks": ""
            },
            "colorscale": [
             [
              0,
              "#0d0887"
             ],
             [
              0.1111111111111111,
              "#46039f"
             ],
             [
              0.2222222222222222,
              "#7201a8"
             ],
             [
              0.3333333333333333,
              "#9c179e"
             ],
             [
              0.4444444444444444,
              "#bd3786"
             ],
             [
              0.5555555555555556,
              "#d8576b"
             ],
             [
              0.6666666666666666,
              "#ed7953"
             ],
             [
              0.7777777777777778,
              "#fb9f3a"
             ],
             [
              0.8888888888888888,
              "#fdca26"
             ],
             [
              1,
              "#f0f921"
             ]
            ],
            "type": "histogram2d"
           }
          ],
          "histogram2dcontour": [
           {
            "colorbar": {
             "outlinewidth": 0,
             "ticks": ""
            },
            "colorscale": [
             [
              0,
              "#0d0887"
             ],
             [
              0.1111111111111111,
              "#46039f"
             ],
             [
              0.2222222222222222,
              "#7201a8"
             ],
             [
              0.3333333333333333,
              "#9c179e"
             ],
             [
              0.4444444444444444,
              "#bd3786"
             ],
             [
              0.5555555555555556,
              "#d8576b"
             ],
             [
              0.6666666666666666,
              "#ed7953"
             ],
             [
              0.7777777777777778,
              "#fb9f3a"
             ],
             [
              0.8888888888888888,
              "#fdca26"
             ],
             [
              1,
              "#f0f921"
             ]
            ],
            "type": "histogram2dcontour"
           }
          ],
          "mesh3d": [
           {
            "colorbar": {
             "outlinewidth": 0,
             "ticks": ""
            },
            "type": "mesh3d"
           }
          ],
          "parcoords": [
           {
            "line": {
             "colorbar": {
              "outlinewidth": 0,
              "ticks": ""
             }
            },
            "type": "parcoords"
           }
          ],
          "pie": [
           {
            "automargin": true,
            "type": "pie"
           }
          ],
          "scatter": [
           {
            "marker": {
             "colorbar": {
              "outlinewidth": 0,
              "ticks": ""
             }
            },
            "type": "scatter"
           }
          ],
          "scatter3d": [
           {
            "line": {
             "colorbar": {
              "outlinewidth": 0,
              "ticks": ""
             }
            },
            "marker": {
             "colorbar": {
              "outlinewidth": 0,
              "ticks": ""
             }
            },
            "type": "scatter3d"
           }
          ],
          "scattercarpet": [
           {
            "marker": {
             "colorbar": {
              "outlinewidth": 0,
              "ticks": ""
             }
            },
            "type": "scattercarpet"
           }
          ],
          "scattergeo": [
           {
            "marker": {
             "colorbar": {
              "outlinewidth": 0,
              "ticks": ""
             }
            },
            "type": "scattergeo"
           }
          ],
          "scattergl": [
           {
            "marker": {
             "colorbar": {
              "outlinewidth": 0,
              "ticks": ""
             }
            },
            "type": "scattergl"
           }
          ],
          "scattermapbox": [
           {
            "marker": {
             "colorbar": {
              "outlinewidth": 0,
              "ticks": ""
             }
            },
            "type": "scattermapbox"
           }
          ],
          "scatterpolar": [
           {
            "marker": {
             "colorbar": {
              "outlinewidth": 0,
              "ticks": ""
             }
            },
            "type": "scatterpolar"
           }
          ],
          "scatterpolargl": [
           {
            "marker": {
             "colorbar": {
              "outlinewidth": 0,
              "ticks": ""
             }
            },
            "type": "scatterpolargl"
           }
          ],
          "scatterternary": [
           {
            "marker": {
             "colorbar": {
              "outlinewidth": 0,
              "ticks": ""
             }
            },
            "type": "scatterternary"
           }
          ],
          "surface": [
           {
            "colorbar": {
             "outlinewidth": 0,
             "ticks": ""
            },
            "colorscale": [
             [
              0,
              "#0d0887"
             ],
             [
              0.1111111111111111,
              "#46039f"
             ],
             [
              0.2222222222222222,
              "#7201a8"
             ],
             [
              0.3333333333333333,
              "#9c179e"
             ],
             [
              0.4444444444444444,
              "#bd3786"
             ],
             [
              0.5555555555555556,
              "#d8576b"
             ],
             [
              0.6666666666666666,
              "#ed7953"
             ],
             [
              0.7777777777777778,
              "#fb9f3a"
             ],
             [
              0.8888888888888888,
              "#fdca26"
             ],
             [
              1,
              "#f0f921"
             ]
            ],
            "type": "surface"
           }
          ],
          "table": [
           {
            "cells": {
             "fill": {
              "color": "#EBF0F8"
             },
             "line": {
              "color": "white"
             }
            },
            "header": {
             "fill": {
              "color": "#C8D4E3"
             },
             "line": {
              "color": "white"
             }
            },
            "type": "table"
           }
          ]
         },
         "layout": {
          "annotationdefaults": {
           "arrowcolor": "#2a3f5f",
           "arrowhead": 0,
           "arrowwidth": 1
          },
          "autotypenumbers": "strict",
          "coloraxis": {
           "colorbar": {
            "outlinewidth": 0,
            "ticks": ""
           }
          },
          "colorscale": {
           "diverging": [
            [
             0,
             "#8e0152"
            ],
            [
             0.1,
             "#c51b7d"
            ],
            [
             0.2,
             "#de77ae"
            ],
            [
             0.3,
             "#f1b6da"
            ],
            [
             0.4,
             "#fde0ef"
            ],
            [
             0.5,
             "#f7f7f7"
            ],
            [
             0.6,
             "#e6f5d0"
            ],
            [
             0.7,
             "#b8e186"
            ],
            [
             0.8,
             "#7fbc41"
            ],
            [
             0.9,
             "#4d9221"
            ],
            [
             1,
             "#276419"
            ]
           ],
           "sequential": [
            [
             0,
             "#0d0887"
            ],
            [
             0.1111111111111111,
             "#46039f"
            ],
            [
             0.2222222222222222,
             "#7201a8"
            ],
            [
             0.3333333333333333,
             "#9c179e"
            ],
            [
             0.4444444444444444,
             "#bd3786"
            ],
            [
             0.5555555555555556,
             "#d8576b"
            ],
            [
             0.6666666666666666,
             "#ed7953"
            ],
            [
             0.7777777777777778,
             "#fb9f3a"
            ],
            [
             0.8888888888888888,
             "#fdca26"
            ],
            [
             1,
             "#f0f921"
            ]
           ],
           "sequentialminus": [
            [
             0,
             "#0d0887"
            ],
            [
             0.1111111111111111,
             "#46039f"
            ],
            [
             0.2222222222222222,
             "#7201a8"
            ],
            [
             0.3333333333333333,
             "#9c179e"
            ],
            [
             0.4444444444444444,
             "#bd3786"
            ],
            [
             0.5555555555555556,
             "#d8576b"
            ],
            [
             0.6666666666666666,
             "#ed7953"
            ],
            [
             0.7777777777777778,
             "#fb9f3a"
            ],
            [
             0.8888888888888888,
             "#fdca26"
            ],
            [
             1,
             "#f0f921"
            ]
           ]
          },
          "colorway": [
           "#636efa",
           "#EF553B",
           "#00cc96",
           "#ab63fa",
           "#FFA15A",
           "#19d3f3",
           "#FF6692",
           "#B6E880",
           "#FF97FF",
           "#FECB52"
          ],
          "font": {
           "color": "#2a3f5f"
          },
          "geo": {
           "bgcolor": "white",
           "lakecolor": "white",
           "landcolor": "#E5ECF6",
           "showlakes": true,
           "showland": true,
           "subunitcolor": "white"
          },
          "hoverlabel": {
           "align": "left"
          },
          "hovermode": "closest",
          "mapbox": {
           "style": "light"
          },
          "paper_bgcolor": "white",
          "plot_bgcolor": "#E5ECF6",
          "polar": {
           "angularaxis": {
            "gridcolor": "white",
            "linecolor": "white",
            "ticks": ""
           },
           "bgcolor": "#E5ECF6",
           "radialaxis": {
            "gridcolor": "white",
            "linecolor": "white",
            "ticks": ""
           }
          },
          "scene": {
           "xaxis": {
            "backgroundcolor": "#E5ECF6",
            "gridcolor": "white",
            "gridwidth": 2,
            "linecolor": "white",
            "showbackground": true,
            "ticks": "",
            "zerolinecolor": "white"
           },
           "yaxis": {
            "backgroundcolor": "#E5ECF6",
            "gridcolor": "white",
            "gridwidth": 2,
            "linecolor": "white",
            "showbackground": true,
            "ticks": "",
            "zerolinecolor": "white"
           },
           "zaxis": {
            "backgroundcolor": "#E5ECF6",
            "gridcolor": "white",
            "gridwidth": 2,
            "linecolor": "white",
            "showbackground": true,
            "ticks": "",
            "zerolinecolor": "white"
           }
          },
          "shapedefaults": {
           "line": {
            "color": "#2a3f5f"
           }
          },
          "ternary": {
           "aaxis": {
            "gridcolor": "white",
            "linecolor": "white",
            "ticks": ""
           },
           "baxis": {
            "gridcolor": "white",
            "linecolor": "white",
            "ticks": ""
           },
           "bgcolor": "#E5ECF6",
           "caxis": {
            "gridcolor": "white",
            "linecolor": "white",
            "ticks": ""
           }
          },
          "title": {
           "x": 0.05
          },
          "xaxis": {
           "automargin": true,
           "gridcolor": "white",
           "linecolor": "white",
           "ticks": "",
           "title": {
            "standoff": 15
           },
           "zerolinecolor": "white",
           "zerolinewidth": 2
          },
          "yaxis": {
           "automargin": true,
           "gridcolor": "white",
           "linecolor": "white",
           "ticks": "",
           "title": {
            "standoff": 15
           },
           "zerolinecolor": "white",
           "zerolinewidth": 2
          }
         }
        },
        "title": {
         "text": "Grafico De Las Personas Vacunadas En Funcion del tiempo"
        },
        "xaxis": {
         "anchor": "y",
         "domain": [
          0,
          1
         ],
         "title": {
          "text": "persona"
         }
        },
        "yaxis": {
         "anchor": "x",
         "domain": [
          0,
          1
         ],
         "title": {
          "text": "tiempo"
         }
        }
       }
      },
      "text/html": [
       "<div>                            <div id=\"1a79fc5b-f3b4-4372-bfb1-9cc03e538c32\" class=\"plotly-graph-div\" style=\"height:525px; width:100%;\"></div>            <script type=\"text/javascript\">                require([\"plotly\"], function(Plotly) {                    window.PLOTLYENV=window.PLOTLYENV || {};                                    if (document.getElementById(\"1a79fc5b-f3b4-4372-bfb1-9cc03e538c32\")) {                    Plotly.newPlot(                        \"1a79fc5b-f3b4-4372-bfb1-9cc03e538c32\",                        [{\"alignmentgroup\": \"True\", \"hovertemplate\": \"persona=%{x}<br>tiempo=%{y}<extra></extra>\", \"legendgroup\": \"\", \"marker\": {\"color\": \"#636efa\"}, \"name\": \"\", \"offsetgroup\": \"\", \"orientation\": \"v\", \"showlegend\": false, \"textposition\": \"auto\", \"type\": \"bar\", \"x\": [15, 6, 7, 16, 12, 14, 2, 1, 5, 17, 3, 4, 10, 11, 13, 22, 23, 24, 27, 26, 18, 19, 20, 21, 25, 28, 31, 30, 32, 33, 35, 36, 37, 34, 40, 38, 39, 41, 42, 43, 44, 45, 46, 47, 48, 49, 50, 52, 51, 53, 55, 56, 57, 58, 59, 60, 62, 61, 63, 64, 65, 66, 67, 68, 69, 71, 70, 72, 73, 74, 75, 76, 78, 79, 80, 81, 82, 83, 84, 85, 87, 86, 89, 88, 90, 91, 92, 94, 95, 96, 97, 98, 99, 101, 103, 102, 104, 105, 106, 107, 108, 109, 110, 111, 112, 113, 114, 115, 116, 118, 119, 120, 122, 121, 123, 124, 125, 126, 127, 129, 131, 130, 132, 133, 134, 135, 136, 138, 137, 139, 140, 142, 143, 145, 147, 148, 149, 150, 152, 151, 153, 155, 156, 157, 158, 159, 161, 162, 163, 164], \"xaxis\": \"x\", \"y\": [27, 28, 28, 28, 28, 29, 31, 31, 31, 31, 32, 32, 32, 33, 33, 51, 51, 46, 32, 37, 60, 60, 60, 57, 44, 36, 31, 32, 29, 29, 42, 40, 36, 47, 27, 35, 33, 31, 30, 32, 30, 30, 33, 28, 32, 32, 32, 28, 33, 31, 30, 27, 31, 31, 32, 31, 28, 33, 33, 33, 30, 31, 33, 29, 31, 29, 31, 31, 32, 31, 31, 32, 31, 29, 29, 29, 29, 28, 32, 33, 28, 33, 30, 33, 32, 32, 29, 33, 31, 31, 27, 32, 33, 30, 31, 33, 28, 31, 31, 27, 30, 30, 32, 31, 31, 32, 30, 32, 32, 29, 29, 31, 27, 33, 29, 30, 30, 32, 30, 31, 29, 31, 27, 30, 32, 30, 28, 28, 31, 30, 32, 28, 33, 33, 33, 30, 28, 28, 27, 31, 32, 27, 29, 28, 32, 30, 31, 28, 28, 29], \"yaxis\": \"y\"}],                        {\"barmode\": \"relative\", \"legend\": {\"tracegroupgap\": 0}, \"template\": {\"data\": {\"bar\": [{\"error_x\": {\"color\": \"#2a3f5f\"}, \"error_y\": {\"color\": \"#2a3f5f\"}, \"marker\": {\"line\": {\"color\": \"#E5ECF6\", \"width\": 0.5}}, \"type\": \"bar\"}], \"barpolar\": [{\"marker\": {\"line\": {\"color\": \"#E5ECF6\", \"width\": 0.5}}, \"type\": \"barpolar\"}], \"carpet\": [{\"aaxis\": {\"endlinecolor\": \"#2a3f5f\", \"gridcolor\": \"white\", \"linecolor\": \"white\", \"minorgridcolor\": \"white\", \"startlinecolor\": \"#2a3f5f\"}, \"baxis\": {\"endlinecolor\": \"#2a3f5f\", \"gridcolor\": \"white\", \"linecolor\": \"white\", \"minorgridcolor\": \"white\", \"startlinecolor\": \"#2a3f5f\"}, \"type\": \"carpet\"}], \"choropleth\": [{\"colorbar\": {\"outlinewidth\": 0, \"ticks\": \"\"}, \"type\": \"choropleth\"}], \"contour\": [{\"colorbar\": {\"outlinewidth\": 0, \"ticks\": \"\"}, \"colorscale\": [[0.0, \"#0d0887\"], [0.1111111111111111, \"#46039f\"], [0.2222222222222222, \"#7201a8\"], [0.3333333333333333, \"#9c179e\"], [0.4444444444444444, \"#bd3786\"], [0.5555555555555556, \"#d8576b\"], [0.6666666666666666, \"#ed7953\"], [0.7777777777777778, \"#fb9f3a\"], [0.8888888888888888, \"#fdca26\"], [1.0, \"#f0f921\"]], \"type\": \"contour\"}], \"contourcarpet\": [{\"colorbar\": {\"outlinewidth\": 0, \"ticks\": \"\"}, \"type\": \"contourcarpet\"}], \"heatmap\": [{\"colorbar\": {\"outlinewidth\": 0, \"ticks\": \"\"}, \"colorscale\": [[0.0, \"#0d0887\"], [0.1111111111111111, \"#46039f\"], [0.2222222222222222, \"#7201a8\"], [0.3333333333333333, \"#9c179e\"], [0.4444444444444444, \"#bd3786\"], [0.5555555555555556, \"#d8576b\"], [0.6666666666666666, \"#ed7953\"], [0.7777777777777778, \"#fb9f3a\"], [0.8888888888888888, \"#fdca26\"], [1.0, \"#f0f921\"]], \"type\": \"heatmap\"}], \"heatmapgl\": [{\"colorbar\": {\"outlinewidth\": 0, \"ticks\": \"\"}, \"colorscale\": [[0.0, \"#0d0887\"], [0.1111111111111111, \"#46039f\"], [0.2222222222222222, \"#7201a8\"], [0.3333333333333333, \"#9c179e\"], [0.4444444444444444, \"#bd3786\"], [0.5555555555555556, \"#d8576b\"], [0.6666666666666666, \"#ed7953\"], [0.7777777777777778, \"#fb9f3a\"], [0.8888888888888888, \"#fdca26\"], [1.0, \"#f0f921\"]], \"type\": \"heatmapgl\"}], \"histogram\": [{\"marker\": {\"colorbar\": {\"outlinewidth\": 0, \"ticks\": \"\"}}, \"type\": \"histogram\"}], \"histogram2d\": [{\"colorbar\": {\"outlinewidth\": 0, \"ticks\": \"\"}, \"colorscale\": [[0.0, \"#0d0887\"], [0.1111111111111111, \"#46039f\"], [0.2222222222222222, \"#7201a8\"], [0.3333333333333333, \"#9c179e\"], [0.4444444444444444, \"#bd3786\"], [0.5555555555555556, \"#d8576b\"], [0.6666666666666666, \"#ed7953\"], [0.7777777777777778, \"#fb9f3a\"], [0.8888888888888888, \"#fdca26\"], [1.0, \"#f0f921\"]], \"type\": \"histogram2d\"}], \"histogram2dcontour\": [{\"colorbar\": {\"outlinewidth\": 0, \"ticks\": \"\"}, \"colorscale\": [[0.0, \"#0d0887\"], [0.1111111111111111, \"#46039f\"], [0.2222222222222222, \"#7201a8\"], [0.3333333333333333, \"#9c179e\"], [0.4444444444444444, \"#bd3786\"], [0.5555555555555556, \"#d8576b\"], [0.6666666666666666, \"#ed7953\"], [0.7777777777777778, \"#fb9f3a\"], [0.8888888888888888, \"#fdca26\"], [1.0, \"#f0f921\"]], \"type\": \"histogram2dcontour\"}], \"mesh3d\": [{\"colorbar\": {\"outlinewidth\": 0, \"ticks\": \"\"}, \"type\": \"mesh3d\"}], \"parcoords\": [{\"line\": {\"colorbar\": {\"outlinewidth\": 0, \"ticks\": \"\"}}, \"type\": \"parcoords\"}], \"pie\": [{\"automargin\": true, \"type\": \"pie\"}], \"scatter\": [{\"marker\": {\"colorbar\": {\"outlinewidth\": 0, \"ticks\": \"\"}}, \"type\": \"scatter\"}], \"scatter3d\": [{\"line\": {\"colorbar\": {\"outlinewidth\": 0, \"ticks\": \"\"}}, \"marker\": {\"colorbar\": {\"outlinewidth\": 0, \"ticks\": \"\"}}, \"type\": \"scatter3d\"}], \"scattercarpet\": [{\"marker\": {\"colorbar\": {\"outlinewidth\": 0, \"ticks\": \"\"}}, \"type\": \"scattercarpet\"}], \"scattergeo\": [{\"marker\": {\"colorbar\": {\"outlinewidth\": 0, \"ticks\": \"\"}}, \"type\": \"scattergeo\"}], \"scattergl\": [{\"marker\": {\"colorbar\": {\"outlinewidth\": 0, \"ticks\": \"\"}}, \"type\": \"scattergl\"}], \"scattermapbox\": [{\"marker\": {\"colorbar\": {\"outlinewidth\": 0, \"ticks\": \"\"}}, \"type\": \"scattermapbox\"}], \"scatterpolar\": [{\"marker\": {\"colorbar\": {\"outlinewidth\": 0, \"ticks\": \"\"}}, \"type\": \"scatterpolar\"}], \"scatterpolargl\": [{\"marker\": {\"colorbar\": {\"outlinewidth\": 0, \"ticks\": \"\"}}, \"type\": \"scatterpolargl\"}], \"scatterternary\": [{\"marker\": {\"colorbar\": {\"outlinewidth\": 0, \"ticks\": \"\"}}, \"type\": \"scatterternary\"}], \"surface\": [{\"colorbar\": {\"outlinewidth\": 0, \"ticks\": \"\"}, \"colorscale\": [[0.0, \"#0d0887\"], [0.1111111111111111, \"#46039f\"], [0.2222222222222222, \"#7201a8\"], [0.3333333333333333, \"#9c179e\"], [0.4444444444444444, \"#bd3786\"], [0.5555555555555556, \"#d8576b\"], [0.6666666666666666, \"#ed7953\"], [0.7777777777777778, \"#fb9f3a\"], [0.8888888888888888, \"#fdca26\"], [1.0, \"#f0f921\"]], \"type\": \"surface\"}], \"table\": [{\"cells\": {\"fill\": {\"color\": \"#EBF0F8\"}, \"line\": {\"color\": \"white\"}}, \"header\": {\"fill\": {\"color\": \"#C8D4E3\"}, \"line\": {\"color\": \"white\"}}, \"type\": \"table\"}]}, \"layout\": {\"annotationdefaults\": {\"arrowcolor\": \"#2a3f5f\", \"arrowhead\": 0, \"arrowwidth\": 1}, \"autotypenumbers\": \"strict\", \"coloraxis\": {\"colorbar\": {\"outlinewidth\": 0, \"ticks\": \"\"}}, \"colorscale\": {\"diverging\": [[0, \"#8e0152\"], [0.1, \"#c51b7d\"], [0.2, \"#de77ae\"], [0.3, \"#f1b6da\"], [0.4, \"#fde0ef\"], [0.5, \"#f7f7f7\"], [0.6, \"#e6f5d0\"], [0.7, \"#b8e186\"], [0.8, \"#7fbc41\"], [0.9, \"#4d9221\"], [1, \"#276419\"]], \"sequential\": [[0.0, \"#0d0887\"], [0.1111111111111111, \"#46039f\"], [0.2222222222222222, \"#7201a8\"], [0.3333333333333333, \"#9c179e\"], [0.4444444444444444, \"#bd3786\"], [0.5555555555555556, \"#d8576b\"], [0.6666666666666666, \"#ed7953\"], [0.7777777777777778, \"#fb9f3a\"], [0.8888888888888888, \"#fdca26\"], [1.0, \"#f0f921\"]], \"sequentialminus\": [[0.0, \"#0d0887\"], [0.1111111111111111, \"#46039f\"], [0.2222222222222222, \"#7201a8\"], [0.3333333333333333, \"#9c179e\"], [0.4444444444444444, \"#bd3786\"], [0.5555555555555556, \"#d8576b\"], [0.6666666666666666, \"#ed7953\"], [0.7777777777777778, \"#fb9f3a\"], [0.8888888888888888, \"#fdca26\"], [1.0, \"#f0f921\"]]}, \"colorway\": [\"#636efa\", \"#EF553B\", \"#00cc96\", \"#ab63fa\", \"#FFA15A\", \"#19d3f3\", \"#FF6692\", \"#B6E880\", \"#FF97FF\", \"#FECB52\"], \"font\": {\"color\": \"#2a3f5f\"}, \"geo\": {\"bgcolor\": \"white\", \"lakecolor\": \"white\", \"landcolor\": \"#E5ECF6\", \"showlakes\": true, \"showland\": true, \"subunitcolor\": \"white\"}, \"hoverlabel\": {\"align\": \"left\"}, \"hovermode\": \"closest\", \"mapbox\": {\"style\": \"light\"}, \"paper_bgcolor\": \"white\", \"plot_bgcolor\": \"#E5ECF6\", \"polar\": {\"angularaxis\": {\"gridcolor\": \"white\", \"linecolor\": \"white\", \"ticks\": \"\"}, \"bgcolor\": \"#E5ECF6\", \"radialaxis\": {\"gridcolor\": \"white\", \"linecolor\": \"white\", \"ticks\": \"\"}}, \"scene\": {\"xaxis\": {\"backgroundcolor\": \"#E5ECF6\", \"gridcolor\": \"white\", \"gridwidth\": 2, \"linecolor\": \"white\", \"showbackground\": true, \"ticks\": \"\", \"zerolinecolor\": \"white\"}, \"yaxis\": {\"backgroundcolor\": \"#E5ECF6\", \"gridcolor\": \"white\", \"gridwidth\": 2, \"linecolor\": \"white\", \"showbackground\": true, \"ticks\": \"\", \"zerolinecolor\": \"white\"}, \"zaxis\": {\"backgroundcolor\": \"#E5ECF6\", \"gridcolor\": \"white\", \"gridwidth\": 2, \"linecolor\": \"white\", \"showbackground\": true, \"ticks\": \"\", \"zerolinecolor\": \"white\"}}, \"shapedefaults\": {\"line\": {\"color\": \"#2a3f5f\"}}, \"ternary\": {\"aaxis\": {\"gridcolor\": \"white\", \"linecolor\": \"white\", \"ticks\": \"\"}, \"baxis\": {\"gridcolor\": \"white\", \"linecolor\": \"white\", \"ticks\": \"\"}, \"bgcolor\": \"#E5ECF6\", \"caxis\": {\"gridcolor\": \"white\", \"linecolor\": \"white\", \"ticks\": \"\"}}, \"title\": {\"x\": 0.05}, \"xaxis\": {\"automargin\": true, \"gridcolor\": \"white\", \"linecolor\": \"white\", \"ticks\": \"\", \"title\": {\"standoff\": 15}, \"zerolinecolor\": \"white\", \"zerolinewidth\": 2}, \"yaxis\": {\"automargin\": true, \"gridcolor\": \"white\", \"linecolor\": \"white\", \"ticks\": \"\", \"title\": {\"standoff\": 15}, \"zerolinecolor\": \"white\", \"zerolinewidth\": 2}}}, \"title\": {\"text\": \"Grafico De Las Personas Vacunadas En Funcion del tiempo\"}, \"xaxis\": {\"anchor\": \"y\", \"domain\": [0.0, 1.0], \"title\": {\"text\": \"persona\"}}, \"yaxis\": {\"anchor\": \"x\", \"domain\": [0.0, 1.0], \"title\": {\"text\": \"tiempo\"}}},                        {\"responsive\": true}                    ).then(function(){\n",
       "                            \n",
       "var gd = document.getElementById('1a79fc5b-f3b4-4372-bfb1-9cc03e538c32');\n",
       "var x = new MutationObserver(function (mutations, observer) {{\n",
       "        var display = window.getComputedStyle(gd).display;\n",
       "        if (!display || display === 'none') {{\n",
       "            console.log([gd, 'removed!']);\n",
       "            Plotly.purge(gd);\n",
       "            observer.disconnect();\n",
       "        }}\n",
       "}});\n",
       "\n",
       "// Listen for the removal of the full notebook cells\n",
       "var notebookContainer = gd.closest('#notebook-container');\n",
       "if (notebookContainer) {{\n",
       "    x.observe(notebookContainer, {childList: true});\n",
       "}}\n",
       "\n",
       "// Listen for the clearing of the current output cell\n",
       "var outputEl = gd.closest('.output');\n",
       "if (outputEl) {{\n",
       "    x.observe(outputEl, {childList: true});\n",
       "}}\n",
       "\n",
       "                        })                };                });            </script>        </div>"
      ]
     },
     "metadata": {},
     "output_type": "display_data"
    }
   ],
   "source": [
    "import pandas as pd\n",
    "df = pd.DataFrame([[key, DICCIONARIO_TIEMPO_DE_ESPERA[key]] for key in DICCIONARIO_TIEMPO_DE_ESPERA.keys()], columns=['persona', 'tiempo'])\n",
    "import plotly.express as px\n",
    "fig = px.bar(df, x='persona', y=\"tiempo\",title=\"Grafico De Las Personas Vacunadas En Funcion del tiempo\")\n",
    "fig.show()\n"
   ]
  },
  {
   "cell_type": "code",
   "execution_count": 28,
   "id": "145f50f7",
   "metadata": {},
   "outputs": [
    {
     "name": "stdout",
     "output_type": "stream",
     "text": [
      "************************** Vacunacion Recinto Borja ******************************\n",
      "Tiempo Laboral del recinto: 8.0  horas\n",
      "Cantida De Mesas en el recinto:  15\n",
      "De una total de 0\n",
      "Se Vacunaron un total de: 150\n",
      "No se Vacunaron un total de: 215\n",
      "Tiempo promedio de vacunados : 3.2\n"
     ]
    }
   ],
   "source": [
    "print(\"************************** Vacunacion Recinto Borja ******************************\")\n",
    "print(\"Tiempo Laboral del recinto:\",TIEMPO_LABORAL/60,\" horas\")\n",
    "print(\"Cantida De Mesas en el recinto: \",CANTIDAD_MESA_SEGUNDA_DOSIS)\n",
    "print(\"De una total de\",PERSONAS_SEGUNDA_DOSIS)\n",
    "print(\"Se Vacunaron un total de:\",len(DICCIONARIO_TIEMPO_DE_ESPERA))\n",
    "print(\"No se Vacunaron un total de:\",PERSONAS-len(DICCIONARIO_TIEMPO_DE_ESPERA))\n",
    "print(\"Tiempo promedio de vacunados :\",round(TIEMPO_LABORAL/len(DICCIONARIO_TIEMPO_DE_ESPERA),2))"
   ]
  },
  {
   "cell_type": "code",
   "execution_count": null,
   "id": "3d058662",
   "metadata": {},
   "outputs": [],
   "source": []
  },
  {
   "cell_type": "code",
   "execution_count": null,
   "id": "f26286fd",
   "metadata": {},
   "outputs": [],
   "source": []
  }
 ],
 "metadata": {
  "kernelspec": {
   "display_name": "Python 3",
   "language": "python",
   "name": "python3"
  },
  "language_info": {
   "codemirror_mode": {
    "name": "ipython",
    "version": 3
   },
   "file_extension": ".py",
   "mimetype": "text/x-python",
   "name": "python",
   "nbconvert_exporter": "python",
   "pygments_lexer": "ipython3",
   "version": "3.8.5"
  }
 },
 "nbformat": 4,
 "nbformat_minor": 5
}
