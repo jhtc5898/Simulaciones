{
 "cells": [
  {
   "cell_type": "markdown",
   "id": "235f90cc",
   "metadata": {},
   "source": [
    "# PROCESO DE VACUNACION EN EL ECUADOR"
   ]
  },
  {
   "cell_type": "markdown",
   "id": "bb6ec710",
   "metadata": {},
   "source": [
    "<h2>Posteriormente se debe seguir un procesos de vacunación en los recintos electorales que se describe a continuación (Tomar el proceso para el proyecto final): </h2>\n",
    "\n",
    "1*-Solo se va a tener en cuanta uno de los recintos electorales (investigar datos de cuantas personas asisten a votar).\n",
    "Tomar los resultados de la regresión para la vacuna según la llegada.\n",
    "\n",
    "Asisten a un recinto electoral un total de 350.\n",
    "\n",
    "\n",
    "2*-Se tiene una promedio que el 80% de personas realizaran el proceso de vacunación dentro del Ecuador.\n",
    "\n",
    "Un total de 280 se vacunan\n",
    "\n",
    "\n",
    "3*-Dentro del procesos se tiene que alrededor del 5% - 10% no podrán vacunarse.\n",
    "\n",
    "No podran Vacunarse 17 a 35 personas\n",
    "\n",
    "4*-Las personas solo tiene un recinto electoral para realizar el proceso.\n",
    "   \n",
    "Recinto Electoral Borja\n",
    "\n",
    "5*-Las personas realizan la primera vacuna y 30 días después la segunda vacuna.\n",
    "\n",
    "Regreso En 30 dias\n",
    "\n",
    "6*-La persona se acerca a la mesa  y hacen fila en caso de ser necesario para recibir la vacuna.\n",
    "\n",
    "Generar Fila\n",
    "\n",
    "7*-Realiza la vacunación en un tiempo aleatorio entre 5 a 10 minutos.\n",
    "\n",
    "Tiempo aleatorio entre 5 a 10 minutos\n",
    "\n",
    "8*-Debe esperar 20 minutos dentro del establecimiento para verificar que no tenga problemas de salud.\n",
    "\n",
    "Espera obligatoria de 20 minutos en el interior\n",
    "\n",
    "9*-La persona recibe su certificado de vacunación y la fecha de la próxima vacuna entre 2 – 3 minutos.\n",
    "\n",
    "Espera obligatoria 2 – 3 minutos para certificado de vacunación y la fecha \n",
    "\n",
    "10*-La persona sale del recinto electoral.\n",
    "\n",
    "11*-Regresan para la próxima fecha y se repite el ciclo.\n",
    "\n",
    "\n"
   ]
  },
  {
   "cell_type": "markdown",
   "id": "662e81e2",
   "metadata": {},
   "source": [
    "<h2>El proceso de simulación desarrollado deberá considerar los siguientes aspectos:</h2>\n",
    "\n",
    "Se debe establecer un modelo basado en modelos matemáticos para la predicción del numero de veces que se compartirá o la tendencia del presidente basada en redes sociales.\n",
    "\n",
    "El programa deberá generar gráficas que indiquen la ecuación matemática de las tendencias .\n",
    "\n",
    "Deben calcularse las siguientes métricas del sistema de simulación de eventos discretos :\n",
    "\n",
    "1*-Total de de personas que realizaron el proceso de vacunación.\n",
    "\n",
    "2*-Grafico del porcentaje de personas que no recibieron la vacuna.\n",
    "\n",
    "3*-El tiempo promedio de espera.\n"
   ]
  },
  {
   "cell_type": "markdown",
   "id": "c9301d75",
   "metadata": {},
   "source": [
    "\n",
    "Datos Reales de un dia de vacunacion en el recinto del Coledio Tecnico Salesiano \n",
    "Lunes 450-600profesores vacunandos en un tiempo de 8 horas "
   ]
  },
  {
   "cell_type": "code",
   "execution_count": 33,
   "id": "c5ce6c18",
   "metadata": {},
   "outputs": [],
   "source": [
    "import simpy\n",
    "import random"
   ]
  },
  {
   "cell_type": "code",
   "execution_count": 34,
   "id": "79c32b71",
   "metadata": {},
   "outputs": [],
   "source": [
    "# Cantidad de mesas-casetas de vacunacion dentro del recinto.\n",
    "CANTIDAD_MESA = 20\n",
    "# Espera Obligatoria.\n",
    "ESPERA_OBLIGATORIA = 20\n",
    "# Tiempo de la simulacion 8H = 480 M\n",
    "TIEMPO_LABORAL = 480\n",
    "#Generamos una fila\n",
    "FILA_INGRESO=20\n",
    "\n",
    "# Tiempo vacunacion \n",
    "TIEMPO_VACUNACION = 0\n",
    "\n",
    "PERSONAS=0\n",
    "# Tiempo Vacunación\n",
    "PERSONA_TIEMPO_VACUNACION = 0\n",
    "# Dicciccionario con los tiempo de vacunación por persona\n",
    "DICCIONARIO_PERSONA_TIEMPO_VACUNACION = {}\n",
    "# Diccionario con los tiempos de espera por persona.\n",
    "DICCIONARIO_TIEMPO_DE_ESPERA = {}\n",
    "# Diccionario con los Personas No vacunadas.\n",
    "DICCIONARIO_PERSONAS_NO_VACUNADAS = {}"
   ]
  },
  {
   "cell_type": "code",
   "execution_count": 35,
   "id": "7847bdbe",
   "metadata": {},
   "outputs": [],
   "source": [
    "# Obtener el tiempo total que le toma a una persona hasta ser vacunada.  \n",
    "def tiempo_hasta_vacunacion(persona, tiempoPersona):\n",
    "     # Dicciccionario con los tiempo de vacunación por persona\n",
    "    global DICCIONARIO_PERSONA_TIEMPO_VACUNACION\n",
    "    DICCIONARIO_PERSONA_TIEMPO_VACUNACION[int(persona)] = tiempoPersona"
   ]
  },
  {
   "cell_type": "code",
   "execution_count": 36,
   "id": "8d5d3e80",
   "metadata": {},
   "outputs": [],
   "source": [
    "# Obtener el tiempo total de espera de una persona\n",
    "def tiempo_espera_vacunacion(persona, tiempoEspera):\n",
    "    # Diccionario el tiempo de espera por persona.\n",
    "    global DICCIONARIO_TIEMPO_DE_ESPERA\n",
    "    DICCIONARIO_TIEMPO_DE_ESPERA[int(persona)] = tiempoEspera"
   ]
  },
  {
   "cell_type": "code",
   "execution_count": 37,
   "id": "2d3261db",
   "metadata": {},
   "outputs": [],
   "source": [
    "class Principal(object):\n",
    "\n",
    "    def __init__(self, environment,esperaObligatoria, cantMesas, tiempoVacunacion):\n",
    "        \n",
    "        # Guardamos como variable el entorno de ejecucion\n",
    "        self.env = environment\n",
    "        \n",
    "        # Variable para el tiempo de espera obligatorio.\n",
    "        self.esperaObligatoria = esperaObligatoria\n",
    "        \n",
    "        #Creamos el recurso que representa las mesas dentro del recinto\n",
    "        self.mesas = simpy.Resource(environment, cantMesas)\n",
    "        \n",
    "        # Variable para el tiempo de vacunacion\n",
    "        self.tiempoVacunacion = tiempoVacunacion\n",
    "        \n",
    "    #Funcion de Espera Obligatoria    \n",
    "    def esperarObligatoria(self):\n",
    "        yield self.env.timeout(self.esperaObligatoria)\n",
    "        \n",
    "    #Funcion random del tiempo que le toma realizar la vacunacion.\n",
    "    def vacunar(self, persona):\n",
    "        tiempo_randomico=random.randint(5, 10)\n",
    "        yield self.env.timeout(tiempo_randomico)\n",
    "        \n",
    "    #Funcion de vacunacion por persona    \n",
    "    def certificado(self):\n",
    "        tiempo_randomico=random.randint(2, 3)\n",
    "        yield self.env.timeout(tiempo_randomico)\n",
    "        "
   ]
  },
  {
   "cell_type": "code",
   "execution_count": 38,
   "id": "761b96a6",
   "metadata": {},
   "outputs": [],
   "source": [
    "def recinto_borja(env, personaId, gene_vacunacion):\n",
    "    # Usamos el reloj de la simulacion (env.now()) para indicar la llegada cada persona.  \n",
    "    print('Inicio de la persona [%s] llega al recinto Borja  %.2f.' % (personaId, env.now))\n",
    "  \n",
    "    # Guardamos EL Tiempo de inicio para calcular el tiempo que nos tomara la vacunacion por persona.\n",
    "    inicioEspera = env.now\n",
    "        \n",
    "    #Aleatorio de personas que ingresan a vacunarse \n",
    "    \n",
    "    # De la cola sacamos un total de 17 a 35 personas que  no cumplen o tienen problemas para ser vacunada\n",
    "    control=random.randint(5, 10)\n",
    "    #print(control)\n",
    "    if random.randint(1,100) <= control :\n",
    "        #print(\"Guardar Vacuna De :\",personaId[personaId.find(\" \")+1:len(personaId)],\"presenta problemas De Salud Tiempo\")\n",
    "        DICCIONARIO_PERSONAS_NO_VACUNADAS[personaId[personaId.find(\" \")+1:len(personaId)]] = (personaId, env.now)\n",
    "        print('La persona [%s] no puede vacunarse '%(personaId))\n",
    "        \n",
    "    else:\n",
    "        \n",
    "        # Especificamos el uso de una mesa disponible con request().\n",
    "        with gene_vacunacion.mesas.request() as mesa:\n",
    "            #global VACUNADOS\n",
    "            # Iniciamos el tiempo apenas ingresa.\n",
    "            inicio = env.now\n",
    "            \n",
    "            # Agregramos a la persona en una mesa disponible\n",
    "            yield mesa\n",
    "            print('La persona [%s] pasa a la mesa de vacunacion : %.2f.' % (personaId, env.now))\n",
    "            \n",
    "    \n",
    "            # Realizamos la vacunacion\n",
    "            yield env.process(gene_vacunacion.vacunar(personaId))\n",
    "            \n",
    "            \n",
    "            # Mandamos a guardar la informacion del tiempo que le tomo la vacunacion a la persona.\n",
    "            tiempo_hasta_vacunacion(personaId, env.now-inicio)\n",
    "            \n",
    "            \n",
    "            print('La persona [%s] fue vacunada a las %.2f.' % (personaId, env.now)) \n",
    "            \n",
    "            \n",
    "\n",
    "            #Realizamos el check de salud con una espera de 20m\n",
    "            yield env.process(gene_vacunacion.esperarObligatoria())\n",
    "            \n",
    "            \n",
    "            print('La persona [%s] pasa a recibir su certificado a las %.2f.' % (personaId, env.now))\n",
    "            #Realizamos la generacion del certificado.\n",
    "            yield env.process(gene_vacunacion.certificado())\n",
    "            \n",
    "            # La persona despues de ser vacuna sale del centro de vacunación\n",
    "            print('Salida de la persona [%s] sale del recinto a las %.2f.' % (personaId, env.now)) \n",
    "            tiempo_espera_vacunacion(personaId, env.now-inicioEspera)\n",
    "            print(\"Tiempo Total De\",personaId,\"=\",env.now-inicioEspera)"
   ]
  },
  {
   "cell_type": "code",
   "execution_count": 39,
   "id": "00fde3cb",
   "metadata": {},
   "outputs": [
    {
     "name": "stdout",
     "output_type": "stream",
     "text": [
      "Simulacion Vacunacion Ecuador\n",
      "Inicio de la persona [1] llega al recinto Borja  0.00.\n",
      "Inicio de la persona [2] llega al recinto Borja  0.00.\n",
      "Inicio de la persona [3] llega al recinto Borja  0.00.\n",
      "Inicio de la persona [4] llega al recinto Borja  0.00.\n",
      "Inicio de la persona [5] llega al recinto Borja  0.00.\n",
      "Inicio de la persona [6] llega al recinto Borja  0.00.\n",
      "Inicio de la persona [7] llega al recinto Borja  0.00.\n",
      "Inicio de la persona [8] llega al recinto Borja  0.00.\n",
      "La persona [8] no puede vacunarse \n",
      "Inicio de la persona [9] llega al recinto Borja  0.00.\n",
      "La persona [9] no puede vacunarse \n",
      "Inicio de la persona [10] llega al recinto Borja  0.00.\n",
      "Inicio de la persona [11] llega al recinto Borja  0.00.\n",
      "Inicio de la persona [12] llega al recinto Borja  0.00.\n",
      "Inicio de la persona [13] llega al recinto Borja  0.00.\n",
      "Inicio de la persona [14] llega al recinto Borja  0.00.\n",
      "Inicio de la persona [15] llega al recinto Borja  0.00.\n",
      "Inicio de la persona [16] llega al recinto Borja  0.00.\n",
      "Inicio de la persona [17] llega al recinto Borja  0.00.\n",
      "Inicio de la persona [18] llega al recinto Borja  0.00.\n",
      "Inicio de la persona [19] llega al recinto Borja  0.00.\n",
      "Inicio de la persona [20] llega al recinto Borja  0.00.\n",
      "La persona [1] pasa a la mesa de vacunacion : 0.00.\n",
      "La persona [2] pasa a la mesa de vacunacion : 0.00.\n",
      "La persona [3] pasa a la mesa de vacunacion : 0.00.\n",
      "La persona [4] pasa a la mesa de vacunacion : 0.00.\n",
      "La persona [5] pasa a la mesa de vacunacion : 0.00.\n",
      "La persona [6] pasa a la mesa de vacunacion : 0.00.\n",
      "La persona [7] pasa a la mesa de vacunacion : 0.00.\n",
      "La persona [10] pasa a la mesa de vacunacion : 0.00.\n",
      "La persona [11] pasa a la mesa de vacunacion : 0.00.\n",
      "La persona [12] pasa a la mesa de vacunacion : 0.00.\n",
      "La persona [13] pasa a la mesa de vacunacion : 0.00.\n",
      "La persona [14] pasa a la mesa de vacunacion : 0.00.\n",
      "La persona [15] pasa a la mesa de vacunacion : 0.00.\n",
      "La persona [16] pasa a la mesa de vacunacion : 0.00.\n",
      "La persona [17] pasa a la mesa de vacunacion : 0.00.\n",
      "La persona [18] pasa a la mesa de vacunacion : 0.00.\n",
      "La persona [19] pasa a la mesa de vacunacion : 0.00.\n",
      "La persona [20] pasa a la mesa de vacunacion : 0.00.\n",
      "Inicio de la persona [21] llega al recinto Borja  3.00.\n",
      "La persona [21] pasa a la mesa de vacunacion : 3.00.\n",
      "Inicio de la persona [22] llega al recinto Borja  4.00.\n",
      "La persona [22] pasa a la mesa de vacunacion : 4.00.\n",
      "La persona [6] fue vacunada a las 5.00.\n",
      "La persona [7] fue vacunada a las 5.00.\n",
      "La persona [15] fue vacunada a las 5.00.\n",
      "La persona [16] fue vacunada a las 5.00.\n",
      "La persona [19] fue vacunada a las 5.00.\n",
      "La persona [12] fue vacunada a las 6.00.\n",
      "La persona [14] fue vacunada a las 7.00.\n",
      "La persona [2] fue vacunada a las 8.00.\n",
      "La persona [18] fue vacunada a las 8.00.\n",
      "Inicio de la persona [23] llega al recinto Borja  9.00.\n",
      "La persona [1] fue vacunada a las 9.00.\n",
      "La persona [3] fue vacunada a las 9.00.\n",
      "La persona [5] fue vacunada a las 9.00.\n",
      "La persona [17] fue vacunada a las 9.00.\n",
      "La persona [20] fue vacunada a las 9.00.\n",
      "Inicio de la persona [24] llega al recinto Borja  10.00.\n",
      "La persona [4] fue vacunada a las 10.00.\n",
      "La persona [10] fue vacunada a las 10.00.\n",
      "La persona [11] fue vacunada a las 10.00.\n",
      "La persona [13] fue vacunada a las 10.00.\n",
      "La persona [21] fue vacunada a las 13.00.\n",
      "La persona [22] fue vacunada a las 13.00.\n",
      "Inicio de la persona [25] llega al recinto Borja  15.00.\n",
      "Inicio de la persona [26] llega al recinto Borja  17.00.\n",
      "Inicio de la persona [27] llega al recinto Borja  21.00.\n",
      "La persona [27] no puede vacunarse \n",
      "Inicio de la persona [28] llega al recinto Borja  23.00.\n",
      "Inicio de la persona [29] llega al recinto Borja  24.00.\n",
      "Inicio de la persona [30] llega al recinto Borja  25.00.\n",
      "La persona [6] pasa a recibir su certificado a las 25.00.\n",
      "La persona [7] pasa a recibir su certificado a las 25.00.\n",
      "La persona [15] pasa a recibir su certificado a las 25.00.\n",
      "La persona [16] pasa a recibir su certificado a las 25.00.\n",
      "La persona [19] pasa a recibir su certificado a las 25.00.\n",
      "La persona [12] pasa a recibir su certificado a las 26.00.\n",
      "La persona [14] pasa a recibir su certificado a las 27.00.\n",
      "Salida de la persona [7] sale del recinto a las 27.00.\n",
      "Tiempo Total De 7 = 27\n",
      "Salida de la persona [16] sale del recinto a las 27.00.\n",
      "Tiempo Total De 16 = 27\n",
      "Salida de la persona [19] sale del recinto a las 27.00.\n",
      "Tiempo Total De 19 = 27\n",
      "La persona [23] pasa a la mesa de vacunacion : 27.00.\n",
      "La persona [24] pasa a la mesa de vacunacion : 27.00.\n",
      "La persona [25] pasa a la mesa de vacunacion : 27.00.\n",
      "La persona [2] pasa a recibir su certificado a las 28.00.\n",
      "La persona [18] pasa a recibir su certificado a las 28.00.\n",
      "Salida de la persona [6] sale del recinto a las 28.00.\n",
      "Tiempo Total De 6 = 28\n",
      "Salida de la persona [15] sale del recinto a las 28.00.\n",
      "Tiempo Total De 15 = 28\n",
      "La persona [26] pasa a la mesa de vacunacion : 28.00.\n",
      "La persona [28] pasa a la mesa de vacunacion : 28.00.\n",
      "Inicio de la persona [31] llega al recinto Borja  29.00.\n",
      "La persona [1] pasa a recibir su certificado a las 29.00.\n",
      "La persona [3] pasa a recibir su certificado a las 29.00.\n",
      "La persona [5] pasa a recibir su certificado a las 29.00.\n",
      "La persona [17] pasa a recibir su certificado a las 29.00.\n",
      "La persona [20] pasa a recibir su certificado a las 29.00.\n",
      "Salida de la persona [12] sale del recinto a las 29.00.\n",
      "Tiempo Total De 12 = 29\n",
      "Salida de la persona [14] sale del recinto a las 29.00.\n",
      "Tiempo Total De 14 = 29\n",
      "La persona [29] pasa a la mesa de vacunacion : 29.00.\n",
      "La persona [30] pasa a la mesa de vacunacion : 29.00.\n",
      "La persona [4] pasa a recibir su certificado a las 30.00.\n",
      "La persona [10] pasa a recibir su certificado a las 30.00.\n",
      "La persona [11] pasa a recibir su certificado a las 30.00.\n",
      "La persona [13] pasa a recibir su certificado a las 30.00.\n",
      "Salida de la persona [18] sale del recinto a las 30.00.\n",
      "Tiempo Total De 18 = 30\n",
      "La persona [31] pasa a la mesa de vacunacion : 30.00.\n",
      "Inicio de la persona [32] llega al recinto Borja  31.00.\n",
      "Salida de la persona [2] sale del recinto a las 31.00.\n",
      "Tiempo Total De 2 = 31\n",
      "Salida de la persona [1] sale del recinto a las 31.00.\n",
      "Tiempo Total De 1 = 31\n",
      "Salida de la persona [3] sale del recinto a las 31.00.\n",
      "Tiempo Total De 3 = 31\n",
      "Salida de la persona [5] sale del recinto a las 31.00.\n",
      "Tiempo Total De 5 = 31\n",
      "Salida de la persona [20] sale del recinto a las 31.00.\n",
      "Tiempo Total De 20 = 31\n",
      "La persona [32] pasa a la mesa de vacunacion : 31.00.\n",
      "Inicio de la persona [33] llega al recinto Borja  32.00.\n",
      "La persona [23] fue vacunada a las 32.00.\n",
      "Salida de la persona [17] sale del recinto a las 32.00.\n",
      "Tiempo Total De 17 = 32\n",
      "Salida de la persona [4] sale del recinto a las 32.00.\n",
      "Tiempo Total De 4 = 32\n",
      "Salida de la persona [10] sale del recinto a las 32.00.\n",
      "Tiempo Total De 10 = 32\n",
      "Salida de la persona [11] sale del recinto a las 32.00.\n",
      "Tiempo Total De 11 = 32\n",
      "La persona [33] pasa a la mesa de vacunacion : 32.00.\n",
      "Inicio de la persona [34] llega al recinto Borja  33.00.\n",
      "La persona [21] pasa a recibir su certificado a las 33.00.\n",
      "La persona [22] pasa a recibir su certificado a las 33.00.\n",
      "La persona [26] fue vacunada a las 33.00.\n",
      "Salida de la persona [13] sale del recinto a las 33.00.\n",
      "Tiempo Total De 13 = 33\n",
      "La persona [34] pasa a la mesa de vacunacion : 33.00.\n",
      "La persona [25] fue vacunada a las 34.00.\n",
      "La persona [24] fue vacunada a las 35.00.\n",
      "La persona [28] fue vacunada a las 36.00.\n",
      "La persona [31] fue vacunada a las 36.00.\n",
      "Salida de la persona [21] sale del recinto a las 36.00.\n",
      "Tiempo Total De 21 = 33\n",
      "Salida de la persona [22] sale del recinto a las 36.00.\n",
      "Tiempo Total De 22 = 32\n",
      "La persona [29] fue vacunada a las 37.00.\n",
      "La persona [30] fue vacunada a las 37.00.\n",
      "La persona [32] fue vacunada a las 37.00.\n",
      "Inicio de la persona [35] llega al recinto Borja  38.00.\n",
      "La persona [35] pasa a la mesa de vacunacion : 38.00.\n",
      "Inicio de la persona [36] llega al recinto Borja  41.00.\n",
      "La persona [36] pasa a la mesa de vacunacion : 41.00.\n",
      "La persona [33] fue vacunada a las 42.00.\n",
      "La persona [34] fue vacunada a las 42.00.\n",
      "Inicio de la persona [37] llega al recinto Borja  46.00.\n",
      "La persona [35] fue vacunada a las 46.00.\n",
      "La persona [37] pasa a la mesa de vacunacion : 46.00.\n",
      "Inicio de la persona [38] llega al recinto Borja  49.00.\n",
      "La persona [38] pasa a la mesa de vacunacion : 49.00.\n",
      "Inicio de la persona [39] llega al recinto Borja  50.00.\n",
      "La persona [36] fue vacunada a las 50.00.\n",
      "La persona [39] pasa a la mesa de vacunacion : 50.00.\n",
      "Inicio de la persona [40] llega al recinto Borja  51.00.\n",
      "La persona [40] pasa a la mesa de vacunacion : 51.00.\n",
      "Inicio de la persona [41] llega al recinto Borja  52.00.\n",
      "La persona [23] pasa a recibir su certificado a las 52.00.\n",
      "La persona [37] fue vacunada a las 52.00.\n",
      "La persona [41] pasa a la mesa de vacunacion : 52.00.\n",
      "La persona [26] pasa a recibir su certificado a las 53.00.\n",
      "La persona [25] pasa a recibir su certificado a las 54.00.\n",
      "La persona [38] fue vacunada a las 54.00.\n",
      "Salida de la persona [23] sale del recinto a las 54.00.\n",
      "Tiempo Total De 23 = 45\n",
      "La persona [24] pasa a recibir su certificado a las 55.00.\n",
      "Salida de la persona [26] sale del recinto a las 55.00.\n",
      "Tiempo Total De 26 = 38\n",
      "La persona [28] pasa a recibir su certificado a las 56.00.\n",
      "La persona [31] pasa a recibir su certificado a las 56.00.\n",
      "La persona [39] fue vacunada a las 56.00.\n",
      "La persona [40] fue vacunada a las 56.00.\n",
      "Salida de la persona [25] sale del recinto a las 56.00.\n",
      "Tiempo Total De 25 = 41\n",
      "Inicio de la persona [42] llega al recinto Borja  57.00.\n",
      "La persona [29] pasa a recibir su certificado a las 57.00.\n",
      "La persona [30] pasa a recibir su certificado a las 57.00.\n",
      "La persona [32] pasa a recibir su certificado a las 57.00.\n",
      "La persona [42] pasa a la mesa de vacunacion : 57.00.\n",
      "Salida de la persona [24] sale del recinto a las 58.00.\n",
      "Tiempo Total De 24 = 48\n",
      "Salida de la persona [28] sale del recinto a las 59.00.\n",
      "Tiempo Total De 28 = 36\n",
      "Salida de la persona [31] sale del recinto a las 59.00.\n",
      "Tiempo Total De 31 = 30\n",
      "Salida de la persona [30] sale del recinto a las 59.00.\n",
      "Tiempo Total De 30 = 34\n",
      "La persona [41] fue vacunada a las 60.00.\n",
      "Salida de la persona [29] sale del recinto a las 60.00.\n",
      "Tiempo Total De 29 = 36\n",
      "Salida de la persona [32] sale del recinto a las 60.00.\n",
      "Tiempo Total De 32 = 29\n",
      "Inicio de la persona [43] llega al recinto Borja  61.00.\n",
      "La persona [43] pasa a la mesa de vacunacion : 61.00.\n",
      "La persona [33] pasa a recibir su certificado a las 62.00.\n",
      "La persona [34] pasa a recibir su certificado a las 62.00.\n",
      "Inicio de la persona [44] llega al recinto Borja  64.00.\n",
      "La persona [42] fue vacunada a las 64.00.\n",
      "La persona [44] pasa a la mesa de vacunacion : 64.00.\n",
      "Salida de la persona [34] sale del recinto a las 64.00.\n",
      "Tiempo Total De 34 = 31\n",
      "Salida de la persona [33] sale del recinto a las 65.00.\n",
      "Tiempo Total De 33 = 33\n",
      "La persona [35] pasa a recibir su certificado a las 66.00.\n",
      "Inicio de la persona [45] llega al recinto Borja  67.00.\n",
      "La persona [45] pasa a la mesa de vacunacion : 67.00.\n",
      "La persona [43] fue vacunada a las 68.00.\n",
      "Salida de la persona [35] sale del recinto a las 69.00.\n",
      "Tiempo Total De 35 = 31\n",
      "La persona [36] pasa a recibir su certificado a las 70.00.\n",
      "Inicio de la persona [46] llega al recinto Borja  72.00.\n",
      "La persona [37] pasa a recibir su certificado a las 72.00.\n",
      "La persona [46] pasa a la mesa de vacunacion : 72.00.\n",
      "Salida de la persona [36] sale del recinto a las 73.00.\n",
      "Tiempo Total De 36 = 32\n",
      "La persona [38] pasa a recibir su certificado a las 74.00.\n",
      "La persona [44] fue vacunada a las 74.00.\n",
      "Inicio de la persona [47] llega al recinto Borja  75.00.\n",
      "La persona [47] pasa a la mesa de vacunacion : 75.00.\n",
      "Salida de la persona [37] sale del recinto a las 75.00.\n",
      "Tiempo Total De 37 = 29\n",
      "Inicio de la persona [48] llega al recinto Borja  76.00.\n",
      "La persona [39] pasa a recibir su certificado a las 76.00.\n",
      "La persona [40] pasa a recibir su certificado a las 76.00.\n",
      "La persona [45] fue vacunada a las 76.00.\n",
      "La persona [48] pasa a la mesa de vacunacion : 76.00.\n",
      "Inicio de la persona [49] llega al recinto Borja  77.00.\n",
      "La persona [46] fue vacunada a las 77.00.\n",
      "Salida de la persona [38] sale del recinto a las 77.00.\n",
      "Tiempo Total De 38 = 28\n",
      "La persona [49] pasa a la mesa de vacunacion : 77.00.\n",
      "Salida de la persona [39] sale del recinto a las 78.00.\n",
      "Tiempo Total De 39 = 28\n",
      "Salida de la persona [40] sale del recinto a las 78.00.\n",
      "Tiempo Total De 40 = 27\n",
      "La persona [41] pasa a recibir su certificado a las 80.00.\n",
      "Inicio de la persona [50] llega al recinto Borja  82.00.\n",
      "La persona [47] fue vacunada a las 82.00.\n",
      "La persona [50] pasa a la mesa de vacunacion : 82.00.\n",
      "Salida de la persona [41] sale del recinto a las 82.00.\n",
      "Tiempo Total De 41 = 30\n",
      "La persona [42] pasa a recibir su certificado a las 84.00.\n",
      "Inicio de la persona [51] llega al recinto Borja  85.00.\n",
      "La persona [51] pasa a la mesa de vacunacion : 85.00.\n",
      "La persona [48] fue vacunada a las 86.00.\n",
      "Salida de la persona [42] sale del recinto a las 86.00.\n",
      "Tiempo Total De 42 = 29\n",
      "La persona [49] fue vacunada a las 87.00.\n",
      "La persona [43] pasa a recibir su certificado a las 88.00.\n",
      "La persona [50] fue vacunada a las 89.00.\n",
      "Inicio de la persona [52] llega al recinto Borja  90.00.\n",
      "La persona [52] pasa a la mesa de vacunacion : 90.00.\n",
      "Inicio de la persona [53] llega al recinto Borja  91.00.\n",
      "Salida de la persona [43] sale del recinto a las 91.00.\n",
      "Tiempo Total De 43 = 30\n",
      "La persona [53] pasa a la mesa de vacunacion : 91.00.\n",
      "Inicio de la persona [54] llega al recinto Borja  94.00.\n",
      "La persona [44] pasa a recibir su certificado a las 94.00.\n",
      "La persona [51] fue vacunada a las 94.00.\n",
      "La persona [54] pasa a la mesa de vacunacion : 94.00.\n",
      "Inicio de la persona [55] llega al recinto Borja  95.00.\n",
      "La persona [52] fue vacunada a las 95.00.\n",
      "La persona [55] pasa a la mesa de vacunacion : 95.00.\n",
      "La persona [45] pasa a recibir su certificado a las 96.00.\n",
      "Salida de la persona [44] sale del recinto a las 96.00.\n",
      "Tiempo Total De 44 = 32\n",
      "La persona [46] pasa a recibir su certificado a las 97.00.\n",
      "Salida de la persona [45] sale del recinto a las 98.00.\n",
      "Tiempo Total De 45 = 31\n",
      "Inicio de la persona [56] llega al recinto Borja  99.00.\n",
      "La persona [56] pasa a la mesa de vacunacion : 99.00.\n",
      "Salida de la persona [46] sale del recinto a las 99.00.\n",
      "Tiempo Total De 46 = 27\n",
      "Inicio de la persona [57] llega al recinto Borja  100.00.\n",
      "La persona [53] fue vacunada a las 100.00.\n",
      "La persona [57] pasa a la mesa de vacunacion : 100.00.\n",
      "Inicio de la persona [58] llega al recinto Borja  101.00.\n",
      "La persona [58] pasa a la mesa de vacunacion : 101.00.\n",
      "La persona [47] pasa a recibir su certificado a las 102.00.\n",
      "La persona [54] fue vacunada a las 102.00.\n",
      "La persona [55] fue vacunada a las 103.00.\n",
      "Inicio de la persona [59] llega al recinto Borja  104.00.\n",
      "La persona [59] pasa a la mesa de vacunacion : 104.00.\n",
      "Salida de la persona [47] sale del recinto a las 104.00.\n",
      "Tiempo Total De 47 = 29\n",
      "Inicio de la persona [60] llega al recinto Borja  105.00.\n",
      "La persona [56] fue vacunada a las 105.00.\n",
      "La persona [60] pasa a la mesa de vacunacion : 105.00.\n",
      "La persona [48] pasa a recibir su certificado a las 106.00.\n",
      "La persona [49] pasa a recibir su certificado a las 107.00.\n",
      "Salida de la persona [48] sale del recinto a las 108.00.\n",
      "Tiempo Total De 48 = 32\n",
      "Inicio de la persona [61] llega al recinto Borja  109.00.\n",
      "La persona [50] pasa a recibir su certificado a las 109.00.\n",
      "La persona [57] fue vacunada a las 109.00.\n",
      "La persona [61] pasa a la mesa de vacunacion : 109.00.\n",
      "La persona [58] fue vacunada a las 110.00.\n",
      "La persona [60] fue vacunada a las 110.00.\n",
      "Salida de la persona [49] sale del recinto a las 110.00.\n",
      "Tiempo Total De 49 = 33\n",
      "Inicio de la persona [62] llega al recinto Borja  111.00.\n",
      "La persona [62] pasa a la mesa de vacunacion : 111.00.\n",
      "Salida de la persona [50] sale del recinto a las 112.00.\n",
      "Tiempo Total De 50 = 30\n",
      "La persona [51] pasa a recibir su certificado a las 114.00.\n",
      "La persona [59] fue vacunada a las 114.00.\n",
      "Inicio de la persona [63] llega al recinto Borja  115.00.\n",
      "La persona [52] pasa a recibir su certificado a las 115.00.\n",
      "La persona [63] pasa a la mesa de vacunacion : 115.00.\n",
      "La persona [61] fue vacunada a las 116.00.\n",
      "Salida de la persona [51] sale del recinto a las 117.00.\n",
      "Tiempo Total De 51 = 32\n",
      "Salida de la persona [52] sale del recinto a las 117.00.\n",
      "Tiempo Total De 52 = 27\n",
      "La persona [62] fue vacunada a las 119.00.\n",
      "Inicio de la persona [64] llega al recinto Borja  120.00.\n",
      "La persona [53] pasa a recibir su certificado a las 120.00.\n",
      "La persona [64] pasa a la mesa de vacunacion : 120.00.\n",
      "Inicio de la persona [65] llega al recinto Borja  121.00.\n",
      "La persona [65] pasa a la mesa de vacunacion : 121.00.\n",
      "La persona [54] pasa a recibir su certificado a las 122.00.\n",
      "La persona [55] pasa a recibir su certificado a las 123.00.\n",
      "La persona [63] fue vacunada a las 123.00.\n",
      "Salida de la persona [53] sale del recinto a las 123.00.\n",
      "Tiempo Total De 53 = 32\n",
      "Inicio de la persona [66] llega al recinto Borja  124.00.\n",
      "La persona [66] pasa a la mesa de vacunacion : 124.00.\n",
      "Salida de la persona [54] sale del recinto a las 124.00.\n",
      "Tiempo Total De 54 = 30\n",
      "La persona [56] pasa a recibir su certificado a las 125.00.\n",
      "Inicio de la persona [67] llega al recinto Borja  126.00.\n",
      "Salida de la persona [55] sale del recinto a las 126.00.\n",
      "Tiempo Total De 55 = 31\n",
      "La persona [67] pasa a la mesa de vacunacion : 126.00.\n",
      "Salida de la persona [56] sale del recinto a las 127.00.\n",
      "Tiempo Total De 56 = 28\n",
      "Inicio de la persona [68] llega al recinto Borja  129.00.\n",
      "La persona [57] pasa a recibir su certificado a las 129.00.\n",
      "La persona [65] fue vacunada a las 129.00.\n",
      "La persona [68] pasa a la mesa de vacunacion : 129.00.\n",
      "La persona [58] pasa a recibir su certificado a las 130.00.\n",
      "La persona [60] pasa a recibir su certificado a las 130.00.\n",
      "La persona [64] fue vacunada a las 130.00.\n",
      "La persona [66] fue vacunada a las 130.00.\n",
      "Salida de la persona [57] sale del recinto a las 132.00.\n",
      "Tiempo Total De 57 = 32\n",
      "Salida de la persona [58] sale del recinto a las 132.00.\n",
      "Tiempo Total De 58 = 31\n",
      "Salida de la persona [60] sale del recinto a las 132.00.\n",
      "Tiempo Total De 60 = 27\n",
      "La persona [67] fue vacunada a las 133.00.\n",
      "Inicio de la persona [69] llega al recinto Borja  134.00.\n",
      "La persona [59] pasa a recibir su certificado a las 134.00.\n",
      "La persona [69] pasa a la mesa de vacunacion : 134.00.\n",
      "La persona [61] pasa a recibir su certificado a las 136.00.\n",
      "Salida de la persona [59] sale del recinto a las 136.00.\n",
      "Tiempo Total De 59 = 32\n",
      "La persona [68] fue vacunada a las 137.00.\n",
      "Inicio de la persona [70] llega al recinto Borja  138.00.\n",
      "La persona [70] pasa a la mesa de vacunacion : 138.00.\n",
      "La persona [62] pasa a recibir su certificado a las 139.00.\n",
      "Salida de la persona [61] sale del recinto a las 139.00.\n",
      "Tiempo Total De 61 = 30\n",
      "Inicio de la persona [71] llega al recinto Borja  140.00.\n",
      "La persona [71] pasa a la mesa de vacunacion : 140.00.\n",
      "La persona [69] fue vacunada a las 141.00.\n",
      "Salida de la persona [62] sale del recinto a las 142.00.\n",
      "Tiempo Total De 62 = 31\n",
      "La persona [63] pasa a recibir su certificado a las 143.00.\n",
      "Inicio de la persona [72] llega al recinto Borja  144.00.\n",
      "La persona [72] pasa a la mesa de vacunacion : 144.00.\n",
      "Salida de la persona [63] sale del recinto a las 146.00.\n",
      "Tiempo Total De 63 = 31\n",
      "La persona [70] fue vacunada a las 147.00.\n",
      "Inicio de la persona [73] llega al recinto Borja  148.00.\n",
      "La persona [73] pasa a la mesa de vacunacion : 148.00.\n",
      "La persona [65] pasa a recibir su certificado a las 149.00.\n",
      "La persona [71] fue vacunada a las 149.00.\n",
      "La persona [64] pasa a recibir su certificado a las 150.00.\n",
      "La persona [66] pasa a recibir su certificado a las 150.00.\n",
      "La persona [72] fue vacunada a las 152.00.\n",
      "Salida de la persona [65] sale del recinto a las 152.00.\n",
      "Tiempo Total De 65 = 31\n",
      "Salida de la persona [64] sale del recinto a las 152.00.\n",
      "Tiempo Total De 64 = 32\n",
      "Inicio de la persona [74] llega al recinto Borja  153.00.\n",
      "La persona [67] pasa a recibir su certificado a las 153.00.\n",
      "La persona [74] pasa a la mesa de vacunacion : 153.00.\n",
      "Salida de la persona [66] sale del recinto a las 153.00.\n",
      "Tiempo Total De 66 = 29\n",
      "La persona [73] fue vacunada a las 156.00.\n",
      "Salida de la persona [67] sale del recinto a las 156.00.\n",
      "Tiempo Total De 67 = 30\n",
      "Inicio de la persona [75] llega al recinto Borja  157.00.\n",
      "La persona [68] pasa a recibir su certificado a las 157.00.\n",
      "La persona [75] pasa a la mesa de vacunacion : 157.00.\n",
      "La persona [74] fue vacunada a las 158.00.\n",
      "Salida de la persona [68] sale del recinto a las 160.00.\n",
      "Tiempo Total De 68 = 31\n",
      "La persona [69] pasa a recibir su certificado a las 161.00.\n",
      "Inicio de la persona [76] llega al recinto Borja  162.00.\n",
      "La persona [76] pasa a la mesa de vacunacion : 162.00.\n",
      "Salida de la persona [69] sale del recinto a las 164.00.\n",
      "Tiempo Total De 69 = 30\n",
      "La persona [75] fue vacunada a las 166.00.\n",
      "Inicio de la persona [77] llega al recinto Borja  167.00.\n",
      "La persona [70] pasa a recibir su certificado a las 167.00.\n",
      "La persona [77] pasa a la mesa de vacunacion : 167.00.\n",
      "La persona [76] fue vacunada a las 167.00.\n",
      "La persona [71] pasa a recibir su certificado a las 169.00.\n",
      "Salida de la persona [70] sale del recinto a las 170.00.\n",
      "Tiempo Total De 70 = 32\n",
      "Inicio de la persona [78] llega al recinto Borja  171.00.\n",
      "La persona [78] pasa a la mesa de vacunacion : 171.00.\n",
      "Salida de la persona [71] sale del recinto a las 171.00.\n",
      "Tiempo Total De 71 = 31\n",
      "La persona [72] pasa a recibir su certificado a las 172.00.\n",
      "Inicio de la persona [79] llega al recinto Borja  174.00.\n",
      "La persona [79] pasa a la mesa de vacunacion : 174.00.\n",
      "Salida de la persona [72] sale del recinto a las 175.00.\n",
      "Tiempo Total De 72 = 31\n",
      "Inicio de la persona [80] llega al recinto Borja  176.00.\n",
      "La persona [73] pasa a recibir su certificado a las 176.00.\n",
      "La persona [77] fue vacunada a las 176.00.\n",
      "La persona [78] fue vacunada a las 176.00.\n",
      "La persona [80] pasa a la mesa de vacunacion : 176.00.\n",
      "La persona [74] pasa a recibir su certificado a las 178.00.\n",
      "Salida de la persona [73] sale del recinto a las 179.00.\n",
      "Tiempo Total De 73 = 31\n",
      "Inicio de la persona [81] llega al recinto Borja  181.00.\n",
      "La persona [81] pasa a la mesa de vacunacion : 181.00.\n",
      "La persona [80] fue vacunada a las 181.00.\n",
      "Salida de la persona [74] sale del recinto a las 181.00.\n",
      "Tiempo Total De 74 = 28\n",
      "La persona [79] fue vacunada a las 182.00.\n",
      "Inicio de la persona [82] llega al recinto Borja  183.00.\n",
      "La persona [82] pasa a la mesa de vacunacion : 183.00.\n",
      "Inicio de la persona [83] llega al recinto Borja  184.00.\n",
      "La persona [83] pasa a la mesa de vacunacion : 184.00.\n",
      "La persona [75] pasa a recibir su certificado a las 186.00.\n",
      "La persona [76] pasa a recibir su certificado a las 187.00.\n",
      "La persona [82] fue vacunada a las 188.00.\n",
      "Salida de la persona [75] sale del recinto a las 188.00.\n",
      "Tiempo Total De 75 = 31\n",
      "Inicio de la persona [84] llega al recinto Borja  189.00.\n",
      "La persona [81] fue vacunada a las 189.00.\n",
      "La persona [84] pasa a la mesa de vacunacion : 189.00.\n",
      "Salida de la persona [76] sale del recinto a las 189.00.\n",
      "Tiempo Total De 76 = 27\n",
      "La persona [83] fue vacunada a las 190.00.\n",
      "Inicio de la persona [85] llega al recinto Borja  193.00.\n",
      "La persona [85] no puede vacunarse \n",
      "Inicio de la persona [86] llega al recinto Borja  194.00.\n",
      "La persona [86] pasa a la mesa de vacunacion : 194.00.\n",
      "Inicio de la persona [87] llega al recinto Borja  195.00.\n",
      "La persona [87] pasa a la mesa de vacunacion : 195.00.\n",
      "La persona [77] pasa a recibir su certificado a las 196.00.\n",
      "La persona [78] pasa a recibir su certificado a las 196.00.\n",
      "La persona [84] fue vacunada a las 197.00.\n",
      "Salida de la persona [77] sale del recinto a las 198.00.\n",
      "Tiempo Total De 77 = 31\n",
      "Salida de la persona [78] sale del recinto a las 198.00.\n",
      "Tiempo Total De 78 = 27\n",
      "Inicio de la persona [88] llega al recinto Borja  199.00.\n",
      "La persona [88] pasa a la mesa de vacunacion : 199.00.\n",
      "La persona [80] pasa a recibir su certificado a las 201.00.\n",
      "La persona [79] pasa a recibir su certificado a las 202.00.\n",
      "La persona [86] fue vacunada a las 202.00.\n",
      "Salida de la persona [80] sale del recinto a las 203.00.\n",
      "Tiempo Total De 80 = 27\n",
      "Inicio de la persona [89] llega al recinto Borja  204.00.\n",
      "La persona [87] fue vacunada a las 204.00.\n",
      "La persona [89] pasa a la mesa de vacunacion : 204.00.\n",
      "Salida de la persona [79] sale del recinto a las 204.00.\n",
      "Tiempo Total De 79 = 30\n",
      "La persona [88] fue vacunada a las 205.00.\n",
      "Inicio de la persona [90] llega al recinto Borja  206.00.\n",
      "La persona [90] no puede vacunarse \n",
      "La persona [82] pasa a recibir su certificado a las 208.00.\n",
      "Inicio de la persona [91] llega al recinto Borja  209.00.\n",
      "La persona [81] pasa a recibir su certificado a las 209.00.\n",
      "La persona [91] pasa a la mesa de vacunacion : 209.00.\n",
      "La persona [83] pasa a recibir su certificado a las 210.00.\n",
      "Salida de la persona [82] sale del recinto a las 210.00.\n",
      "Tiempo Total De 82 = 27\n",
      "La persona [89] fue vacunada a las 211.00.\n",
      "Salida de la persona [81] sale del recinto a las 212.00.\n",
      "Tiempo Total De 81 = 31\n",
      "Salida de la persona [83] sale del recinto a las 213.00.\n",
      "Tiempo Total De 83 = 29\n",
      "Inicio de la persona [92] llega al recinto Borja  214.00.\n",
      "La persona [92] pasa a la mesa de vacunacion : 214.00.\n",
      "Inicio de la persona [93] llega al recinto Borja  216.00.\n",
      "La persona [93] pasa a la mesa de vacunacion : 216.00.\n",
      "La persona [84] pasa a recibir su certificado a las 217.00.\n",
      "La persona [91] fue vacunada a las 219.00.\n",
      "Inicio de la persona [94] llega al recinto Borja  220.00.\n",
      "La persona [94] pasa a la mesa de vacunacion : 220.00.\n",
      "Salida de la persona [84] sale del recinto a las 220.00.\n",
      "Tiempo Total De 84 = 31\n",
      "La persona [86] pasa a recibir su certificado a las 222.00.\n",
      "La persona [92] fue vacunada a las 222.00.\n",
      "La persona [87] pasa a recibir su certificado a las 224.00.\n",
      "Salida de la persona [86] sale del recinto a las 224.00.\n",
      "Tiempo Total De 86 = 30\n",
      "Inicio de la persona [95] llega al recinto Borja  225.00.\n",
      "La persona [88] pasa a recibir su certificado a las 225.00.\n",
      "La persona [95] pasa a la mesa de vacunacion : 225.00.\n",
      "La persona [93] fue vacunada a las 226.00.\n",
      "Salida de la persona [87] sale del recinto a las 226.00.\n",
      "Tiempo Total De 87 = 31\n",
      "La persona [94] fue vacunada a las 227.00.\n",
      "Salida de la persona [88] sale del recinto a las 228.00.\n",
      "Tiempo Total De 88 = 29\n",
      "Inicio de la persona [96] llega al recinto Borja  229.00.\n",
      "La persona [96] pasa a la mesa de vacunacion : 229.00.\n",
      "La persona [89] pasa a recibir su certificado a las 231.00.\n",
      "Inicio de la persona [97] llega al recinto Borja  232.00.\n",
      "La persona [97] pasa a la mesa de vacunacion : 232.00.\n",
      "Inicio de la persona [98] llega al recinto Borja  234.00.\n",
      "Salida de la persona [89] sale del recinto a las 234.00.\n",
      "Tiempo Total De 89 = 30\n",
      "La persona [98] pasa a la mesa de vacunacion : 234.00.\n",
      "La persona [95] fue vacunada a las 235.00.\n",
      "La persona [96] fue vacunada a las 236.00.\n",
      "La persona [97] fue vacunada a las 237.00.\n",
      "Inicio de la persona [99] llega al recinto Borja  239.00.\n",
      "La persona [91] pasa a recibir su certificado a las 239.00.\n",
      "La persona [99] pasa a la mesa de vacunacion : 239.00.\n",
      "Inicio de la persona [100] llega al recinto Borja  240.00.\n",
      "La persona [100] pasa a la mesa de vacunacion : 240.00.\n",
      "Salida de la persona [91] sale del recinto a las 241.00.\n",
      "Tiempo Total De 91 = 32\n",
      "La persona [92] pasa a recibir su certificado a las 242.00.\n",
      "La persona [98] fue vacunada a las 243.00.\n",
      "Inicio de la persona [101] llega al recinto Borja  244.00.\n",
      "La persona [101] pasa a la mesa de vacunacion : 244.00.\n",
      "Salida de la persona [92] sale del recinto a las 244.00.\n",
      "Tiempo Total De 92 = 30\n",
      "La persona [93] pasa a recibir su certificado a las 246.00.\n",
      "Inicio de la persona [102] llega al recinto Borja  247.00.\n",
      "La persona [94] pasa a recibir su certificado a las 247.00.\n",
      "La persona [102] pasa a la mesa de vacunacion : 247.00.\n",
      "La persona [100] fue vacunada a las 248.00.\n",
      "La persona [99] fue vacunada a las 249.00.\n",
      "La persona [101] fue vacunada a las 249.00.\n",
      "Salida de la persona [93] sale del recinto a las 249.00.\n",
      "Tiempo Total De 93 = 33\n",
      "Salida de la persona [94] sale del recinto a las 250.00.\n",
      "Tiempo Total De 94 = 30\n",
      "Inicio de la persona [103] llega al recinto Borja  251.00.\n",
      "La persona [103] pasa a la mesa de vacunacion : 251.00.\n",
      "La persona [102] fue vacunada a las 253.00.\n",
      "Inicio de la persona [104] llega al recinto Borja  255.00.\n",
      "La persona [104] no puede vacunarse \n",
      "La persona [95] pasa a recibir su certificado a las 255.00.\n",
      "La persona [96] pasa a recibir su certificado a las 256.00.\n",
      "Inicio de la persona [105] llega al recinto Borja  257.00.\n",
      "La persona [97] pasa a recibir su certificado a las 257.00.\n",
      "La persona [103] fue vacunada a las 257.00.\n",
      "La persona [105] pasa a la mesa de vacunacion : 257.00.\n",
      "Salida de la persona [95] sale del recinto a las 257.00.\n",
      "Tiempo Total De 95 = 32\n",
      "Inicio de la persona [106] llega al recinto Borja  258.00.\n",
      "Salida de la persona [96] sale del recinto a las 258.00.\n",
      "Tiempo Total De 96 = 29\n",
      "La persona [106] pasa a la mesa de vacunacion : 258.00.\n",
      "Salida de la persona [97] sale del recinto a las 260.00.\n",
      "Tiempo Total De 97 = 28\n",
      "Inicio de la persona [107] llega al recinto Borja  262.00.\n",
      "La persona [107] pasa a la mesa de vacunacion : 262.00.\n",
      "La persona [98] pasa a recibir su certificado a las 263.00.\n",
      "La persona [106] fue vacunada a las 265.00.\n",
      "Inicio de la persona [108] llega al recinto Borja  266.00.\n",
      "La persona [105] fue vacunada a las 266.00.\n",
      "La persona [108] pasa a la mesa de vacunacion : 266.00.\n",
      "Salida de la persona [98] sale del recinto a las 266.00.\n",
      "Tiempo Total De 98 = 32\n",
      "Inicio de la persona [109] llega al recinto Borja  267.00.\n",
      "La persona [109] pasa a la mesa de vacunacion : 267.00.\n",
      "La persona [100] pasa a recibir su certificado a las 268.00.\n",
      "Inicio de la persona [110] llega al recinto Borja  269.00.\n",
      "La persona [99] pasa a recibir su certificado a las 269.00.\n",
      "La persona [101] pasa a recibir su certificado a las 269.00.\n",
      "La persona [110] pasa a la mesa de vacunacion : 269.00.\n",
      "La persona [107] fue vacunada a las 271.00.\n",
      "Salida de la persona [100] sale del recinto a las 271.00.\n",
      "Tiempo Total De 100 = 31\n",
      "Inicio de la persona [111] llega al recinto Borja  272.00.\n",
      "La persona [111] pasa a la mesa de vacunacion : 272.00.\n",
      "Salida de la persona [99] sale del recinto a las 272.00.\n",
      "Tiempo Total De 99 = 33\n",
      "Salida de la persona [101] sale del recinto a las 272.00.\n",
      "Tiempo Total De 101 = 28\n",
      "La persona [102] pasa a recibir su certificado a las 273.00.\n",
      "La persona [109] fue vacunada a las 273.00.\n",
      "Inicio de la persona [112] llega al recinto Borja  274.00.\n",
      "La persona [108] fue vacunada a las 274.00.\n",
      "La persona [110] fue vacunada a las 274.00.\n",
      "La persona [112] pasa a la mesa de vacunacion : 274.00.\n",
      "Salida de la persona [102] sale del recinto a las 275.00.\n",
      "Tiempo Total De 102 = 28\n",
      "La persona [103] pasa a recibir su certificado a las 277.00.\n",
      "Inicio de la persona [113] llega al recinto Borja  278.00.\n",
      "La persona [113] pasa a la mesa de vacunacion : 278.00.\n",
      "Inicio de la persona [114] llega al recinto Borja  279.00.\n",
      "Salida de la persona [103] sale del recinto a las 279.00.\n",
      "Tiempo Total De 103 = 28\n",
      "La persona [114] pasa a la mesa de vacunacion : 279.00.\n",
      "La persona [111] fue vacunada a las 280.00.\n",
      "Inicio de la persona [115] llega al recinto Borja  281.00.\n",
      "La persona [112] fue vacunada a las 281.00.\n",
      "La persona [115] pasa a la mesa de vacunacion : 281.00.\n",
      "Inicio de la persona [116] llega al recinto Borja  282.00.\n",
      "La persona [116] pasa a la mesa de vacunacion : 282.00.\n",
      "La persona [114] fue vacunada a las 284.00.\n",
      "La persona [106] pasa a recibir su certificado a las 285.00.\n",
      "Inicio de la persona [117] llega al recinto Borja  286.00.\n",
      "La persona [105] pasa a recibir su certificado a las 286.00.\n",
      "La persona [113] fue vacunada a las 286.00.\n",
      "La persona [117] pasa a la mesa de vacunacion : 286.00.\n",
      "Salida de la persona [106] sale del recinto a las 287.00.\n",
      "Tiempo Total De 106 = 29\n",
      "La persona [116] fue vacunada a las 288.00.\n",
      "Inicio de la persona [118] llega al recinto Borja  289.00.\n",
      "La persona [115] fue vacunada a las 289.00.\n",
      "La persona [118] pasa a la mesa de vacunacion : 289.00.\n",
      "Salida de la persona [105] sale del recinto a las 289.00.\n",
      "Tiempo Total De 105 = 32\n",
      "La persona [107] pasa a recibir su certificado a las 291.00.\n",
      "La persona [117] fue vacunada a las 292.00.\n",
      "La persona [109] pasa a recibir su certificado a las 293.00.\n",
      "Inicio de la persona [119] llega al recinto Borja  294.00.\n",
      "La persona [108] pasa a recibir su certificado a las 294.00.\n",
      "La persona [110] pasa a recibir su certificado a las 294.00.\n",
      "La persona [119] pasa a la mesa de vacunacion : 294.00.\n",
      "Salida de la persona [107] sale del recinto a las 294.00.\n",
      "Tiempo Total De 107 = 32\n",
      "Inicio de la persona [120] llega al recinto Borja  295.00.\n",
      "La persona [120] pasa a la mesa de vacunacion : 295.00.\n",
      "Salida de la persona [109] sale del recinto a las 296.00.\n",
      "Tiempo Total De 109 = 29\n",
      "Salida de la persona [108] sale del recinto a las 296.00.\n",
      "Tiempo Total De 108 = 30\n",
      "Salida de la persona [110] sale del recinto a las 296.00.\n",
      "Tiempo Total De 110 = 27\n",
      "La persona [118] fue vacunada a las 298.00.\n",
      "Inicio de la persona [121] llega al recinto Borja  300.00.\n",
      "La persona [111] pasa a recibir su certificado a las 300.00.\n",
      "La persona [121] pasa a la mesa de vacunacion : 300.00.\n",
      "La persona [112] pasa a recibir su certificado a las 301.00.\n",
      "La persona [120] fue vacunada a las 302.00.\n",
      "La persona [119] fue vacunada a las 303.00.\n",
      "Salida de la persona [111] sale del recinto a las 303.00.\n",
      "Tiempo Total De 111 = 31\n",
      "Salida de la persona [112] sale del recinto a las 303.00.\n",
      "Tiempo Total De 112 = 29\n",
      "Inicio de la persona [122] llega al recinto Borja  304.00.\n",
      "La persona [114] pasa a recibir su certificado a las 304.00.\n",
      "La persona [122] pasa a la mesa de vacunacion : 304.00.\n",
      "Inicio de la persona [123] llega al recinto Borja  306.00.\n",
      "La persona [113] pasa a recibir su certificado a las 306.00.\n",
      "La persona [123] pasa a la mesa de vacunacion : 306.00.\n",
      "Salida de la persona [114] sale del recinto a las 306.00.\n",
      "Tiempo Total De 114 = 27\n",
      "Inicio de la persona [124] llega al recinto Borja  307.00.\n",
      "La persona [124] pasa a la mesa de vacunacion : 307.00.\n",
      "La persona [116] pasa a recibir su certificado a las 308.00.\n",
      "Salida de la persona [113] sale del recinto a las 308.00.\n",
      "Tiempo Total De 113 = 30\n",
      "La persona [115] pasa a recibir su certificado a las 309.00.\n",
      "La persona [121] fue vacunada a las 309.00.\n",
      "Inicio de la persona [125] llega al recinto Borja  311.00.\n",
      "La persona [125] no puede vacunarse \n",
      "Salida de la persona [116] sale del recinto a las 311.00.\n",
      "Tiempo Total De 116 = 29\n",
      "Salida de la persona [115] sale del recinto a las 311.00.\n",
      "Tiempo Total De 115 = 30\n",
      "La persona [117] pasa a recibir su certificado a las 312.00.\n",
      "La persona [122] fue vacunada a las 312.00.\n",
      "Inicio de la persona [126] llega al recinto Borja  313.00.\n",
      "La persona [126] pasa a la mesa de vacunacion : 313.00.\n",
      "Salida de la persona [117] sale del recinto a las 314.00.\n",
      "Tiempo Total De 117 = 28\n",
      "La persona [123] fue vacunada a las 316.00.\n",
      "Inicio de la persona [127] llega al recinto Borja  317.00.\n",
      "La persona [124] fue vacunada a las 317.00.\n",
      "La persona [127] pasa a la mesa de vacunacion : 317.00.\n",
      "La persona [118] pasa a recibir su certificado a las 318.00.\n",
      "La persona [126] fue vacunada a las 318.00.\n",
      "Salida de la persona [118] sale del recinto a las 321.00.\n",
      "Tiempo Total De 118 = 32\n",
      "Inicio de la persona [128] llega al recinto Borja  322.00.\n",
      "La persona [120] pasa a recibir su certificado a las 322.00.\n",
      "La persona [128] pasa a la mesa de vacunacion : 322.00.\n",
      "La persona [119] pasa a recibir su certificado a las 323.00.\n",
      "Salida de la persona [120] sale del recinto a las 324.00.\n",
      "Tiempo Total De 120 = 29\n",
      "La persona [127] fue vacunada a las 326.00.\n",
      "Salida de la persona [119] sale del recinto a las 326.00.\n",
      "Tiempo Total De 119 = 32\n",
      "Inicio de la persona [129] llega al recinto Borja  327.00.\n",
      "La persona [129] pasa a la mesa de vacunacion : 327.00.\n",
      "La persona [128] fue vacunada a las 328.00.\n",
      "La persona [121] pasa a recibir su certificado a las 329.00.\n",
      "Inicio de la persona [130] llega al recinto Borja  331.00.\n",
      "La persona [130] pasa a la mesa de vacunacion : 331.00.\n",
      "Salida de la persona [121] sale del recinto a las 331.00.\n",
      "Tiempo Total De 121 = 31\n",
      "Inicio de la persona [131] llega al recinto Borja  332.00.\n",
      "La persona [122] pasa a recibir su certificado a las 332.00.\n",
      "La persona [129] fue vacunada a las 332.00.\n",
      "La persona [131] pasa a la mesa de vacunacion : 332.00.\n",
      "Salida de la persona [122] sale del recinto a las 334.00.\n",
      "Tiempo Total De 122 = 30\n",
      "Inicio de la persona [132] llega al recinto Borja  336.00.\n",
      "La persona [123] pasa a recibir su certificado a las 336.00.\n",
      "La persona [132] pasa a la mesa de vacunacion : 336.00.\n",
      "La persona [124] pasa a recibir su certificado a las 337.00.\n",
      "La persona [126] pasa a recibir su certificado a las 338.00.\n",
      "La persona [130] fue vacunada a las 338.00.\n",
      "Salida de la persona [123] sale del recinto a las 339.00.\n",
      "Tiempo Total De 123 = 33\n",
      "Inicio de la persona [133] llega al recinto Borja  340.00.\n",
      "La persona [133] pasa a la mesa de vacunacion : 340.00.\n",
      "Salida de la persona [124] sale del recinto a las 340.00.\n",
      "Tiempo Total De 124 = 33\n",
      "Salida de la persona [126] sale del recinto a las 341.00.\n",
      "Tiempo Total De 126 = 28\n",
      "La persona [131] fue vacunada a las 342.00.\n",
      "Inicio de la persona [134] llega al recinto Borja  343.00.\n",
      "La persona [134] pasa a la mesa de vacunacion : 343.00.\n",
      "Inicio de la persona [135] llega al recinto Borja  344.00.\n",
      "La persona [132] fue vacunada a las 344.00.\n",
      "La persona [135] pasa a la mesa de vacunacion : 344.00.\n",
      "La persona [133] fue vacunada a las 345.00.\n",
      "La persona [127] pasa a recibir su certificado a las 346.00.\n",
      "La persona [128] pasa a recibir su certificado a las 348.00.\n",
      "La persona [134] fue vacunada a las 348.00.\n",
      "Inicio de la persona [136] llega al recinto Borja  349.00.\n",
      "La persona [136] pasa a la mesa de vacunacion : 349.00.\n",
      "Salida de la persona [127] sale del recinto a las 349.00.\n",
      "Tiempo Total De 127 = 32\n",
      "Salida de la persona [128] sale del recinto a las 350.00.\n",
      "Tiempo Total De 128 = 28\n",
      "La persona [135] fue vacunada a las 351.00.\n",
      "La persona [129] pasa a recibir su certificado a las 352.00.\n",
      "Inicio de la persona [137] llega al recinto Borja  353.00.\n",
      "La persona [137] pasa a la mesa de vacunacion : 353.00.\n",
      "Inicio de la persona [138] llega al recinto Borja  354.00.\n",
      "La persona [138] pasa a la mesa de vacunacion : 354.00.\n",
      "Salida de la persona [129] sale del recinto a las 355.00.\n",
      "Tiempo Total De 129 = 28\n",
      "Inicio de la persona [139] llega al recinto Borja  357.00.\n",
      "La persona [136] fue vacunada a las 357.00.\n",
      "La persona [139] pasa a la mesa de vacunacion : 357.00.\n",
      "Inicio de la persona [140] llega al recinto Borja  358.00.\n",
      "La persona [130] pasa a recibir su certificado a las 358.00.\n",
      "La persona [140] pasa a la mesa de vacunacion : 358.00.\n",
      "Salida de la persona [130] sale del recinto a las 360.00.\n",
      "Tiempo Total De 130 = 29\n",
      "Inicio de la persona [141] llega al recinto Borja  361.00.\n",
      "La persona [137] fue vacunada a las 361.00.\n",
      "La persona [138] fue vacunada a las 361.00.\n",
      "La persona [141] pasa a la mesa de vacunacion : 361.00.\n",
      "Inicio de la persona [142] llega al recinto Borja  362.00.\n",
      "La persona [131] pasa a recibir su certificado a las 362.00.\n",
      "La persona [142] pasa a la mesa de vacunacion : 362.00.\n",
      "Inicio de la persona [143] llega al recinto Borja  363.00.\n",
      "La persona [143] pasa a la mesa de vacunacion : 363.00.\n",
      "Inicio de la persona [144] llega al recinto Borja  364.00.\n",
      "La persona [132] pasa a recibir su certificado a las 364.00.\n",
      "La persona [144] pasa a la mesa de vacunacion : 364.00.\n",
      "La persona [133] pasa a recibir su certificado a las 365.00.\n",
      "Salida de la persona [131] sale del recinto a las 365.00.\n",
      "Tiempo Total De 131 = 33\n",
      "Salida de la persona [132] sale del recinto a las 366.00.\n",
      "Tiempo Total De 132 = 30\n",
      "Inicio de la persona [145] llega al recinto Borja  367.00.\n",
      "La persona [139] fue vacunada a las 367.00.\n",
      "La persona [145] pasa a la mesa de vacunacion : 367.00.\n",
      "Salida de la persona [133] sale del recinto a las 367.00.\n",
      "Tiempo Total De 133 = 27\n",
      "Inicio de la persona [146] llega al recinto Borja  368.00.\n",
      "La persona [134] pasa a recibir su certificado a las 368.00.\n",
      "La persona [140] fue vacunada a las 368.00.\n",
      "La persona [146] pasa a la mesa de vacunacion : 368.00.\n",
      "La persona [141] fue vacunada a las 369.00.\n",
      "La persona [135] pasa a recibir su certificado a las 371.00.\n",
      "La persona [143] fue vacunada a las 371.00.\n",
      "Salida de la persona [134] sale del recinto a las 371.00.\n",
      "Tiempo Total De 134 = 28\n",
      "Inicio de la persona [147] llega al recinto Borja  372.00.\n",
      "La persona [147] no puede vacunarse \n",
      "La persona [142] fue vacunada a las 372.00.\n",
      "La persona [145] fue vacunada a las 372.00.\n",
      "Inicio de la persona [148] llega al recinto Borja  373.00.\n",
      "La persona [144] fue vacunada a las 373.00.\n",
      "La persona [148] pasa a la mesa de vacunacion : 373.00.\n",
      "Salida de la persona [135] sale del recinto a las 374.00.\n",
      "Tiempo Total De 135 = 30\n",
      "La persona [136] pasa a recibir su certificado a las 377.00.\n",
      "La persona [146] fue vacunada a las 377.00.\n",
      "Inicio de la persona [149] llega al recinto Borja  378.00.\n",
      "La persona [149] pasa a la mesa de vacunacion : 378.00.\n",
      "Inicio de la persona [150] llega al recinto Borja  379.00.\n",
      "La persona [150] pasa a la mesa de vacunacion : 379.00.\n",
      "Salida de la persona [136] sale del recinto a las 380.00.\n",
      "Tiempo Total De 136 = 31\n",
      "La persona [137] pasa a recibir su certificado a las 381.00.\n",
      "La persona [138] pasa a recibir su certificado a las 381.00.\n",
      "La persona [148] fue vacunada a las 381.00.\n",
      "Inicio de la persona [151] llega al recinto Borja  383.00.\n",
      "La persona [151] pasa a la mesa de vacunacion : 383.00.\n",
      "Salida de la persona [138] sale del recinto a las 383.00.\n",
      "Tiempo Total De 138 = 29\n",
      "Salida de la persona [137] sale del recinto a las 384.00.\n",
      "Tiempo Total De 137 = 31\n",
      "La persona [149] fue vacunada a las 385.00.\n",
      "La persona [150] fue vacunada a las 386.00.\n",
      "Inicio de la persona [152] llega al recinto Borja  387.00.\n",
      "La persona [139] pasa a recibir su certificado a las 387.00.\n",
      "La persona [152] pasa a la mesa de vacunacion : 387.00.\n",
      "La persona [140] pasa a recibir su certificado a las 388.00.\n",
      "La persona [141] pasa a recibir su certificado a las 389.00.\n",
      "Salida de la persona [139] sale del recinto a las 389.00.\n",
      "Tiempo Total De 139 = 32\n",
      "Salida de la persona [140] sale del recinto a las 390.00.\n",
      "Tiempo Total De 140 = 32\n",
      "Inicio de la persona [153] llega al recinto Borja  391.00.\n",
      "La persona [143] pasa a recibir su certificado a las 391.00.\n",
      "La persona [153] pasa a la mesa de vacunacion : 391.00.\n",
      "Salida de la persona [141] sale del recinto a las 391.00.\n",
      "Tiempo Total De 141 = 30\n",
      "Inicio de la persona [154] llega al recinto Borja  392.00.\n",
      "La persona [142] pasa a recibir su certificado a las 392.00.\n",
      "La persona [145] pasa a recibir su certificado a las 392.00.\n",
      "La persona [151] fue vacunada a las 392.00.\n",
      "La persona [154] pasa a la mesa de vacunacion : 392.00.\n",
      "La persona [144] pasa a recibir su certificado a las 393.00.\n",
      "Salida de la persona [143] sale del recinto a las 393.00.\n",
      "Tiempo Total De 143 = 30\n",
      "Salida de la persona [145] sale del recinto a las 394.00.\n",
      "Tiempo Total De 145 = 27\n",
      "Inicio de la persona [155] llega al recinto Borja  395.00.\n",
      "La persona [155] pasa a la mesa de vacunacion : 395.00.\n",
      "Salida de la persona [142] sale del recinto a las 395.00.\n",
      "Tiempo Total De 142 = 33\n",
      "Salida de la persona [144] sale del recinto a las 395.00.\n",
      "Tiempo Total De 144 = 31\n",
      "La persona [152] fue vacunada a las 396.00.\n",
      "La persona [146] pasa a recibir su certificado a las 397.00.\n",
      "La persona [153] fue vacunada a las 398.00.\n",
      "La persona [154] fue vacunada a las 399.00.\n",
      "Salida de la persona [146] sale del recinto a las 399.00.\n",
      "Tiempo Total De 146 = 31\n",
      "Inicio de la persona [156] llega al recinto Borja  400.00.\n",
      "La persona [156] pasa a la mesa de vacunacion : 400.00.\n",
      "La persona [148] pasa a recibir su certificado a las 401.00.\n",
      "Inicio de la persona [157] llega al recinto Borja  402.00.\n",
      "La persona [157] no puede vacunarse \n",
      "La persona [155] fue vacunada a las 404.00.\n",
      "Salida de la persona [148] sale del recinto a las 404.00.\n",
      "Tiempo Total De 148 = 31\n",
      "La persona [149] pasa a recibir su certificado a las 405.00.\n",
      "Inicio de la persona [158] llega al recinto Borja  406.00.\n",
      "La persona [150] pasa a recibir su certificado a las 406.00.\n",
      "La persona [158] pasa a la mesa de vacunacion : 406.00.\n",
      "Salida de la persona [149] sale del recinto a las 407.00.\n",
      "Tiempo Total De 149 = 29\n",
      "La persona [156] fue vacunada a las 408.00.\n",
      "Salida de la persona [150] sale del recinto a las 409.00.\n",
      "Tiempo Total De 150 = 30\n",
      "Inicio de la persona [159] llega al recinto Borja  411.00.\n",
      "La persona [159] pasa a la mesa de vacunacion : 411.00.\n",
      "La persona [151] pasa a recibir su certificado a las 412.00.\n",
      "La persona [158] fue vacunada a las 412.00.\n",
      "Inicio de la persona [160] llega al recinto Borja  413.00.\n",
      "La persona [160] pasa a la mesa de vacunacion : 413.00.\n",
      "Salida de la persona [151] sale del recinto a las 414.00.\n",
      "Tiempo Total De 151 = 31\n",
      "La persona [152] pasa a recibir su certificado a las 416.00.\n",
      "Inicio de la persona [161] llega al recinto Borja  417.00.\n",
      "La persona [159] fue vacunada a las 417.00.\n",
      "La persona [161] pasa a la mesa de vacunacion : 417.00.\n",
      "La persona [153] pasa a recibir su certificado a las 418.00.\n",
      "Salida de la persona [152] sale del recinto a las 418.00.\n",
      "Tiempo Total De 152 = 31\n",
      "La persona [154] pasa a recibir su certificado a las 419.00.\n",
      "La persona [160] fue vacunada a las 419.00.\n",
      "Inicio de la persona [162] llega al recinto Borja  420.00.\n",
      "La persona [162] pasa a la mesa de vacunacion : 420.00.\n",
      "Inicio de la persona [163] llega al recinto Borja  421.00.\n",
      "Salida de la persona [153] sale del recinto a las 421.00.\n",
      "Tiempo Total De 153 = 30\n",
      "Salida de la persona [154] sale del recinto a las 421.00.\n",
      "Tiempo Total De 154 = 29\n",
      "La persona [163] pasa a la mesa de vacunacion : 421.00.\n",
      "La persona [161] fue vacunada a las 423.00.\n",
      "La persona [155] pasa a recibir su certificado a las 424.00.\n",
      "Inicio de la persona [164] llega al recinto Borja  425.00.\n",
      "La persona [164] pasa a la mesa de vacunacion : 425.00.\n",
      "Inicio de la persona [165] llega al recinto Borja  426.00.\n",
      "La persona [165] pasa a la mesa de vacunacion : 426.00.\n",
      "Salida de la persona [155] sale del recinto a las 427.00.\n",
      "Tiempo Total De 155 = 32\n",
      "Inicio de la persona [166] llega al recinto Borja  428.00.\n",
      "La persona [156] pasa a recibir su certificado a las 428.00.\n",
      "La persona [166] pasa a la mesa de vacunacion : 428.00.\n",
      "Inicio de la persona [167] llega al recinto Borja  429.00.\n",
      "La persona [163] fue vacunada a las 429.00.\n",
      "La persona [167] pasa a la mesa de vacunacion : 429.00.\n",
      "Inicio de la persona [168] llega al recinto Borja  430.00.\n",
      "La persona [162] fue vacunada a las 430.00.\n",
      "Salida de la persona [156] sale del recinto a las 430.00.\n",
      "Tiempo Total De 156 = 30\n",
      "La persona [168] pasa a la mesa de vacunacion : 430.00.\n",
      "La persona [165] fue vacunada a las 431.00.\n",
      "La persona [158] pasa a recibir su certificado a las 432.00.\n",
      "La persona [164] fue vacunada a las 432.00.\n",
      "Inicio de la persona [169] llega al recinto Borja  434.00.\n",
      "La persona [167] fue vacunada a las 434.00.\n",
      "La persona [169] pasa a la mesa de vacunacion : 434.00.\n",
      "Salida de la persona [158] sale del recinto a las 434.00.\n",
      "Tiempo Total De 158 = 28\n",
      "Inicio de la persona [170] llega al recinto Borja  436.00.\n",
      "La persona [166] fue vacunada a las 436.00.\n",
      "La persona [170] pasa a la mesa de vacunacion : 436.00.\n",
      "La persona [159] pasa a recibir su certificado a las 437.00.\n",
      "Inicio de la persona [171] llega al recinto Borja  439.00.\n",
      "La persona [160] pasa a recibir su certificado a las 439.00.\n",
      "La persona [168] fue vacunada a las 439.00.\n",
      "La persona [171] pasa a la mesa de vacunacion : 439.00.\n",
      "Salida de la persona [159] sale del recinto a las 440.00.\n",
      "Tiempo Total De 159 = 29\n",
      "La persona [169] fue vacunada a las 442.00.\n",
      "Salida de la persona [160] sale del recinto a las 442.00.\n",
      "Tiempo Total De 160 = 29\n",
      "Inicio de la persona [172] llega al recinto Borja  443.00.\n",
      "La persona [161] pasa a recibir su certificado a las 443.00.\n",
      "La persona [170] fue vacunada a las 443.00.\n",
      "La persona [172] pasa a la mesa de vacunacion : 443.00.\n",
      "Inicio de la persona [173] llega al recinto Borja  444.00.\n",
      "La persona [173] no puede vacunarse \n",
      "Inicio de la persona [174] llega al recinto Borja  445.00.\n",
      "La persona [174] no puede vacunarse \n",
      "Salida de la persona [161] sale del recinto a las 446.00.\n",
      "Tiempo Total De 161 = 29\n",
      "Inicio de la persona [175] llega al recinto Borja  448.00.\n",
      "La persona [175] pasa a la mesa de vacunacion : 448.00.\n",
      "Inicio de la persona [176] llega al recinto Borja  449.00.\n",
      "La persona [163] pasa a recibir su certificado a las 449.00.\n",
      "La persona [171] fue vacunada a las 449.00.\n",
      "La persona [176] pasa a la mesa de vacunacion : 449.00.\n",
      "Inicio de la persona [177] llega al recinto Borja  450.00.\n",
      "La persona [162] pasa a recibir su certificado a las 450.00.\n",
      "La persona [177] pasa a la mesa de vacunacion : 450.00.\n",
      "La persona [165] pasa a recibir su certificado a las 451.00.\n",
      "La persona [172] fue vacunada a las 451.00.\n",
      "Salida de la persona [163] sale del recinto a las 451.00.\n",
      "Tiempo Total De 163 = 30\n",
      "Inicio de la persona [178] llega al recinto Borja  452.00.\n",
      "La persona [164] pasa a recibir su certificado a las 452.00.\n",
      "La persona [178] pasa a la mesa de vacunacion : 452.00.\n",
      "Salida de la persona [162] sale del recinto a las 453.00.\n",
      "Tiempo Total De 162 = 33\n",
      "La persona [167] pasa a recibir su certificado a las 454.00.\n",
      "Salida de la persona [165] sale del recinto a las 454.00.\n",
      "Tiempo Total De 165 = 28\n",
      "Salida de la persona [164] sale del recinto a las 454.00.\n",
      "Tiempo Total De 164 = 29\n",
      "Inicio de la persona [179] llega al recinto Borja  455.00.\n",
      "La persona [179] pasa a la mesa de vacunacion : 455.00.\n",
      "La persona [166] pasa a recibir su certificado a las 456.00.\n",
      "La persona [175] fue vacunada a las 456.00.\n",
      "Salida de la persona [167] sale del recinto a las 456.00.\n",
      "Tiempo Total De 167 = 27\n",
      "Inicio de la persona [180] llega al recinto Borja  457.00.\n",
      "La persona [180] pasa a la mesa de vacunacion : 457.00.\n",
      "La persona [176] fue vacunada a las 458.00.\n",
      "La persona [168] pasa a recibir su certificado a las 459.00.\n",
      "La persona [177] fue vacunada a las 459.00.\n",
      "Salida de la persona [166] sale del recinto a las 459.00.\n",
      "Tiempo Total De 166 = 31\n",
      "Salida de la persona [168] sale del recinto a las 461.00.\n",
      "Tiempo Total De 168 = 31\n",
      "Inicio de la persona [181] llega al recinto Borja  462.00.\n",
      "La persona [169] pasa a recibir su certificado a las 462.00.\n",
      "La persona [178] fue vacunada a las 462.00.\n",
      "La persona [181] pasa a la mesa de vacunacion : 462.00.\n",
      "La persona [170] pasa a recibir su certificado a las 463.00.\n",
      "Inicio de la persona [182] llega al recinto Borja  464.00.\n",
      "La persona [182] no puede vacunarse \n",
      "La persona [179] fue vacunada a las 464.00.\n",
      "Salida de la persona [169] sale del recinto a las 464.00.\n",
      "Tiempo Total De 169 = 30\n",
      "Inicio de la persona [183] llega al recinto Borja  465.00.\n",
      "La persona [183] pasa a la mesa de vacunacion : 465.00.\n",
      "La persona [180] fue vacunada a las 466.00.\n",
      "Salida de la persona [170] sale del recinto a las 466.00.\n",
      "Tiempo Total De 170 = 30\n",
      "Inicio de la persona [184] llega al recinto Borja  469.00.\n",
      "La persona [171] pasa a recibir su certificado a las 469.00.\n",
      "La persona [181] fue vacunada a las 469.00.\n",
      "La persona [184] pasa a la mesa de vacunacion : 469.00.\n",
      "Inicio de la persona [185] llega al recinto Borja  470.00.\n",
      "La persona [185] pasa a la mesa de vacunacion : 470.00.\n",
      "Inicio de la persona [186] llega al recinto Borja  471.00.\n",
      "La persona [172] pasa a recibir su certificado a las 471.00.\n",
      "La persona [183] fue vacunada a las 471.00.\n",
      "Salida de la persona [171] sale del recinto a las 471.00.\n",
      "Tiempo Total De 171 = 32\n",
      "La persona [186] pasa a la mesa de vacunacion : 471.00.\n",
      "Inicio de la persona [187] llega al recinto Borja  473.00.\n",
      "La persona [187] pasa a la mesa de vacunacion : 473.00.\n",
      "Inicio de la persona [188] llega al recinto Borja  474.00.\n",
      "Salida de la persona [172] sale del recinto a las 474.00.\n",
      "Tiempo Total De 172 = 31\n",
      "La persona [188] pasa a la mesa de vacunacion : 474.00.\n",
      "Inicio de la persona [189] llega al recinto Borja  475.00.\n",
      "La persona [189] pasa a la mesa de vacunacion : 475.00.\n",
      "Inicio de la persona [190] llega al recinto Borja  476.00.\n",
      "La persona [175] pasa a recibir su certificado a las 476.00.\n",
      "La persona [190] pasa a la mesa de vacunacion : 476.00.\n",
      "La persona [176] pasa a recibir su certificado a las 478.00.\n",
      "La persona [185] fue vacunada a las 478.00.\n",
      "La persona [186] fue vacunada a las 478.00.\n",
      "La persona [187] fue vacunada a las 478.00.\n",
      "Salida de la persona [175] sale del recinto a las 478.00.\n",
      "Tiempo Total De 175 = 30\n",
      "La persona [177] pasa a recibir su certificado a las 479.00.\n",
      "La persona [184] fue vacunada a las 479.00.\n"
     ]
    }
   ],
   "source": [
    "def ejecutar_simulacion(env,esperaobligatoria, controlmesa,tiempoVacunacion):\n",
    "    gene_vacunacion=Principal(env,esperaobligatoria, controlmesa,tiempoVacunacion)\n",
    "    global PERSONAS \n",
    "    \n",
    "    # Creamos fila de  20 persona que llegan y esperan afuera hasta que abran las puertas.\n",
    "    for i in range(FILA_INGRESO):\n",
    "        env.process(recinto_borja(env, '%d'%(i+1), gene_vacunacion))\n",
    "        PERSONAS =PERSONAS+1\n",
    "    \n",
    "    \n",
    "    # Ejecutamos la simulacion\n",
    "    while True:\n",
    "        #Intervalo Llegada\n",
    "        yield env.timeout(random.randint(1,5))\n",
    "        i+=1\n",
    "        PERSONAS=PERSONAS+1\n",
    "        #print(\"Total:\",PERSONAS)\n",
    "        env.process(recinto_borja(env,'%d'%(i+1), gene_vacunacion))  \n",
    "    \n",
    "\n",
    "print('Simulacion Vacunacion Ecuador')\n",
    "\n",
    "# Inicializamos la semilla aleatoria\n",
    "random.seed(77)\n",
    "\n",
    "# Creamos el entorno de simulacion\n",
    "env=simpy.Environment()\n",
    "env.process(ejecutar_simulacion(env,ESPERA_OBLIGATORIA,CANTIDAD_MESA,TIEMPO_VACUNACION))\n",
    "\n",
    "# Ejecutamos el proceso durante el tiempo de simulacion\n",
    "env.run(until = TIEMPO_LABORAL)"
   ]
  },
  {
   "cell_type": "code",
   "execution_count": 40,
   "id": "54ea5dc7",
   "metadata": {},
   "outputs": [
    {
     "name": "stdout",
     "output_type": "stream",
     "text": [
      "************************** Vacunacion Recinto Borja ******************************\n",
      "Tiempo Laboral del recinto: 8.0  horas\n",
      "Cantida De Mesas en el recinto:  20\n",
      "De una total de 190\n",
      "Se Vacunaron un total de: 164\n",
      "No se Vacunaron un total de: 26\n",
      "Tiempo promedio de vacunados : 2.93\n"
     ]
    }
   ],
   "source": [
    "print(\"************************** Vacunacion Recinto Borja ******************************\")\n",
    "print(\"Tiempo Laboral del recinto:\",TIEMPO_LABORAL/60,\" horas\")\n",
    "print(\"Cantida De Mesas en el recinto: \",CANTIDAD_MESA)\n",
    "print(\"De una total de\",PERSONAS)\n",
    "print(\"Se Vacunaron un total de:\",len(DICCIONARIO_TIEMPO_DE_ESPERA))\n",
    "print(\"No se Vacunaron un total de:\",PERSONAS-len(DICCIONARIO_TIEMPO_DE_ESPERA))\n",
    "print(\"Tiempo promedio de vacunados :\",round(TIEMPO_LABORAL/len(DICCIONARIO_TIEMPO_DE_ESPERA),2))"
   ]
  },
  {
   "cell_type": "code",
   "execution_count": 41,
   "id": "61c89220",
   "metadata": {
    "scrolled": true
   },
   "outputs": [
    {
     "data": {
      "image/png": "[encoded data removed]",
      "text/plain": [
       "<Figure size 432x288 with 1 Axes>"
      ]
     },
     "metadata": {},
     "output_type": "display_data"
    }
   ],
   "source": [
    "import matplotlib.pyplot as plt\n",
    "\n",
    "gen = [PERSONAS,PERSONAS-len(DICCIONARIO_TIEMPO_DE_ESPERA)]\n",
    "colores = [\"#EE6055\",\"#60D394\"]\n",
    "nombres = [\"Vacunados\",\"No Vacunados\"]\n",
    "desfase = (0, 0.1)\n",
    "plt.pie(gen, labels=nombres, autopct=\"%0.1f %%\", colors=colores,explode=desfase)\n",
    "plt.show()"
   ]
  },
  {
   "cell_type": "code",
   "execution_count": 42,
   "id": "7c52e314",
   "metadata": {
    "scrolled": false
   },
   "outputs": [
    {
     "data": {
      "application/vnd.plotly.v1+json": {
       "config": {
        "plotlyServerURL": "https://plot.ly"
       },
       "data": [
        {
         "alignmentgroup": "True",
         "hovertemplate": "persona=%{x}<br>tiempo=%{y}<extra></extra>",
         "legendgroup": "",
         "marker": {
          "color": "#636efa"
         },
         "name": "",
         "offsetgroup": "",
         "orientation": "v",
         "showlegend": false,
         "textposition": "auto",
         "type": "bar",
         "x": [
          7,
          16,
          19,
          6,
          15,
          12,
          14,
          18,
          2,
          1,
          3,
          5,
          20,
          17,
          4,
          10,
          11,
          13,
          21,
          22,
          23,
          26,
          25,
          24,
          28,
          31,
          30,
          29,
          32,
          34,
          33,
          35,
          36,
          37,
          38,
          39,
          40,
          41,
          42,
          43,
          44,
          45,
          46,
          47,
          48,
          49,
          50,
          51,
          52,
          53,
          54,
          55,
          56,
          57,
          58,
          60,
          59,
          61,
          62,
          63,
          65,
          64,
          66,
          67,
          68,
          69,
          70,
          71,
          72,
          73,
          74,
          75,
          76,
          77,
          78,
          80,
          79,
          82,
          81,
          83,
          84,
          86,
          87,
          88,
          89,
          91,
          92,
          93,
          94,
          95,
          96,
          97,
          98,
          100,
          99,
          101,
          102,
          103,
          106,
          105,
          107,
          109,
          108,
          110,
          111,
          112,
          114,
          113,
          116,
          115,
          117,
          118,
          120,
          119,
          121,
          122,
          123,
          124,
          126,
          127,
          128,
          129,
          130,
          131,
          132,
          133,
          134,
          135,
          136,
          138,
          137,
          139,
          140,
          141,
          143,
          145,
          142,
          144,
          146,
          148,
          149,
          150,
          151,
          152,
          153,
          154,
          155,
          156,
          158,
          159,
          160,
          161,
          163,
          162,
          165,
          164,
          167,
          166,
          168,
          169,
          170,
          171,
          172,
          175
         ],
         "xaxis": "x",
         "y": [
          27,
          27,
          27,
          28,
          28,
          29,
          29,
          30,
          31,
          31,
          31,
          31,
          31,
          32,
          32,
          32,
          32,
          33,
          33,
          32,
          45,
          38,
          41,
          48,
          36,
          30,
          34,
          36,
          29,
          31,
          33,
          31,
          32,
          29,
          28,
          28,
          27,
          30,
          29,
          30,
          32,
          31,
          27,
          29,
          32,
          33,
          30,
          32,
          27,
          32,
          30,
          31,
          28,
          32,
          31,
          27,
          32,
          30,
          31,
          31,
          31,
          32,
          29,
          30,
          31,
          30,
          32,
          31,
          31,
          31,
          28,
          31,
          27,
          31,
          27,
          27,
          30,
          27,
          31,
          29,
          31,
          30,
          31,
          29,
          30,
          32,
          30,
          33,
          30,
          32,
          29,
          28,
          32,
          31,
          33,
          28,
          28,
          28,
          29,
          32,
          32,
          29,
          30,
          27,
          31,
          29,
          27,
          30,
          29,
          30,
          28,
          32,
          29,
          32,
          31,
          30,
          33,
          33,
          28,
          32,
          28,
          28,
          29,
          33,
          30,
          27,
          28,
          30,
          31,
          29,
          31,
          32,
          32,
          30,
          30,
          27,
          33,
          31,
          31,
          31,
          29,
          30,
          31,
          31,
          30,
          29,
          32,
          30,
          28,
          29,
          29,
          29,
          30,
          33,
          28,
          29,
          27,
          31,
          31,
          30,
          30,
          32,
          31,
          30
         ],
         "yaxis": "y"
        }
       ],
       "layout": {
        "barmode": "relative",
        "legend": {
         "tracegroupgap": 0
        },
        "template": {
         "data": {
          "bar": [
           {
            "error_x": {
             "color": "#2a3f5f"
            },
            "error_y": {
             "color": "#2a3f5f"
            },
            "marker": {
             "line": {
              "color": "#E5ECF6",
              "width": 0.5
             }
            },
            "type": "bar"
           }
          ],
          "barpolar": [
           {
            "marker": {
             "line": {
              "color": "#E5ECF6",
              "width": 0.5
             }
            },
            "type": "barpolar"
           }
          ],
          "carpet": [
           {
            "aaxis": {
             "endlinecolor": "#2a3f5f",
             "gridcolor": "white",
             "linecolor": "white",
             "minorgridcolor": "white",
             "startlinecolor": "#2a3f5f"
            },
            "baxis": {
             "endlinecolor": "#2a3f5f",
             "gridcolor": "white",
             "linecolor": "white",
             "minorgridcolor": "white",
             "startlinecolor": "#2a3f5f"
            },
            "type": "carpet"
           }
          ],
          "choropleth": [
           {
            "colorbar": {
             "outlinewidth": 0,
             "ticks": ""
            },
            "type": "choropleth"
           }
          ],
          "contour": [
           {
            "colorbar": {
             "outlinewidth": 0,
             "ticks": ""
            },
            "colorscale": [
             [
              0,
              "#0d0887"
             ],
             [
              0.1111111111111111,
              "#46039f"
             ],
             [
              0.2222222222222222,
              "#7201a8"
             ],
             [
              0.3333333333333333,
              "#9c179e"
             ],
             [
              0.4444444444444444,
              "#bd3786"
             ],
             [
              0.5555555555555556,
              "#d8576b"
             ],
             [
              0.6666666666666666,
              "#ed7953"
             ],
             [
              0.7777777777777778,
              "#fb9f3a"
             ],
             [
              0.8888888888888888,
              "#fdca26"
             ],
             [
              1,
              "#f0f921"
             ]
            ],
            "type": "contour"
           }
          ],
          "contourcarpet": [
           {
            "colorbar": {
             "outlinewidth": 0,
             "ticks": ""
            },
            "type": "contourcarpet"
           }
          ],
          "heatmap": [
           {
            "colorbar": {
             "outlinewidth": 0,
             "ticks": ""
            },
            "colorscale": [
             [
              0,
              "#0d0887"
             ],
             [
              0.1111111111111111,
              "#46039f"
             ],
             [
              0.2222222222222222,
              "#7201a8"
             ],
             [
              0.3333333333333333,
              "#9c179e"
             ],
             [
              0.4444444444444444,
              "#bd3786"
             ],
             [
              0.5555555555555556,
              "#d8576b"
             ],
             [
              0.6666666666666666,
              "#ed7953"
             ],
             [
              0.7777777777777778,
              "#fb9f3a"
             ],
             [
              0.8888888888888888,
              "#fdca26"
             ],
             [
              1,
              "#f0f921"
             ]
            ],
            "type": "heatmap"
           }
          ],
          "heatmapgl": [
           {
            "colorbar": {
             "outlinewidth": 0,
             "ticks": ""
            },
            "colorscale": [
             [
              0,
              "#0d0887"
             ],
             [
              0.1111111111111111,
              "#46039f"
             ],
             [
              0.2222222222222222,
              "#7201a8"
             ],
             [
              0.3333333333333333,
              "#9c179e"
             ],
             [
              0.4444444444444444,
              "#bd3786"
             ],
             [
              0.5555555555555556,
              "#d8576b"
             ],
             [
              0.6666666666666666,
              "#ed7953"
             ],
             [
              0.7777777777777778,
              "#fb9f3a"
             ],
             [
              0.8888888888888888,
              "#fdca26"
             ],
             [
              1,
              "#f0f921"
             ]
            ],
            "type": "heatmapgl"
           }
          ],
          "histogram": [
           {
            "marker": {
             "colorbar": {
              "outlinewidth": 0,
              "ticks": ""
             }
            },
            "type": "histogram"
           }
          ],
          "histogram2d": [
           {
            "colorbar": {
             "outlinewidth": 0,
             "ticks": ""
            },
            "colorscale": [
             [
              0,
              "#0d0887"
             ],
             [
              0.1111111111111111,
              "#46039f"
             ],
             [
              0.2222222222222222,
              "#7201a8"
             ],
             [
              0.3333333333333333,
              "#9c179e"
             ],
             [
              0.4444444444444444,
              "#bd3786"
             ],
             [
              0.5555555555555556,
              "#d8576b"
             ],
             [
              0.6666666666666666,
              "#ed7953"
             ],
             [
              0.7777777777777778,
              "#fb9f3a"
             ],
             [
              0.8888888888888888,
              "#fdca26"
             ],
             [
              1,
              "#f0f921"
             ]
            ],
            "type": "histogram2d"
           }
          ],
          "histogram2dcontour": [
           {
            "colorbar": {
             "outlinewidth": 0,
             "ticks": ""
            },
            "colorscale": [
             [
              0,
              "#0d0887"
             ],
             [
              0.1111111111111111,
              "#46039f"
             ],
             [
              0.2222222222222222,
              "#7201a8"
             ],
             [
              0.3333333333333333,
              "#9c179e"
             ],
             [
              0.4444444444444444,
              "#bd3786"
             ],
             [
              0.5555555555555556,
              "#d8576b"
             ],
             [
              0.6666666666666666,
              "#ed7953"
             ],
             [
              0.7777777777777778,
              "#fb9f3a"
             ],
             [
              0.8888888888888888,
              "#fdca26"
             ],
             [
              1,
              "#f0f921"
             ]
            ],
            "type": "histogram2dcontour"
           }
          ],
          "mesh3d": [
           {
            "colorbar": {
             "outlinewidth": 0,
             "ticks": ""
            },
            "type": "mesh3d"
           }
          ],
          "parcoords": [
           {
            "line": {
             "colorbar": {
              "outlinewidth": 0,
              "ticks": ""
             }
            },
            "type": "parcoords"
           }
          ],
          "pie": [
           {
            "automargin": true,
            "type": "pie"
           }
          ],
          "scatter": [
           {
            "marker": {
             "colorbar": {
              "outlinewidth": 0,
              "ticks": ""
             }
            },
            "type": "scatter"
           }
          ],
          "scatter3d": [
           {
            "line": {
             "colorbar": {
              "outlinewidth": 0,
              "ticks": ""
             }
            },
            "marker": {
             "colorbar": {
              "outlinewidth": 0,
              "ticks": ""
             }
            },
            "type": "scatter3d"
           }
          ],
          "scattercarpet": [
           {
            "marker": {
             "colorbar": {
              "outlinewidth": 0,
              "ticks": ""
             }
            },
            "type": "scattercarpet"
           }
          ],
          "scattergeo": [
           {
            "marker": {
             "colorbar": {
              "outlinewidth": 0,
              "ticks": ""
             }
            },
            "type": "scattergeo"
           }
          ],
          "scattergl": [
           {
            "marker": {
             "colorbar": {
              "outlinewidth": 0,
              "ticks": ""
             }
            },
            "type": "scattergl"
           }
          ],
          "scattermapbox": [
           {
            "marker": {
             "colorbar": {
              "outlinewidth": 0,
              "ticks": ""
             }
            },
            "type": "scattermapbox"
           }
          ],
          "scatterpolar": [
           {
            "marker": {
             "colorbar": {
              "outlinewidth": 0,
              "ticks": ""
             }
            },
            "type": "scatterpolar"
           }
          ],
          "scatterpolargl": [
           {
            "marker": {
             "colorbar": {
              "outlinewidth": 0,
              "ticks": ""
             }
            },
            "type": "scatterpolargl"
           }
          ],
          "scatterternary": [
           {
            "marker": {
             "colorbar": {
              "outlinewidth": 0,
              "ticks": ""
             }
            },
            "type": "scatterternary"
           }
          ],
          "surface": [
           {
            "colorbar": {
             "outlinewidth": 0,
             "ticks": ""
            },
            "colorscale": [
             [
              0,
              "#0d0887"
             ],
             [
              0.1111111111111111,
              "#46039f"
             ],
             [
              0.2222222222222222,
              "#7201a8"
             ],
             [
              0.3333333333333333,
              "#9c179e"
             ],
             [
              0.4444444444444444,
              "#bd3786"
             ],
             [
              0.5555555555555556,
              "#d8576b"
             ],
             [
              0.6666666666666666,
              "#ed7953"
             ],
             [
              0.7777777777777778,
              "#fb9f3a"
             ],
             [
              0.8888888888888888,
              "#fdca26"
             ],
             [
              1,
              "#f0f921"
             ]
            ],
            "type": "surface"
           }
          ],
          "table": [
           {
            "cells": {
             "fill": {
              "color": "#EBF0F8"
             },
             "line": {
              "color": "white"
             }
            },
            "header": {
             "fill": {
              "color": "#C8D4E3"
             },
             "line": {
              "color": "white"
             }
            },
            "type": "table"
           }
          ]
         },
         "layout": {
          "annotationdefaults": {
           "arrowcolor": "#2a3f5f",
           "arrowhead": 0,
           "arrowwidth": 1
          },
          "autotypenumbers": "strict",
          "coloraxis": {
           "colorbar": {
            "outlinewidth": 0,
            "ticks": ""
           }
          },
          "colorscale": {
           "diverging": [
            [
             0,
             "#8e0152"
            ],
            [
             0.1,
             "#c51b7d"
            ],
            [
             0.2,
             "#de77ae"
            ],
            [
             0.3,
             "#f1b6da"
            ],
            [
             0.4,
             "#fde0ef"
            ],
            [
             0.5,
             "#f7f7f7"
            ],
            [
             0.6,
             "#e6f5d0"
            ],
            [
             0.7,
             "#b8e186"
            ],
            [
             0.8,
             "#7fbc41"
            ],
            [
             0.9,
             "#4d9221"
            ],
            [
             1,
             "#276419"
            ]
           ],
           "sequential": [
            [
             0,
             "#0d0887"
            ],
            [
             0.1111111111111111,
             "#46039f"
            ],
            [
             0.2222222222222222,
             "#7201a8"
            ],
            [
             0.3333333333333333,
             "#9c179e"
            ],
            [
             0.4444444444444444,
             "#bd3786"
            ],
            [
             0.5555555555555556,
             "#d8576b"
            ],
            [
             0.6666666666666666,
             "#ed7953"
            ],
            [
             0.7777777777777778,
             "#fb9f3a"
            ],
            [
             0.8888888888888888,
             "#fdca26"
            ],
            [
             1,
             "#f0f921"
            ]
           ],
           "sequentialminus": [
            [
             0,
             "#0d0887"
            ],
            [
             0.1111111111111111,
             "#46039f"
            ],
            [
             0.2222222222222222,
             "#7201a8"
            ],
            [
             0.3333333333333333,
             "#9c179e"
            ],
            [
             0.4444444444444444,
             "#bd3786"
            ],
            [
             0.5555555555555556,
             "#d8576b"
            ],
            [
             0.6666666666666666,
             "#ed7953"
            ],
            [
             0.7777777777777778,
             "#fb9f3a"
            ],
            [
             0.8888888888888888,
             "#fdca26"
            ],
            [
             1,
             "#f0f921"
            ]
           ]
          },
          "colorway": [
           "#636efa",
           "#EF553B",
           "#00cc96",
           "#ab63fa",
           "#FFA15A",
           "#19d3f3",
           "#FF6692",
           "#B6E880",
           "#FF97FF",
           "#FECB52"
          ],
          "font": {
           "color": "#2a3f5f"
          },
          "geo": {
           "bgcolor": "white",
           "lakecolor": "white",
           "landcolor": "#E5ECF6",
           "showlakes": true,
           "showland": true,
           "subunitcolor": "white"
          },
          "hoverlabel": {
           "align": "left"
          },
          "hovermode": "closest",
          "mapbox": {
           "style": "light"
          },
          "paper_bgcolor": "white",
          "plot_bgcolor": "#E5ECF6",
          "polar": {
           "angularaxis": {
            "gridcolor": "white",
            "linecolor": "white",
            "ticks": ""
           },
           "bgcolor": "#E5ECF6",
           "radialaxis": {
            "gridcolor": "white",
            "linecolor": "white",
            "ticks": ""
           }
          },
          "scene": {
           "xaxis": {
            "backgroundcolor": "#E5ECF6",
            "gridcolor": "white",
            "gridwidth": 2,
            "linecolor": "white",
            "showbackground": true,
            "ticks": "",
            "zerolinecolor": "white"
           },
           "yaxis": {
            "backgroundcolor": "#E5ECF6",
            "gridcolor": "white",
            "gridwidth": 2,
            "linecolor": "white",
            "showbackground": true,
            "ticks": "",
            "zerolinecolor": "white"
           },
           "zaxis": {
            "backgroundcolor": "#E5ECF6",
            "gridcolor": "white",
            "gridwidth": 2,
            "linecolor": "white",
            "showbackground": true,
            "ticks": "",
            "zerolinecolor": "white"
           }
          },
          "shapedefaults": {
           "line": {
            "color": "#2a3f5f"
           }
          },
          "ternary": {
           "aaxis": {
            "gridcolor": "white",
            "linecolor": "white",
            "ticks": ""
           },
           "baxis": {
            "gridcolor": "white",
            "linecolor": "white",
            "ticks": ""
           },
           "bgcolor": "#E5ECF6",
           "caxis": {
            "gridcolor": "white",
            "linecolor": "white",
            "ticks": ""
           }
          },
          "title": {
           "x": 0.05
          },
          "xaxis": {
           "automargin": true,
           "gridcolor": "white",
           "linecolor": "white",
           "ticks": "",
           "title": {
            "standoff": 15
           },
           "zerolinecolor": "white",
           "zerolinewidth": 2
          },
          "yaxis": {
           "automargin": true,
           "gridcolor": "white",
           "linecolor": "white",
           "ticks": "",
           "title": {
            "standoff": 15
           },
           "zerolinecolor": "white",
           "zerolinewidth": 2
          }
         }
        },
        "title": {
         "text": "Grafico De Las Personas Vacunadas En Funcion del tiempo"
        },
        "xaxis": {
         "anchor": "y",
         "domain": [
          0,
          1
         ],
         "title": {
          "text": "persona"
         }
        },
        "yaxis": {
         "anchor": "x",
         "domain": [
          0,
          1
         ],
         "title": {
          "text": "tiempo"
         }
        }
       }
      },
      "text/html": [
       "<div>                            <div id=\"80c61f41-8ab4-4687-9138-c3a874d9e872\" class=\"plotly-graph-div\" style=\"height:525px; width:100%;\"></div>            <script type=\"text/javascript\">                require([\"plotly\"], function(Plotly) {                    window.PLOTLYENV=window.PLOTLYENV || {};                                    if (document.getElementById(\"80c61f41-8ab4-4687-9138-c3a874d9e872\")) {                    Plotly.newPlot(                        \"80c61f41-8ab4-4687-9138-c3a874d9e872\",                        [{\"alignmentgroup\": \"True\", \"hovertemplate\": \"persona=%{x}<br>tiempo=%{y}<extra></extra>\", \"legendgroup\": \"\", \"marker\": {\"color\": \"#636efa\"}, \"name\": \"\", \"offsetgroup\": \"\", \"orientation\": \"v\", \"showlegend\": false, \"textposition\": \"auto\", \"type\": \"bar\", \"x\": [7, 16, 19, 6, 15, 12, 14, 18, 2, 1, 3, 5, 20, 17, 4, 10, 11, 13, 21, 22, 23, 26, 25, 24, 28, 31, 30, 29, 32, 34, 33, 35, 36, 37, 38, 39, 40, 41, 42, 43, 44, 45, 46, 47, 48, 49, 50, 51, 52, 53, 54, 55, 56, 57, 58, 60, 59, 61, 62, 63, 65, 64, 66, 67, 68, 69, 70, 71, 72, 73, 74, 75, 76, 77, 78, 80, 79, 82, 81, 83, 84, 86, 87, 88, 89, 91, 92, 93, 94, 95, 96, 97, 98, 100, 99, 101, 102, 103, 106, 105, 107, 109, 108, 110, 111, 112, 114, 113, 116, 115, 117, 118, 120, 119, 121, 122, 123, 124, 126, 127, 128, 129, 130, 131, 132, 133, 134, 135, 136, 138, 137, 139, 140, 141, 143, 145, 142, 144, 146, 148, 149, 150, 151, 152, 153, 154, 155, 156, 158, 159, 160, 161, 163, 162, 165, 164, 167, 166, 168, 169, 170, 171, 172, 175], \"xaxis\": \"x\", \"y\": [27, 27, 27, 28, 28, 29, 29, 30, 31, 31, 31, 31, 31, 32, 32, 32, 32, 33, 33, 32, 45, 38, 41, 48, 36, 30, 34, 36, 29, 31, 33, 31, 32, 29, 28, 28, 27, 30, 29, 30, 32, 31, 27, 29, 32, 33, 30, 32, 27, 32, 30, 31, 28, 32, 31, 27, 32, 30, 31, 31, 31, 32, 29, 30, 31, 30, 32, 31, 31, 31, 28, 31, 27, 31, 27, 27, 30, 27, 31, 29, 31, 30, 31, 29, 30, 32, 30, 33, 30, 32, 29, 28, 32, 31, 33, 28, 28, 28, 29, 32, 32, 29, 30, 27, 31, 29, 27, 30, 29, 30, 28, 32, 29, 32, 31, 30, 33, 33, 28, 32, 28, 28, 29, 33, 30, 27, 28, 30, 31, 29, 31, 32, 32, 30, 30, 27, 33, 31, 31, 31, 29, 30, 31, 31, 30, 29, 32, 30, 28, 29, 29, 29, 30, 33, 28, 29, 27, 31, 31, 30, 30, 32, 31, 30], \"yaxis\": \"y\"}],                        {\"barmode\": \"relative\", \"legend\": {\"tracegroupgap\": 0}, \"template\": {\"data\": {\"bar\": [{\"error_x\": {\"color\": \"#2a3f5f\"}, \"error_y\": {\"color\": \"#2a3f5f\"}, \"marker\": {\"line\": {\"color\": \"#E5ECF6\", \"width\": 0.5}}, \"type\": \"bar\"}], \"barpolar\": [{\"marker\": {\"line\": {\"color\": \"#E5ECF6\", \"width\": 0.5}}, \"type\": \"barpolar\"}], \"carpet\": [{\"aaxis\": {\"endlinecolor\": \"#2a3f5f\", \"gridcolor\": \"white\", \"linecolor\": \"white\", \"minorgridcolor\": \"white\", \"startlinecolor\": \"#2a3f5f\"}, \"baxis\": {\"endlinecolor\": \"#2a3f5f\", \"gridcolor\": \"white\", \"linecolor\": \"white\", \"minorgridcolor\": \"white\", \"startlinecolor\": \"#2a3f5f\"}, \"type\": \"carpet\"}], \"choropleth\": [{\"colorbar\": {\"outlinewidth\": 0, \"ticks\": \"\"}, \"type\": \"choropleth\"}], \"contour\": [{\"colorbar\": {\"outlinewidth\": 0, \"ticks\": \"\"}, \"colorscale\": [[0.0, \"#0d0887\"], [0.1111111111111111, \"#46039f\"], [0.2222222222222222, \"#7201a8\"], [0.3333333333333333, \"#9c179e\"], [0.4444444444444444, \"#bd3786\"], [0.5555555555555556, \"#d8576b\"], [0.6666666666666666, \"#ed7953\"], [0.7777777777777778, \"#fb9f3a\"], [0.8888888888888888, \"#fdca26\"], [1.0, \"#f0f921\"]], \"type\": \"contour\"}], \"contourcarpet\": [{\"colorbar\": {\"outlinewidth\": 0, \"ticks\": \"\"}, \"type\": \"contourcarpet\"}], \"heatmap\": [{\"colorbar\": {\"outlinewidth\": 0, \"ticks\": \"\"}, \"colorscale\": [[0.0, \"#0d0887\"], [0.1111111111111111, \"#46039f\"], [0.2222222222222222, \"#7201a8\"], [0.3333333333333333, \"#9c179e\"], [0.4444444444444444, \"#bd3786\"], [0.5555555555555556, \"#d8576b\"], [0.6666666666666666, \"#ed7953\"], [0.7777777777777778, \"#fb9f3a\"], [0.8888888888888888, \"#fdca26\"], [1.0, \"#f0f921\"]], \"type\": \"heatmap\"}], \"heatmapgl\": [{\"colorbar\": {\"outlinewidth\": 0, \"ticks\": \"\"}, \"colorscale\": [[0.0, \"#0d0887\"], [0.1111111111111111, \"#46039f\"], [0.2222222222222222, \"#7201a8\"], [0.3333333333333333, \"#9c179e\"], [0.4444444444444444, \"#bd3786\"], [0.5555555555555556, \"#d8576b\"], [0.6666666666666666, \"#ed7953\"], [0.7777777777777778, \"#fb9f3a\"], [0.8888888888888888, \"#fdca26\"], [1.0, \"#f0f921\"]], \"type\": \"heatmapgl\"}], \"histogram\": [{\"marker\": {\"colorbar\": {\"outlinewidth\": 0, \"ticks\": \"\"}}, \"type\": \"histogram\"}], \"histogram2d\": [{\"colorbar\": {\"outlinewidth\": 0, \"ticks\": \"\"}, \"colorscale\": [[0.0, \"#0d0887\"], [0.1111111111111111, \"#46039f\"], [0.2222222222222222, \"#7201a8\"], [0.3333333333333333, \"#9c179e\"], [0.4444444444444444, \"#bd3786\"], [0.5555555555555556, \"#d8576b\"], [0.6666666666666666, \"#ed7953\"], [0.7777777777777778, \"#fb9f3a\"], [0.8888888888888888, \"#fdca26\"], [1.0, \"#f0f921\"]], \"type\": \"histogram2d\"}], \"histogram2dcontour\": [{\"colorbar\": {\"outlinewidth\": 0, \"ticks\": \"\"}, \"colorscale\": [[0.0, \"#0d0887\"], [0.1111111111111111, \"#46039f\"], [0.2222222222222222, \"#7201a8\"], [0.3333333333333333, \"#9c179e\"], [0.4444444444444444, \"#bd3786\"], [0.5555555555555556, \"#d8576b\"], [0.6666666666666666, \"#ed7953\"], [0.7777777777777778, \"#fb9f3a\"], [0.8888888888888888, \"#fdca26\"], [1.0, \"#f0f921\"]], \"type\": \"histogram2dcontour\"}], \"mesh3d\": [{\"colorbar\": {\"outlinewidth\": 0, \"ticks\": \"\"}, \"type\": \"mesh3d\"}], \"parcoords\": [{\"line\": {\"colorbar\": {\"outlinewidth\": 0, \"ticks\": \"\"}}, \"type\": \"parcoords\"}], \"pie\": [{\"automargin\": true, \"type\": \"pie\"}], \"scatter\": [{\"marker\": {\"colorbar\": {\"outlinewidth\": 0, \"ticks\": \"\"}}, \"type\": \"scatter\"}], \"scatter3d\": [{\"line\": {\"colorbar\": {\"outlinewidth\": 0, \"ticks\": \"\"}}, \"marker\": {\"colorbar\": {\"outlinewidth\": 0, \"ticks\": \"\"}}, \"type\": \"scatter3d\"}], \"scattercarpet\": [{\"marker\": {\"colorbar\": {\"outlinewidth\": 0, \"ticks\": \"\"}}, \"type\": \"scattercarpet\"}], \"scattergeo\": [{\"marker\": {\"colorbar\": {\"outlinewidth\": 0, \"ticks\": \"\"}}, \"type\": \"scattergeo\"}], \"scattergl\": [{\"marker\": {\"colorbar\": {\"outlinewidth\": 0, \"ticks\": \"\"}}, \"type\": \"scattergl\"}], \"scattermapbox\": [{\"marker\": {\"colorbar\": {\"outlinewidth\": 0, \"ticks\": \"\"}}, \"type\": \"scattermapbox\"}], \"scatterpolar\": [{\"marker\": {\"colorbar\": {\"outlinewidth\": 0, \"ticks\": \"\"}}, \"type\": \"scatterpolar\"}], \"scatterpolargl\": [{\"marker\": {\"colorbar\": {\"outlinewidth\": 0, \"ticks\": \"\"}}, \"type\": \"scatterpolargl\"}], \"scatterternary\": [{\"marker\": {\"colorbar\": {\"outlinewidth\": 0, \"ticks\": \"\"}}, \"type\": \"scatterternary\"}], \"surface\": [{\"colorbar\": {\"outlinewidth\": 0, \"ticks\": \"\"}, \"colorscale\": [[0.0, \"#0d0887\"], [0.1111111111111111, \"#46039f\"], [0.2222222222222222, \"#7201a8\"], [0.3333333333333333, \"#9c179e\"], [0.4444444444444444, \"#bd3786\"], [0.5555555555555556, \"#d8576b\"], [0.6666666666666666, \"#ed7953\"], [0.7777777777777778, \"#fb9f3a\"], [0.8888888888888888, \"#fdca26\"], [1.0, \"#f0f921\"]], \"type\": \"surface\"}], \"table\": [{\"cells\": {\"fill\": {\"color\": \"#EBF0F8\"}, \"line\": {\"color\": \"white\"}}, \"header\": {\"fill\": {\"color\": \"#C8D4E3\"}, \"line\": {\"color\": \"white\"}}, \"type\": \"table\"}]}, \"layout\": {\"annotationdefaults\": {\"arrowcolor\": \"#2a3f5f\", \"arrowhead\": 0, \"arrowwidth\": 1}, \"autotypenumbers\": \"strict\", \"coloraxis\": {\"colorbar\": {\"outlinewidth\": 0, \"ticks\": \"\"}}, \"colorscale\": {\"diverging\": [[0, \"#8e0152\"], [0.1, \"#c51b7d\"], [0.2, \"#de77ae\"], [0.3, \"#f1b6da\"], [0.4, \"#fde0ef\"], [0.5, \"#f7f7f7\"], [0.6, \"#e6f5d0\"], [0.7, \"#b8e186\"], [0.8, \"#7fbc41\"], [0.9, \"#4d9221\"], [1, \"#276419\"]], \"sequential\": [[0.0, \"#0d0887\"], [0.1111111111111111, \"#46039f\"], [0.2222222222222222, \"#7201a8\"], [0.3333333333333333, \"#9c179e\"], [0.4444444444444444, \"#bd3786\"], [0.5555555555555556, \"#d8576b\"], [0.6666666666666666, \"#ed7953\"], [0.7777777777777778, \"#fb9f3a\"], [0.8888888888888888, \"#fdca26\"], [1.0, \"#f0f921\"]], \"sequentialminus\": [[0.0, \"#0d0887\"], [0.1111111111111111, \"#46039f\"], [0.2222222222222222, \"#7201a8\"], [0.3333333333333333, \"#9c179e\"], [0.4444444444444444, \"#bd3786\"], [0.5555555555555556, \"#d8576b\"], [0.6666666666666666, \"#ed7953\"], [0.7777777777777778, \"#fb9f3a\"], [0.8888888888888888, \"#fdca26\"], [1.0, \"#f0f921\"]]}, \"colorway\": [\"#636efa\", \"#EF553B\", \"#00cc96\", \"#ab63fa\", \"#FFA15A\", \"#19d3f3\", \"#FF6692\", \"#B6E880\", \"#FF97FF\", \"#FECB52\"], \"font\": {\"color\": \"#2a3f5f\"}, \"geo\": {\"bgcolor\": \"white\", \"lakecolor\": \"white\", \"landcolor\": \"#E5ECF6\", \"showlakes\": true, \"showland\": true, \"subunitcolor\": \"white\"}, \"hoverlabel\": {\"align\": \"left\"}, \"hovermode\": \"closest\", \"mapbox\": {\"style\": \"light\"}, \"paper_bgcolor\": \"white\", \"plot_bgcolor\": \"#E5ECF6\", \"polar\": {\"angularaxis\": {\"gridcolor\": \"white\", \"linecolor\": \"white\", \"ticks\": \"\"}, \"bgcolor\": \"#E5ECF6\", \"radialaxis\": {\"gridcolor\": \"white\", \"linecolor\": \"white\", \"ticks\": \"\"}}, \"scene\": {\"xaxis\": {\"backgroundcolor\": \"#E5ECF6\", \"gridcolor\": \"white\", \"gridwidth\": 2, \"linecolor\": \"white\", \"showbackground\": true, \"ticks\": \"\", \"zerolinecolor\": \"white\"}, \"yaxis\": {\"backgroundcolor\": \"#E5ECF6\", \"gridcolor\": \"white\", \"gridwidth\": 2, \"linecolor\": \"white\", \"showbackground\": true, \"ticks\": \"\", \"zerolinecolor\": \"white\"}, \"zaxis\": {\"backgroundcolor\": \"#E5ECF6\", \"gridcolor\": \"white\", \"gridwidth\": 2, \"linecolor\": \"white\", \"showbackground\": true, \"ticks\": \"\", \"zerolinecolor\": \"white\"}}, \"shapedefaults\": {\"line\": {\"color\": \"#2a3f5f\"}}, \"ternary\": {\"aaxis\": {\"gridcolor\": \"white\", \"linecolor\": \"white\", \"ticks\": \"\"}, \"baxis\": {\"gridcolor\": \"white\", \"linecolor\": \"white\", \"ticks\": \"\"}, \"bgcolor\": \"#E5ECF6\", \"caxis\": {\"gridcolor\": \"white\", \"linecolor\": \"white\", \"ticks\": \"\"}}, \"title\": {\"x\": 0.05}, \"xaxis\": {\"automargin\": true, \"gridcolor\": \"white\", \"linecolor\": \"white\", \"ticks\": \"\", \"title\": {\"standoff\": 15}, \"zerolinecolor\": \"white\", \"zerolinewidth\": 2}, \"yaxis\": {\"automargin\": true, \"gridcolor\": \"white\", \"linecolor\": \"white\", \"ticks\": \"\", \"title\": {\"standoff\": 15}, \"zerolinecolor\": \"white\", \"zerolinewidth\": 2}}}, \"title\": {\"text\": \"Grafico De Las Personas Vacunadas En Funcion del tiempo\"}, \"xaxis\": {\"anchor\": \"y\", \"domain\": [0.0, 1.0], \"title\": {\"text\": \"persona\"}}, \"yaxis\": {\"anchor\": \"x\", \"domain\": [0.0, 1.0], \"title\": {\"text\": \"tiempo\"}}},                        {\"responsive\": true}                    ).then(function(){\n",
       "                            \n",
       "var gd = document.getElementById('80c61f41-8ab4-4687-9138-c3a874d9e872');\n",
       "var x = new MutationObserver(function (mutations, observer) {{\n",
       "        var display = window.getComputedStyle(gd).display;\n",
       "        if (!display || display === 'none') {{\n",
       "            console.log([gd, 'removed!']);\n",
       "            Plotly.purge(gd);\n",
       "            observer.disconnect();\n",
       "        }}\n",
       "}});\n",
       "\n",
       "// Listen for the removal of the full notebook cells\n",
       "var notebookContainer = gd.closest('#notebook-container');\n",
       "if (notebookContainer) {{\n",
       "    x.observe(notebookContainer, {childList: true});\n",
       "}}\n",
       "\n",
       "// Listen for the clearing of the current output cell\n",
       "var outputEl = gd.closest('.output');\n",
       "if (outputEl) {{\n",
       "    x.observe(outputEl, {childList: true});\n",
       "}}\n",
       "\n",
       "                        })                };                });            </script>        </div>"
      ]
     },
     "metadata": {},
     "output_type": "display_data"
    }
   ],
   "source": [
    "import pandas as pd\n",
    "df = pd.DataFrame([[key, DICCIONARIO_TIEMPO_DE_ESPERA[key]] for key in DICCIONARIO_TIEMPO_DE_ESPERA.keys()], columns=['persona', 'tiempo'])\n",
    "import plotly.express as px\n",
    "fig = px.bar(df, x='persona', y=\"tiempo\",title=\"Grafico De Las Personas Vacunadas En Funcion del tiempo\")\n",
    "fig.show()\n"
   ]
  },
  {
   "cell_type": "markdown",
   "id": "f393dbf3",
   "metadata": {},
   "source": [
    "# Segunda Dosis "
   ]
  },
  {
   "cell_type": "code",
   "execution_count": 43,
   "id": "01c5ca3e",
   "metadata": {},
   "outputs": [],
   "source": [
    "PERSONAS_SEGUNDA_DOSIS=0\n",
    "CANTIDAD_MESA_SEGUNDA_DOSIS = 15\n",
    "ESPERA_OBLIGATORIA_SEGUNDA_DOSIS = 20\n",
    "TIEMPO_VACUNACION_SEGUNDA_DOSIS = 0\n",
    "TIEMPO_LABORAL_SEGUNDA_DOSIS = 480 \n",
    "\n",
    "\n",
    "DICCIONARIO_PERSONA_TIEMPO_VACUNACION = {}\n",
    "DICCIONARIO_TIEMPO_DE_ESPERA = {}\n",
    "DICCIONARIO_PERSONAS_NO_VACUNADAS = {}"
   ]
  },
  {
   "cell_type": "code",
   "execution_count": 44,
   "id": "b62c3355",
   "metadata": {},
   "outputs": [
    {
     "name": "stdout",
     "output_type": "stream",
     "text": [
      "Simulacion Vacunacion Ecuador mes Siguiente\n",
      "Inicio de la persona [1] llega al recinto Borja  0.00.\n",
      "Inicio de la persona [2] llega al recinto Borja  0.00.\n",
      "Inicio de la persona [3] llega al recinto Borja  0.00.\n",
      "Inicio de la persona [4] llega al recinto Borja  0.00.\n",
      "Inicio de la persona [5] llega al recinto Borja  0.00.\n",
      "Inicio de la persona [6] llega al recinto Borja  0.00.\n",
      "Inicio de la persona [7] llega al recinto Borja  0.00.\n",
      "Inicio de la persona [8] llega al recinto Borja  0.00.\n",
      "La persona [8] no puede vacunarse \n",
      "Inicio de la persona [9] llega al recinto Borja  0.00.\n",
      "La persona [9] no puede vacunarse \n",
      "Inicio de la persona [10] llega al recinto Borja  0.00.\n",
      "Inicio de la persona [11] llega al recinto Borja  0.00.\n",
      "Inicio de la persona [12] llega al recinto Borja  0.00.\n",
      "Inicio de la persona [13] llega al recinto Borja  0.00.\n",
      "Inicio de la persona [14] llega al recinto Borja  0.00.\n",
      "Inicio de la persona [15] llega al recinto Borja  0.00.\n",
      "Inicio de la persona [16] llega al recinto Borja  0.00.\n",
      "Inicio de la persona [17] llega al recinto Borja  0.00.\n",
      "Inicio de la persona [18] llega al recinto Borja  0.00.\n",
      "Inicio de la persona [19] llega al recinto Borja  0.00.\n",
      "Inicio de la persona [20] llega al recinto Borja  0.00.\n",
      "La persona [1] pasa a la mesa de vacunacion : 0.00.\n",
      "La persona [2] pasa a la mesa de vacunacion : 0.00.\n",
      "La persona [3] pasa a la mesa de vacunacion : 0.00.\n",
      "La persona [4] pasa a la mesa de vacunacion : 0.00.\n",
      "La persona [5] pasa a la mesa de vacunacion : 0.00.\n",
      "La persona [6] pasa a la mesa de vacunacion : 0.00.\n",
      "La persona [7] pasa a la mesa de vacunacion : 0.00.\n",
      "La persona [10] pasa a la mesa de vacunacion : 0.00.\n",
      "La persona [11] pasa a la mesa de vacunacion : 0.00.\n",
      "La persona [12] pasa a la mesa de vacunacion : 0.00.\n",
      "La persona [13] pasa a la mesa de vacunacion : 0.00.\n",
      "La persona [14] pasa a la mesa de vacunacion : 0.00.\n",
      "La persona [15] pasa a la mesa de vacunacion : 0.00.\n",
      "La persona [16] pasa a la mesa de vacunacion : 0.00.\n",
      "La persona [17] pasa a la mesa de vacunacion : 0.00.\n",
      "Inicio de la persona [21] llega al recinto Borja  3.00.\n",
      "La persona [6] fue vacunada a las 5.00.\n",
      "La persona [7] fue vacunada a las 5.00.\n",
      "La persona [15] fue vacunada a las 5.00.\n",
      "La persona [16] fue vacunada a las 5.00.\n",
      "La persona [12] fue vacunada a las 6.00.\n",
      "Inicio de la persona [22] llega al recinto Borja  7.00.\n",
      "La persona [14] fue vacunada a las 7.00.\n",
      "Inicio de la persona [23] llega al recinto Borja  8.00.\n",
      "La persona [2] fue vacunada a las 8.00.\n",
      "La persona [1] fue vacunada a las 9.00.\n",
      "La persona [3] fue vacunada a las 9.00.\n",
      "La persona [5] fue vacunada a las 9.00.\n",
      "La persona [17] fue vacunada a las 9.00.\n",
      "La persona [4] fue vacunada a las 10.00.\n",
      "La persona [10] fue vacunada a las 10.00.\n",
      "La persona [11] fue vacunada a las 10.00.\n",
      "La persona [13] fue vacunada a las 10.00.\n",
      "Inicio de la persona [24] llega al recinto Borja  13.00.\n",
      "Inicio de la persona [25] llega al recinto Borja  18.00.\n",
      "Inicio de la persona [26] llega al recinto Borja  22.00.\n",
      "La persona [6] pasa a recibir su certificado a las 25.00.\n",
      "La persona [7] pasa a recibir su certificado a las 25.00.\n",
      "La persona [15] pasa a recibir su certificado a las 25.00.\n",
      "La persona [16] pasa a recibir su certificado a las 25.00.\n",
      "La persona [12] pasa a recibir su certificado a las 26.00.\n",
      "Inicio de la persona [27] llega al recinto Borja  27.00.\n",
      "La persona [14] pasa a recibir su certificado a las 27.00.\n",
      "Salida de la persona [15] sale del recinto a las 27.00.\n",
      "Tiempo Total De 15 = 27\n",
      "La persona [18] pasa a la mesa de vacunacion : 27.00.\n",
      "Inicio de la persona [28] llega al recinto Borja  28.00.\n",
      "La persona [2] pasa a recibir su certificado a las 28.00.\n",
      "Salida de la persona [6] sale del recinto a las 28.00.\n",
      "Tiempo Total De 6 = 28\n",
      "Salida de la persona [7] sale del recinto a las 28.00.\n",
      "Tiempo Total De 7 = 28\n",
      "Salida de la persona [16] sale del recinto a las 28.00.\n",
      "Tiempo Total De 16 = 28\n",
      "Salida de la persona [12] sale del recinto a las 28.00.\n",
      "Tiempo Total De 12 = 28\n",
      "La persona [19] pasa a la mesa de vacunacion : 28.00.\n",
      "La persona [20] pasa a la mesa de vacunacion : 28.00.\n",
      "La persona [21] pasa a la mesa de vacunacion : 28.00.\n",
      "La persona [22] pasa a la mesa de vacunacion : 28.00.\n",
      "La persona [1] pasa a recibir su certificado a las 29.00.\n",
      "La persona [3] pasa a recibir su certificado a las 29.00.\n",
      "La persona [5] pasa a recibir su certificado a las 29.00.\n",
      "La persona [17] pasa a recibir su certificado a las 29.00.\n",
      "Salida de la persona [14] sale del recinto a las 29.00.\n",
      "Tiempo Total De 14 = 29\n",
      "La persona [23] pasa a la mesa de vacunacion : 29.00.\n",
      "La persona [4] pasa a recibir su certificado a las 30.00.\n",
      "La persona [10] pasa a recibir su certificado a las 30.00.\n",
      "La persona [11] pasa a recibir su certificado a las 30.00.\n",
      "La persona [13] pasa a recibir su certificado a las 30.00.\n",
      "Inicio de la persona [29] llega al recinto Borja  31.00.\n",
      "La persona [29] no puede vacunarse \n",
      "Salida de la persona [2] sale del recinto a las 31.00.\n",
      "Tiempo Total De 2 = 31\n",
      "Salida de la persona [1] sale del recinto a las 31.00.\n",
      "Tiempo Total De 1 = 31\n",
      "Salida de la persona [5] sale del recinto a las 31.00.\n",
      "Tiempo Total De 5 = 31\n",
      "Salida de la persona [17] sale del recinto a las 31.00.\n",
      "Tiempo Total De 17 = 31\n",
      "La persona [24] pasa a la mesa de vacunacion : 31.00.\n",
      "La persona [25] pasa a la mesa de vacunacion : 31.00.\n",
      "La persona [26] pasa a la mesa de vacunacion : 31.00.\n",
      "La persona [27] pasa a la mesa de vacunacion : 31.00.\n",
      "Salida de la persona [3] sale del recinto a las 32.00.\n",
      "Tiempo Total De 3 = 32\n",
      "Salida de la persona [4] sale del recinto a las 32.00.\n",
      "Tiempo Total De 4 = 32\n",
      "Salida de la persona [10] sale del recinto a las 32.00.\n",
      "Tiempo Total De 10 = 32\n",
      "La persona [28] pasa a la mesa de vacunacion : 32.00.\n",
      "Salida de la persona [11] sale del recinto a las 33.00.\n",
      "Tiempo Total De 11 = 33\n",
      "Salida de la persona [13] sale del recinto a las 33.00.\n",
      "Tiempo Total De 13 = 33\n",
      "Inicio de la persona [30] llega al recinto Borja  35.00.\n",
      "La persona [30] pasa a la mesa de vacunacion : 35.00.\n",
      "Inicio de la persona [31] llega al recinto Borja  36.00.\n",
      "La persona [22] fue vacunada a las 36.00.\n",
      "La persona [23] fue vacunada a las 36.00.\n",
      "La persona [24] fue vacunada a las 36.00.\n",
      "La persona [27] fue vacunada a las 36.00.\n",
      "La persona [31] pasa a la mesa de vacunacion : 36.00.\n",
      "La persona [18] fue vacunada a las 37.00.\n",
      "La persona [19] fue vacunada a las 37.00.\n",
      "La persona [20] fue vacunada a las 37.00.\n",
      "La persona [26] fue vacunada a las 37.00.\n",
      "La persona [21] fue vacunada a las 38.00.\n",
      "La persona [25] fue vacunada a las 39.00.\n",
      "Inicio de la persona [32] llega al recinto Borja  40.00.\n",
      "La persona [32] pasa a la mesa de vacunacion : 40.00.\n",
      "Inicio de la persona [33] llega al recinto Borja  41.00.\n",
      "La persona [33] pasa a la mesa de vacunacion : 41.00.\n",
      "La persona [28] fue vacunada a las 42.00.\n",
      "Inicio de la persona [34] llega al recinto Borja  43.00.\n",
      "La persona [31] fue vacunada a las 44.00.\n",
      "Inicio de la persona [35] llega al recinto Borja  45.00.\n",
      "La persona [30] fue vacunada a las 45.00.\n",
      "Inicio de la persona [36] llega al recinto Borja  47.00.\n",
      "La persona [32] fue vacunada a las 47.00.\n",
      "La persona [33] fue vacunada a las 47.00.\n",
      "Inicio de la persona [37] llega al recinto Borja  51.00.\n",
      "Inicio de la persona [38] llega al recinto Borja  56.00.\n",
      "La persona [22] pasa a recibir su certificado a las 56.00.\n",
      "La persona [23] pasa a recibir su certificado a las 56.00.\n",
      "La persona [24] pasa a recibir su certificado a las 56.00.\n",
      "La persona [27] pasa a recibir su certificado a las 56.00.\n",
      "La persona [18] pasa a recibir su certificado a las 57.00.\n",
      "La persona [19] pasa a recibir su certificado a las 57.00.\n",
      "La persona [20] pasa a recibir su certificado a las 57.00.\n",
      "La persona [26] pasa a recibir su certificado a las 57.00.\n",
      "La persona [21] pasa a recibir su certificado a las 58.00.\n",
      "Salida de la persona [22] sale del recinto a las 58.00.\n",
      "Tiempo Total De 22 = 51\n",
      "La persona [34] pasa a la mesa de vacunacion : 58.00.\n",
      "La persona [25] pasa a recibir su certificado a las 59.00.\n",
      "Salida de la persona [23] sale del recinto a las 59.00.\n",
      "Tiempo Total De 23 = 51\n",
      "Salida de la persona [24] sale del recinto a las 59.00.\n",
      "Tiempo Total De 24 = 46\n",
      "Salida de la persona [27] sale del recinto a las 59.00.\n",
      "Tiempo Total De 27 = 32\n",
      "Salida de la persona [26] sale del recinto a las 59.00.\n",
      "Tiempo Total De 26 = 37\n",
      "La persona [35] pasa a la mesa de vacunacion : 59.00.\n",
      "La persona [36] pasa a la mesa de vacunacion : 59.00.\n",
      "La persona [37] pasa a la mesa de vacunacion : 59.00.\n",
      "La persona [38] pasa a la mesa de vacunacion : 59.00.\n",
      "Salida de la persona [18] sale del recinto a las 60.00.\n",
      "Tiempo Total De 18 = 60\n",
      "Salida de la persona [19] sale del recinto a las 60.00.\n",
      "Tiempo Total De 19 = 60\n",
      "Salida de la persona [20] sale del recinto a las 60.00.\n",
      "Tiempo Total De 20 = 60\n",
      "Salida de la persona [21] sale del recinto a las 60.00.\n",
      "Tiempo Total De 21 = 57\n",
      "Inicio de la persona [39] llega al recinto Borja  61.00.\n",
      "La persona [39] pasa a la mesa de vacunacion : 61.00.\n",
      "La persona [28] pasa a recibir su certificado a las 62.00.\n",
      "Salida de la persona [25] sale del recinto a las 62.00.\n",
      "Tiempo Total De 25 = 44\n",
      "Inicio de la persona [40] llega al recinto Borja  63.00.\n",
      "La persona [40] pasa a la mesa de vacunacion : 63.00.\n",
      "La persona [31] pasa a recibir su certificado a las 64.00.\n",
      "La persona [35] fue vacunada a las 64.00.\n",
      "La persona [36] fue vacunada a las 64.00.\n",
      "La persona [37] fue vacunada a las 64.00.\n",
      "Salida de la persona [28] sale del recinto a las 64.00.\n",
      "Tiempo Total De 28 = 36\n",
      "La persona [30] pasa a recibir su certificado a las 65.00.\n",
      "La persona [32] pasa a recibir su certificado a las 67.00.\n",
      "La persona [33] pasa a recibir su certificado a las 67.00.\n",
      "La persona [34] fue vacunada a las 67.00.\n",
      "Salida de la persona [31] sale del recinto a las 67.00.\n",
      "Tiempo Total De 31 = 31\n",
      "Salida de la persona [30] sale del recinto a las 67.00.\n",
      "Tiempo Total De 30 = 32\n",
      "Inicio de la persona [41] llega al recinto Borja  68.00.\n",
      "La persona [41] pasa a la mesa de vacunacion : 68.00.\n",
      "La persona [40] fue vacunada a las 68.00.\n",
      "La persona [38] fue vacunada a las 69.00.\n",
      "Salida de la persona [32] sale del recinto a las 69.00.\n",
      "Tiempo Total De 32 = 29\n",
      "Salida de la persona [33] sale del recinto a las 70.00.\n",
      "Tiempo Total De 33 = 29\n",
      "Inicio de la persona [42] llega al recinto Borja  71.00.\n",
      "La persona [39] fue vacunada a las 71.00.\n",
      "La persona [42] pasa a la mesa de vacunacion : 71.00.\n",
      "Inicio de la persona [43] llega al recinto Borja  75.00.\n",
      "La persona [43] pasa a la mesa de vacunacion : 75.00.\n",
      "La persona [41] fue vacunada a las 77.00.\n",
      "Inicio de la persona [44] llega al recinto Borja  78.00.\n",
      "La persona [44] pasa a la mesa de vacunacion : 78.00.\n",
      "La persona [42] fue vacunada a las 79.00.\n",
      "Inicio de la persona [45] llega al recinto Borja  81.00.\n",
      "La persona [45] pasa a la mesa de vacunacion : 81.00.\n",
      "Inicio de la persona [46] llega al recinto Borja  84.00.\n",
      "La persona [35] pasa a recibir su certificado a las 84.00.\n",
      "La persona [36] pasa a recibir su certificado a las 84.00.\n",
      "La persona [37] pasa a recibir su certificado a las 84.00.\n",
      "La persona [43] fue vacunada a las 84.00.\n",
      "La persona [46] pasa a la mesa de vacunacion : 84.00.\n",
      "La persona [44] fue vacunada a las 85.00.\n",
      "La persona [34] pasa a recibir su certificado a las 87.00.\n",
      "Salida de la persona [35] sale del recinto a las 87.00.\n",
      "Tiempo Total De 35 = 42\n",
      "Salida de la persona [36] sale del recinto a las 87.00.\n",
      "Tiempo Total De 36 = 40\n",
      "Salida de la persona [37] sale del recinto a las 87.00.\n",
      "Tiempo Total De 37 = 36\n",
      "La persona [40] pasa a recibir su certificado a las 88.00.\n",
      "Inicio de la persona [47] llega al recinto Borja  89.00.\n",
      "La persona [38] pasa a recibir su certificado a las 89.00.\n",
      "La persona [45] fue vacunada a las 89.00.\n",
      "La persona [47] pasa a la mesa de vacunacion : 89.00.\n",
      "Salida de la persona [34] sale del recinto a las 90.00.\n",
      "Tiempo Total De 34 = 47\n",
      "Salida de la persona [40] sale del recinto a las 90.00.\n",
      "Tiempo Total De 40 = 27\n",
      "La persona [39] pasa a recibir su certificado a las 91.00.\n",
      "Salida de la persona [38] sale del recinto a las 91.00.\n",
      "Tiempo Total De 38 = 35\n",
      "Inicio de la persona [48] llega al recinto Borja  92.00.\n",
      "La persona [48] pasa a la mesa de vacunacion : 92.00.\n",
      "Inicio de la persona [49] llega al recinto Borja  93.00.\n",
      "La persona [49] pasa a la mesa de vacunacion : 93.00.\n",
      "La persona [46] fue vacunada a las 94.00.\n",
      "Salida de la persona [39] sale del recinto a las 94.00.\n",
      "Tiempo Total De 39 = 33\n",
      "La persona [47] fue vacunada a las 95.00.\n",
      "La persona [41] pasa a recibir su certificado a las 97.00.\n",
      "Inicio de la persona [50] llega al recinto Borja  98.00.\n",
      "La persona [50] pasa a la mesa de vacunacion : 98.00.\n",
      "La persona [42] pasa a recibir su certificado a las 99.00.\n",
      "Salida de la persona [41] sale del recinto a las 99.00.\n",
      "Tiempo Total De 41 = 31\n",
      "La persona [48] fue vacunada a las 101.00.\n",
      "Salida de la persona [42] sale del recinto a las 101.00.\n",
      "Tiempo Total De 42 = 30\n",
      "La persona [49] fue vacunada a las 102.00.\n",
      "Inicio de la persona [51] llega al recinto Borja  103.00.\n",
      "La persona [51] pasa a la mesa de vacunacion : 103.00.\n",
      "La persona [43] pasa a recibir su certificado a las 104.00.\n",
      "Inicio de la persona [52] llega al recinto Borja  105.00.\n",
      "La persona [44] pasa a recibir su certificado a las 105.00.\n",
      "La persona [52] pasa a la mesa de vacunacion : 105.00.\n",
      "Inicio de la persona [53] llega al recinto Borja  106.00.\n",
      "La persona [53] pasa a la mesa de vacunacion : 106.00.\n",
      "La persona [50] fue vacunada a las 107.00.\n",
      "Salida de la persona [43] sale del recinto a las 107.00.\n",
      "Tiempo Total De 43 = 32\n",
      "Salida de la persona [44] sale del recinto a las 108.00.\n",
      "Tiempo Total De 44 = 30\n",
      "Inicio de la persona [54] llega al recinto Borja  109.00.\n",
      "La persona [54] no puede vacunarse \n",
      "La persona [45] pasa a recibir su certificado a las 109.00.\n",
      "La persona [52] fue vacunada a las 110.00.\n",
      "Salida de la persona [45] sale del recinto a las 111.00.\n",
      "Tiempo Total De 45 = 30\n",
      "La persona [51] fue vacunada a las 113.00.\n",
      "Inicio de la persona [55] llega al recinto Borja  114.00.\n",
      "La persona [46] pasa a recibir su certificado a las 114.00.\n",
      "La persona [53] fue vacunada a las 114.00.\n",
      "La persona [55] pasa a la mesa de vacunacion : 114.00.\n",
      "La persona [47] pasa a recibir su certificado a las 115.00.\n",
      "Salida de la persona [46] sale del recinto a las 117.00.\n",
      "Tiempo Total De 46 = 33\n",
      "Salida de la persona [47] sale del recinto a las 117.00.\n",
      "Tiempo Total De 47 = 28\n",
      "Inicio de la persona [56] llega al recinto Borja  118.00.\n",
      "La persona [56] pasa a la mesa de vacunacion : 118.00.\n",
      "La persona [48] pasa a recibir su certificado a las 121.00.\n",
      "Inicio de la persona [57] llega al recinto Borja  122.00.\n",
      "La persona [49] pasa a recibir su certificado a las 122.00.\n",
      "La persona [55] fue vacunada a las 122.00.\n",
      "La persona [57] pasa a la mesa de vacunacion : 122.00.\n",
      "La persona [56] fue vacunada a las 123.00.\n",
      "Inicio de la persona [58] llega al recinto Borja  124.00.\n",
      "Salida de la persona [48] sale del recinto a las 124.00.\n",
      "Tiempo Total De 48 = 32\n",
      "La persona [58] pasa a la mesa de vacunacion : 124.00.\n",
      "Salida de la persona [49] sale del recinto a las 125.00.\n",
      "Tiempo Total De 49 = 32\n",
      "Inicio de la persona [59] llega al recinto Borja  127.00.\n",
      "La persona [50] pasa a recibir su certificado a las 127.00.\n",
      "La persona [59] pasa a la mesa de vacunacion : 127.00.\n",
      "Inicio de la persona [60] llega al recinto Borja  128.00.\n",
      "La persona [60] pasa a la mesa de vacunacion : 128.00.\n",
      "Inicio de la persona [61] llega al recinto Borja  129.00.\n",
      "La persona [61] pasa a la mesa de vacunacion : 129.00.\n",
      "La persona [52] pasa a recibir su certificado a las 130.00.\n",
      "Salida de la persona [50] sale del recinto a las 130.00.\n",
      "Tiempo Total De 50 = 32\n",
      "Inicio de la persona [62] llega al recinto Borja  131.00.\n",
      "La persona [57] fue vacunada a las 131.00.\n",
      "La persona [62] pasa a la mesa de vacunacion : 131.00.\n",
      "La persona [51] pasa a recibir su certificado a las 133.00.\n",
      "La persona [58] fue vacunada a las 133.00.\n",
      "Salida de la persona [52] sale del recinto a las 133.00.\n",
      "Tiempo Total De 52 = 28\n",
      "Inicio de la persona [63] llega al recinto Borja  134.00.\n",
      "La persona [53] pasa a recibir su certificado a las 134.00.\n",
      "La persona [63] pasa a la mesa de vacunacion : 134.00.\n",
      "La persona [59] fue vacunada a las 136.00.\n",
      "La persona [60] fue vacunada a las 136.00.\n",
      "Salida de la persona [51] sale del recinto a las 136.00.\n",
      "Tiempo Total De 51 = 33\n",
      "La persona [62] fue vacunada a las 137.00.\n",
      "Salida de la persona [53] sale del recinto a las 137.00.\n",
      "Tiempo Total De 53 = 31\n",
      "Inicio de la persona [64] llega al recinto Borja  139.00.\n",
      "La persona [61] fue vacunada a las 139.00.\n",
      "La persona [64] pasa a la mesa de vacunacion : 139.00.\n",
      "La persona [55] pasa a recibir su certificado a las 142.00.\n",
      "La persona [56] pasa a recibir su certificado a las 143.00.\n",
      "Inicio de la persona [65] llega al recinto Borja  144.00.\n",
      "La persona [63] fue vacunada a las 144.00.\n",
      "La persona [65] pasa a la mesa de vacunacion : 144.00.\n",
      "Salida de la persona [55] sale del recinto a las 144.00.\n",
      "Tiempo Total De 55 = 30\n",
      "Salida de la persona [56] sale del recinto a las 145.00.\n",
      "Tiempo Total De 56 = 27\n",
      "Inicio de la persona [66] llega al recinto Borja  149.00.\n",
      "La persona [64] fue vacunada a las 149.00.\n",
      "La persona [66] pasa a la mesa de vacunacion : 149.00.\n",
      "La persona [57] pasa a recibir su certificado a las 151.00.\n",
      "La persona [65] fue vacunada a las 151.00.\n",
      "Inicio de la persona [67] llega al recinto Borja  152.00.\n",
      "La persona [67] pasa a la mesa de vacunacion : 152.00.\n",
      "La persona [58] pasa a recibir su certificado a las 153.00.\n",
      "Salida de la persona [57] sale del recinto a las 153.00.\n",
      "Tiempo Total De 57 = 31\n",
      "Salida de la persona [58] sale del recinto a las 155.00.\n",
      "Tiempo Total De 58 = 31\n",
      "La persona [59] pasa a recibir su certificado a las 156.00.\n",
      "La persona [60] pasa a recibir su certificado a las 156.00.\n",
      "Inicio de la persona [68] llega al recinto Borja  157.00.\n",
      "La persona [62] pasa a recibir su certificado a las 157.00.\n",
      "La persona [66] fue vacunada a las 157.00.\n",
      "La persona [68] pasa a la mesa de vacunacion : 157.00.\n",
      "Inicio de la persona [69] llega al recinto Borja  159.00.\n",
      "La persona [61] pasa a recibir su certificado a las 159.00.\n",
      "Salida de la persona [59] sale del recinto a las 159.00.\n",
      "Tiempo Total De 59 = 32\n",
      "Salida de la persona [60] sale del recinto a las 159.00.\n",
      "Tiempo Total De 60 = 31\n",
      "La persona [69] pasa a la mesa de vacunacion : 159.00.\n",
      "Salida de la persona [62] sale del recinto a las 159.00.\n",
      "Tiempo Total De 62 = 28\n",
      "La persona [67] fue vacunada a las 162.00.\n",
      "Salida de la persona [61] sale del recinto a las 162.00.\n",
      "Tiempo Total De 61 = 33\n",
      "Inicio de la persona [70] llega al recinto Borja  164.00.\n",
      "La persona [63] pasa a recibir su certificado a las 164.00.\n",
      "La persona [68] fue vacunada a las 164.00.\n",
      "La persona [70] pasa a la mesa de vacunacion : 164.00.\n",
      "Inicio de la persona [71] llega al recinto Borja  166.00.\n",
      "La persona [71] pasa a la mesa de vacunacion : 166.00.\n",
      "Inicio de la persona [72] llega al recinto Borja  167.00.\n",
      "La persona [69] fue vacunada a las 167.00.\n",
      "Salida de la persona [63] sale del recinto a las 167.00.\n",
      "Tiempo Total De 63 = 33\n",
      "La persona [72] pasa a la mesa de vacunacion : 167.00.\n",
      "Inicio de la persona [73] llega al recinto Borja  168.00.\n",
      "La persona [73] pasa a la mesa de vacunacion : 168.00.\n",
      "La persona [64] pasa a recibir su certificado a las 169.00.\n",
      "La persona [65] pasa a recibir su certificado a las 171.00.\n",
      "Inicio de la persona [74] llega al recinto Borja  172.00.\n",
      "La persona [71] fue vacunada a las 172.00.\n",
      "La persona [74] pasa a la mesa de vacunacion : 172.00.\n",
      "Salida de la persona [64] sale del recinto a las 172.00.\n",
      "Tiempo Total De 64 = 33\n",
      "Inicio de la persona [75] llega al recinto Borja  173.00.\n",
      "La persona [70] fue vacunada a las 173.00.\n",
      "La persona [75] pasa a la mesa de vacunacion : 173.00.\n",
      "Salida de la persona [65] sale del recinto a las 174.00.\n",
      "Tiempo Total De 65 = 30\n",
      "La persona [72] fue vacunada a las 175.00.\n",
      "Inicio de la persona [76] llega al recinto Borja  176.00.\n",
      "La persona [76] pasa a la mesa de vacunacion : 176.00.\n",
      "La persona [66] pasa a recibir su certificado a las 177.00.\n",
      "La persona [73] fue vacunada a las 177.00.\n",
      "Inicio de la persona [77] llega al recinto Borja  178.00.\n",
      "La persona [77] no puede vacunarse \n",
      "Salida de la persona [66] sale del recinto a las 180.00.\n",
      "Tiempo Total De 66 = 31\n",
      "La persona [74] fue vacunada a las 181.00.\n",
      "La persona [75] fue vacunada a las 181.00.\n",
      "La persona [67] pasa a recibir su certificado a las 182.00.\n",
      "Inicio de la persona [78] llega al recinto Borja  183.00.\n",
      "La persona [78] pasa a la mesa de vacunacion : 183.00.\n",
      "La persona [68] pasa a recibir su certificado a las 184.00.\n",
      "La persona [76] fue vacunada a las 185.00.\n",
      "Salida de la persona [67] sale del recinto a las 185.00.\n",
      "Tiempo Total De 67 = 33\n",
      "Inicio de la persona [79] llega al recinto Borja  186.00.\n",
      "La persona [79] pasa a la mesa de vacunacion : 186.00.\n",
      "Salida de la persona [68] sale del recinto a las 186.00.\n",
      "Tiempo Total De 68 = 29\n",
      "La persona [69] pasa a recibir su certificado a las 187.00.\n",
      "Salida de la persona [69] sale del recinto a las 190.00.\n",
      "Tiempo Total De 69 = 31\n",
      "Inicio de la persona [80] llega al recinto Borja  191.00.\n",
      "La persona [78] fue vacunada a las 191.00.\n",
      "La persona [80] pasa a la mesa de vacunacion : 191.00.\n",
      "La persona [71] pasa a recibir su certificado a las 192.00.\n",
      "La persona [70] pasa a recibir su certificado a las 193.00.\n",
      "La persona [79] fue vacunada a las 193.00.\n",
      "Inicio de la persona [81] llega al recinto Borja  194.00.\n",
      "La persona [81] pasa a la mesa de vacunacion : 194.00.\n",
      "Inicio de la persona [82] llega al recinto Borja  195.00.\n",
      "La persona [72] pasa a recibir su certificado a las 195.00.\n",
      "Salida de la persona [71] sale del recinto a las 195.00.\n",
      "Tiempo Total De 71 = 29\n",
      "Salida de la persona [70] sale del recinto a las 195.00.\n",
      "Tiempo Total De 70 = 31\n",
      "La persona [82] pasa a la mesa de vacunacion : 195.00.\n",
      "Inicio de la persona [83] llega al recinto Borja  197.00.\n",
      "La persona [73] pasa a recibir su certificado a las 197.00.\n",
      "La persona [83] pasa a la mesa de vacunacion : 197.00.\n",
      "La persona [80] fue vacunada a las 198.00.\n",
      "Salida de la persona [72] sale del recinto a las 198.00.\n",
      "Tiempo Total De 72 = 31\n",
      "Inicio de la persona [84] llega al recinto Borja  200.00.\n",
      "La persona [81] fue vacunada a las 200.00.\n",
      "La persona [84] pasa a la mesa de vacunacion : 200.00.\n",
      "Salida de la persona [73] sale del recinto a las 200.00.\n",
      "Tiempo Total De 73 = 32\n",
      "La persona [74] pasa a recibir su certificado a las 201.00.\n",
      "La persona [75] pasa a recibir su certificado a las 201.00.\n",
      "Inicio de la persona [85] llega al recinto Borja  202.00.\n",
      "La persona [82] fue vacunada a las 202.00.\n",
      "La persona [85] pasa a la mesa de vacunacion : 202.00.\n",
      "La persona [83] fue vacunada a las 203.00.\n",
      "Salida de la persona [74] sale del recinto a las 203.00.\n",
      "Tiempo Total De 74 = 31\n",
      "Salida de la persona [75] sale del recinto a las 204.00.\n",
      "Tiempo Total De 75 = 31\n",
      "La persona [76] pasa a recibir su certificado a las 205.00.\n",
      "Inicio de la persona [86] llega al recinto Borja  207.00.\n",
      "La persona [86] pasa a la mesa de vacunacion : 207.00.\n",
      "Salida de la persona [76] sale del recinto a las 208.00.\n",
      "Tiempo Total De 76 = 32\n",
      "Inicio de la persona [87] llega al recinto Borja  209.00.\n",
      "La persona [87] pasa a la mesa de vacunacion : 209.00.\n",
      "La persona [84] fue vacunada a las 210.00.\n",
      "La persona [78] pasa a recibir su certificado a las 211.00.\n",
      "La persona [85] fue vacunada a las 212.00.\n",
      "La persona [79] pasa a recibir su certificado a las 213.00.\n",
      "Inicio de la persona [88] llega al recinto Borja  214.00.\n",
      "La persona [88] pasa a la mesa de vacunacion : 214.00.\n",
      "La persona [87] fue vacunada a las 214.00.\n",
      "Salida de la persona [78] sale del recinto a las 214.00.\n",
      "Tiempo Total De 78 = 31\n",
      "Inicio de la persona [89] llega al recinto Borja  215.00.\n",
      "Salida de la persona [79] sale del recinto a las 215.00.\n",
      "Tiempo Total De 79 = 29\n",
      "La persona [89] pasa a la mesa de vacunacion : 215.00.\n",
      "La persona [86] fue vacunada a las 217.00.\n",
      "Inicio de la persona [90] llega al recinto Borja  218.00.\n",
      "La persona [80] pasa a recibir su certificado a las 218.00.\n",
      "La persona [90] pasa a la mesa de vacunacion : 218.00.\n",
      "La persona [81] pasa a recibir su certificado a las 220.00.\n",
      "Salida de la persona [80] sale del recinto a las 220.00.\n",
      "Tiempo Total De 80 = 29\n",
      "Inicio de la persona [91] llega al recinto Borja  222.00.\n",
      "La persona [82] pasa a recibir su certificado a las 222.00.\n",
      "La persona [89] fue vacunada a las 222.00.\n",
      "La persona [91] pasa a la mesa de vacunacion : 222.00.\n",
      "La persona [83] pasa a recibir su certificado a las 223.00.\n",
      "Salida de la persona [81] sale del recinto a las 223.00.\n",
      "Tiempo Total De 81 = 29\n",
      "La persona [88] fue vacunada a las 224.00.\n",
      "Salida de la persona [82] sale del recinto a las 224.00.\n",
      "Tiempo Total De 82 = 29\n",
      "Salida de la persona [83] sale del recinto a las 225.00.\n",
      "Tiempo Total De 83 = 28\n",
      "Inicio de la persona [92] llega al recinto Borja  227.00.\n",
      "La persona [90] fue vacunada a las 227.00.\n",
      "La persona [92] pasa a la mesa de vacunacion : 227.00.\n",
      "Inicio de la persona [93] llega al recinto Borja  229.00.\n",
      "La persona [93] no puede vacunarse \n",
      "La persona [84] pasa a recibir su certificado a las 230.00.\n",
      "Inicio de la persona [94] llega al recinto Borja  232.00.\n",
      "La persona [85] pasa a recibir su certificado a las 232.00.\n",
      "La persona [91] fue vacunada a las 232.00.\n",
      "La persona [94] pasa a la mesa de vacunacion : 232.00.\n",
      "Salida de la persona [84] sale del recinto a las 232.00.\n",
      "Tiempo Total De 84 = 32\n",
      "La persona [87] pasa a recibir su certificado a las 234.00.\n",
      "La persona [92] fue vacunada a las 234.00.\n",
      "Salida de la persona [85] sale del recinto a las 235.00.\n",
      "Tiempo Total De 85 = 33\n",
      "Inicio de la persona [95] llega al recinto Borja  237.00.\n",
      "La persona [86] pasa a recibir su certificado a las 237.00.\n",
      "La persona [95] pasa a la mesa de vacunacion : 237.00.\n",
      "Salida de la persona [87] sale del recinto a las 237.00.\n",
      "Tiempo Total De 87 = 28\n",
      "Inicio de la persona [96] llega al recinto Borja  239.00.\n",
      "La persona [96] pasa a la mesa de vacunacion : 239.00.\n",
      "Salida de la persona [86] sale del recinto a las 240.00.\n",
      "Tiempo Total De 86 = 33\n",
      "La persona [89] pasa a recibir su certificado a las 242.00.\n",
      "La persona [94] fue vacunada a las 242.00.\n",
      "Inicio de la persona [97] llega al recinto Borja  243.00.\n",
      "La persona [97] pasa a la mesa de vacunacion : 243.00.\n",
      "Inicio de la persona [98] llega al recinto Borja  244.00.\n",
      "La persona [88] pasa a recibir su certificado a las 244.00.\n",
      "La persona [98] pasa a la mesa de vacunacion : 244.00.\n",
      "La persona [95] fue vacunada a las 245.00.\n",
      "Salida de la persona [89] sale del recinto a las 245.00.\n",
      "Tiempo Total De 89 = 30\n",
      "La persona [90] pasa a recibir su certificado a las 247.00.\n",
      "Salida de la persona [88] sale del recinto a las 247.00.\n",
      "Tiempo Total De 88 = 33\n",
      "Inicio de la persona [99] llega al recinto Borja  248.00.\n",
      "La persona [96] fue vacunada a las 248.00.\n",
      "La persona [97] fue vacunada a las 248.00.\n",
      "La persona [99] pasa a la mesa de vacunacion : 248.00.\n",
      "Salida de la persona [90] sale del recinto a las 250.00.\n",
      "Tiempo Total De 90 = 32\n",
      "Inicio de la persona [100] llega al recinto Borja  251.00.\n",
      "La persona [100] no puede vacunarse \n",
      "La persona [91] pasa a recibir su certificado a las 252.00.\n",
      "Inicio de la persona [101] llega al recinto Borja  254.00.\n",
      "La persona [92] pasa a recibir su certificado a las 254.00.\n",
      "La persona [98] fue vacunada a las 254.00.\n",
      "La persona [101] pasa a la mesa de vacunacion : 254.00.\n",
      "Salida de la persona [91] sale del recinto a las 254.00.\n",
      "Tiempo Total De 91 = 32\n",
      "Inicio de la persona [102] llega al recinto Borja  255.00.\n",
      "La persona [102] pasa a la mesa de vacunacion : 255.00.\n",
      "Inicio de la persona [103] llega al recinto Borja  256.00.\n",
      "Salida de la persona [92] sale del recinto a las 256.00.\n",
      "Tiempo Total De 92 = 29\n",
      "La persona [103] pasa a la mesa de vacunacion : 256.00.\n",
      "La persona [99] fue vacunada a las 258.00.\n",
      "Inicio de la persona [104] llega al recinto Borja  260.00.\n",
      "La persona [104] pasa a la mesa de vacunacion : 260.00.\n",
      "Inicio de la persona [105] llega al recinto Borja  262.00.\n",
      "La persona [94] pasa a recibir su certificado a las 262.00.\n",
      "La persona [101] fue vacunada a las 262.00.\n",
      "La persona [105] pasa a la mesa de vacunacion : 262.00.\n",
      "Inicio de la persona [106] llega al recinto Borja  263.00.\n",
      "La persona [106] pasa a la mesa de vacunacion : 263.00.\n",
      "La persona [103] fue vacunada a las 264.00.\n",
      "La persona [95] pasa a recibir su certificado a las 265.00.\n",
      "La persona [102] fue vacunada a las 265.00.\n",
      "Salida de la persona [94] sale del recinto a las 265.00.\n",
      "Tiempo Total De 94 = 33\n",
      "La persona [104] fue vacunada a las 266.00.\n",
      "Inicio de la persona [107] llega al recinto Borja  268.00.\n",
      "La persona [96] pasa a recibir su certificado a las 268.00.\n",
      "La persona [97] pasa a recibir su certificado a las 268.00.\n",
      "La persona [107] pasa a la mesa de vacunacion : 268.00.\n",
      "Salida de la persona [95] sale del recinto a las 268.00.\n",
      "Tiempo Total De 95 = 31\n",
      "Salida de la persona [96] sale del recinto a las 270.00.\n",
      "Tiempo Total De 96 = 31\n",
      "Salida de la persona [97] sale del recinto a las 270.00.\n",
      "Tiempo Total De 97 = 27\n",
      "La persona [105] fue vacunada a las 271.00.\n",
      "La persona [106] fue vacunada a las 271.00.\n",
      "Inicio de la persona [108] llega al recinto Borja  272.00.\n",
      "La persona [108] pasa a la mesa de vacunacion : 272.00.\n",
      "La persona [107] fue vacunada a las 273.00.\n",
      "Inicio de la persona [109] llega al recinto Borja  274.00.\n",
      "La persona [98] pasa a recibir su certificado a las 274.00.\n",
      "La persona [109] pasa a la mesa de vacunacion : 274.00.\n",
      "Salida de la persona [98] sale del recinto a las 276.00.\n",
      "Tiempo Total De 98 = 32\n",
      "Inicio de la persona [110] llega al recinto Borja  277.00.\n",
      "La persona [110] pasa a la mesa de vacunacion : 277.00.\n",
      "La persona [99] pasa a recibir su certificado a las 278.00.\n",
      "La persona [108] fue vacunada a las 280.00.\n",
      "Inicio de la persona [111] llega al recinto Borja  281.00.\n",
      "La persona [109] fue vacunada a las 281.00.\n",
      "La persona [111] pasa a la mesa de vacunacion : 281.00.\n",
      "Salida de la persona [99] sale del recinto a las 281.00.\n",
      "Tiempo Total De 99 = 33\n",
      "Inicio de la persona [112] llega al recinto Borja  282.00.\n",
      "La persona [101] pasa a recibir su certificado a las 282.00.\n",
      "La persona [112] pasa a la mesa de vacunacion : 282.00.\n",
      "Inicio de la persona [113] llega al recinto Borja  284.00.\n",
      "La persona [103] pasa a recibir su certificado a las 284.00.\n",
      "La persona [113] pasa a la mesa de vacunacion : 284.00.\n",
      "Salida de la persona [101] sale del recinto a las 284.00.\n",
      "Tiempo Total De 101 = 30\n",
      "La persona [102] pasa a recibir su certificado a las 285.00.\n",
      "La persona [104] pasa a recibir su certificado a las 286.00.\n",
      "La persona [110] fue vacunada a las 286.00.\n",
      "Inicio de la persona [114] llega al recinto Borja  287.00.\n",
      "La persona [114] pasa a la mesa de vacunacion : 287.00.\n",
      "Salida de la persona [103] sale del recinto a las 287.00.\n",
      "Tiempo Total De 103 = 31\n",
      "Salida de la persona [102] sale del recinto a las 288.00.\n",
      "Tiempo Total De 102 = 33\n",
      "Salida de la persona [104] sale del recinto a las 288.00.\n",
      "Tiempo Total De 104 = 28\n",
      "Inicio de la persona [115] llega al recinto Borja  289.00.\n",
      "La persona [111] fue vacunada a las 289.00.\n",
      "La persona [115] pasa a la mesa de vacunacion : 289.00.\n",
      "Inicio de la persona [116] llega al recinto Borja  291.00.\n",
      "La persona [105] pasa a recibir su certificado a las 291.00.\n",
      "La persona [106] pasa a recibir su certificado a las 291.00.\n",
      "La persona [112] fue vacunada a las 291.00.\n",
      "La persona [116] pasa a la mesa de vacunacion : 291.00.\n",
      "La persona [107] pasa a recibir su certificado a las 293.00.\n",
      "La persona [113] fue vacunada a las 293.00.\n",
      "Salida de la persona [105] sale del recinto a las 293.00.\n",
      "Tiempo Total De 105 = 31\n",
      "Inicio de la persona [117] llega al recinto Borja  294.00.\n",
      "La persona [117] no puede vacunarse \n",
      "Salida de la persona [106] sale del recinto a las 294.00.\n",
      "Tiempo Total De 106 = 31\n",
      "Inicio de la persona [118] llega al recinto Borja  295.00.\n",
      "La persona [114] fue vacunada a las 295.00.\n",
      "Salida de la persona [107] sale del recinto a las 295.00.\n",
      "Tiempo Total De 107 = 27\n",
      "La persona [118] pasa a la mesa de vacunacion : 295.00.\n",
      "Inicio de la persona [119] llega al recinto Borja  299.00.\n",
      "La persona [115] fue vacunada a las 299.00.\n",
      "La persona [119] pasa a la mesa de vacunacion : 299.00.\n",
      "La persona [108] pasa a recibir su certificado a las 300.00.\n",
      "La persona [109] pasa a recibir su certificado a las 301.00.\n",
      "La persona [116] fue vacunada a las 301.00.\n",
      "La persona [118] fue vacunada a las 301.00.\n",
      "Salida de la persona [108] sale del recinto a las 302.00.\n",
      "Tiempo Total De 108 = 30\n",
      "Inicio de la persona [120] llega al recinto Borja  303.00.\n",
      "La persona [120] pasa a la mesa de vacunacion : 303.00.\n",
      "Salida de la persona [109] sale del recinto a las 304.00.\n",
      "Tiempo Total De 109 = 30\n",
      "Inicio de la persona [121] llega al recinto Borja  306.00.\n",
      "La persona [110] pasa a recibir su certificado a las 306.00.\n",
      "La persona [119] fue vacunada a las 306.00.\n",
      "La persona [121] pasa a la mesa de vacunacion : 306.00.\n",
      "La persona [111] pasa a recibir su certificado a las 309.00.\n",
      "Salida de la persona [110] sale del recinto a las 309.00.\n",
      "Tiempo Total De 110 = 32\n",
      "Inicio de la persona [122] llega al recinto Borja  310.00.\n",
      "La persona [122] pasa a la mesa de vacunacion : 310.00.\n",
      "Inicio de la persona [123] llega al recinto Borja  311.00.\n",
      "La persona [112] pasa a recibir su certificado a las 311.00.\n",
      "La persona [123] pasa a la mesa de vacunacion : 311.00.\n",
      "Inicio de la persona [124] llega al recinto Borja  312.00.\n",
      "La persona [120] fue vacunada a las 312.00.\n",
      "Salida de la persona [111] sale del recinto a las 312.00.\n",
      "Tiempo Total De 111 = 31\n",
      "La persona [124] pasa a la mesa de vacunacion : 312.00.\n",
      "La persona [113] pasa a recibir su certificado a las 313.00.\n",
      "Salida de la persona [112] sale del recinto a las 313.00.\n",
      "Tiempo Total De 112 = 31\n",
      "Inicio de la persona [125] llega al recinto Borja  315.00.\n",
      "La persona [114] pasa a recibir su certificado a las 315.00.\n",
      "La persona [122] fue vacunada a las 315.00.\n",
      "La persona [125] pasa a la mesa de vacunacion : 315.00.\n",
      "La persona [121] fue vacunada a las 316.00.\n",
      "Salida de la persona [113] sale del recinto a las 316.00.\n",
      "Tiempo Total De 113 = 32\n",
      "La persona [123] fue vacunada a las 317.00.\n",
      "Salida de la persona [114] sale del recinto a las 317.00.\n",
      "Tiempo Total De 114 = 30\n",
      "La persona [115] pasa a recibir su certificado a las 319.00.\n",
      "Inicio de la persona [126] llega al recinto Borja  320.00.\n",
      "La persona [124] fue vacunada a las 320.00.\n",
      "La persona [126] pasa a la mesa de vacunacion : 320.00.\n",
      "La persona [116] pasa a recibir su certificado a las 321.00.\n",
      "La persona [118] pasa a recibir su certificado a las 321.00.\n",
      "Salida de la persona [115] sale del recinto a las 321.00.\n",
      "Tiempo Total De 115 = 32\n",
      "Inicio de la persona [127] llega al recinto Borja  323.00.\n",
      "La persona [125] fue vacunada a las 323.00.\n",
      "La persona [127] pasa a la mesa de vacunacion : 323.00.\n",
      "Salida de la persona [116] sale del recinto a las 323.00.\n",
      "Tiempo Total De 116 = 32\n",
      "Salida de la persona [118] sale del recinto a las 324.00.\n",
      "Tiempo Total De 118 = 29\n",
      "La persona [119] pasa a recibir su certificado a las 326.00.\n",
      "Inicio de la persona [128] llega al recinto Borja  327.00.\n",
      "La persona [128] no puede vacunarse \n",
      "Salida de la persona [119] sale del recinto a las 328.00.\n",
      "Tiempo Total De 119 = 29\n",
      "Inicio de la persona [129] llega al recinto Borja  329.00.\n",
      "La persona [126] fue vacunada a las 329.00.\n",
      "La persona [129] pasa a la mesa de vacunacion : 329.00.\n",
      "La persona [127] fue vacunada a las 331.00.\n",
      "La persona [120] pasa a recibir su certificado a las 332.00.\n",
      "Inicio de la persona [130] llega al recinto Borja  334.00.\n",
      "La persona [130] pasa a la mesa de vacunacion : 334.00.\n",
      "Salida de la persona [120] sale del recinto a las 334.00.\n",
      "Tiempo Total De 120 = 31\n",
      "Inicio de la persona [131] llega al recinto Borja  335.00.\n",
      "La persona [122] pasa a recibir su certificado a las 335.00.\n",
      "La persona [131] pasa a la mesa de vacunacion : 335.00.\n",
      "La persona [121] pasa a recibir su certificado a las 336.00.\n",
      "La persona [123] pasa a recibir su certificado a las 337.00.\n",
      "La persona [129] fue vacunada a las 337.00.\n",
      "Salida de la persona [122] sale del recinto a las 337.00.\n",
      "Tiempo Total De 122 = 27\n",
      "Salida de la persona [121] sale del recinto a las 339.00.\n",
      "Tiempo Total De 121 = 33\n",
      "Inicio de la persona [132] llega al recinto Borja  340.00.\n",
      "La persona [124] pasa a recibir su certificado a las 340.00.\n",
      "La persona [132] pasa a la mesa de vacunacion : 340.00.\n",
      "Salida de la persona [123] sale del recinto a las 340.00.\n",
      "Tiempo Total De 123 = 29\n",
      "La persona [131] fue vacunada a las 341.00.\n",
      "Inicio de la persona [133] llega al recinto Borja  342.00.\n",
      "La persona [133] pasa a la mesa de vacunacion : 342.00.\n",
      "Salida de la persona [124] sale del recinto a las 342.00.\n",
      "Tiempo Total De 124 = 30\n",
      "Inicio de la persona [134] llega al recinto Borja  343.00.\n",
      "La persona [125] pasa a recibir su certificado a las 343.00.\n",
      "La persona [130] fue vacunada a las 343.00.\n",
      "La persona [134] pasa a la mesa de vacunacion : 343.00.\n",
      "La persona [132] fue vacunada a las 345.00.\n",
      "Salida de la persona [125] sale del recinto a las 345.00.\n",
      "Tiempo Total De 125 = 30\n",
      "Inicio de la persona [135] llega al recinto Borja  347.00.\n",
      "La persona [135] pasa a la mesa de vacunacion : 347.00.\n",
      "La persona [126] pasa a recibir su certificado a las 349.00.\n",
      "La persona [133] fue vacunada a las 349.00.\n",
      "Inicio de la persona [136] llega al recinto Borja  351.00.\n",
      "La persona [127] pasa a recibir su certificado a las 351.00.\n",
      "La persona [136] pasa a la mesa de vacunacion : 351.00.\n",
      "Salida de la persona [126] sale del recinto a las 352.00.\n",
      "Tiempo Total De 126 = 32\n",
      "La persona [134] fue vacunada a las 353.00.\n",
      "Salida de la persona [127] sale del recinto a las 353.00.\n",
      "Tiempo Total De 127 = 30\n",
      "Inicio de la persona [137] llega al recinto Borja  355.00.\n",
      "La persona [135] fue vacunada a las 355.00.\n",
      "La persona [137] pasa a la mesa de vacunacion : 355.00.\n",
      "La persona [136] fue vacunada a las 356.00.\n",
      "Inicio de la persona [138] llega al recinto Borja  357.00.\n",
      "La persona [129] pasa a recibir su certificado a las 357.00.\n",
      "La persona [138] pasa a la mesa de vacunacion : 357.00.\n",
      "Salida de la persona [129] sale del recinto a las 360.00.\n",
      "Tiempo Total De 129 = 31\n",
      "La persona [131] pasa a recibir su certificado a las 361.00.\n",
      "Inicio de la persona [139] llega al recinto Borja  362.00.\n",
      "La persona [139] pasa a la mesa de vacunacion : 362.00.\n",
      "La persona [138] fue vacunada a las 362.00.\n",
      "La persona [130] pasa a recibir su certificado a las 363.00.\n",
      "La persona [137] fue vacunada a las 364.00.\n",
      "Salida de la persona [131] sale del recinto a las 364.00.\n",
      "Tiempo Total De 131 = 29\n",
      "La persona [132] pasa a recibir su certificado a las 365.00.\n",
      "Salida de la persona [130] sale del recinto a las 365.00.\n",
      "Tiempo Total De 130 = 31\n",
      "Inicio de la persona [140] llega al recinto Borja  366.00.\n",
      "La persona [140] pasa a la mesa de vacunacion : 366.00.\n",
      "Salida de la persona [132] sale del recinto a las 367.00.\n",
      "Tiempo Total De 132 = 27\n",
      "Inicio de la persona [141] llega al recinto Borja  369.00.\n",
      "La persona [141] no puede vacunarse \n",
      "La persona [133] pasa a recibir su certificado a las 369.00.\n",
      "La persona [139] fue vacunada a las 369.00.\n",
      "Inicio de la persona [142] llega al recinto Borja  372.00.\n",
      "La persona [142] pasa a la mesa de vacunacion : 372.00.\n",
      "Salida de la persona [133] sale del recinto a las 372.00.\n",
      "Tiempo Total De 133 = 30\n",
      "La persona [134] pasa a recibir su certificado a las 373.00.\n",
      "Inicio de la persona [143] llega al recinto Borja  375.00.\n",
      "La persona [135] pasa a recibir su certificado a las 375.00.\n",
      "La persona [143] pasa a la mesa de vacunacion : 375.00.\n",
      "Salida de la persona [134] sale del recinto a las 375.00.\n",
      "Tiempo Total De 134 = 32\n",
      "La persona [136] pasa a recibir su certificado a las 376.00.\n",
      "La persona [140] fue vacunada a las 376.00.\n",
      "Salida de la persona [135] sale del recinto a las 377.00.\n",
      "Tiempo Total De 135 = 30\n",
      "La persona [142] fue vacunada a las 378.00.\n",
      "Inicio de la persona [144] llega al recinto Borja  379.00.\n",
      "La persona [144] no puede vacunarse \n",
      "Salida de la persona [136] sale del recinto a las 379.00.\n",
      "Tiempo Total De 136 = 28\n",
      "La persona [138] pasa a recibir su certificado a las 382.00.\n",
      "Inicio de la persona [145] llega al recinto Borja  383.00.\n",
      "La persona [145] pasa a la mesa de vacunacion : 383.00.\n",
      "La persona [137] pasa a recibir su certificado a las 384.00.\n",
      "La persona [143] fue vacunada a las 385.00.\n",
      "Salida de la persona [138] sale del recinto a las 385.00.\n",
      "Tiempo Total De 138 = 28\n",
      "Inicio de la persona [146] llega al recinto Borja  386.00.\n",
      "La persona [146] no puede vacunarse \n",
      "Salida de la persona [137] sale del recinto a las 386.00.\n",
      "Tiempo Total De 137 = 31\n",
      "La persona [139] pasa a recibir su certificado a las 389.00.\n",
      "Inicio de la persona [147] llega al recinto Borja  391.00.\n",
      "La persona [147] pasa a la mesa de vacunacion : 391.00.\n",
      "Salida de la persona [139] sale del recinto a las 392.00.\n",
      "Tiempo Total De 139 = 30\n",
      "La persona [145] fue vacunada a las 393.00.\n",
      "Inicio de la persona [148] llega al recinto Borja  395.00.\n",
      "La persona [148] pasa a la mesa de vacunacion : 395.00.\n",
      "La persona [140] pasa a recibir su certificado a las 396.00.\n",
      "La persona [142] pasa a recibir su certificado a las 398.00.\n",
      "Salida de la persona [140] sale del recinto a las 398.00.\n",
      "Tiempo Total De 140 = 32\n",
      "Inicio de la persona [149] llega al recinto Borja  399.00.\n",
      "La persona [149] pasa a la mesa de vacunacion : 399.00.\n",
      "Inicio de la persona [150] llega al recinto Borja  400.00.\n",
      "Salida de la persona [142] sale del recinto a las 400.00.\n",
      "Tiempo Total De 142 = 28\n",
      "La persona [150] pasa a la mesa de vacunacion : 400.00.\n",
      "La persona [147] fue vacunada a las 401.00.\n",
      "La persona [148] fue vacunada a las 402.00.\n",
      "Inicio de la persona [151] llega al recinto Borja  404.00.\n",
      "La persona [151] pasa a la mesa de vacunacion : 404.00.\n",
      "La persona [143] pasa a recibir su certificado a las 405.00.\n",
      "La persona [149] fue vacunada a las 405.00.\n",
      "La persona [150] fue vacunada a las 405.00.\n",
      "Inicio de la persona [152] llega al recinto Borja  406.00.\n",
      "La persona [152] pasa a la mesa de vacunacion : 406.00.\n",
      "Salida de la persona [143] sale del recinto a las 408.00.\n",
      "Tiempo Total De 143 = 33\n",
      "Inicio de la persona [153] llega al recinto Borja  410.00.\n",
      "La persona [153] pasa a la mesa de vacunacion : 410.00.\n",
      "La persona [152] fue vacunada a las 411.00.\n",
      "La persona [151] fue vacunada a las 412.00.\n",
      "La persona [145] pasa a recibir su certificado a las 413.00.\n",
      "Inicio de la persona [154] llega al recinto Borja  414.00.\n",
      "La persona [154] no puede vacunarse \n",
      "Salida de la persona [145] sale del recinto a las 416.00.\n",
      "Tiempo Total De 145 = 33\n",
      "Inicio de la persona [155] llega al recinto Borja  418.00.\n",
      "La persona [155] pasa a la mesa de vacunacion : 418.00.\n",
      "La persona [153] fue vacunada a las 419.00.\n",
      "La persona [147] pasa a recibir su certificado a las 421.00.\n",
      "La persona [148] pasa a recibir su certificado a las 422.00.\n",
      "Inicio de la persona [156] llega al recinto Borja  423.00.\n",
      "La persona [156] pasa a la mesa de vacunacion : 423.00.\n",
      "La persona [155] fue vacunada a las 423.00.\n",
      "Salida de la persona [147] sale del recinto a las 424.00.\n",
      "Tiempo Total De 147 = 33\n",
      "Inicio de la persona [157] llega al recinto Borja  425.00.\n",
      "La persona [149] pasa a recibir su certificado a las 425.00.\n",
      "La persona [150] pasa a recibir su certificado a las 425.00.\n",
      "Salida de la persona [148] sale del recinto a las 425.00.\n",
      "Tiempo Total De 148 = 30\n",
      "La persona [157] pasa a la mesa de vacunacion : 425.00.\n",
      "Inicio de la persona [158] llega al recinto Borja  427.00.\n",
      "La persona [158] pasa a la mesa de vacunacion : 427.00.\n",
      "Salida de la persona [149] sale del recinto a las 427.00.\n",
      "Tiempo Total De 149 = 28\n",
      "Salida de la persona [150] sale del recinto a las 428.00.\n",
      "Tiempo Total De 150 = 28\n",
      "La persona [156] fue vacunada a las 430.00.\n",
      "La persona [152] pasa a recibir su certificado a las 431.00.\n",
      "La persona [157] fue vacunada a las 431.00.\n",
      "Inicio de la persona [159] llega al recinto Borja  432.00.\n",
      "La persona [151] pasa a recibir su certificado a las 432.00.\n",
      "La persona [159] pasa a la mesa de vacunacion : 432.00.\n",
      "Salida de la persona [152] sale del recinto a las 433.00.\n",
      "Tiempo Total De 152 = 27\n",
      "Inicio de la persona [160] llega al recinto Borja  434.00.\n",
      "La persona [160] no puede vacunarse \n",
      "Salida de la persona [151] sale del recinto a las 435.00.\n",
      "Tiempo Total De 151 = 31\n",
      "La persona [158] fue vacunada a las 436.00.\n",
      "Inicio de la persona [161] llega al recinto Borja  438.00.\n",
      "La persona [161] pasa a la mesa de vacunacion : 438.00.\n",
      "La persona [153] pasa a recibir su certificado a las 439.00.\n",
      "La persona [159] fue vacunada a las 440.00.\n",
      "Salida de la persona [153] sale del recinto a las 442.00.\n",
      "Tiempo Total De 153 = 32\n",
      "Inicio de la persona [162] llega al recinto Borja  443.00.\n",
      "La persona [155] pasa a recibir su certificado a las 443.00.\n",
      "La persona [162] pasa a la mesa de vacunacion : 443.00.\n",
      "Inicio de la persona [163] llega al recinto Borja  445.00.\n",
      "La persona [163] pasa a la mesa de vacunacion : 445.00.\n",
      "Salida de la persona [155] sale del recinto a las 445.00.\n",
      "Tiempo Total De 155 = 27\n",
      "La persona [161] fue vacunada a las 447.00.\n",
      "Inicio de la persona [164] llega al recinto Borja  449.00.\n",
      "La persona [162] fue vacunada a las 449.00.\n",
      "La persona [164] pasa a la mesa de vacunacion : 449.00.\n",
      "La persona [156] pasa a recibir su certificado a las 450.00.\n",
      "La persona [157] pasa a recibir su certificado a las 451.00.\n",
      "La persona [163] fue vacunada a las 451.00.\n",
      "Salida de la persona [156] sale del recinto a las 452.00.\n",
      "Tiempo Total De 156 = 29\n",
      "Salida de la persona [157] sale del recinto a las 453.00.\n",
      "Tiempo Total De 157 = 28\n",
      "Inicio de la persona [165] llega al recinto Borja  454.00.\n",
      "La persona [165] pasa a la mesa de vacunacion : 454.00.\n",
      "La persona [158] pasa a recibir su certificado a las 456.00.\n",
      "La persona [164] fue vacunada a las 456.00.\n",
      "Inicio de la persona [166] llega al recinto Borja  458.00.\n",
      "La persona [166] pasa a la mesa de vacunacion : 458.00.\n",
      "La persona [165] fue vacunada a las 459.00.\n",
      "Salida de la persona [158] sale del recinto a las 459.00.\n",
      "Tiempo Total De 158 = 32\n",
      "La persona [159] pasa a recibir su certificado a las 460.00.\n",
      "Inicio de la persona [167] llega al recinto Borja  462.00.\n",
      "La persona [167] pasa a la mesa de vacunacion : 462.00.\n",
      "Salida de la persona [159] sale del recinto a las 462.00.\n",
      "Tiempo Total De 159 = 30\n",
      "Inicio de la persona [168] llega al recinto Borja  463.00.\n",
      "La persona [168] no puede vacunarse \n",
      "La persona [166] fue vacunada a las 466.00.\n",
      "Inicio de la persona [169] llega al recinto Borja  467.00.\n",
      "La persona [161] pasa a recibir su certificado a las 467.00.\n",
      "La persona [169] pasa a la mesa de vacunacion : 467.00.\n",
      "Inicio de la persona [170] llega al recinto Borja  468.00.\n",
      "La persona [167] fue vacunada a las 468.00.\n",
      "La persona [170] pasa a la mesa de vacunacion : 468.00.\n",
      "Inicio de la persona [171] llega al recinto Borja  469.00.\n",
      "La persona [162] pasa a recibir su certificado a las 469.00.\n",
      "Salida de la persona [161] sale del recinto a las 469.00.\n",
      "Tiempo Total De 161 = 31\n",
      "La persona [171] pasa a la mesa de vacunacion : 469.00.\n",
      "La persona [163] pasa a recibir su certificado a las 471.00.\n",
      "Salida de la persona [162] sale del recinto a las 471.00.\n",
      "Tiempo Total De 162 = 28\n",
      "Inicio de la persona [172] llega al recinto Borja  473.00.\n",
      "La persona [170] fue vacunada a las 473.00.\n",
      "La persona [172] pasa a la mesa de vacunacion : 473.00.\n",
      "Salida de la persona [163] sale del recinto a las 473.00.\n",
      "Tiempo Total De 163 = 28\n",
      "Inicio de la persona [173] llega al recinto Borja  474.00.\n",
      "La persona [173] pasa a la mesa de vacunacion : 474.00.\n",
      "Inicio de la persona [174] llega al recinto Borja  475.00.\n",
      "La persona [169] fue vacunada a las 475.00.\n",
      "La persona [171] fue vacunada a las 475.00.\n",
      "La persona [174] pasa a la mesa de vacunacion : 475.00.\n",
      "La persona [164] pasa a recibir su certificado a las 476.00.\n",
      "Salida de la persona [164] sale del recinto a las 478.00.\n",
      "Tiempo Total De 164 = 29\n",
      "Inicio de la persona [175] llega al recinto Borja  479.00.\n",
      "La persona [165] pasa a recibir su certificado a las 479.00.\n",
      "La persona [175] pasa a la mesa de vacunacion : 479.00.\n"
     ]
    }
   ],
   "source": [
    "#Ejecucion de Simulacion para el siguiente mes \n",
    "def ejecutar_simulacion_mes_siguiente(env,esperaobligatoria, controlmesa,tiempoVacunacion):\n",
    "    gene_vacunacion=Principal(env,esperaobligatoria, controlmesa,tiempoVacunacion)\n",
    "    global PERSONAS_SEGUNDA_DOSIS \n",
    "    \n",
    "    #Creamos fila de  15 persona que llegan y esperan afuera hasta que abran las puertas.\n",
    "    for i in range(15):\n",
    "        env.process(recinto_borja(env, '%d'%(i+1), gene_vacunacion))\n",
    "        PERSONAS_SEGUNDA_DOSIS =PERSONAS_SEGUNDA_DOSIS+1\n",
    "    \n",
    "    \n",
    "    # Ejecutamos la simulacion\n",
    "    while True:\n",
    "        #Intervalo Llegada\n",
    "        yield env.timeout(random.randint(1,5))\n",
    "        i+=1\n",
    "        PERSONAS_SEGUNDA_DOSIS=PERSONAS_SEGUNDA_DOSIS+1\n",
    "        #print(\"Total:\",PERSONAS)\n",
    "        env.process(recinto_borja(env,'%d'%(i+1), gene_vacunacion))  \n",
    "    \n",
    "\n",
    "print('Simulacion Vacunacion Ecuador mes Siguiente')\n",
    "\n",
    "# Inicializamos la semilla aleatoria\n",
    "random.seed(77)\n",
    "\n",
    "# Creamos el entorno de simulacion\n",
    "env=simpy.Environment()\n",
    "env.process(ejecutar_simulacion(env,ESPERA_OBLIGATORIA_SEGUNDA_DOSIS,CANTIDAD_MESA_SEGUNDA_DOSIS,TIEMPO_VACUNACION_SEGUNDA_DOSIS))\n",
    "\n",
    "# Ejecutamos el proceso durante el tiempo de simulacion\n",
    "env.run(until = TIEMPO_LABORAL_SEGUNDA_DOSIS)"
   ]
  },
  {
   "cell_type": "code",
   "execution_count": 45,
   "id": "4e251601",
   "metadata": {},
   "outputs": [
    {
     "data": {
      "application/vnd.plotly.v1+json": {
       "config": {
        "plotlyServerURL": "https://plot.ly"
       },
       "data": [
        {
         "alignmentgroup": "True",
         "hovertemplate": "persona=%{x}<br>tiempo=%{y}<extra></extra>",
         "legendgroup": "",
         "marker": {
          "color": "#636efa"
         },
         "name": "",
         "offsetgroup": "",
         "orientation": "v",
         "showlegend": false,
         "textposition": "auto",
         "type": "bar",
         "x": [
          15,
          6,
          7,
          16,
          12,
          14,
          2,
          1,
          5,
          17,
          3,
          4,
          10,
          11,
          13,
          22,
          23,
          24,
          27,
          26,
          18,
          19,
          20,
          21,
          25,
          28,
          31,
          30,
          32,
          33,
          35,
          36,
          37,
          34,
          40,
          38,
          39,
          41,
          42,
          43,
          44,
          45,
          46,
          47,
          48,
          49,
          50,
          52,
          51,
          53,
          55,
          56,
          57,
          58,
          59,
          60,
          62,
          61,
          63,
          64,
          65,
          66,
          67,
          68,
          69,
          71,
          70,
          72,
          73,
          74,
          75,
          76,
          78,
          79,
          80,
          81,
          82,
          83,
          84,
          85,
          87,
          86,
          89,
          88,
          90,
          91,
          92,
          94,
          95,
          96,
          97,
          98,
          99,
          101,
          103,
          102,
          104,
          105,
          106,
          107,
          108,
          109,
          110,
          111,
          112,
          113,
          114,
          115,
          116,
          118,
          119,
          120,
          122,
          121,
          123,
          124,
          125,
          126,
          127,
          129,
          131,
          130,
          132,
          133,
          134,
          135,
          136,
          138,
          137,
          139,
          140,
          142,
          143,
          145,
          147,
          148,
          149,
          150,
          152,
          151,
          153,
          155,
          156,
          157,
          158,
          159,
          161,
          162,
          163,
          164
         ],
         "xaxis": "x",
         "y": [
          27,
          28,
          28,
          28,
          28,
          29,
          31,
          31,
          31,
          31,
          32,
          32,
          32,
          33,
          33,
          51,
          51,
          46,
          32,
          37,
          60,
          60,
          60,
          57,
          44,
          36,
          31,
          32,
          29,
          29,
          42,
          40,
          36,
          47,
          27,
          35,
          33,
          31,
          30,
          32,
          30,
          30,
          33,
          28,
          32,
          32,
          32,
          28,
          33,
          31,
          30,
          27,
          31,
          31,
          32,
          31,
          28,
          33,
          33,
          33,
          30,
          31,
          33,
          29,
          31,
          29,
          31,
          31,
          32,
          31,
          31,
          32,
          31,
          29,
          29,
          29,
          29,
          28,
          32,
          33,
          28,
          33,
          30,
          33,
          32,
          32,
          29,
          33,
          31,
          31,
          27,
          32,
          33,
          30,
          31,
          33,
          28,
          31,
          31,
          27,
          30,
          30,
          32,
          31,
          31,
          32,
          30,
          32,
          32,
          29,
          29,
          31,
          27,
          33,
          29,
          30,
          30,
          32,
          30,
          31,
          29,
          31,
          27,
          30,
          32,
          30,
          28,
          28,
          31,
          30,
          32,
          28,
          33,
          33,
          33,
          30,
          28,
          28,
          27,
          31,
          32,
          27,
          29,
          28,
          32,
          30,
          31,
          28,
          28,
          29
         ],
         "yaxis": "y"
        }
       ],
       "layout": {
        "barmode": "relative",
        "legend": {
         "tracegroupgap": 0
        },
        "template": {
         "data": {
          "bar": [
           {
            "error_x": {
             "color": "#2a3f5f"
            },
            "error_y": {
             "color": "#2a3f5f"
            },
            "marker": {
             "line": {
              "color": "#E5ECF6",
              "width": 0.5
             }
            },
            "type": "bar"
           }
          ],
          "barpolar": [
           {
            "marker": {
             "line": {
              "color": "#E5ECF6",
              "width": 0.5
             }
            },
            "type": "barpolar"
           }
          ],
          "carpet": [
           {
            "aaxis": {
             "endlinecolor": "#2a3f5f",
             "gridcolor": "white",
             "linecolor": "white",
             "minorgridcolor": "white",
             "startlinecolor": "#2a3f5f"
            },
            "baxis": {
             "endlinecolor": "#2a3f5f",
             "gridcolor": "white",
             "linecolor": "white",
             "minorgridcolor": "white",
             "startlinecolor": "#2a3f5f"
            },
            "type": "carpet"
           }
          ],
          "choropleth": [
           {
            "colorbar": {
             "outlinewidth": 0,
             "ticks": ""
            },
            "type": "choropleth"
           }
          ],
          "contour": [
           {
            "colorbar": {
             "outlinewidth": 0,
             "ticks": ""
            },
            "colorscale": [
             [
              0,
              "#0d0887"
             ],
             [
              0.1111111111111111,
              "#46039f"
             ],
             [
              0.2222222222222222,
              "#7201a8"
             ],
             [
              0.3333333333333333,
              "#9c179e"
             ],
             [
              0.4444444444444444,
              "#bd3786"
             ],
             [
              0.5555555555555556,
              "#d8576b"
             ],
             [
              0.6666666666666666,
              "#ed7953"
             ],
             [
              0.7777777777777778,
              "#fb9f3a"
             ],
             [
              0.8888888888888888,
              "#fdca26"
             ],
             [
              1,
              "#f0f921"
             ]
            ],
            "type": "contour"
           }
          ],
          "contourcarpet": [
           {
            "colorbar": {
             "outlinewidth": 0,
             "ticks": ""
            },
            "type": "contourcarpet"
           }
          ],
          "heatmap": [
           {
            "colorbar": {
             "outlinewidth": 0,
             "ticks": ""
            },
            "colorscale": [
             [
              0,
              "#0d0887"
             ],
             [
              0.1111111111111111,
              "#46039f"
             ],
             [
              0.2222222222222222,
              "#7201a8"
             ],
             [
              0.3333333333333333,
              "#9c179e"
             ],
             [
              0.4444444444444444,
              "#bd3786"
             ],
             [
              0.5555555555555556,
              "#d8576b"
             ],
             [
              0.6666666666666666,
              "#ed7953"
             ],
             [
              0.7777777777777778,
              "#fb9f3a"
             ],
             [
              0.8888888888888888,
              "#fdca26"
             ],
             [
              1,
              "#f0f921"
             ]
            ],
            "type": "heatmap"
           }
          ],
          "heatmapgl": [
           {
            "colorbar": {
             "outlinewidth": 0,
             "ticks": ""
            },
            "colorscale": [
             [
              0,
              "#0d0887"
             ],
             [
              0.1111111111111111,
              "#46039f"
             ],
             [
              0.2222222222222222,
              "#7201a8"
             ],
             [
              0.3333333333333333,
              "#9c179e"
             ],
             [
              0.4444444444444444,
              "#bd3786"
             ],
             [
              0.5555555555555556,
              "#d8576b"
             ],
             [
              0.6666666666666666,
              "#ed7953"
             ],
             [
              0.7777777777777778,
              "#fb9f3a"
             ],
             [
              0.8888888888888888,
              "#fdca26"
             ],
             [
              1,
              "#f0f921"
             ]
            ],
            "type": "heatmapgl"
           }
          ],
          "histogram": [
           {
            "marker": {
             "colorbar": {
              "outlinewidth": 0,
              "ticks": ""
             }
            },
            "type": "histogram"
           }
          ],
          "histogram2d": [
           {
            "colorbar": {
             "outlinewidth": 0,
             "ticks": ""
            },
            "colorscale": [
             [
              0,
              "#0d0887"
             ],
             [
              0.1111111111111111,
              "#46039f"
             ],
             [
              0.2222222222222222,
              "#7201a8"
             ],
             [
              0.3333333333333333,
              "#9c179e"
             ],
             [
              0.4444444444444444,
              "#bd3786"
             ],
             [
              0.5555555555555556,
              "#d8576b"
             ],
             [
              0.6666666666666666,
              "#ed7953"
             ],
             [
              0.7777777777777778,
              "#fb9f3a"
             ],
             [
              0.8888888888888888,
              "#fdca26"
             ],
             [
              1,
              "#f0f921"
             ]
            ],
            "type": "histogram2d"
           }
          ],
          "histogram2dcontour": [
           {
            "colorbar": {
             "outlinewidth": 0,
             "ticks": ""
            },
            "colorscale": [
             [
              0,
              "#0d0887"
             ],
             [
              0.1111111111111111,
              "#46039f"
             ],
             [
              0.2222222222222222,
              "#7201a8"
             ],
             [
              0.3333333333333333,
              "#9c179e"
             ],
             [
              0.4444444444444444,
              "#bd3786"
             ],
             [
              0.5555555555555556,
              "#d8576b"
             ],
             [
              0.6666666666666666,
              "#ed7953"
             ],
             [
              0.7777777777777778,
              "#fb9f3a"
             ],
             [
              0.8888888888888888,
              "#fdca26"
             ],
             [
              1,
              "#f0f921"
             ]
            ],
            "type": "histogram2dcontour"
           }
          ],
          "mesh3d": [
           {
            "colorbar": {
             "outlinewidth": 0,
             "ticks": ""
            },
            "type": "mesh3d"
           }
          ],
          "parcoords": [
           {
            "line": {
             "colorbar": {
              "outlinewidth": 0,
              "ticks": ""
             }
            },
            "type": "parcoords"
           }
          ],
          "pie": [
           {
            "automargin": true,
            "type": "pie"
           }
          ],
          "scatter": [
           {
            "marker": {
             "colorbar": {
              "outlinewidth": 0,
              "ticks": ""
             }
            },
            "type": "scatter"
           }
          ],
          "scatter3d": [
           {
            "line": {
             "colorbar": {
              "outlinewidth": 0,
              "ticks": ""
             }
            },
            "marker": {
             "colorbar": {
              "outlinewidth": 0,
              "ticks": ""
             }
            },
            "type": "scatter3d"
           }
          ],
          "scattercarpet": [
           {
            "marker": {
             "colorbar": {
              "outlinewidth": 0,
              "ticks": ""
             }
            },
            "type": "scattercarpet"
           }
          ],
          "scattergeo": [
           {
            "marker": {
             "colorbar": {
              "outlinewidth": 0,
              "ticks": ""
             }
            },
            "type": "scattergeo"
           }
          ],
          "scattergl": [
           {
            "marker": {
             "colorbar": {
              "outlinewidth": 0,
              "ticks": ""
             }
            },
            "type": "scattergl"
           }
          ],
          "scattermapbox": [
           {
            "marker": {
             "colorbar": {
              "outlinewidth": 0,
              "ticks": ""
             }
            },
            "type": "scattermapbox"
           }
          ],
          "scatterpolar": [
           {
            "marker": {
             "colorbar": {
              "outlinewidth": 0,
              "ticks": ""
             }
            },
            "type": "scatterpolar"
           }
          ],
          "scatterpolargl": [
           {
            "marker": {
             "colorbar": {
              "outlinewidth": 0,
              "ticks": ""
             }
            },
            "type": "scatterpolargl"
           }
          ],
          "scatterternary": [
           {
            "marker": {
             "colorbar": {
              "outlinewidth": 0,
              "ticks": ""
             }
            },
            "type": "scatterternary"
           }
          ],
          "surface": [
           {
            "colorbar": {
             "outlinewidth": 0,
             "ticks": ""
            },
            "colorscale": [
             [
              0,
              "#0d0887"
             ],
             [
              0.1111111111111111,
              "#46039f"
             ],
             [
              0.2222222222222222,
              "#7201a8"
             ],
             [
              0.3333333333333333,
              "#9c179e"
             ],
             [
              0.4444444444444444,
              "#bd3786"
             ],
             [
              0.5555555555555556,
              "#d8576b"
             ],
             [
              0.6666666666666666,
              "#ed7953"
             ],
             [
              0.7777777777777778,
              "#fb9f3a"
             ],
             [
              0.8888888888888888,
              "#fdca26"
             ],
             [
              1,
              "#f0f921"
             ]
            ],
            "type": "surface"
           }
          ],
          "table": [
           {
            "cells": {
             "fill": {
              "color": "#EBF0F8"
             },
             "line": {
              "color": "white"
             }
            },
            "header": {
             "fill": {
              "color": "#C8D4E3"
             },
             "line": {
              "color": "white"
             }
            },
            "type": "table"
           }
          ]
         },
         "layout": {
          "annotationdefaults": {
           "arrowcolor": "#2a3f5f",
           "arrowhead": 0,
           "arrowwidth": 1
          },
          "autotypenumbers": "strict",
          "coloraxis": {
           "colorbar": {
            "outlinewidth": 0,
            "ticks": ""
           }
          },
          "colorscale": {
           "diverging": [
            [
             0,
             "#8e0152"
            ],
            [
             0.1,
             "#c51b7d"
            ],
            [
             0.2,
             "#de77ae"
            ],
            [
             0.3,
             "#f1b6da"
            ],
            [
             0.4,
             "#fde0ef"
            ],
            [
             0.5,
             "#f7f7f7"
            ],
            [
             0.6,
             "#e6f5d0"
            ],
            [
             0.7,
             "#b8e186"
            ],
            [
             0.8,
             "#7fbc41"
            ],
            [
             0.9,
             "#4d9221"
            ],
            [
             1,
             "#276419"
            ]
           ],
           "sequential": [
            [
             0,
             "#0d0887"
            ],
            [
             0.1111111111111111,
             "#46039f"
            ],
            [
             0.2222222222222222,
             "#7201a8"
            ],
            [
             0.3333333333333333,
             "#9c179e"
            ],
            [
             0.4444444444444444,
             "#bd3786"
            ],
            [
             0.5555555555555556,
             "#d8576b"
            ],
            [
             0.6666666666666666,
             "#ed7953"
            ],
            [
             0.7777777777777778,
             "#fb9f3a"
            ],
            [
             0.8888888888888888,
             "#fdca26"
            ],
            [
             1,
             "#f0f921"
            ]
           ],
           "sequentialminus": [
            [
             0,
             "#0d0887"
            ],
            [
             0.1111111111111111,
             "#46039f"
            ],
            [
             0.2222222222222222,
             "#7201a8"
            ],
            [
             0.3333333333333333,
             "#9c179e"
            ],
            [
             0.4444444444444444,
             "#bd3786"
            ],
            [
             0.5555555555555556,
             "#d8576b"
            ],
            [
             0.6666666666666666,
             "#ed7953"
            ],
            [
             0.7777777777777778,
             "#fb9f3a"
            ],
            [
             0.8888888888888888,
             "#fdca26"
            ],
            [
             1,
             "#f0f921"
            ]
           ]
          },
          "colorway": [
           "#636efa",
           "#EF553B",
           "#00cc96",
           "#ab63fa",
           "#FFA15A",
           "#19d3f3",
           "#FF6692",
           "#B6E880",
           "#FF97FF",
           "#FECB52"
          ],
          "font": {
           "color": "#2a3f5f"
          },
          "geo": {
           "bgcolor": "white",
           "lakecolor": "white",
           "landcolor": "#E5ECF6",
           "showlakes": true,
           "showland": true,
           "subunitcolor": "white"
          },
          "hoverlabel": {
           "align": "left"
          },
          "hovermode": "closest",
          "mapbox": {
           "style": "light"
          },
          "paper_bgcolor": "white",
          "plot_bgcolor": "#E5ECF6",
          "polar": {
           "angularaxis": {
            "gridcolor": "white",
            "linecolor": "white",
            "ticks": ""
           },
           "bgcolor": "#E5ECF6",
           "radialaxis": {
            "gridcolor": "white",
            "linecolor": "white",
            "ticks": ""
           }
          },
          "scene": {
           "xaxis": {
            "backgroundcolor": "#E5ECF6",
            "gridcolor": "white",
            "gridwidth": 2,
            "linecolor": "white",
            "showbackground": true,
            "ticks": "",
            "zerolinecolor": "white"
           },
           "yaxis": {
            "backgroundcolor": "#E5ECF6",
            "gridcolor": "white",
            "gridwidth": 2,
            "linecolor": "white",
            "showbackground": true,
            "ticks": "",
            "zerolinecolor": "white"
           },
           "zaxis": {
            "backgroundcolor": "#E5ECF6",
            "gridcolor": "white",
            "gridwidth": 2,
            "linecolor": "white",
            "showbackground": true,
            "ticks": "",
            "zerolinecolor": "white"
           }
          },
          "shapedefaults": {
           "line": {
            "color": "#2a3f5f"
           }
          },
          "ternary": {
           "aaxis": {
            "gridcolor": "white",
            "linecolor": "white",
            "ticks": ""
           },
           "baxis": {
            "gridcolor": "white",
            "linecolor": "white",
            "ticks": ""
           },
           "bgcolor": "#E5ECF6",
           "caxis": {
            "gridcolor": "white",
            "linecolor": "white",
            "ticks": ""
           }
          },
          "title": {
           "x": 0.05
          },
          "xaxis": {
           "automargin": true,
           "gridcolor": "white",
           "linecolor": "white",
           "ticks": "",
           "title": {
            "standoff": 15
           },
           "zerolinecolor": "white",
           "zerolinewidth": 2
          },
          "yaxis": {
           "automargin": true,
           "gridcolor": "white",
           "linecolor": "white",
           "ticks": "",
           "title": {
            "standoff": 15
           },
           "zerolinecolor": "white",
           "zerolinewidth": 2
          }
         }
        },
        "title": {
         "text": "Grafico De Las Personas Vacunadas En Funcion del tiempo"
        },
        "xaxis": {
         "anchor": "y",
         "domain": [
          0,
          1
         ],
         "title": {
          "text": "persona"
         }
        },
        "yaxis": {
         "anchor": "x",
         "domain": [
          0,
          1
         ],
         "title": {
          "text": "tiempo"
         }
        }
       }
      },
      "text/html": [
       "<div>                            <div id=\"183e8b72-b7b3-4522-9a28-03b6b083012c\" class=\"plotly-graph-div\" style=\"height:525px; width:100%;\"></div>            <script type=\"text/javascript\">                require([\"plotly\"], function(Plotly) {                    window.PLOTLYENV=window.PLOTLYENV || {};                                    if (document.getElementById(\"183e8b72-b7b3-4522-9a28-03b6b083012c\")) {                    Plotly.newPlot(                        \"183e8b72-b7b3-4522-9a28-03b6b083012c\",                        [{\"alignmentgroup\": \"True\", \"hovertemplate\": \"persona=%{x}<br>tiempo=%{y}<extra></extra>\", \"legendgroup\": \"\", \"marker\": {\"color\": \"#636efa\"}, \"name\": \"\", \"offsetgroup\": \"\", \"orientation\": \"v\", \"showlegend\": false, \"textposition\": \"auto\", \"type\": \"bar\", \"x\": [15, 6, 7, 16, 12, 14, 2, 1, 5, 17, 3, 4, 10, 11, 13, 22, 23, 24, 27, 26, 18, 19, 20, 21, 25, 28, 31, 30, 32, 33, 35, 36, 37, 34, 40, 38, 39, 41, 42, 43, 44, 45, 46, 47, 48, 49, 50, 52, 51, 53, 55, 56, 57, 58, 59, 60, 62, 61, 63, 64, 65, 66, 67, 68, 69, 71, 70, 72, 73, 74, 75, 76, 78, 79, 80, 81, 82, 83, 84, 85, 87, 86, 89, 88, 90, 91, 92, 94, 95, 96, 97, 98, 99, 101, 103, 102, 104, 105, 106, 107, 108, 109, 110, 111, 112, 113, 114, 115, 116, 118, 119, 120, 122, 121, 123, 124, 125, 126, 127, 129, 131, 130, 132, 133, 134, 135, 136, 138, 137, 139, 140, 142, 143, 145, 147, 148, 149, 150, 152, 151, 153, 155, 156, 157, 158, 159, 161, 162, 163, 164], \"xaxis\": \"x\", \"y\": [27, 28, 28, 28, 28, 29, 31, 31, 31, 31, 32, 32, 32, 33, 33, 51, 51, 46, 32, 37, 60, 60, 60, 57, 44, 36, 31, 32, 29, 29, 42, 40, 36, 47, 27, 35, 33, 31, 30, 32, 30, 30, 33, 28, 32, 32, 32, 28, 33, 31, 30, 27, 31, 31, 32, 31, 28, 33, 33, 33, 30, 31, 33, 29, 31, 29, 31, 31, 32, 31, 31, 32, 31, 29, 29, 29, 29, 28, 32, 33, 28, 33, 30, 33, 32, 32, 29, 33, 31, 31, 27, 32, 33, 30, 31, 33, 28, 31, 31, 27, 30, 30, 32, 31, 31, 32, 30, 32, 32, 29, 29, 31, 27, 33, 29, 30, 30, 32, 30, 31, 29, 31, 27, 30, 32, 30, 28, 28, 31, 30, 32, 28, 33, 33, 33, 30, 28, 28, 27, 31, 32, 27, 29, 28, 32, 30, 31, 28, 28, 29], \"yaxis\": \"y\"}],                        {\"barmode\": \"relative\", \"legend\": {\"tracegroupgap\": 0}, \"template\": {\"data\": {\"bar\": [{\"error_x\": {\"color\": \"#2a3f5f\"}, \"error_y\": {\"color\": \"#2a3f5f\"}, \"marker\": {\"line\": {\"color\": \"#E5ECF6\", \"width\": 0.5}}, \"type\": \"bar\"}], \"barpolar\": [{\"marker\": {\"line\": {\"color\": \"#E5ECF6\", \"width\": 0.5}}, \"type\": \"barpolar\"}], \"carpet\": [{\"aaxis\": {\"endlinecolor\": \"#2a3f5f\", \"gridcolor\": \"white\", \"linecolor\": \"white\", \"minorgridcolor\": \"white\", \"startlinecolor\": \"#2a3f5f\"}, \"baxis\": {\"endlinecolor\": \"#2a3f5f\", \"gridcolor\": \"white\", \"linecolor\": \"white\", \"minorgridcolor\": \"white\", \"startlinecolor\": \"#2a3f5f\"}, \"type\": \"carpet\"}], \"choropleth\": [{\"colorbar\": {\"outlinewidth\": 0, \"ticks\": \"\"}, \"type\": \"choropleth\"}], \"contour\": [{\"colorbar\": {\"outlinewidth\": 0, \"ticks\": \"\"}, \"colorscale\": [[0.0, \"#0d0887\"], [0.1111111111111111, \"#46039f\"], [0.2222222222222222, \"#7201a8\"], [0.3333333333333333, \"#9c179e\"], [0.4444444444444444, \"#bd3786\"], [0.5555555555555556, \"#d8576b\"], [0.6666666666666666, \"#ed7953\"], [0.7777777777777778, \"#fb9f3a\"], [0.8888888888888888, \"#fdca26\"], [1.0, \"#f0f921\"]], \"type\": \"contour\"}], \"contourcarpet\": [{\"colorbar\": {\"outlinewidth\": 0, \"ticks\": \"\"}, \"type\": \"contourcarpet\"}], \"heatmap\": [{\"colorbar\": {\"outlinewidth\": 0, \"ticks\": \"\"}, \"colorscale\": [[0.0, \"#0d0887\"], [0.1111111111111111, \"#46039f\"], [0.2222222222222222, \"#7201a8\"], [0.3333333333333333, \"#9c179e\"], [0.4444444444444444, \"#bd3786\"], [0.5555555555555556, \"#d8576b\"], [0.6666666666666666, \"#ed7953\"], [0.7777777777777778, \"#fb9f3a\"], [0.8888888888888888, \"#fdca26\"], [1.0, \"#f0f921\"]], \"type\": \"heatmap\"}], \"heatmapgl\": [{\"colorbar\": {\"outlinewidth\": 0, \"ticks\": \"\"}, \"colorscale\": [[0.0, \"#0d0887\"], [0.1111111111111111, \"#46039f\"], [0.2222222222222222, \"#7201a8\"], [0.3333333333333333, \"#9c179e\"], [0.4444444444444444, \"#bd3786\"], [0.5555555555555556, \"#d8576b\"], [0.6666666666666666, \"#ed7953\"], [0.7777777777777778, \"#fb9f3a\"], [0.8888888888888888, \"#fdca26\"], [1.0, \"#f0f921\"]], \"type\": \"heatmapgl\"}], \"histogram\": [{\"marker\": {\"colorbar\": {\"outlinewidth\": 0, \"ticks\": \"\"}}, \"type\": \"histogram\"}], \"histogram2d\": [{\"colorbar\": {\"outlinewidth\": 0, \"ticks\": \"\"}, \"colorscale\": [[0.0, \"#0d0887\"], [0.1111111111111111, \"#46039f\"], [0.2222222222222222, \"#7201a8\"], [0.3333333333333333, \"#9c179e\"], [0.4444444444444444, \"#bd3786\"], [0.5555555555555556, \"#d8576b\"], [0.6666666666666666, \"#ed7953\"], [0.7777777777777778, \"#fb9f3a\"], [0.8888888888888888, \"#fdca26\"], [1.0, \"#f0f921\"]], \"type\": \"histogram2d\"}], \"histogram2dcontour\": [{\"colorbar\": {\"outlinewidth\": 0, \"ticks\": \"\"}, \"colorscale\": [[0.0, \"#0d0887\"], [0.1111111111111111, \"#46039f\"], [0.2222222222222222, \"#7201a8\"], [0.3333333333333333, \"#9c179e\"], [0.4444444444444444, \"#bd3786\"], [0.5555555555555556, \"#d8576b\"], [0.6666666666666666, \"#ed7953\"], [0.7777777777777778, \"#fb9f3a\"], [0.8888888888888888, \"#fdca26\"], [1.0, \"#f0f921\"]], \"type\": \"histogram2dcontour\"}], \"mesh3d\": [{\"colorbar\": {\"outlinewidth\": 0, \"ticks\": \"\"}, \"type\": \"mesh3d\"}], \"parcoords\": [{\"line\": {\"colorbar\": {\"outlinewidth\": 0, \"ticks\": \"\"}}, \"type\": \"parcoords\"}], \"pie\": [{\"automargin\": true, \"type\": \"pie\"}], \"scatter\": [{\"marker\": {\"colorbar\": {\"outlinewidth\": 0, \"ticks\": \"\"}}, \"type\": \"scatter\"}], \"scatter3d\": [{\"line\": {\"colorbar\": {\"outlinewidth\": 0, \"ticks\": \"\"}}, \"marker\": {\"colorbar\": {\"outlinewidth\": 0, \"ticks\": \"\"}}, \"type\": \"scatter3d\"}], \"scattercarpet\": [{\"marker\": {\"colorbar\": {\"outlinewidth\": 0, \"ticks\": \"\"}}, \"type\": \"scattercarpet\"}], \"scattergeo\": [{\"marker\": {\"colorbar\": {\"outlinewidth\": 0, \"ticks\": \"\"}}, \"type\": \"scattergeo\"}], \"scattergl\": [{\"marker\": {\"colorbar\": {\"outlinewidth\": 0, \"ticks\": \"\"}}, \"type\": \"scattergl\"}], \"scattermapbox\": [{\"marker\": {\"colorbar\": {\"outlinewidth\": 0, \"ticks\": \"\"}}, \"type\": \"scattermapbox\"}], \"scatterpolar\": [{\"marker\": {\"colorbar\": {\"outlinewidth\": 0, \"ticks\": \"\"}}, \"type\": \"scatterpolar\"}], \"scatterpolargl\": [{\"marker\": {\"colorbar\": {\"outlinewidth\": 0, \"ticks\": \"\"}}, \"type\": \"scatterpolargl\"}], \"scatterternary\": [{\"marker\": {\"colorbar\": {\"outlinewidth\": 0, \"ticks\": \"\"}}, \"type\": \"scatterternary\"}], \"surface\": [{\"colorbar\": {\"outlinewidth\": 0, \"ticks\": \"\"}, \"colorscale\": [[0.0, \"#0d0887\"], [0.1111111111111111, \"#46039f\"], [0.2222222222222222, \"#7201a8\"], [0.3333333333333333, \"#9c179e\"], [0.4444444444444444, \"#bd3786\"], [0.5555555555555556, \"#d8576b\"], [0.6666666666666666, \"#ed7953\"], [0.7777777777777778, \"#fb9f3a\"], [0.8888888888888888, \"#fdca26\"], [1.0, \"#f0f921\"]], \"type\": \"surface\"}], \"table\": [{\"cells\": {\"fill\": {\"color\": \"#EBF0F8\"}, \"line\": {\"color\": \"white\"}}, \"header\": {\"fill\": {\"color\": \"#C8D4E3\"}, \"line\": {\"color\": \"white\"}}, \"type\": \"table\"}]}, \"layout\": {\"annotationdefaults\": {\"arrowcolor\": \"#2a3f5f\", \"arrowhead\": 0, \"arrowwidth\": 1}, \"autotypenumbers\": \"strict\", \"coloraxis\": {\"colorbar\": {\"outlinewidth\": 0, \"ticks\": \"\"}}, \"colorscale\": {\"diverging\": [[0, \"#8e0152\"], [0.1, \"#c51b7d\"], [0.2, \"#de77ae\"], [0.3, \"#f1b6da\"], [0.4, \"#fde0ef\"], [0.5, \"#f7f7f7\"], [0.6, \"#e6f5d0\"], [0.7, \"#b8e186\"], [0.8, \"#7fbc41\"], [0.9, \"#4d9221\"], [1, \"#276419\"]], \"sequential\": [[0.0, \"#0d0887\"], [0.1111111111111111, \"#46039f\"], [0.2222222222222222, \"#7201a8\"], [0.3333333333333333, \"#9c179e\"], [0.4444444444444444, \"#bd3786\"], [0.5555555555555556, \"#d8576b\"], [0.6666666666666666, \"#ed7953\"], [0.7777777777777778, \"#fb9f3a\"], [0.8888888888888888, \"#fdca26\"], [1.0, \"#f0f921\"]], \"sequentialminus\": [[0.0, \"#0d0887\"], [0.1111111111111111, \"#46039f\"], [0.2222222222222222, \"#7201a8\"], [0.3333333333333333, \"#9c179e\"], [0.4444444444444444, \"#bd3786\"], [0.5555555555555556, \"#d8576b\"], [0.6666666666666666, \"#ed7953\"], [0.7777777777777778, \"#fb9f3a\"], [0.8888888888888888, \"#fdca26\"], [1.0, \"#f0f921\"]]}, \"colorway\": [\"#636efa\", \"#EF553B\", \"#00cc96\", \"#ab63fa\", \"#FFA15A\", \"#19d3f3\", \"#FF6692\", \"#B6E880\", \"#FF97FF\", \"#FECB52\"], \"font\": {\"color\": \"#2a3f5f\"}, \"geo\": {\"bgcolor\": \"white\", \"lakecolor\": \"white\", \"landcolor\": \"#E5ECF6\", \"showlakes\": true, \"showland\": true, \"subunitcolor\": \"white\"}, \"hoverlabel\": {\"align\": \"left\"}, \"hovermode\": \"closest\", \"mapbox\": {\"style\": \"light\"}, \"paper_bgcolor\": \"white\", \"plot_bgcolor\": \"#E5ECF6\", \"polar\": {\"angularaxis\": {\"gridcolor\": \"white\", \"linecolor\": \"white\", \"ticks\": \"\"}, \"bgcolor\": \"#E5ECF6\", \"radialaxis\": {\"gridcolor\": \"white\", \"linecolor\": \"white\", \"ticks\": \"\"}}, \"scene\": {\"xaxis\": {\"backgroundcolor\": \"#E5ECF6\", \"gridcolor\": \"white\", \"gridwidth\": 2, \"linecolor\": \"white\", \"showbackground\": true, \"ticks\": \"\", \"zerolinecolor\": \"white\"}, \"yaxis\": {\"backgroundcolor\": \"#E5ECF6\", \"gridcolor\": \"white\", \"gridwidth\": 2, \"linecolor\": \"white\", \"showbackground\": true, \"ticks\": \"\", \"zerolinecolor\": \"white\"}, \"zaxis\": {\"backgroundcolor\": \"#E5ECF6\", \"gridcolor\": \"white\", \"gridwidth\": 2, \"linecolor\": \"white\", \"showbackground\": true, \"ticks\": \"\", \"zerolinecolor\": \"white\"}}, \"shapedefaults\": {\"line\": {\"color\": \"#2a3f5f\"}}, \"ternary\": {\"aaxis\": {\"gridcolor\": \"white\", \"linecolor\": \"white\", \"ticks\": \"\"}, \"baxis\": {\"gridcolor\": \"white\", \"linecolor\": \"white\", \"ticks\": \"\"}, \"bgcolor\": \"#E5ECF6\", \"caxis\": {\"gridcolor\": \"white\", \"linecolor\": \"white\", \"ticks\": \"\"}}, \"title\": {\"x\": 0.05}, \"xaxis\": {\"automargin\": true, \"gridcolor\": \"white\", \"linecolor\": \"white\", \"ticks\": \"\", \"title\": {\"standoff\": 15}, \"zerolinecolor\": \"white\", \"zerolinewidth\": 2}, \"yaxis\": {\"automargin\": true, \"gridcolor\": \"white\", \"linecolor\": \"white\", \"ticks\": \"\", \"title\": {\"standoff\": 15}, \"zerolinecolor\": \"white\", \"zerolinewidth\": 2}}}, \"title\": {\"text\": \"Grafico De Las Personas Vacunadas En Funcion del tiempo\"}, \"xaxis\": {\"anchor\": \"y\", \"domain\": [0.0, 1.0], \"title\": {\"text\": \"persona\"}}, \"yaxis\": {\"anchor\": \"x\", \"domain\": [0.0, 1.0], \"title\": {\"text\": \"tiempo\"}}},                        {\"responsive\": true}                    ).then(function(){\n",
       "                            \n",
       "var gd = document.getElementById('183e8b72-b7b3-4522-9a28-03b6b083012c');\n",
       "var x = new MutationObserver(function (mutations, observer) {{\n",
       "        var display = window.getComputedStyle(gd).display;\n",
       "        if (!display || display === 'none') {{\n",
       "            console.log([gd, 'removed!']);\n",
       "            Plotly.purge(gd);\n",
       "            observer.disconnect();\n",
       "        }}\n",
       "}});\n",
       "\n",
       "// Listen for the removal of the full notebook cells\n",
       "var notebookContainer = gd.closest('#notebook-container');\n",
       "if (notebookContainer) {{\n",
       "    x.observe(notebookContainer, {childList: true});\n",
       "}}\n",
       "\n",
       "// Listen for the clearing of the current output cell\n",
       "var outputEl = gd.closest('.output');\n",
       "if (outputEl) {{\n",
       "    x.observe(outputEl, {childList: true});\n",
       "}}\n",
       "\n",
       "                        })                };                });            </script>        </div>"
      ]
     },
     "metadata": {},
     "output_type": "display_data"
    }
   ],
   "source": [
    "import pandas as pd\n",
    "df = pd.DataFrame([[key, DICCIONARIO_TIEMPO_DE_ESPERA[key]] for key in DICCIONARIO_TIEMPO_DE_ESPERA.keys()], columns=['persona', 'tiempo'])\n",
    "import plotly.express as px\n",
    "fig = px.bar(df, x='persona', y=\"tiempo\",title=\"Grafico De Las Personas Vacunadas En Funcion del tiempo\")\n",
    "fig.show()\n"
   ]
  },
  {
   "cell_type": "code",
   "execution_count": 46,
   "id": "476437d3",
   "metadata": {},
   "outputs": [
    {
     "name": "stdout",
     "output_type": "stream",
     "text": [
      "************************** Vacunacion Recinto Borja ******************************\n",
      "Tiempo Laboral del recinto: 8.0  horas\n",
      "Cantida De Mesas en el recinto:  15\n",
      "De una total de 0\n",
      "Se Vacunaron un total de: 150\n",
      "No se Vacunaron un total de: 215\n",
      "Tiempo promedio de vacunados : 3.2\n"
     ]
    }
   ],
   "source": [
    "print(\"************************** Vacunacion Recinto Borja ******************************\")\n",
    "print(\"Tiempo Laboral del recinto:\",TIEMPO_LABORAL/60,\" horas\")\n",
    "print(\"Cantida De Mesas en el recinto: \",CANTIDAD_MESA_SEGUNDA_DOSIS)\n",
    "print(\"De una total de\",PERSONAS_SEGUNDA_DOSIS)\n",
    "print(\"Se Vacunaron un total de:\",len(DICCIONARIO_TIEMPO_DE_ESPERA))\n",
    "print(\"No se Vacunaron un total de:\",PERSONAS-len(DICCIONARIO_TIEMPO_DE_ESPERA))\n",
    "print(\"Tiempo promedio de vacunados :\",round(TIEMPO_LABORAL/len(DICCIONARIO_TIEMPO_DE_ESPERA),2))"
   ]
  },
  {
   "cell_type": "code",
   "execution_count": null,
   "id": "57f90b2e",
   "metadata": {},
   "outputs": [],
   "source": []
  },
  {
   "cell_type": "code",
   "execution_count": null,
   "id": "6b4ddd83",
   "metadata": {},
   "outputs": [],
   "source": []
  }
 ],
 "metadata": {
  "kernelspec": {
   "display_name": "Python 3",
   "language": "python",
   "name": "python3"
  },
  "language_info": {
   "codemirror_mode": {
    "name": "ipython",
    "version": 3
   },
   "file_extension": ".py",
   "mimetype": "text/x-python",
   "name": "python",
   "nbconvert_exporter": "python",
   "pygments_lexer": "ipython3",
   "version": "3.8.5"
  }
 },
 "nbformat": 4,
 "nbformat_minor": 5
}
